{
 "cells": [
  {
   "cell_type": "code",
   "execution_count": 12,
   "id": "c37142c0",
   "metadata": {},
   "outputs": [],
   "source": [
    "import pandas as pd\n",
    "import plotly\n",
    "import numpy as np\n",
    "import plotly.express as px"
   ]
  },
  {
   "cell_type": "markdown",
   "id": "30131031",
   "metadata": {},
   "source": [
    "# Task 1\n",
    "## Visualise the measured absorbance against wavelength for the different concentrations\n",
    "1. Clean the .csv file to a pandas dataframe with columns: Sample|Wavelength|Mean Absorbance|Std Absorbance\n",
    "2. Plot the raw data using plotly\n",
    "3. Plot the solvent corrected data\n"
   ]
  },
  {
   "cell_type": "code",
   "execution_count": 2,
   "id": "887d6565",
   "metadata": {},
   "outputs": [],
   "source": [
    "# read in raw data\n",
    "df = pd.read_csv(\"calibration.csv\")"
   ]
  },
  {
   "cell_type": "code",
   "execution_count": 3,
   "id": "046bc1c7",
   "metadata": {},
   "outputs": [
    {
     "data": {
      "text/html": [
       "<div>\n",
       "<style scoped>\n",
       "    .dataframe tbody tr th:only-of-type {\n",
       "        vertical-align: middle;\n",
       "    }\n",
       "\n",
       "    .dataframe tbody tr th {\n",
       "        vertical-align: top;\n",
       "    }\n",
       "\n",
       "    .dataframe thead th {\n",
       "        text-align: right;\n",
       "    }\n",
       "</style>\n",
       "<table border=\"1\" class=\"dataframe\">\n",
       "  <thead>\n",
       "    <tr style=\"text-align: right;\">\n",
       "      <th></th>\n",
       "      <th>User: USER</th>\n",
       "      <th>Unnamed: 1</th>\n",
       "      <th>Unnamed: 2</th>\n",
       "      <th>Unnamed: 3</th>\n",
       "      <th>Unnamed: 4</th>\n",
       "      <th>Unnamed: 5</th>\n",
       "      <th>Unnamed: 6</th>\n",
       "      <th>Unnamed: 7</th>\n",
       "      <th>Unnamed: 8</th>\n",
       "      <th>Unnamed: 9</th>\n",
       "      <th>...</th>\n",
       "      <th>Unnamed: 284</th>\n",
       "      <th>Unnamed: 285</th>\n",
       "      <th>Unnamed: 286</th>\n",
       "      <th>Unnamed: 287</th>\n",
       "      <th>Unnamed: 288</th>\n",
       "      <th>Unnamed: 289</th>\n",
       "      <th>Unnamed: 290</th>\n",
       "      <th>Unnamed: 291</th>\n",
       "      <th>Unnamed: 292</th>\n",
       "      <th>Unnamed: 293</th>\n",
       "    </tr>\n",
       "  </thead>\n",
       "  <tbody>\n",
       "    <tr>\n",
       "      <th>0</th>\n",
       "      <td>Path: C:\\Program Files (x86)\\BMG\\CLARIOstar\\Us...</td>\n",
       "      <td>NaN</td>\n",
       "      <td>NaN</td>\n",
       "      <td>NaN</td>\n",
       "      <td>NaN</td>\n",
       "      <td>NaN</td>\n",
       "      <td>NaN</td>\n",
       "      <td>NaN</td>\n",
       "      <td>NaN</td>\n",
       "      <td>NaN</td>\n",
       "      <td>...</td>\n",
       "      <td>NaN</td>\n",
       "      <td>NaN</td>\n",
       "      <td>NaN</td>\n",
       "      <td>NaN</td>\n",
       "      <td>NaN</td>\n",
       "      <td>NaN</td>\n",
       "      <td>NaN</td>\n",
       "      <td>NaN</td>\n",
       "      <td>NaN</td>\n",
       "      <td>NaN</td>\n",
       "    </tr>\n",
       "    <tr>\n",
       "      <th>1</th>\n",
       "      <td>Test ID: 1353</td>\n",
       "      <td>NaN</td>\n",
       "      <td>NaN</td>\n",
       "      <td>NaN</td>\n",
       "      <td>NaN</td>\n",
       "      <td>NaN</td>\n",
       "      <td>NaN</td>\n",
       "      <td>NaN</td>\n",
       "      <td>NaN</td>\n",
       "      <td>NaN</td>\n",
       "      <td>...</td>\n",
       "      <td>NaN</td>\n",
       "      <td>NaN</td>\n",
       "      <td>NaN</td>\n",
       "      <td>NaN</td>\n",
       "      <td>NaN</td>\n",
       "      <td>NaN</td>\n",
       "      <td>NaN</td>\n",
       "      <td>NaN</td>\n",
       "      <td>NaN</td>\n",
       "      <td>NaN</td>\n",
       "    </tr>\n",
       "    <tr>\n",
       "      <th>2</th>\n",
       "      <td>Test Name: Magui_spec sweep</td>\n",
       "      <td>NaN</td>\n",
       "      <td>NaN</td>\n",
       "      <td>NaN</td>\n",
       "      <td>NaN</td>\n",
       "      <td>NaN</td>\n",
       "      <td>NaN</td>\n",
       "      <td>NaN</td>\n",
       "      <td>NaN</td>\n",
       "      <td>NaN</td>\n",
       "      <td>...</td>\n",
       "      <td>NaN</td>\n",
       "      <td>NaN</td>\n",
       "      <td>NaN</td>\n",
       "      <td>NaN</td>\n",
       "      <td>NaN</td>\n",
       "      <td>NaN</td>\n",
       "      <td>NaN</td>\n",
       "      <td>NaN</td>\n",
       "      <td>NaN</td>\n",
       "      <td>NaN</td>\n",
       "    </tr>\n",
       "    <tr>\n",
       "      <th>3</th>\n",
       "      <td>Date: 16/03/2022</td>\n",
       "      <td>NaN</td>\n",
       "      <td>NaN</td>\n",
       "      <td>NaN</td>\n",
       "      <td>NaN</td>\n",
       "      <td>NaN</td>\n",
       "      <td>NaN</td>\n",
       "      <td>NaN</td>\n",
       "      <td>NaN</td>\n",
       "      <td>NaN</td>\n",
       "      <td>...</td>\n",
       "      <td>NaN</td>\n",
       "      <td>NaN</td>\n",
       "      <td>NaN</td>\n",
       "      <td>NaN</td>\n",
       "      <td>NaN</td>\n",
       "      <td>NaN</td>\n",
       "      <td>NaN</td>\n",
       "      <td>NaN</td>\n",
       "      <td>NaN</td>\n",
       "      <td>NaN</td>\n",
       "    </tr>\n",
       "    <tr>\n",
       "      <th>4</th>\n",
       "      <td>Time: 16:23:24</td>\n",
       "      <td>NaN</td>\n",
       "      <td>NaN</td>\n",
       "      <td>NaN</td>\n",
       "      <td>NaN</td>\n",
       "      <td>NaN</td>\n",
       "      <td>NaN</td>\n",
       "      <td>NaN</td>\n",
       "      <td>NaN</td>\n",
       "      <td>NaN</td>\n",
       "      <td>...</td>\n",
       "      <td>NaN</td>\n",
       "      <td>NaN</td>\n",
       "      <td>NaN</td>\n",
       "      <td>NaN</td>\n",
       "      <td>NaN</td>\n",
       "      <td>NaN</td>\n",
       "      <td>NaN</td>\n",
       "      <td>NaN</td>\n",
       "      <td>NaN</td>\n",
       "      <td>NaN</td>\n",
       "    </tr>\n",
       "    <tr>\n",
       "      <th>5</th>\n",
       "      <td>Absorbance spectrum</td>\n",
       "      <td>NaN</td>\n",
       "      <td>NaN</td>\n",
       "      <td>NaN</td>\n",
       "      <td>Absorbance values are displayed as OD</td>\n",
       "      <td>NaN</td>\n",
       "      <td>NaN</td>\n",
       "      <td>NaN</td>\n",
       "      <td>NaN</td>\n",
       "      <td>NaN</td>\n",
       "      <td>...</td>\n",
       "      <td>NaN</td>\n",
       "      <td>NaN</td>\n",
       "      <td>NaN</td>\n",
       "      <td>NaN</td>\n",
       "      <td>NaN</td>\n",
       "      <td>NaN</td>\n",
       "      <td>NaN</td>\n",
       "      <td>NaN</td>\n",
       "      <td>NaN</td>\n",
       "      <td>NaN</td>\n",
       "    </tr>\n",
       "    <tr>\n",
       "      <th>6</th>\n",
       "      <td>NaN</td>\n",
       "      <td>NaN</td>\n",
       "      <td>NaN</td>\n",
       "      <td>NaN</td>\n",
       "      <td>NaN</td>\n",
       "      <td>NaN</td>\n",
       "      <td>NaN</td>\n",
       "      <td>NaN</td>\n",
       "      <td>NaN</td>\n",
       "      <td>NaN</td>\n",
       "      <td>...</td>\n",
       "      <td>NaN</td>\n",
       "      <td>NaN</td>\n",
       "      <td>NaN</td>\n",
       "      <td>NaN</td>\n",
       "      <td>NaN</td>\n",
       "      <td>NaN</td>\n",
       "      <td>NaN</td>\n",
       "      <td>NaN</td>\n",
       "      <td>NaN</td>\n",
       "      <td>NaN</td>\n",
       "    </tr>\n",
       "    <tr>\n",
       "      <th>7</th>\n",
       "      <td>NaN</td>\n",
       "      <td>NaN</td>\n",
       "      <td>NaN</td>\n",
       "      <td>NaN</td>\n",
       "      <td>NaN</td>\n",
       "      <td>NaN</td>\n",
       "      <td>NaN</td>\n",
       "      <td>NaN</td>\n",
       "      <td>NaN</td>\n",
       "      <td>NaN</td>\n",
       "      <td>...</td>\n",
       "      <td>NaN</td>\n",
       "      <td>NaN</td>\n",
       "      <td>NaN</td>\n",
       "      <td>NaN</td>\n",
       "      <td>NaN</td>\n",
       "      <td>NaN</td>\n",
       "      <td>NaN</td>\n",
       "      <td>NaN</td>\n",
       "      <td>NaN</td>\n",
       "      <td>NaN</td>\n",
       "    </tr>\n",
       "    <tr>\n",
       "      <th>8</th>\n",
       "      <td>NaN</td>\n",
       "      <td>NaN</td>\n",
       "      <td>NaN</td>\n",
       "      <td>Raw Data (Abs Spectrum)</td>\n",
       "      <td>Raw Data (Abs Spectrum)</td>\n",
       "      <td>Raw Data (Abs Spectrum)</td>\n",
       "      <td>Raw Data (Abs Spectrum)</td>\n",
       "      <td>Raw Data (Abs Spectrum)</td>\n",
       "      <td>Raw Data (Abs Spectrum)</td>\n",
       "      <td>Raw Data (Abs Spectrum)</td>\n",
       "      <td>...</td>\n",
       "      <td>Raw Data (Abs Spectrum)</td>\n",
       "      <td>Raw Data (Abs Spectrum)</td>\n",
       "      <td>Raw Data (Abs Spectrum)</td>\n",
       "      <td>Raw Data (Abs Spectrum)</td>\n",
       "      <td>Raw Data (Abs Spectrum)</td>\n",
       "      <td>Raw Data (Abs Spectrum)</td>\n",
       "      <td>Raw Data (Abs Spectrum)</td>\n",
       "      <td>Raw Data (Abs Spectrum)</td>\n",
       "      <td>Raw Data (Abs Spectrum)</td>\n",
       "      <td>Raw Data (Abs Spectrum)</td>\n",
       "    </tr>\n",
       "    <tr>\n",
       "      <th>9</th>\n",
       "      <td>Well</td>\n",
       "      <td>Sample</td>\n",
       "      <td>Dilution</td>\n",
       "      <td>220</td>\n",
       "      <td>222</td>\n",
       "      <td>224</td>\n",
       "      <td>226</td>\n",
       "      <td>228</td>\n",
       "      <td>230</td>\n",
       "      <td>232</td>\n",
       "      <td>...</td>\n",
       "      <td>782</td>\n",
       "      <td>784</td>\n",
       "      <td>786</td>\n",
       "      <td>788</td>\n",
       "      <td>790</td>\n",
       "      <td>792</td>\n",
       "      <td>794</td>\n",
       "      <td>796</td>\n",
       "      <td>798</td>\n",
       "      <td>800</td>\n",
       "    </tr>\n",
       "    <tr>\n",
       "      <th>10</th>\n",
       "      <td>A1</td>\n",
       "      <td>S1</td>\n",
       "      <td>1</td>\n",
       "      <td>3.736</td>\n",
       "      <td>3.389</td>\n",
       "      <td>3.636</td>\n",
       "      <td>4.059</td>\n",
       "      <td>4.713</td>\n",
       "      <td>4.672</td>\n",
       "      <td>5.287</td>\n",
       "      <td>...</td>\n",
       "      <td>0.061</td>\n",
       "      <td>0.061</td>\n",
       "      <td>0.062</td>\n",
       "      <td>0.06</td>\n",
       "      <td>0.06</td>\n",
       "      <td>0.06</td>\n",
       "      <td>0.061</td>\n",
       "      <td>0.06</td>\n",
       "      <td>0.06</td>\n",
       "      <td>0.059</td>\n",
       "    </tr>\n",
       "    <tr>\n",
       "      <th>11</th>\n",
       "      <td>A3</td>\n",
       "      <td>S1</td>\n",
       "      <td>2</td>\n",
       "      <td>3.669</td>\n",
       "      <td>3.651</td>\n",
       "      <td>3.956</td>\n",
       "      <td>4.445</td>\n",
       "      <td>5.287</td>\n",
       "      <td>5.287</td>\n",
       "      <td>5.287</td>\n",
       "      <td>...</td>\n",
       "      <td>0.054</td>\n",
       "      <td>0.054</td>\n",
       "      <td>0.055</td>\n",
       "      <td>0.053</td>\n",
       "      <td>0.053</td>\n",
       "      <td>0.053</td>\n",
       "      <td>0.055</td>\n",
       "      <td>0.053</td>\n",
       "      <td>0.053</td>\n",
       "      <td>0.052</td>\n",
       "    </tr>\n",
       "    <tr>\n",
       "      <th>12</th>\n",
       "      <td>A5</td>\n",
       "      <td>S1</td>\n",
       "      <td>4</td>\n",
       "      <td>3.232</td>\n",
       "      <td>4.083</td>\n",
       "      <td>4.167</td>\n",
       "      <td>3.785</td>\n",
       "      <td>5.164</td>\n",
       "      <td>5.028</td>\n",
       "      <td>5.112</td>\n",
       "      <td>...</td>\n",
       "      <td>0.053</td>\n",
       "      <td>0.054</td>\n",
       "      <td>0.052</td>\n",
       "      <td>0.051</td>\n",
       "      <td>0.051</td>\n",
       "      <td>0.051</td>\n",
       "      <td>0.052</td>\n",
       "      <td>0.05</td>\n",
       "      <td>0.05</td>\n",
       "      <td>0.05</td>\n",
       "    </tr>\n",
       "    <tr>\n",
       "      <th>13</th>\n",
       "      <td>A7</td>\n",
       "      <td>S1</td>\n",
       "      <td>8</td>\n",
       "      <td>3.131</td>\n",
       "      <td>3.328</td>\n",
       "      <td>3.814</td>\n",
       "      <td>4.026</td>\n",
       "      <td>4.893</td>\n",
       "      <td>5.287</td>\n",
       "      <td>4.825</td>\n",
       "      <td>...</td>\n",
       "      <td>0.051</td>\n",
       "      <td>0.05</td>\n",
       "      <td>0.05</td>\n",
       "      <td>0.049</td>\n",
       "      <td>0.049</td>\n",
       "      <td>0.05</td>\n",
       "      <td>0.05</td>\n",
       "      <td>0.049</td>\n",
       "      <td>0.051</td>\n",
       "      <td>0.048</td>\n",
       "    </tr>\n",
       "    <tr>\n",
       "      <th>14</th>\n",
       "      <td>A9</td>\n",
       "      <td>S1</td>\n",
       "      <td>16</td>\n",
       "      <td>3.235</td>\n",
       "      <td>3.784</td>\n",
       "      <td>4.502</td>\n",
       "      <td>4.987</td>\n",
       "      <td>5.287</td>\n",
       "      <td>5.287</td>\n",
       "      <td>5.287</td>\n",
       "      <td>...</td>\n",
       "      <td>0.053</td>\n",
       "      <td>0.052</td>\n",
       "      <td>0.052</td>\n",
       "      <td>0.051</td>\n",
       "      <td>0.051</td>\n",
       "      <td>0.052</td>\n",
       "      <td>0.052</td>\n",
       "      <td>0.052</td>\n",
       "      <td>0.052</td>\n",
       "      <td>0.05</td>\n",
       "    </tr>\n",
       "    <tr>\n",
       "      <th>15</th>\n",
       "      <td>A11</td>\n",
       "      <td>S1</td>\n",
       "      <td>32</td>\n",
       "      <td>3.043</td>\n",
       "      <td>3.826</td>\n",
       "      <td>3.722</td>\n",
       "      <td>3.854</td>\n",
       "      <td>4.973</td>\n",
       "      <td>5.287</td>\n",
       "      <td>5.145</td>\n",
       "      <td>...</td>\n",
       "      <td>0.052</td>\n",
       "      <td>0.051</td>\n",
       "      <td>0.051</td>\n",
       "      <td>0.051</td>\n",
       "      <td>0.05</td>\n",
       "      <td>0.051</td>\n",
       "      <td>0.051</td>\n",
       "      <td>0.051</td>\n",
       "      <td>0.052</td>\n",
       "      <td>0.051</td>\n",
       "    </tr>\n",
       "    <tr>\n",
       "      <th>16</th>\n",
       "      <td>B1</td>\n",
       "      <td>S1</td>\n",
       "      <td>64</td>\n",
       "      <td>3.381</td>\n",
       "      <td>3.484</td>\n",
       "      <td>4.089</td>\n",
       "      <td>3.829</td>\n",
       "      <td>4.271</td>\n",
       "      <td>4.722</td>\n",
       "      <td>5.033</td>\n",
       "      <td>...</td>\n",
       "      <td>0.053</td>\n",
       "      <td>0.053</td>\n",
       "      <td>0.053</td>\n",
       "      <td>0.051</td>\n",
       "      <td>0.051</td>\n",
       "      <td>0.051</td>\n",
       "      <td>0.052</td>\n",
       "      <td>0.052</td>\n",
       "      <td>0.051</td>\n",
       "      <td>0.05</td>\n",
       "    </tr>\n",
       "    <tr>\n",
       "      <th>17</th>\n",
       "      <td>B3</td>\n",
       "      <td>S1</td>\n",
       "      <td>128</td>\n",
       "      <td>3.772</td>\n",
       "      <td>4.212</td>\n",
       "      <td>3.998</td>\n",
       "      <td>4.006</td>\n",
       "      <td>5.002</td>\n",
       "      <td>5.106</td>\n",
       "      <td>4.814</td>\n",
       "      <td>...</td>\n",
       "      <td>0.052</td>\n",
       "      <td>0.052</td>\n",
       "      <td>0.052</td>\n",
       "      <td>0.051</td>\n",
       "      <td>0.05</td>\n",
       "      <td>0.051</td>\n",
       "      <td>0.052</td>\n",
       "      <td>0.051</td>\n",
       "      <td>0.052</td>\n",
       "      <td>0.05</td>\n",
       "    </tr>\n",
       "    <tr>\n",
       "      <th>18</th>\n",
       "      <td>B5</td>\n",
       "      <td>S1</td>\n",
       "      <td>1</td>\n",
       "      <td>2.956</td>\n",
       "      <td>3.329</td>\n",
       "      <td>3.306</td>\n",
       "      <td>3.651</td>\n",
       "      <td>4.246</td>\n",
       "      <td>4.593</td>\n",
       "      <td>5.065</td>\n",
       "      <td>...</td>\n",
       "      <td>0.076</td>\n",
       "      <td>0.075</td>\n",
       "      <td>0.075</td>\n",
       "      <td>0.075</td>\n",
       "      <td>0.074</td>\n",
       "      <td>0.074</td>\n",
       "      <td>0.075</td>\n",
       "      <td>0.074</td>\n",
       "      <td>0.073</td>\n",
       "      <td>0.073</td>\n",
       "    </tr>\n",
       "    <tr>\n",
       "      <th>19</th>\n",
       "      <td>B7</td>\n",
       "      <td>S1</td>\n",
       "      <td>2</td>\n",
       "      <td>3.248</td>\n",
       "      <td>3.987</td>\n",
       "      <td>4.444</td>\n",
       "      <td>4.681</td>\n",
       "      <td>4.528</td>\n",
       "      <td>5.07</td>\n",
       "      <td>5.115</td>\n",
       "      <td>...</td>\n",
       "      <td>0.055</td>\n",
       "      <td>0.055</td>\n",
       "      <td>0.054</td>\n",
       "      <td>0.053</td>\n",
       "      <td>0.052</td>\n",
       "      <td>0.053</td>\n",
       "      <td>0.054</td>\n",
       "      <td>0.054</td>\n",
       "      <td>0.053</td>\n",
       "      <td>0.052</td>\n",
       "    </tr>\n",
       "    <tr>\n",
       "      <th>20</th>\n",
       "      <td>B9</td>\n",
       "      <td>S1</td>\n",
       "      <td>4</td>\n",
       "      <td>3.234</td>\n",
       "      <td>3.18</td>\n",
       "      <td>3.725</td>\n",
       "      <td>4.324</td>\n",
       "      <td>4.575</td>\n",
       "      <td>4.893</td>\n",
       "      <td>5.095</td>\n",
       "      <td>...</td>\n",
       "      <td>0.052</td>\n",
       "      <td>0.051</td>\n",
       "      <td>0.051</td>\n",
       "      <td>0.05</td>\n",
       "      <td>0.05</td>\n",
       "      <td>0.05</td>\n",
       "      <td>0.052</td>\n",
       "      <td>0.05</td>\n",
       "      <td>0.051</td>\n",
       "      <td>0.05</td>\n",
       "    </tr>\n",
       "    <tr>\n",
       "      <th>21</th>\n",
       "      <td>B11</td>\n",
       "      <td>S1</td>\n",
       "      <td>8</td>\n",
       "      <td>3.562</td>\n",
       "      <td>3.48</td>\n",
       "      <td>3.778</td>\n",
       "      <td>4.274</td>\n",
       "      <td>4.779</td>\n",
       "      <td>4.989</td>\n",
       "      <td>4.977</td>\n",
       "      <td>...</td>\n",
       "      <td>0.051</td>\n",
       "      <td>0.051</td>\n",
       "      <td>0.051</td>\n",
       "      <td>0.049</td>\n",
       "      <td>0.049</td>\n",
       "      <td>0.05</td>\n",
       "      <td>0.05</td>\n",
       "      <td>0.05</td>\n",
       "      <td>0.05</td>\n",
       "      <td>0.049</td>\n",
       "    </tr>\n",
       "    <tr>\n",
       "      <th>22</th>\n",
       "      <td>C1</td>\n",
       "      <td>S1</td>\n",
       "      <td>16</td>\n",
       "      <td>4.331</td>\n",
       "      <td>4.615</td>\n",
       "      <td>4.566</td>\n",
       "      <td>4.845</td>\n",
       "      <td>5.287</td>\n",
       "      <td>5.287</td>\n",
       "      <td>5.287</td>\n",
       "      <td>...</td>\n",
       "      <td>0.05</td>\n",
       "      <td>0.051</td>\n",
       "      <td>0.049</td>\n",
       "      <td>0.049</td>\n",
       "      <td>0.048</td>\n",
       "      <td>0.049</td>\n",
       "      <td>0.049</td>\n",
       "      <td>0.047</td>\n",
       "      <td>0.049</td>\n",
       "      <td>0.049</td>\n",
       "    </tr>\n",
       "    <tr>\n",
       "      <th>23</th>\n",
       "      <td>C3</td>\n",
       "      <td>S1</td>\n",
       "      <td>32</td>\n",
       "      <td>3.484</td>\n",
       "      <td>3.941</td>\n",
       "      <td>4.229</td>\n",
       "      <td>4.351</td>\n",
       "      <td>4.795</td>\n",
       "      <td>5.287</td>\n",
       "      <td>5.054</td>\n",
       "      <td>...</td>\n",
       "      <td>0.05</td>\n",
       "      <td>0.049</td>\n",
       "      <td>0.049</td>\n",
       "      <td>0.048</td>\n",
       "      <td>0.047</td>\n",
       "      <td>0.048</td>\n",
       "      <td>0.048</td>\n",
       "      <td>0.048</td>\n",
       "      <td>0.049</td>\n",
       "      <td>0.048</td>\n",
       "    </tr>\n",
       "    <tr>\n",
       "      <th>24</th>\n",
       "      <td>C5</td>\n",
       "      <td>S1</td>\n",
       "      <td>64</td>\n",
       "      <td>3.472</td>\n",
       "      <td>3.372</td>\n",
       "      <td>3.586</td>\n",
       "      <td>3.776</td>\n",
       "      <td>4.439</td>\n",
       "      <td>4.836</td>\n",
       "      <td>4.813</td>\n",
       "      <td>...</td>\n",
       "      <td>0.053</td>\n",
       "      <td>0.052</td>\n",
       "      <td>0.053</td>\n",
       "      <td>0.051</td>\n",
       "      <td>0.05</td>\n",
       "      <td>0.051</td>\n",
       "      <td>0.052</td>\n",
       "      <td>0.051</td>\n",
       "      <td>0.051</td>\n",
       "      <td>0.05</td>\n",
       "    </tr>\n",
       "    <tr>\n",
       "      <th>25</th>\n",
       "      <td>C7</td>\n",
       "      <td>S1</td>\n",
       "      <td>128</td>\n",
       "      <td>4.425</td>\n",
       "      <td>4.407</td>\n",
       "      <td>4.541</td>\n",
       "      <td>4.705</td>\n",
       "      <td>5.094</td>\n",
       "      <td>5.07</td>\n",
       "      <td>5.287</td>\n",
       "      <td>...</td>\n",
       "      <td>0.051</td>\n",
       "      <td>0.051</td>\n",
       "      <td>0.051</td>\n",
       "      <td>0.05</td>\n",
       "      <td>0.049</td>\n",
       "      <td>0.05</td>\n",
       "      <td>0.05</td>\n",
       "      <td>0.05</td>\n",
       "      <td>0.051</td>\n",
       "      <td>0.049</td>\n",
       "    </tr>\n",
       "    <tr>\n",
       "      <th>26</th>\n",
       "      <td>C9</td>\n",
       "      <td>S1</td>\n",
       "      <td>1</td>\n",
       "      <td>3.234</td>\n",
       "      <td>3.605</td>\n",
       "      <td>3.781</td>\n",
       "      <td>4.104</td>\n",
       "      <td>4.783</td>\n",
       "      <td>4.752</td>\n",
       "      <td>5.287</td>\n",
       "      <td>...</td>\n",
       "      <td>0.06</td>\n",
       "      <td>0.06</td>\n",
       "      <td>0.059</td>\n",
       "      <td>0.058</td>\n",
       "      <td>0.058</td>\n",
       "      <td>0.058</td>\n",
       "      <td>0.059</td>\n",
       "      <td>0.058</td>\n",
       "      <td>0.059</td>\n",
       "      <td>0.057</td>\n",
       "    </tr>\n",
       "    <tr>\n",
       "      <th>27</th>\n",
       "      <td>C11</td>\n",
       "      <td>S1</td>\n",
       "      <td>2</td>\n",
       "      <td>3.373</td>\n",
       "      <td>3.568</td>\n",
       "      <td>3.816</td>\n",
       "      <td>4.155</td>\n",
       "      <td>5.287</td>\n",
       "      <td>5.287</td>\n",
       "      <td>5.287</td>\n",
       "      <td>...</td>\n",
       "      <td>0.054</td>\n",
       "      <td>0.054</td>\n",
       "      <td>0.055</td>\n",
       "      <td>0.053</td>\n",
       "      <td>0.052</td>\n",
       "      <td>0.053</td>\n",
       "      <td>0.054</td>\n",
       "      <td>0.053</td>\n",
       "      <td>0.053</td>\n",
       "      <td>0.052</td>\n",
       "    </tr>\n",
       "    <tr>\n",
       "      <th>28</th>\n",
       "      <td>D1</td>\n",
       "      <td>S1</td>\n",
       "      <td>4</td>\n",
       "      <td>3.828</td>\n",
       "      <td>4.325</td>\n",
       "      <td>3.886</td>\n",
       "      <td>5.097</td>\n",
       "      <td>5.287</td>\n",
       "      <td>5.06</td>\n",
       "      <td>5.047</td>\n",
       "      <td>...</td>\n",
       "      <td>0.053</td>\n",
       "      <td>0.052</td>\n",
       "      <td>0.053</td>\n",
       "      <td>0.051</td>\n",
       "      <td>0.051</td>\n",
       "      <td>0.052</td>\n",
       "      <td>0.052</td>\n",
       "      <td>0.051</td>\n",
       "      <td>0.053</td>\n",
       "      <td>0.052</td>\n",
       "    </tr>\n",
       "    <tr>\n",
       "      <th>29</th>\n",
       "      <td>D3</td>\n",
       "      <td>S1</td>\n",
       "      <td>8</td>\n",
       "      <td>5.287</td>\n",
       "      <td>4.061</td>\n",
       "      <td>4.142</td>\n",
       "      <td>4.276</td>\n",
       "      <td>4.822</td>\n",
       "      <td>5.287</td>\n",
       "      <td>5.287</td>\n",
       "      <td>...</td>\n",
       "      <td>0.057</td>\n",
       "      <td>0.057</td>\n",
       "      <td>0.057</td>\n",
       "      <td>0.056</td>\n",
       "      <td>0.056</td>\n",
       "      <td>0.056</td>\n",
       "      <td>0.056</td>\n",
       "      <td>0.056</td>\n",
       "      <td>0.057</td>\n",
       "      <td>0.056</td>\n",
       "    </tr>\n",
       "    <tr>\n",
       "      <th>30</th>\n",
       "      <td>D5</td>\n",
       "      <td>S1</td>\n",
       "      <td>16</td>\n",
       "      <td>3.651</td>\n",
       "      <td>3.88</td>\n",
       "      <td>3.908</td>\n",
       "      <td>4.008</td>\n",
       "      <td>4.86</td>\n",
       "      <td>5.287</td>\n",
       "      <td>4.86</td>\n",
       "      <td>...</td>\n",
       "      <td>0.052</td>\n",
       "      <td>0.051</td>\n",
       "      <td>0.052</td>\n",
       "      <td>0.051</td>\n",
       "      <td>0.049</td>\n",
       "      <td>0.051</td>\n",
       "      <td>0.051</td>\n",
       "      <td>0.051</td>\n",
       "      <td>0.052</td>\n",
       "      <td>0.05</td>\n",
       "    </tr>\n",
       "    <tr>\n",
       "      <th>31</th>\n",
       "      <td>D7</td>\n",
       "      <td>S1</td>\n",
       "      <td>32</td>\n",
       "      <td>3.33</td>\n",
       "      <td>3.384</td>\n",
       "      <td>4.154</td>\n",
       "      <td>4.301</td>\n",
       "      <td>5.287</td>\n",
       "      <td>5.287</td>\n",
       "      <td>4.684</td>\n",
       "      <td>...</td>\n",
       "      <td>0.05</td>\n",
       "      <td>0.051</td>\n",
       "      <td>0.051</td>\n",
       "      <td>0.05</td>\n",
       "      <td>0.049</td>\n",
       "      <td>0.049</td>\n",
       "      <td>0.05</td>\n",
       "      <td>0.049</td>\n",
       "      <td>0.05</td>\n",
       "      <td>0.05</td>\n",
       "    </tr>\n",
       "    <tr>\n",
       "      <th>32</th>\n",
       "      <td>D9</td>\n",
       "      <td>S1</td>\n",
       "      <td>64</td>\n",
       "      <td>3.063</td>\n",
       "      <td>3.281</td>\n",
       "      <td>3.669</td>\n",
       "      <td>4.067</td>\n",
       "      <td>4.882</td>\n",
       "      <td>4.825</td>\n",
       "      <td>5.035</td>\n",
       "      <td>...</td>\n",
       "      <td>0.051</td>\n",
       "      <td>0.052</td>\n",
       "      <td>0.051</td>\n",
       "      <td>0.05</td>\n",
       "      <td>0.05</td>\n",
       "      <td>0.051</td>\n",
       "      <td>0.051</td>\n",
       "      <td>0.051</td>\n",
       "      <td>0.051</td>\n",
       "      <td>0.051</td>\n",
       "    </tr>\n",
       "    <tr>\n",
       "      <th>33</th>\n",
       "      <td>D11</td>\n",
       "      <td>S1</td>\n",
       "      <td>128</td>\n",
       "      <td>3.382</td>\n",
       "      <td>4.016</td>\n",
       "      <td>4.424</td>\n",
       "      <td>5.135</td>\n",
       "      <td>5.287</td>\n",
       "      <td>5.212</td>\n",
       "      <td>5.205</td>\n",
       "      <td>...</td>\n",
       "      <td>0.052</td>\n",
       "      <td>0.051</td>\n",
       "      <td>0.051</td>\n",
       "      <td>0.051</td>\n",
       "      <td>0.051</td>\n",
       "      <td>0.051</td>\n",
       "      <td>0.051</td>\n",
       "      <td>0.051</td>\n",
       "      <td>0.051</td>\n",
       "      <td>0.051</td>\n",
       "    </tr>\n",
       "    <tr>\n",
       "      <th>34</th>\n",
       "      <td>E1</td>\n",
       "      <td>Blank</td>\n",
       "      <td>1</td>\n",
       "      <td>3.977</td>\n",
       "      <td>3.618</td>\n",
       "      <td>4.07</td>\n",
       "      <td>3.96</td>\n",
       "      <td>4.618</td>\n",
       "      <td>5.287</td>\n",
       "      <td>5.287</td>\n",
       "      <td>...</td>\n",
       "      <td>0.051</td>\n",
       "      <td>0.05</td>\n",
       "      <td>0.049</td>\n",
       "      <td>0.05</td>\n",
       "      <td>0.05</td>\n",
       "      <td>0.05</td>\n",
       "      <td>0.049</td>\n",
       "      <td>0.05</td>\n",
       "      <td>0.05</td>\n",
       "      <td>0.049</td>\n",
       "    </tr>\n",
       "    <tr>\n",
       "      <th>35</th>\n",
       "      <td>E3</td>\n",
       "      <td>Blank</td>\n",
       "      <td>1</td>\n",
       "      <td>3.393</td>\n",
       "      <td>3.726</td>\n",
       "      <td>4.098</td>\n",
       "      <td>3.924</td>\n",
       "      <td>4.907</td>\n",
       "      <td>4.66</td>\n",
       "      <td>5.287</td>\n",
       "      <td>...</td>\n",
       "      <td>0.052</td>\n",
       "      <td>0.052</td>\n",
       "      <td>0.052</td>\n",
       "      <td>0.05</td>\n",
       "      <td>0.05</td>\n",
       "      <td>0.051</td>\n",
       "      <td>0.051</td>\n",
       "      <td>0.051</td>\n",
       "      <td>0.052</td>\n",
       "      <td>0.05</td>\n",
       "    </tr>\n",
       "    <tr>\n",
       "      <th>36</th>\n",
       "      <td>E5</td>\n",
       "      <td>Blank</td>\n",
       "      <td>1</td>\n",
       "      <td>3.439</td>\n",
       "      <td>3.322</td>\n",
       "      <td>4.038</td>\n",
       "      <td>5.287</td>\n",
       "      <td>5.287</td>\n",
       "      <td>4.939</td>\n",
       "      <td>5.287</td>\n",
       "      <td>...</td>\n",
       "      <td>0.049</td>\n",
       "      <td>0.048</td>\n",
       "      <td>0.048</td>\n",
       "      <td>0.047</td>\n",
       "      <td>0.047</td>\n",
       "      <td>0.047</td>\n",
       "      <td>0.048</td>\n",
       "      <td>0.048</td>\n",
       "      <td>0.047</td>\n",
       "      <td>0.047</td>\n",
       "    </tr>\n",
       "  </tbody>\n",
       "</table>\n",
       "<p>37 rows × 294 columns</p>\n",
       "</div>"
      ],
      "text/plain": [
       "                                           User: USER Unnamed: 1 Unnamed: 2  \\\n",
       "0   Path: C:\\Program Files (x86)\\BMG\\CLARIOstar\\Us...        NaN        NaN   \n",
       "1                                       Test ID: 1353        NaN        NaN   \n",
       "2                         Test Name: Magui_spec sweep        NaN        NaN   \n",
       "3                                    Date: 16/03/2022        NaN        NaN   \n",
       "4                                      Time: 16:23:24        NaN        NaN   \n",
       "5                                 Absorbance spectrum        NaN        NaN   \n",
       "6                                                 NaN        NaN        NaN   \n",
       "7                                                 NaN        NaN        NaN   \n",
       "8                                                 NaN        NaN        NaN   \n",
       "9                                                Well     Sample   Dilution   \n",
       "10                                                 A1         S1          1   \n",
       "11                                                 A3         S1          2   \n",
       "12                                                 A5         S1          4   \n",
       "13                                                 A7         S1          8   \n",
       "14                                                 A9         S1         16   \n",
       "15                                                A11         S1         32   \n",
       "16                                                 B1         S1         64   \n",
       "17                                                 B3         S1        128   \n",
       "18                                                 B5         S1          1   \n",
       "19                                                 B7         S1          2   \n",
       "20                                                 B9         S1          4   \n",
       "21                                                B11         S1          8   \n",
       "22                                                 C1         S1         16   \n",
       "23                                                 C3         S1         32   \n",
       "24                                                 C5         S1         64   \n",
       "25                                                 C7         S1        128   \n",
       "26                                                 C9         S1          1   \n",
       "27                                                C11         S1          2   \n",
       "28                                                 D1         S1          4   \n",
       "29                                                 D3         S1          8   \n",
       "30                                                 D5         S1         16   \n",
       "31                                                 D7         S1         32   \n",
       "32                                                 D9         S1         64   \n",
       "33                                                D11         S1        128   \n",
       "34                                                 E1      Blank          1   \n",
       "35                                                 E3      Blank          1   \n",
       "36                                                 E5      Blank          1   \n",
       "\n",
       "                 Unnamed: 3                             Unnamed: 4  \\\n",
       "0                       NaN                                    NaN   \n",
       "1                       NaN                                    NaN   \n",
       "2                       NaN                                    NaN   \n",
       "3                       NaN                                    NaN   \n",
       "4                       NaN                                    NaN   \n",
       "5                       NaN  Absorbance values are displayed as OD   \n",
       "6                       NaN                                    NaN   \n",
       "7                       NaN                                    NaN   \n",
       "8   Raw Data (Abs Spectrum)                Raw Data (Abs Spectrum)   \n",
       "9                       220                                    222   \n",
       "10                    3.736                                  3.389   \n",
       "11                    3.669                                  3.651   \n",
       "12                    3.232                                  4.083   \n",
       "13                    3.131                                  3.328   \n",
       "14                    3.235                                  3.784   \n",
       "15                    3.043                                  3.826   \n",
       "16                    3.381                                  3.484   \n",
       "17                    3.772                                  4.212   \n",
       "18                    2.956                                  3.329   \n",
       "19                    3.248                                  3.987   \n",
       "20                    3.234                                   3.18   \n",
       "21                    3.562                                   3.48   \n",
       "22                    4.331                                  4.615   \n",
       "23                    3.484                                  3.941   \n",
       "24                    3.472                                  3.372   \n",
       "25                    4.425                                  4.407   \n",
       "26                    3.234                                  3.605   \n",
       "27                    3.373                                  3.568   \n",
       "28                    3.828                                  4.325   \n",
       "29                    5.287                                  4.061   \n",
       "30                    3.651                                   3.88   \n",
       "31                     3.33                                  3.384   \n",
       "32                    3.063                                  3.281   \n",
       "33                    3.382                                  4.016   \n",
       "34                    3.977                                  3.618   \n",
       "35                    3.393                                  3.726   \n",
       "36                    3.439                                  3.322   \n",
       "\n",
       "                 Unnamed: 5               Unnamed: 6               Unnamed: 7  \\\n",
       "0                       NaN                      NaN                      NaN   \n",
       "1                       NaN                      NaN                      NaN   \n",
       "2                       NaN                      NaN                      NaN   \n",
       "3                       NaN                      NaN                      NaN   \n",
       "4                       NaN                      NaN                      NaN   \n",
       "5                       NaN                      NaN                      NaN   \n",
       "6                       NaN                      NaN                      NaN   \n",
       "7                       NaN                      NaN                      NaN   \n",
       "8   Raw Data (Abs Spectrum)  Raw Data (Abs Spectrum)  Raw Data (Abs Spectrum)   \n",
       "9                       224                      226                      228   \n",
       "10                    3.636                    4.059                    4.713   \n",
       "11                    3.956                    4.445                    5.287   \n",
       "12                    4.167                    3.785                    5.164   \n",
       "13                    3.814                    4.026                    4.893   \n",
       "14                    4.502                    4.987                    5.287   \n",
       "15                    3.722                    3.854                    4.973   \n",
       "16                    4.089                    3.829                    4.271   \n",
       "17                    3.998                    4.006                    5.002   \n",
       "18                    3.306                    3.651                    4.246   \n",
       "19                    4.444                    4.681                    4.528   \n",
       "20                    3.725                    4.324                    4.575   \n",
       "21                    3.778                    4.274                    4.779   \n",
       "22                    4.566                    4.845                    5.287   \n",
       "23                    4.229                    4.351                    4.795   \n",
       "24                    3.586                    3.776                    4.439   \n",
       "25                    4.541                    4.705                    5.094   \n",
       "26                    3.781                    4.104                    4.783   \n",
       "27                    3.816                    4.155                    5.287   \n",
       "28                    3.886                    5.097                    5.287   \n",
       "29                    4.142                    4.276                    4.822   \n",
       "30                    3.908                    4.008                     4.86   \n",
       "31                    4.154                    4.301                    5.287   \n",
       "32                    3.669                    4.067                    4.882   \n",
       "33                    4.424                    5.135                    5.287   \n",
       "34                     4.07                     3.96                    4.618   \n",
       "35                    4.098                    3.924                    4.907   \n",
       "36                    4.038                    5.287                    5.287   \n",
       "\n",
       "                 Unnamed: 8               Unnamed: 9  ...  \\\n",
       "0                       NaN                      NaN  ...   \n",
       "1                       NaN                      NaN  ...   \n",
       "2                       NaN                      NaN  ...   \n",
       "3                       NaN                      NaN  ...   \n",
       "4                       NaN                      NaN  ...   \n",
       "5                       NaN                      NaN  ...   \n",
       "6                       NaN                      NaN  ...   \n",
       "7                       NaN                      NaN  ...   \n",
       "8   Raw Data (Abs Spectrum)  Raw Data (Abs Spectrum)  ...   \n",
       "9                       230                      232  ...   \n",
       "10                    4.672                    5.287  ...   \n",
       "11                    5.287                    5.287  ...   \n",
       "12                    5.028                    5.112  ...   \n",
       "13                    5.287                    4.825  ...   \n",
       "14                    5.287                    5.287  ...   \n",
       "15                    5.287                    5.145  ...   \n",
       "16                    4.722                    5.033  ...   \n",
       "17                    5.106                    4.814  ...   \n",
       "18                    4.593                    5.065  ...   \n",
       "19                     5.07                    5.115  ...   \n",
       "20                    4.893                    5.095  ...   \n",
       "21                    4.989                    4.977  ...   \n",
       "22                    5.287                    5.287  ...   \n",
       "23                    5.287                    5.054  ...   \n",
       "24                    4.836                    4.813  ...   \n",
       "25                     5.07                    5.287  ...   \n",
       "26                    4.752                    5.287  ...   \n",
       "27                    5.287                    5.287  ...   \n",
       "28                     5.06                    5.047  ...   \n",
       "29                    5.287                    5.287  ...   \n",
       "30                    5.287                     4.86  ...   \n",
       "31                    5.287                    4.684  ...   \n",
       "32                    4.825                    5.035  ...   \n",
       "33                    5.212                    5.205  ...   \n",
       "34                    5.287                    5.287  ...   \n",
       "35                     4.66                    5.287  ...   \n",
       "36                    4.939                    5.287  ...   \n",
       "\n",
       "               Unnamed: 284             Unnamed: 285             Unnamed: 286  \\\n",
       "0                       NaN                      NaN                      NaN   \n",
       "1                       NaN                      NaN                      NaN   \n",
       "2                       NaN                      NaN                      NaN   \n",
       "3                       NaN                      NaN                      NaN   \n",
       "4                       NaN                      NaN                      NaN   \n",
       "5                       NaN                      NaN                      NaN   \n",
       "6                       NaN                      NaN                      NaN   \n",
       "7                       NaN                      NaN                      NaN   \n",
       "8   Raw Data (Abs Spectrum)  Raw Data (Abs Spectrum)  Raw Data (Abs Spectrum)   \n",
       "9                       782                      784                      786   \n",
       "10                    0.061                    0.061                    0.062   \n",
       "11                    0.054                    0.054                    0.055   \n",
       "12                    0.053                    0.054                    0.052   \n",
       "13                    0.051                     0.05                     0.05   \n",
       "14                    0.053                    0.052                    0.052   \n",
       "15                    0.052                    0.051                    0.051   \n",
       "16                    0.053                    0.053                    0.053   \n",
       "17                    0.052                    0.052                    0.052   \n",
       "18                    0.076                    0.075                    0.075   \n",
       "19                    0.055                    0.055                    0.054   \n",
       "20                    0.052                    0.051                    0.051   \n",
       "21                    0.051                    0.051                    0.051   \n",
       "22                     0.05                    0.051                    0.049   \n",
       "23                     0.05                    0.049                    0.049   \n",
       "24                    0.053                    0.052                    0.053   \n",
       "25                    0.051                    0.051                    0.051   \n",
       "26                     0.06                     0.06                    0.059   \n",
       "27                    0.054                    0.054                    0.055   \n",
       "28                    0.053                    0.052                    0.053   \n",
       "29                    0.057                    0.057                    0.057   \n",
       "30                    0.052                    0.051                    0.052   \n",
       "31                     0.05                    0.051                    0.051   \n",
       "32                    0.051                    0.052                    0.051   \n",
       "33                    0.052                    0.051                    0.051   \n",
       "34                    0.051                     0.05                    0.049   \n",
       "35                    0.052                    0.052                    0.052   \n",
       "36                    0.049                    0.048                    0.048   \n",
       "\n",
       "               Unnamed: 287             Unnamed: 288             Unnamed: 289  \\\n",
       "0                       NaN                      NaN                      NaN   \n",
       "1                       NaN                      NaN                      NaN   \n",
       "2                       NaN                      NaN                      NaN   \n",
       "3                       NaN                      NaN                      NaN   \n",
       "4                       NaN                      NaN                      NaN   \n",
       "5                       NaN                      NaN                      NaN   \n",
       "6                       NaN                      NaN                      NaN   \n",
       "7                       NaN                      NaN                      NaN   \n",
       "8   Raw Data (Abs Spectrum)  Raw Data (Abs Spectrum)  Raw Data (Abs Spectrum)   \n",
       "9                       788                      790                      792   \n",
       "10                     0.06                     0.06                     0.06   \n",
       "11                    0.053                    0.053                    0.053   \n",
       "12                    0.051                    0.051                    0.051   \n",
       "13                    0.049                    0.049                     0.05   \n",
       "14                    0.051                    0.051                    0.052   \n",
       "15                    0.051                     0.05                    0.051   \n",
       "16                    0.051                    0.051                    0.051   \n",
       "17                    0.051                     0.05                    0.051   \n",
       "18                    0.075                    0.074                    0.074   \n",
       "19                    0.053                    0.052                    0.053   \n",
       "20                     0.05                     0.05                     0.05   \n",
       "21                    0.049                    0.049                     0.05   \n",
       "22                    0.049                    0.048                    0.049   \n",
       "23                    0.048                    0.047                    0.048   \n",
       "24                    0.051                     0.05                    0.051   \n",
       "25                     0.05                    0.049                     0.05   \n",
       "26                    0.058                    0.058                    0.058   \n",
       "27                    0.053                    0.052                    0.053   \n",
       "28                    0.051                    0.051                    0.052   \n",
       "29                    0.056                    0.056                    0.056   \n",
       "30                    0.051                    0.049                    0.051   \n",
       "31                     0.05                    0.049                    0.049   \n",
       "32                     0.05                     0.05                    0.051   \n",
       "33                    0.051                    0.051                    0.051   \n",
       "34                     0.05                     0.05                     0.05   \n",
       "35                     0.05                     0.05                    0.051   \n",
       "36                    0.047                    0.047                    0.047   \n",
       "\n",
       "               Unnamed: 290             Unnamed: 291             Unnamed: 292  \\\n",
       "0                       NaN                      NaN                      NaN   \n",
       "1                       NaN                      NaN                      NaN   \n",
       "2                       NaN                      NaN                      NaN   \n",
       "3                       NaN                      NaN                      NaN   \n",
       "4                       NaN                      NaN                      NaN   \n",
       "5                       NaN                      NaN                      NaN   \n",
       "6                       NaN                      NaN                      NaN   \n",
       "7                       NaN                      NaN                      NaN   \n",
       "8   Raw Data (Abs Spectrum)  Raw Data (Abs Spectrum)  Raw Data (Abs Spectrum)   \n",
       "9                       794                      796                      798   \n",
       "10                    0.061                     0.06                     0.06   \n",
       "11                    0.055                    0.053                    0.053   \n",
       "12                    0.052                     0.05                     0.05   \n",
       "13                     0.05                    0.049                    0.051   \n",
       "14                    0.052                    0.052                    0.052   \n",
       "15                    0.051                    0.051                    0.052   \n",
       "16                    0.052                    0.052                    0.051   \n",
       "17                    0.052                    0.051                    0.052   \n",
       "18                    0.075                    0.074                    0.073   \n",
       "19                    0.054                    0.054                    0.053   \n",
       "20                    0.052                     0.05                    0.051   \n",
       "21                     0.05                     0.05                     0.05   \n",
       "22                    0.049                    0.047                    0.049   \n",
       "23                    0.048                    0.048                    0.049   \n",
       "24                    0.052                    0.051                    0.051   \n",
       "25                     0.05                     0.05                    0.051   \n",
       "26                    0.059                    0.058                    0.059   \n",
       "27                    0.054                    0.053                    0.053   \n",
       "28                    0.052                    0.051                    0.053   \n",
       "29                    0.056                    0.056                    0.057   \n",
       "30                    0.051                    0.051                    0.052   \n",
       "31                     0.05                    0.049                     0.05   \n",
       "32                    0.051                    0.051                    0.051   \n",
       "33                    0.051                    0.051                    0.051   \n",
       "34                    0.049                     0.05                     0.05   \n",
       "35                    0.051                    0.051                    0.052   \n",
       "36                    0.048                    0.048                    0.047   \n",
       "\n",
       "               Unnamed: 293  \n",
       "0                       NaN  \n",
       "1                       NaN  \n",
       "2                       NaN  \n",
       "3                       NaN  \n",
       "4                       NaN  \n",
       "5                       NaN  \n",
       "6                       NaN  \n",
       "7                       NaN  \n",
       "8   Raw Data (Abs Spectrum)  \n",
       "9                       800  \n",
       "10                    0.059  \n",
       "11                    0.052  \n",
       "12                     0.05  \n",
       "13                    0.048  \n",
       "14                     0.05  \n",
       "15                    0.051  \n",
       "16                     0.05  \n",
       "17                     0.05  \n",
       "18                    0.073  \n",
       "19                    0.052  \n",
       "20                     0.05  \n",
       "21                    0.049  \n",
       "22                    0.049  \n",
       "23                    0.048  \n",
       "24                     0.05  \n",
       "25                    0.049  \n",
       "26                    0.057  \n",
       "27                    0.052  \n",
       "28                    0.052  \n",
       "29                    0.056  \n",
       "30                     0.05  \n",
       "31                     0.05  \n",
       "32                    0.051  \n",
       "33                    0.051  \n",
       "34                    0.049  \n",
       "35                     0.05  \n",
       "36                    0.047  \n",
       "\n",
       "[37 rows x 294 columns]"
      ]
     },
     "execution_count": 3,
     "metadata": {},
     "output_type": "execute_result"
    }
   ],
   "source": [
    "# inspect raw data\n",
    "df"
   ]
  },
  {
   "cell_type": "code",
   "execution_count": 4,
   "id": "3e54cf21",
   "metadata": {},
   "outputs": [
    {
     "data": {
      "text/html": [
       "<div>\n",
       "<style scoped>\n",
       "    .dataframe tbody tr th:only-of-type {\n",
       "        vertical-align: middle;\n",
       "    }\n",
       "\n",
       "    .dataframe tbody tr th {\n",
       "        vertical-align: top;\n",
       "    }\n",
       "\n",
       "    .dataframe thead th {\n",
       "        text-align: right;\n",
       "    }\n",
       "</style>\n",
       "<table border=\"1\" class=\"dataframe\">\n",
       "  <thead>\n",
       "    <tr style=\"text-align: right;\">\n",
       "      <th></th>\n",
       "      <th>User: USER</th>\n",
       "      <th>Unnamed: 1</th>\n",
       "      <th>Unnamed: 2</th>\n",
       "      <th>Unnamed: 3</th>\n",
       "      <th>Unnamed: 4</th>\n",
       "      <th>Unnamed: 5</th>\n",
       "      <th>Unnamed: 6</th>\n",
       "      <th>Unnamed: 7</th>\n",
       "      <th>Unnamed: 8</th>\n",
       "      <th>Unnamed: 9</th>\n",
       "      <th>...</th>\n",
       "      <th>Unnamed: 284</th>\n",
       "      <th>Unnamed: 285</th>\n",
       "      <th>Unnamed: 286</th>\n",
       "      <th>Unnamed: 287</th>\n",
       "      <th>Unnamed: 288</th>\n",
       "      <th>Unnamed: 289</th>\n",
       "      <th>Unnamed: 290</th>\n",
       "      <th>Unnamed: 291</th>\n",
       "      <th>Unnamed: 292</th>\n",
       "      <th>Unnamed: 293</th>\n",
       "    </tr>\n",
       "  </thead>\n",
       "  <tbody>\n",
       "    <tr>\n",
       "      <th>9</th>\n",
       "      <td>Well</td>\n",
       "      <td>Sample</td>\n",
       "      <td>Dilution</td>\n",
       "      <td>220</td>\n",
       "      <td>222</td>\n",
       "      <td>224</td>\n",
       "      <td>226</td>\n",
       "      <td>228</td>\n",
       "      <td>230</td>\n",
       "      <td>232</td>\n",
       "      <td>...</td>\n",
       "      <td>782</td>\n",
       "      <td>784</td>\n",
       "      <td>786</td>\n",
       "      <td>788</td>\n",
       "      <td>790</td>\n",
       "      <td>792</td>\n",
       "      <td>794</td>\n",
       "      <td>796</td>\n",
       "      <td>798</td>\n",
       "      <td>800</td>\n",
       "    </tr>\n",
       "    <tr>\n",
       "      <th>10</th>\n",
       "      <td>A1</td>\n",
       "      <td>S1</td>\n",
       "      <td>1</td>\n",
       "      <td>3.736</td>\n",
       "      <td>3.389</td>\n",
       "      <td>3.636</td>\n",
       "      <td>4.059</td>\n",
       "      <td>4.713</td>\n",
       "      <td>4.672</td>\n",
       "      <td>5.287</td>\n",
       "      <td>...</td>\n",
       "      <td>0.061</td>\n",
       "      <td>0.061</td>\n",
       "      <td>0.062</td>\n",
       "      <td>0.06</td>\n",
       "      <td>0.06</td>\n",
       "      <td>0.06</td>\n",
       "      <td>0.061</td>\n",
       "      <td>0.06</td>\n",
       "      <td>0.06</td>\n",
       "      <td>0.059</td>\n",
       "    </tr>\n",
       "    <tr>\n",
       "      <th>11</th>\n",
       "      <td>A3</td>\n",
       "      <td>S1</td>\n",
       "      <td>2</td>\n",
       "      <td>3.669</td>\n",
       "      <td>3.651</td>\n",
       "      <td>3.956</td>\n",
       "      <td>4.445</td>\n",
       "      <td>5.287</td>\n",
       "      <td>5.287</td>\n",
       "      <td>5.287</td>\n",
       "      <td>...</td>\n",
       "      <td>0.054</td>\n",
       "      <td>0.054</td>\n",
       "      <td>0.055</td>\n",
       "      <td>0.053</td>\n",
       "      <td>0.053</td>\n",
       "      <td>0.053</td>\n",
       "      <td>0.055</td>\n",
       "      <td>0.053</td>\n",
       "      <td>0.053</td>\n",
       "      <td>0.052</td>\n",
       "    </tr>\n",
       "    <tr>\n",
       "      <th>12</th>\n",
       "      <td>A5</td>\n",
       "      <td>S1</td>\n",
       "      <td>4</td>\n",
       "      <td>3.232</td>\n",
       "      <td>4.083</td>\n",
       "      <td>4.167</td>\n",
       "      <td>3.785</td>\n",
       "      <td>5.164</td>\n",
       "      <td>5.028</td>\n",
       "      <td>5.112</td>\n",
       "      <td>...</td>\n",
       "      <td>0.053</td>\n",
       "      <td>0.054</td>\n",
       "      <td>0.052</td>\n",
       "      <td>0.051</td>\n",
       "      <td>0.051</td>\n",
       "      <td>0.051</td>\n",
       "      <td>0.052</td>\n",
       "      <td>0.05</td>\n",
       "      <td>0.05</td>\n",
       "      <td>0.05</td>\n",
       "    </tr>\n",
       "    <tr>\n",
       "      <th>13</th>\n",
       "      <td>A7</td>\n",
       "      <td>S1</td>\n",
       "      <td>8</td>\n",
       "      <td>3.131</td>\n",
       "      <td>3.328</td>\n",
       "      <td>3.814</td>\n",
       "      <td>4.026</td>\n",
       "      <td>4.893</td>\n",
       "      <td>5.287</td>\n",
       "      <td>4.825</td>\n",
       "      <td>...</td>\n",
       "      <td>0.051</td>\n",
       "      <td>0.05</td>\n",
       "      <td>0.05</td>\n",
       "      <td>0.049</td>\n",
       "      <td>0.049</td>\n",
       "      <td>0.05</td>\n",
       "      <td>0.05</td>\n",
       "      <td>0.049</td>\n",
       "      <td>0.051</td>\n",
       "      <td>0.048</td>\n",
       "    </tr>\n",
       "    <tr>\n",
       "      <th>14</th>\n",
       "      <td>A9</td>\n",
       "      <td>S1</td>\n",
       "      <td>16</td>\n",
       "      <td>3.235</td>\n",
       "      <td>3.784</td>\n",
       "      <td>4.502</td>\n",
       "      <td>4.987</td>\n",
       "      <td>5.287</td>\n",
       "      <td>5.287</td>\n",
       "      <td>5.287</td>\n",
       "      <td>...</td>\n",
       "      <td>0.053</td>\n",
       "      <td>0.052</td>\n",
       "      <td>0.052</td>\n",
       "      <td>0.051</td>\n",
       "      <td>0.051</td>\n",
       "      <td>0.052</td>\n",
       "      <td>0.052</td>\n",
       "      <td>0.052</td>\n",
       "      <td>0.052</td>\n",
       "      <td>0.05</td>\n",
       "    </tr>\n",
       "    <tr>\n",
       "      <th>15</th>\n",
       "      <td>A11</td>\n",
       "      <td>S1</td>\n",
       "      <td>32</td>\n",
       "      <td>3.043</td>\n",
       "      <td>3.826</td>\n",
       "      <td>3.722</td>\n",
       "      <td>3.854</td>\n",
       "      <td>4.973</td>\n",
       "      <td>5.287</td>\n",
       "      <td>5.145</td>\n",
       "      <td>...</td>\n",
       "      <td>0.052</td>\n",
       "      <td>0.051</td>\n",
       "      <td>0.051</td>\n",
       "      <td>0.051</td>\n",
       "      <td>0.05</td>\n",
       "      <td>0.051</td>\n",
       "      <td>0.051</td>\n",
       "      <td>0.051</td>\n",
       "      <td>0.052</td>\n",
       "      <td>0.051</td>\n",
       "    </tr>\n",
       "    <tr>\n",
       "      <th>16</th>\n",
       "      <td>B1</td>\n",
       "      <td>S1</td>\n",
       "      <td>64</td>\n",
       "      <td>3.381</td>\n",
       "      <td>3.484</td>\n",
       "      <td>4.089</td>\n",
       "      <td>3.829</td>\n",
       "      <td>4.271</td>\n",
       "      <td>4.722</td>\n",
       "      <td>5.033</td>\n",
       "      <td>...</td>\n",
       "      <td>0.053</td>\n",
       "      <td>0.053</td>\n",
       "      <td>0.053</td>\n",
       "      <td>0.051</td>\n",
       "      <td>0.051</td>\n",
       "      <td>0.051</td>\n",
       "      <td>0.052</td>\n",
       "      <td>0.052</td>\n",
       "      <td>0.051</td>\n",
       "      <td>0.05</td>\n",
       "    </tr>\n",
       "    <tr>\n",
       "      <th>17</th>\n",
       "      <td>B3</td>\n",
       "      <td>S1</td>\n",
       "      <td>128</td>\n",
       "      <td>3.772</td>\n",
       "      <td>4.212</td>\n",
       "      <td>3.998</td>\n",
       "      <td>4.006</td>\n",
       "      <td>5.002</td>\n",
       "      <td>5.106</td>\n",
       "      <td>4.814</td>\n",
       "      <td>...</td>\n",
       "      <td>0.052</td>\n",
       "      <td>0.052</td>\n",
       "      <td>0.052</td>\n",
       "      <td>0.051</td>\n",
       "      <td>0.05</td>\n",
       "      <td>0.051</td>\n",
       "      <td>0.052</td>\n",
       "      <td>0.051</td>\n",
       "      <td>0.052</td>\n",
       "      <td>0.05</td>\n",
       "    </tr>\n",
       "    <tr>\n",
       "      <th>18</th>\n",
       "      <td>B5</td>\n",
       "      <td>S1</td>\n",
       "      <td>1</td>\n",
       "      <td>2.956</td>\n",
       "      <td>3.329</td>\n",
       "      <td>3.306</td>\n",
       "      <td>3.651</td>\n",
       "      <td>4.246</td>\n",
       "      <td>4.593</td>\n",
       "      <td>5.065</td>\n",
       "      <td>...</td>\n",
       "      <td>0.076</td>\n",
       "      <td>0.075</td>\n",
       "      <td>0.075</td>\n",
       "      <td>0.075</td>\n",
       "      <td>0.074</td>\n",
       "      <td>0.074</td>\n",
       "      <td>0.075</td>\n",
       "      <td>0.074</td>\n",
       "      <td>0.073</td>\n",
       "      <td>0.073</td>\n",
       "    </tr>\n",
       "    <tr>\n",
       "      <th>19</th>\n",
       "      <td>B7</td>\n",
       "      <td>S1</td>\n",
       "      <td>2</td>\n",
       "      <td>3.248</td>\n",
       "      <td>3.987</td>\n",
       "      <td>4.444</td>\n",
       "      <td>4.681</td>\n",
       "      <td>4.528</td>\n",
       "      <td>5.07</td>\n",
       "      <td>5.115</td>\n",
       "      <td>...</td>\n",
       "      <td>0.055</td>\n",
       "      <td>0.055</td>\n",
       "      <td>0.054</td>\n",
       "      <td>0.053</td>\n",
       "      <td>0.052</td>\n",
       "      <td>0.053</td>\n",
       "      <td>0.054</td>\n",
       "      <td>0.054</td>\n",
       "      <td>0.053</td>\n",
       "      <td>0.052</td>\n",
       "    </tr>\n",
       "    <tr>\n",
       "      <th>20</th>\n",
       "      <td>B9</td>\n",
       "      <td>S1</td>\n",
       "      <td>4</td>\n",
       "      <td>3.234</td>\n",
       "      <td>3.18</td>\n",
       "      <td>3.725</td>\n",
       "      <td>4.324</td>\n",
       "      <td>4.575</td>\n",
       "      <td>4.893</td>\n",
       "      <td>5.095</td>\n",
       "      <td>...</td>\n",
       "      <td>0.052</td>\n",
       "      <td>0.051</td>\n",
       "      <td>0.051</td>\n",
       "      <td>0.05</td>\n",
       "      <td>0.05</td>\n",
       "      <td>0.05</td>\n",
       "      <td>0.052</td>\n",
       "      <td>0.05</td>\n",
       "      <td>0.051</td>\n",
       "      <td>0.05</td>\n",
       "    </tr>\n",
       "    <tr>\n",
       "      <th>21</th>\n",
       "      <td>B11</td>\n",
       "      <td>S1</td>\n",
       "      <td>8</td>\n",
       "      <td>3.562</td>\n",
       "      <td>3.48</td>\n",
       "      <td>3.778</td>\n",
       "      <td>4.274</td>\n",
       "      <td>4.779</td>\n",
       "      <td>4.989</td>\n",
       "      <td>4.977</td>\n",
       "      <td>...</td>\n",
       "      <td>0.051</td>\n",
       "      <td>0.051</td>\n",
       "      <td>0.051</td>\n",
       "      <td>0.049</td>\n",
       "      <td>0.049</td>\n",
       "      <td>0.05</td>\n",
       "      <td>0.05</td>\n",
       "      <td>0.05</td>\n",
       "      <td>0.05</td>\n",
       "      <td>0.049</td>\n",
       "    </tr>\n",
       "    <tr>\n",
       "      <th>22</th>\n",
       "      <td>C1</td>\n",
       "      <td>S1</td>\n",
       "      <td>16</td>\n",
       "      <td>4.331</td>\n",
       "      <td>4.615</td>\n",
       "      <td>4.566</td>\n",
       "      <td>4.845</td>\n",
       "      <td>5.287</td>\n",
       "      <td>5.287</td>\n",
       "      <td>5.287</td>\n",
       "      <td>...</td>\n",
       "      <td>0.05</td>\n",
       "      <td>0.051</td>\n",
       "      <td>0.049</td>\n",
       "      <td>0.049</td>\n",
       "      <td>0.048</td>\n",
       "      <td>0.049</td>\n",
       "      <td>0.049</td>\n",
       "      <td>0.047</td>\n",
       "      <td>0.049</td>\n",
       "      <td>0.049</td>\n",
       "    </tr>\n",
       "    <tr>\n",
       "      <th>23</th>\n",
       "      <td>C3</td>\n",
       "      <td>S1</td>\n",
       "      <td>32</td>\n",
       "      <td>3.484</td>\n",
       "      <td>3.941</td>\n",
       "      <td>4.229</td>\n",
       "      <td>4.351</td>\n",
       "      <td>4.795</td>\n",
       "      <td>5.287</td>\n",
       "      <td>5.054</td>\n",
       "      <td>...</td>\n",
       "      <td>0.05</td>\n",
       "      <td>0.049</td>\n",
       "      <td>0.049</td>\n",
       "      <td>0.048</td>\n",
       "      <td>0.047</td>\n",
       "      <td>0.048</td>\n",
       "      <td>0.048</td>\n",
       "      <td>0.048</td>\n",
       "      <td>0.049</td>\n",
       "      <td>0.048</td>\n",
       "    </tr>\n",
       "    <tr>\n",
       "      <th>24</th>\n",
       "      <td>C5</td>\n",
       "      <td>S1</td>\n",
       "      <td>64</td>\n",
       "      <td>3.472</td>\n",
       "      <td>3.372</td>\n",
       "      <td>3.586</td>\n",
       "      <td>3.776</td>\n",
       "      <td>4.439</td>\n",
       "      <td>4.836</td>\n",
       "      <td>4.813</td>\n",
       "      <td>...</td>\n",
       "      <td>0.053</td>\n",
       "      <td>0.052</td>\n",
       "      <td>0.053</td>\n",
       "      <td>0.051</td>\n",
       "      <td>0.05</td>\n",
       "      <td>0.051</td>\n",
       "      <td>0.052</td>\n",
       "      <td>0.051</td>\n",
       "      <td>0.051</td>\n",
       "      <td>0.05</td>\n",
       "    </tr>\n",
       "    <tr>\n",
       "      <th>25</th>\n",
       "      <td>C7</td>\n",
       "      <td>S1</td>\n",
       "      <td>128</td>\n",
       "      <td>4.425</td>\n",
       "      <td>4.407</td>\n",
       "      <td>4.541</td>\n",
       "      <td>4.705</td>\n",
       "      <td>5.094</td>\n",
       "      <td>5.07</td>\n",
       "      <td>5.287</td>\n",
       "      <td>...</td>\n",
       "      <td>0.051</td>\n",
       "      <td>0.051</td>\n",
       "      <td>0.051</td>\n",
       "      <td>0.05</td>\n",
       "      <td>0.049</td>\n",
       "      <td>0.05</td>\n",
       "      <td>0.05</td>\n",
       "      <td>0.05</td>\n",
       "      <td>0.051</td>\n",
       "      <td>0.049</td>\n",
       "    </tr>\n",
       "    <tr>\n",
       "      <th>26</th>\n",
       "      <td>C9</td>\n",
       "      <td>S1</td>\n",
       "      <td>1</td>\n",
       "      <td>3.234</td>\n",
       "      <td>3.605</td>\n",
       "      <td>3.781</td>\n",
       "      <td>4.104</td>\n",
       "      <td>4.783</td>\n",
       "      <td>4.752</td>\n",
       "      <td>5.287</td>\n",
       "      <td>...</td>\n",
       "      <td>0.06</td>\n",
       "      <td>0.06</td>\n",
       "      <td>0.059</td>\n",
       "      <td>0.058</td>\n",
       "      <td>0.058</td>\n",
       "      <td>0.058</td>\n",
       "      <td>0.059</td>\n",
       "      <td>0.058</td>\n",
       "      <td>0.059</td>\n",
       "      <td>0.057</td>\n",
       "    </tr>\n",
       "    <tr>\n",
       "      <th>27</th>\n",
       "      <td>C11</td>\n",
       "      <td>S1</td>\n",
       "      <td>2</td>\n",
       "      <td>3.373</td>\n",
       "      <td>3.568</td>\n",
       "      <td>3.816</td>\n",
       "      <td>4.155</td>\n",
       "      <td>5.287</td>\n",
       "      <td>5.287</td>\n",
       "      <td>5.287</td>\n",
       "      <td>...</td>\n",
       "      <td>0.054</td>\n",
       "      <td>0.054</td>\n",
       "      <td>0.055</td>\n",
       "      <td>0.053</td>\n",
       "      <td>0.052</td>\n",
       "      <td>0.053</td>\n",
       "      <td>0.054</td>\n",
       "      <td>0.053</td>\n",
       "      <td>0.053</td>\n",
       "      <td>0.052</td>\n",
       "    </tr>\n",
       "    <tr>\n",
       "      <th>28</th>\n",
       "      <td>D1</td>\n",
       "      <td>S1</td>\n",
       "      <td>4</td>\n",
       "      <td>3.828</td>\n",
       "      <td>4.325</td>\n",
       "      <td>3.886</td>\n",
       "      <td>5.097</td>\n",
       "      <td>5.287</td>\n",
       "      <td>5.06</td>\n",
       "      <td>5.047</td>\n",
       "      <td>...</td>\n",
       "      <td>0.053</td>\n",
       "      <td>0.052</td>\n",
       "      <td>0.053</td>\n",
       "      <td>0.051</td>\n",
       "      <td>0.051</td>\n",
       "      <td>0.052</td>\n",
       "      <td>0.052</td>\n",
       "      <td>0.051</td>\n",
       "      <td>0.053</td>\n",
       "      <td>0.052</td>\n",
       "    </tr>\n",
       "    <tr>\n",
       "      <th>29</th>\n",
       "      <td>D3</td>\n",
       "      <td>S1</td>\n",
       "      <td>8</td>\n",
       "      <td>5.287</td>\n",
       "      <td>4.061</td>\n",
       "      <td>4.142</td>\n",
       "      <td>4.276</td>\n",
       "      <td>4.822</td>\n",
       "      <td>5.287</td>\n",
       "      <td>5.287</td>\n",
       "      <td>...</td>\n",
       "      <td>0.057</td>\n",
       "      <td>0.057</td>\n",
       "      <td>0.057</td>\n",
       "      <td>0.056</td>\n",
       "      <td>0.056</td>\n",
       "      <td>0.056</td>\n",
       "      <td>0.056</td>\n",
       "      <td>0.056</td>\n",
       "      <td>0.057</td>\n",
       "      <td>0.056</td>\n",
       "    </tr>\n",
       "    <tr>\n",
       "      <th>30</th>\n",
       "      <td>D5</td>\n",
       "      <td>S1</td>\n",
       "      <td>16</td>\n",
       "      <td>3.651</td>\n",
       "      <td>3.88</td>\n",
       "      <td>3.908</td>\n",
       "      <td>4.008</td>\n",
       "      <td>4.86</td>\n",
       "      <td>5.287</td>\n",
       "      <td>4.86</td>\n",
       "      <td>...</td>\n",
       "      <td>0.052</td>\n",
       "      <td>0.051</td>\n",
       "      <td>0.052</td>\n",
       "      <td>0.051</td>\n",
       "      <td>0.049</td>\n",
       "      <td>0.051</td>\n",
       "      <td>0.051</td>\n",
       "      <td>0.051</td>\n",
       "      <td>0.052</td>\n",
       "      <td>0.05</td>\n",
       "    </tr>\n",
       "    <tr>\n",
       "      <th>31</th>\n",
       "      <td>D7</td>\n",
       "      <td>S1</td>\n",
       "      <td>32</td>\n",
       "      <td>3.33</td>\n",
       "      <td>3.384</td>\n",
       "      <td>4.154</td>\n",
       "      <td>4.301</td>\n",
       "      <td>5.287</td>\n",
       "      <td>5.287</td>\n",
       "      <td>4.684</td>\n",
       "      <td>...</td>\n",
       "      <td>0.05</td>\n",
       "      <td>0.051</td>\n",
       "      <td>0.051</td>\n",
       "      <td>0.05</td>\n",
       "      <td>0.049</td>\n",
       "      <td>0.049</td>\n",
       "      <td>0.05</td>\n",
       "      <td>0.049</td>\n",
       "      <td>0.05</td>\n",
       "      <td>0.05</td>\n",
       "    </tr>\n",
       "    <tr>\n",
       "      <th>32</th>\n",
       "      <td>D9</td>\n",
       "      <td>S1</td>\n",
       "      <td>64</td>\n",
       "      <td>3.063</td>\n",
       "      <td>3.281</td>\n",
       "      <td>3.669</td>\n",
       "      <td>4.067</td>\n",
       "      <td>4.882</td>\n",
       "      <td>4.825</td>\n",
       "      <td>5.035</td>\n",
       "      <td>...</td>\n",
       "      <td>0.051</td>\n",
       "      <td>0.052</td>\n",
       "      <td>0.051</td>\n",
       "      <td>0.05</td>\n",
       "      <td>0.05</td>\n",
       "      <td>0.051</td>\n",
       "      <td>0.051</td>\n",
       "      <td>0.051</td>\n",
       "      <td>0.051</td>\n",
       "      <td>0.051</td>\n",
       "    </tr>\n",
       "    <tr>\n",
       "      <th>33</th>\n",
       "      <td>D11</td>\n",
       "      <td>S1</td>\n",
       "      <td>128</td>\n",
       "      <td>3.382</td>\n",
       "      <td>4.016</td>\n",
       "      <td>4.424</td>\n",
       "      <td>5.135</td>\n",
       "      <td>5.287</td>\n",
       "      <td>5.212</td>\n",
       "      <td>5.205</td>\n",
       "      <td>...</td>\n",
       "      <td>0.052</td>\n",
       "      <td>0.051</td>\n",
       "      <td>0.051</td>\n",
       "      <td>0.051</td>\n",
       "      <td>0.051</td>\n",
       "      <td>0.051</td>\n",
       "      <td>0.051</td>\n",
       "      <td>0.051</td>\n",
       "      <td>0.051</td>\n",
       "      <td>0.051</td>\n",
       "    </tr>\n",
       "    <tr>\n",
       "      <th>34</th>\n",
       "      <td>E1</td>\n",
       "      <td>Blank</td>\n",
       "      <td>1</td>\n",
       "      <td>3.977</td>\n",
       "      <td>3.618</td>\n",
       "      <td>4.07</td>\n",
       "      <td>3.96</td>\n",
       "      <td>4.618</td>\n",
       "      <td>5.287</td>\n",
       "      <td>5.287</td>\n",
       "      <td>...</td>\n",
       "      <td>0.051</td>\n",
       "      <td>0.05</td>\n",
       "      <td>0.049</td>\n",
       "      <td>0.05</td>\n",
       "      <td>0.05</td>\n",
       "      <td>0.05</td>\n",
       "      <td>0.049</td>\n",
       "      <td>0.05</td>\n",
       "      <td>0.05</td>\n",
       "      <td>0.049</td>\n",
       "    </tr>\n",
       "    <tr>\n",
       "      <th>35</th>\n",
       "      <td>E3</td>\n",
       "      <td>Blank</td>\n",
       "      <td>1</td>\n",
       "      <td>3.393</td>\n",
       "      <td>3.726</td>\n",
       "      <td>4.098</td>\n",
       "      <td>3.924</td>\n",
       "      <td>4.907</td>\n",
       "      <td>4.66</td>\n",
       "      <td>5.287</td>\n",
       "      <td>...</td>\n",
       "      <td>0.052</td>\n",
       "      <td>0.052</td>\n",
       "      <td>0.052</td>\n",
       "      <td>0.05</td>\n",
       "      <td>0.05</td>\n",
       "      <td>0.051</td>\n",
       "      <td>0.051</td>\n",
       "      <td>0.051</td>\n",
       "      <td>0.052</td>\n",
       "      <td>0.05</td>\n",
       "    </tr>\n",
       "    <tr>\n",
       "      <th>36</th>\n",
       "      <td>E5</td>\n",
       "      <td>Blank</td>\n",
       "      <td>1</td>\n",
       "      <td>3.439</td>\n",
       "      <td>3.322</td>\n",
       "      <td>4.038</td>\n",
       "      <td>5.287</td>\n",
       "      <td>5.287</td>\n",
       "      <td>4.939</td>\n",
       "      <td>5.287</td>\n",
       "      <td>...</td>\n",
       "      <td>0.049</td>\n",
       "      <td>0.048</td>\n",
       "      <td>0.048</td>\n",
       "      <td>0.047</td>\n",
       "      <td>0.047</td>\n",
       "      <td>0.047</td>\n",
       "      <td>0.048</td>\n",
       "      <td>0.048</td>\n",
       "      <td>0.047</td>\n",
       "      <td>0.047</td>\n",
       "    </tr>\n",
       "  </tbody>\n",
       "</table>\n",
       "<p>28 rows × 294 columns</p>\n",
       "</div>"
      ],
      "text/plain": [
       "   User: USER Unnamed: 1 Unnamed: 2 Unnamed: 3 Unnamed: 4 Unnamed: 5  \\\n",
       "9        Well     Sample   Dilution        220        222        224   \n",
       "10         A1         S1          1      3.736      3.389      3.636   \n",
       "11         A3         S1          2      3.669      3.651      3.956   \n",
       "12         A5         S1          4      3.232      4.083      4.167   \n",
       "13         A7         S1          8      3.131      3.328      3.814   \n",
       "14         A9         S1         16      3.235      3.784      4.502   \n",
       "15        A11         S1         32      3.043      3.826      3.722   \n",
       "16         B1         S1         64      3.381      3.484      4.089   \n",
       "17         B3         S1        128      3.772      4.212      3.998   \n",
       "18         B5         S1          1      2.956      3.329      3.306   \n",
       "19         B7         S1          2      3.248      3.987      4.444   \n",
       "20         B9         S1          4      3.234       3.18      3.725   \n",
       "21        B11         S1          8      3.562       3.48      3.778   \n",
       "22         C1         S1         16      4.331      4.615      4.566   \n",
       "23         C3         S1         32      3.484      3.941      4.229   \n",
       "24         C5         S1         64      3.472      3.372      3.586   \n",
       "25         C7         S1        128      4.425      4.407      4.541   \n",
       "26         C9         S1          1      3.234      3.605      3.781   \n",
       "27        C11         S1          2      3.373      3.568      3.816   \n",
       "28         D1         S1          4      3.828      4.325      3.886   \n",
       "29         D3         S1          8      5.287      4.061      4.142   \n",
       "30         D5         S1         16      3.651       3.88      3.908   \n",
       "31         D7         S1         32       3.33      3.384      4.154   \n",
       "32         D9         S1         64      3.063      3.281      3.669   \n",
       "33        D11         S1        128      3.382      4.016      4.424   \n",
       "34         E1      Blank          1      3.977      3.618       4.07   \n",
       "35         E3      Blank          1      3.393      3.726      4.098   \n",
       "36         E5      Blank          1      3.439      3.322      4.038   \n",
       "\n",
       "   Unnamed: 6 Unnamed: 7 Unnamed: 8 Unnamed: 9  ... Unnamed: 284 Unnamed: 285  \\\n",
       "9         226        228        230        232  ...          782          784   \n",
       "10      4.059      4.713      4.672      5.287  ...        0.061        0.061   \n",
       "11      4.445      5.287      5.287      5.287  ...        0.054        0.054   \n",
       "12      3.785      5.164      5.028      5.112  ...        0.053        0.054   \n",
       "13      4.026      4.893      5.287      4.825  ...        0.051         0.05   \n",
       "14      4.987      5.287      5.287      5.287  ...        0.053        0.052   \n",
       "15      3.854      4.973      5.287      5.145  ...        0.052        0.051   \n",
       "16      3.829      4.271      4.722      5.033  ...        0.053        0.053   \n",
       "17      4.006      5.002      5.106      4.814  ...        0.052        0.052   \n",
       "18      3.651      4.246      4.593      5.065  ...        0.076        0.075   \n",
       "19      4.681      4.528       5.07      5.115  ...        0.055        0.055   \n",
       "20      4.324      4.575      4.893      5.095  ...        0.052        0.051   \n",
       "21      4.274      4.779      4.989      4.977  ...        0.051        0.051   \n",
       "22      4.845      5.287      5.287      5.287  ...         0.05        0.051   \n",
       "23      4.351      4.795      5.287      5.054  ...         0.05        0.049   \n",
       "24      3.776      4.439      4.836      4.813  ...        0.053        0.052   \n",
       "25      4.705      5.094       5.07      5.287  ...        0.051        0.051   \n",
       "26      4.104      4.783      4.752      5.287  ...         0.06         0.06   \n",
       "27      4.155      5.287      5.287      5.287  ...        0.054        0.054   \n",
       "28      5.097      5.287       5.06      5.047  ...        0.053        0.052   \n",
       "29      4.276      4.822      5.287      5.287  ...        0.057        0.057   \n",
       "30      4.008       4.86      5.287       4.86  ...        0.052        0.051   \n",
       "31      4.301      5.287      5.287      4.684  ...         0.05        0.051   \n",
       "32      4.067      4.882      4.825      5.035  ...        0.051        0.052   \n",
       "33      5.135      5.287      5.212      5.205  ...        0.052        0.051   \n",
       "34       3.96      4.618      5.287      5.287  ...        0.051         0.05   \n",
       "35      3.924      4.907       4.66      5.287  ...        0.052        0.052   \n",
       "36      5.287      5.287      4.939      5.287  ...        0.049        0.048   \n",
       "\n",
       "   Unnamed: 286 Unnamed: 287 Unnamed: 288 Unnamed: 289 Unnamed: 290  \\\n",
       "9           786          788          790          792          794   \n",
       "10        0.062         0.06         0.06         0.06        0.061   \n",
       "11        0.055        0.053        0.053        0.053        0.055   \n",
       "12        0.052        0.051        0.051        0.051        0.052   \n",
       "13         0.05        0.049        0.049         0.05         0.05   \n",
       "14        0.052        0.051        0.051        0.052        0.052   \n",
       "15        0.051        0.051         0.05        0.051        0.051   \n",
       "16        0.053        0.051        0.051        0.051        0.052   \n",
       "17        0.052        0.051         0.05        0.051        0.052   \n",
       "18        0.075        0.075        0.074        0.074        0.075   \n",
       "19        0.054        0.053        0.052        0.053        0.054   \n",
       "20        0.051         0.05         0.05         0.05        0.052   \n",
       "21        0.051        0.049        0.049         0.05         0.05   \n",
       "22        0.049        0.049        0.048        0.049        0.049   \n",
       "23        0.049        0.048        0.047        0.048        0.048   \n",
       "24        0.053        0.051         0.05        0.051        0.052   \n",
       "25        0.051         0.05        0.049         0.05         0.05   \n",
       "26        0.059        0.058        0.058        0.058        0.059   \n",
       "27        0.055        0.053        0.052        0.053        0.054   \n",
       "28        0.053        0.051        0.051        0.052        0.052   \n",
       "29        0.057        0.056        0.056        0.056        0.056   \n",
       "30        0.052        0.051        0.049        0.051        0.051   \n",
       "31        0.051         0.05        0.049        0.049         0.05   \n",
       "32        0.051         0.05         0.05        0.051        0.051   \n",
       "33        0.051        0.051        0.051        0.051        0.051   \n",
       "34        0.049         0.05         0.05         0.05        0.049   \n",
       "35        0.052         0.05         0.05        0.051        0.051   \n",
       "36        0.048        0.047        0.047        0.047        0.048   \n",
       "\n",
       "   Unnamed: 291 Unnamed: 292 Unnamed: 293  \n",
       "9           796          798          800  \n",
       "10         0.06         0.06        0.059  \n",
       "11        0.053        0.053        0.052  \n",
       "12         0.05         0.05         0.05  \n",
       "13        0.049        0.051        0.048  \n",
       "14        0.052        0.052         0.05  \n",
       "15        0.051        0.052        0.051  \n",
       "16        0.052        0.051         0.05  \n",
       "17        0.051        0.052         0.05  \n",
       "18        0.074        0.073        0.073  \n",
       "19        0.054        0.053        0.052  \n",
       "20         0.05        0.051         0.05  \n",
       "21         0.05         0.05        0.049  \n",
       "22        0.047        0.049        0.049  \n",
       "23        0.048        0.049        0.048  \n",
       "24        0.051        0.051         0.05  \n",
       "25         0.05        0.051        0.049  \n",
       "26        0.058        0.059        0.057  \n",
       "27        0.053        0.053        0.052  \n",
       "28        0.051        0.053        0.052  \n",
       "29        0.056        0.057        0.056  \n",
       "30        0.051        0.052         0.05  \n",
       "31        0.049         0.05         0.05  \n",
       "32        0.051        0.051        0.051  \n",
       "33        0.051        0.051        0.051  \n",
       "34         0.05         0.05        0.049  \n",
       "35        0.051        0.052         0.05  \n",
       "36        0.048        0.047        0.047  \n",
       "\n",
       "[28 rows x 294 columns]"
      ]
     },
     "execution_count": 4,
     "metadata": {},
     "output_type": "execute_result"
    }
   ],
   "source": [
    "# remove first 9 rows\n",
    "df = df.iloc[9:]\n",
    "df"
   ]
  },
  {
   "cell_type": "code",
   "execution_count": 5,
   "id": "93c29939",
   "metadata": {},
   "outputs": [
    {
     "data": {
      "text/html": [
       "<div>\n",
       "<style scoped>\n",
       "    .dataframe tbody tr th:only-of-type {\n",
       "        vertical-align: middle;\n",
       "    }\n",
       "\n",
       "    .dataframe tbody tr th {\n",
       "        vertical-align: top;\n",
       "    }\n",
       "\n",
       "    .dataframe thead th {\n",
       "        text-align: right;\n",
       "    }\n",
       "</style>\n",
       "<table border=\"1\" class=\"dataframe\">\n",
       "  <thead>\n",
       "    <tr style=\"text-align: right;\">\n",
       "      <th>9</th>\n",
       "      <th>Well</th>\n",
       "      <th>Sample</th>\n",
       "      <th>Dilution</th>\n",
       "      <th>220</th>\n",
       "      <th>222</th>\n",
       "      <th>224</th>\n",
       "      <th>226</th>\n",
       "      <th>228</th>\n",
       "      <th>230</th>\n",
       "      <th>232</th>\n",
       "      <th>...</th>\n",
       "      <th>782</th>\n",
       "      <th>784</th>\n",
       "      <th>786</th>\n",
       "      <th>788</th>\n",
       "      <th>790</th>\n",
       "      <th>792</th>\n",
       "      <th>794</th>\n",
       "      <th>796</th>\n",
       "      <th>798</th>\n",
       "      <th>800</th>\n",
       "    </tr>\n",
       "  </thead>\n",
       "  <tbody>\n",
       "    <tr>\n",
       "      <th>10</th>\n",
       "      <td>A1</td>\n",
       "      <td>S1</td>\n",
       "      <td>1</td>\n",
       "      <td>3.736</td>\n",
       "      <td>3.389</td>\n",
       "      <td>3.636</td>\n",
       "      <td>4.059</td>\n",
       "      <td>4.713</td>\n",
       "      <td>4.672</td>\n",
       "      <td>5.287</td>\n",
       "      <td>...</td>\n",
       "      <td>0.061</td>\n",
       "      <td>0.061</td>\n",
       "      <td>0.062</td>\n",
       "      <td>0.06</td>\n",
       "      <td>0.06</td>\n",
       "      <td>0.06</td>\n",
       "      <td>0.061</td>\n",
       "      <td>0.06</td>\n",
       "      <td>0.06</td>\n",
       "      <td>0.059</td>\n",
       "    </tr>\n",
       "    <tr>\n",
       "      <th>11</th>\n",
       "      <td>A3</td>\n",
       "      <td>S1</td>\n",
       "      <td>2</td>\n",
       "      <td>3.669</td>\n",
       "      <td>3.651</td>\n",
       "      <td>3.956</td>\n",
       "      <td>4.445</td>\n",
       "      <td>5.287</td>\n",
       "      <td>5.287</td>\n",
       "      <td>5.287</td>\n",
       "      <td>...</td>\n",
       "      <td>0.054</td>\n",
       "      <td>0.054</td>\n",
       "      <td>0.055</td>\n",
       "      <td>0.053</td>\n",
       "      <td>0.053</td>\n",
       "      <td>0.053</td>\n",
       "      <td>0.055</td>\n",
       "      <td>0.053</td>\n",
       "      <td>0.053</td>\n",
       "      <td>0.052</td>\n",
       "    </tr>\n",
       "    <tr>\n",
       "      <th>12</th>\n",
       "      <td>A5</td>\n",
       "      <td>S1</td>\n",
       "      <td>4</td>\n",
       "      <td>3.232</td>\n",
       "      <td>4.083</td>\n",
       "      <td>4.167</td>\n",
       "      <td>3.785</td>\n",
       "      <td>5.164</td>\n",
       "      <td>5.028</td>\n",
       "      <td>5.112</td>\n",
       "      <td>...</td>\n",
       "      <td>0.053</td>\n",
       "      <td>0.054</td>\n",
       "      <td>0.052</td>\n",
       "      <td>0.051</td>\n",
       "      <td>0.051</td>\n",
       "      <td>0.051</td>\n",
       "      <td>0.052</td>\n",
       "      <td>0.05</td>\n",
       "      <td>0.05</td>\n",
       "      <td>0.05</td>\n",
       "    </tr>\n",
       "    <tr>\n",
       "      <th>13</th>\n",
       "      <td>A7</td>\n",
       "      <td>S1</td>\n",
       "      <td>8</td>\n",
       "      <td>3.131</td>\n",
       "      <td>3.328</td>\n",
       "      <td>3.814</td>\n",
       "      <td>4.026</td>\n",
       "      <td>4.893</td>\n",
       "      <td>5.287</td>\n",
       "      <td>4.825</td>\n",
       "      <td>...</td>\n",
       "      <td>0.051</td>\n",
       "      <td>0.05</td>\n",
       "      <td>0.05</td>\n",
       "      <td>0.049</td>\n",
       "      <td>0.049</td>\n",
       "      <td>0.05</td>\n",
       "      <td>0.05</td>\n",
       "      <td>0.049</td>\n",
       "      <td>0.051</td>\n",
       "      <td>0.048</td>\n",
       "    </tr>\n",
       "    <tr>\n",
       "      <th>14</th>\n",
       "      <td>A9</td>\n",
       "      <td>S1</td>\n",
       "      <td>16</td>\n",
       "      <td>3.235</td>\n",
       "      <td>3.784</td>\n",
       "      <td>4.502</td>\n",
       "      <td>4.987</td>\n",
       "      <td>5.287</td>\n",
       "      <td>5.287</td>\n",
       "      <td>5.287</td>\n",
       "      <td>...</td>\n",
       "      <td>0.053</td>\n",
       "      <td>0.052</td>\n",
       "      <td>0.052</td>\n",
       "      <td>0.051</td>\n",
       "      <td>0.051</td>\n",
       "      <td>0.052</td>\n",
       "      <td>0.052</td>\n",
       "      <td>0.052</td>\n",
       "      <td>0.052</td>\n",
       "      <td>0.05</td>\n",
       "    </tr>\n",
       "    <tr>\n",
       "      <th>15</th>\n",
       "      <td>A11</td>\n",
       "      <td>S1</td>\n",
       "      <td>32</td>\n",
       "      <td>3.043</td>\n",
       "      <td>3.826</td>\n",
       "      <td>3.722</td>\n",
       "      <td>3.854</td>\n",
       "      <td>4.973</td>\n",
       "      <td>5.287</td>\n",
       "      <td>5.145</td>\n",
       "      <td>...</td>\n",
       "      <td>0.052</td>\n",
       "      <td>0.051</td>\n",
       "      <td>0.051</td>\n",
       "      <td>0.051</td>\n",
       "      <td>0.05</td>\n",
       "      <td>0.051</td>\n",
       "      <td>0.051</td>\n",
       "      <td>0.051</td>\n",
       "      <td>0.052</td>\n",
       "      <td>0.051</td>\n",
       "    </tr>\n",
       "    <tr>\n",
       "      <th>16</th>\n",
       "      <td>B1</td>\n",
       "      <td>S1</td>\n",
       "      <td>64</td>\n",
       "      <td>3.381</td>\n",
       "      <td>3.484</td>\n",
       "      <td>4.089</td>\n",
       "      <td>3.829</td>\n",
       "      <td>4.271</td>\n",
       "      <td>4.722</td>\n",
       "      <td>5.033</td>\n",
       "      <td>...</td>\n",
       "      <td>0.053</td>\n",
       "      <td>0.053</td>\n",
       "      <td>0.053</td>\n",
       "      <td>0.051</td>\n",
       "      <td>0.051</td>\n",
       "      <td>0.051</td>\n",
       "      <td>0.052</td>\n",
       "      <td>0.052</td>\n",
       "      <td>0.051</td>\n",
       "      <td>0.05</td>\n",
       "    </tr>\n",
       "    <tr>\n",
       "      <th>17</th>\n",
       "      <td>B3</td>\n",
       "      <td>S1</td>\n",
       "      <td>128</td>\n",
       "      <td>3.772</td>\n",
       "      <td>4.212</td>\n",
       "      <td>3.998</td>\n",
       "      <td>4.006</td>\n",
       "      <td>5.002</td>\n",
       "      <td>5.106</td>\n",
       "      <td>4.814</td>\n",
       "      <td>...</td>\n",
       "      <td>0.052</td>\n",
       "      <td>0.052</td>\n",
       "      <td>0.052</td>\n",
       "      <td>0.051</td>\n",
       "      <td>0.05</td>\n",
       "      <td>0.051</td>\n",
       "      <td>0.052</td>\n",
       "      <td>0.051</td>\n",
       "      <td>0.052</td>\n",
       "      <td>0.05</td>\n",
       "    </tr>\n",
       "    <tr>\n",
       "      <th>18</th>\n",
       "      <td>B5</td>\n",
       "      <td>S1</td>\n",
       "      <td>1</td>\n",
       "      <td>2.956</td>\n",
       "      <td>3.329</td>\n",
       "      <td>3.306</td>\n",
       "      <td>3.651</td>\n",
       "      <td>4.246</td>\n",
       "      <td>4.593</td>\n",
       "      <td>5.065</td>\n",
       "      <td>...</td>\n",
       "      <td>0.076</td>\n",
       "      <td>0.075</td>\n",
       "      <td>0.075</td>\n",
       "      <td>0.075</td>\n",
       "      <td>0.074</td>\n",
       "      <td>0.074</td>\n",
       "      <td>0.075</td>\n",
       "      <td>0.074</td>\n",
       "      <td>0.073</td>\n",
       "      <td>0.073</td>\n",
       "    </tr>\n",
       "    <tr>\n",
       "      <th>19</th>\n",
       "      <td>B7</td>\n",
       "      <td>S1</td>\n",
       "      <td>2</td>\n",
       "      <td>3.248</td>\n",
       "      <td>3.987</td>\n",
       "      <td>4.444</td>\n",
       "      <td>4.681</td>\n",
       "      <td>4.528</td>\n",
       "      <td>5.07</td>\n",
       "      <td>5.115</td>\n",
       "      <td>...</td>\n",
       "      <td>0.055</td>\n",
       "      <td>0.055</td>\n",
       "      <td>0.054</td>\n",
       "      <td>0.053</td>\n",
       "      <td>0.052</td>\n",
       "      <td>0.053</td>\n",
       "      <td>0.054</td>\n",
       "      <td>0.054</td>\n",
       "      <td>0.053</td>\n",
       "      <td>0.052</td>\n",
       "    </tr>\n",
       "    <tr>\n",
       "      <th>20</th>\n",
       "      <td>B9</td>\n",
       "      <td>S1</td>\n",
       "      <td>4</td>\n",
       "      <td>3.234</td>\n",
       "      <td>3.18</td>\n",
       "      <td>3.725</td>\n",
       "      <td>4.324</td>\n",
       "      <td>4.575</td>\n",
       "      <td>4.893</td>\n",
       "      <td>5.095</td>\n",
       "      <td>...</td>\n",
       "      <td>0.052</td>\n",
       "      <td>0.051</td>\n",
       "      <td>0.051</td>\n",
       "      <td>0.05</td>\n",
       "      <td>0.05</td>\n",
       "      <td>0.05</td>\n",
       "      <td>0.052</td>\n",
       "      <td>0.05</td>\n",
       "      <td>0.051</td>\n",
       "      <td>0.05</td>\n",
       "    </tr>\n",
       "    <tr>\n",
       "      <th>21</th>\n",
       "      <td>B11</td>\n",
       "      <td>S1</td>\n",
       "      <td>8</td>\n",
       "      <td>3.562</td>\n",
       "      <td>3.48</td>\n",
       "      <td>3.778</td>\n",
       "      <td>4.274</td>\n",
       "      <td>4.779</td>\n",
       "      <td>4.989</td>\n",
       "      <td>4.977</td>\n",
       "      <td>...</td>\n",
       "      <td>0.051</td>\n",
       "      <td>0.051</td>\n",
       "      <td>0.051</td>\n",
       "      <td>0.049</td>\n",
       "      <td>0.049</td>\n",
       "      <td>0.05</td>\n",
       "      <td>0.05</td>\n",
       "      <td>0.05</td>\n",
       "      <td>0.05</td>\n",
       "      <td>0.049</td>\n",
       "    </tr>\n",
       "    <tr>\n",
       "      <th>22</th>\n",
       "      <td>C1</td>\n",
       "      <td>S1</td>\n",
       "      <td>16</td>\n",
       "      <td>4.331</td>\n",
       "      <td>4.615</td>\n",
       "      <td>4.566</td>\n",
       "      <td>4.845</td>\n",
       "      <td>5.287</td>\n",
       "      <td>5.287</td>\n",
       "      <td>5.287</td>\n",
       "      <td>...</td>\n",
       "      <td>0.05</td>\n",
       "      <td>0.051</td>\n",
       "      <td>0.049</td>\n",
       "      <td>0.049</td>\n",
       "      <td>0.048</td>\n",
       "      <td>0.049</td>\n",
       "      <td>0.049</td>\n",
       "      <td>0.047</td>\n",
       "      <td>0.049</td>\n",
       "      <td>0.049</td>\n",
       "    </tr>\n",
       "    <tr>\n",
       "      <th>23</th>\n",
       "      <td>C3</td>\n",
       "      <td>S1</td>\n",
       "      <td>32</td>\n",
       "      <td>3.484</td>\n",
       "      <td>3.941</td>\n",
       "      <td>4.229</td>\n",
       "      <td>4.351</td>\n",
       "      <td>4.795</td>\n",
       "      <td>5.287</td>\n",
       "      <td>5.054</td>\n",
       "      <td>...</td>\n",
       "      <td>0.05</td>\n",
       "      <td>0.049</td>\n",
       "      <td>0.049</td>\n",
       "      <td>0.048</td>\n",
       "      <td>0.047</td>\n",
       "      <td>0.048</td>\n",
       "      <td>0.048</td>\n",
       "      <td>0.048</td>\n",
       "      <td>0.049</td>\n",
       "      <td>0.048</td>\n",
       "    </tr>\n",
       "    <tr>\n",
       "      <th>24</th>\n",
       "      <td>C5</td>\n",
       "      <td>S1</td>\n",
       "      <td>64</td>\n",
       "      <td>3.472</td>\n",
       "      <td>3.372</td>\n",
       "      <td>3.586</td>\n",
       "      <td>3.776</td>\n",
       "      <td>4.439</td>\n",
       "      <td>4.836</td>\n",
       "      <td>4.813</td>\n",
       "      <td>...</td>\n",
       "      <td>0.053</td>\n",
       "      <td>0.052</td>\n",
       "      <td>0.053</td>\n",
       "      <td>0.051</td>\n",
       "      <td>0.05</td>\n",
       "      <td>0.051</td>\n",
       "      <td>0.052</td>\n",
       "      <td>0.051</td>\n",
       "      <td>0.051</td>\n",
       "      <td>0.05</td>\n",
       "    </tr>\n",
       "    <tr>\n",
       "      <th>25</th>\n",
       "      <td>C7</td>\n",
       "      <td>S1</td>\n",
       "      <td>128</td>\n",
       "      <td>4.425</td>\n",
       "      <td>4.407</td>\n",
       "      <td>4.541</td>\n",
       "      <td>4.705</td>\n",
       "      <td>5.094</td>\n",
       "      <td>5.07</td>\n",
       "      <td>5.287</td>\n",
       "      <td>...</td>\n",
       "      <td>0.051</td>\n",
       "      <td>0.051</td>\n",
       "      <td>0.051</td>\n",
       "      <td>0.05</td>\n",
       "      <td>0.049</td>\n",
       "      <td>0.05</td>\n",
       "      <td>0.05</td>\n",
       "      <td>0.05</td>\n",
       "      <td>0.051</td>\n",
       "      <td>0.049</td>\n",
       "    </tr>\n",
       "    <tr>\n",
       "      <th>26</th>\n",
       "      <td>C9</td>\n",
       "      <td>S1</td>\n",
       "      <td>1</td>\n",
       "      <td>3.234</td>\n",
       "      <td>3.605</td>\n",
       "      <td>3.781</td>\n",
       "      <td>4.104</td>\n",
       "      <td>4.783</td>\n",
       "      <td>4.752</td>\n",
       "      <td>5.287</td>\n",
       "      <td>...</td>\n",
       "      <td>0.06</td>\n",
       "      <td>0.06</td>\n",
       "      <td>0.059</td>\n",
       "      <td>0.058</td>\n",
       "      <td>0.058</td>\n",
       "      <td>0.058</td>\n",
       "      <td>0.059</td>\n",
       "      <td>0.058</td>\n",
       "      <td>0.059</td>\n",
       "      <td>0.057</td>\n",
       "    </tr>\n",
       "    <tr>\n",
       "      <th>27</th>\n",
       "      <td>C11</td>\n",
       "      <td>S1</td>\n",
       "      <td>2</td>\n",
       "      <td>3.373</td>\n",
       "      <td>3.568</td>\n",
       "      <td>3.816</td>\n",
       "      <td>4.155</td>\n",
       "      <td>5.287</td>\n",
       "      <td>5.287</td>\n",
       "      <td>5.287</td>\n",
       "      <td>...</td>\n",
       "      <td>0.054</td>\n",
       "      <td>0.054</td>\n",
       "      <td>0.055</td>\n",
       "      <td>0.053</td>\n",
       "      <td>0.052</td>\n",
       "      <td>0.053</td>\n",
       "      <td>0.054</td>\n",
       "      <td>0.053</td>\n",
       "      <td>0.053</td>\n",
       "      <td>0.052</td>\n",
       "    </tr>\n",
       "    <tr>\n",
       "      <th>28</th>\n",
       "      <td>D1</td>\n",
       "      <td>S1</td>\n",
       "      <td>4</td>\n",
       "      <td>3.828</td>\n",
       "      <td>4.325</td>\n",
       "      <td>3.886</td>\n",
       "      <td>5.097</td>\n",
       "      <td>5.287</td>\n",
       "      <td>5.06</td>\n",
       "      <td>5.047</td>\n",
       "      <td>...</td>\n",
       "      <td>0.053</td>\n",
       "      <td>0.052</td>\n",
       "      <td>0.053</td>\n",
       "      <td>0.051</td>\n",
       "      <td>0.051</td>\n",
       "      <td>0.052</td>\n",
       "      <td>0.052</td>\n",
       "      <td>0.051</td>\n",
       "      <td>0.053</td>\n",
       "      <td>0.052</td>\n",
       "    </tr>\n",
       "    <tr>\n",
       "      <th>29</th>\n",
       "      <td>D3</td>\n",
       "      <td>S1</td>\n",
       "      <td>8</td>\n",
       "      <td>5.287</td>\n",
       "      <td>4.061</td>\n",
       "      <td>4.142</td>\n",
       "      <td>4.276</td>\n",
       "      <td>4.822</td>\n",
       "      <td>5.287</td>\n",
       "      <td>5.287</td>\n",
       "      <td>...</td>\n",
       "      <td>0.057</td>\n",
       "      <td>0.057</td>\n",
       "      <td>0.057</td>\n",
       "      <td>0.056</td>\n",
       "      <td>0.056</td>\n",
       "      <td>0.056</td>\n",
       "      <td>0.056</td>\n",
       "      <td>0.056</td>\n",
       "      <td>0.057</td>\n",
       "      <td>0.056</td>\n",
       "    </tr>\n",
       "    <tr>\n",
       "      <th>30</th>\n",
       "      <td>D5</td>\n",
       "      <td>S1</td>\n",
       "      <td>16</td>\n",
       "      <td>3.651</td>\n",
       "      <td>3.88</td>\n",
       "      <td>3.908</td>\n",
       "      <td>4.008</td>\n",
       "      <td>4.86</td>\n",
       "      <td>5.287</td>\n",
       "      <td>4.86</td>\n",
       "      <td>...</td>\n",
       "      <td>0.052</td>\n",
       "      <td>0.051</td>\n",
       "      <td>0.052</td>\n",
       "      <td>0.051</td>\n",
       "      <td>0.049</td>\n",
       "      <td>0.051</td>\n",
       "      <td>0.051</td>\n",
       "      <td>0.051</td>\n",
       "      <td>0.052</td>\n",
       "      <td>0.05</td>\n",
       "    </tr>\n",
       "    <tr>\n",
       "      <th>31</th>\n",
       "      <td>D7</td>\n",
       "      <td>S1</td>\n",
       "      <td>32</td>\n",
       "      <td>3.33</td>\n",
       "      <td>3.384</td>\n",
       "      <td>4.154</td>\n",
       "      <td>4.301</td>\n",
       "      <td>5.287</td>\n",
       "      <td>5.287</td>\n",
       "      <td>4.684</td>\n",
       "      <td>...</td>\n",
       "      <td>0.05</td>\n",
       "      <td>0.051</td>\n",
       "      <td>0.051</td>\n",
       "      <td>0.05</td>\n",
       "      <td>0.049</td>\n",
       "      <td>0.049</td>\n",
       "      <td>0.05</td>\n",
       "      <td>0.049</td>\n",
       "      <td>0.05</td>\n",
       "      <td>0.05</td>\n",
       "    </tr>\n",
       "    <tr>\n",
       "      <th>32</th>\n",
       "      <td>D9</td>\n",
       "      <td>S1</td>\n",
       "      <td>64</td>\n",
       "      <td>3.063</td>\n",
       "      <td>3.281</td>\n",
       "      <td>3.669</td>\n",
       "      <td>4.067</td>\n",
       "      <td>4.882</td>\n",
       "      <td>4.825</td>\n",
       "      <td>5.035</td>\n",
       "      <td>...</td>\n",
       "      <td>0.051</td>\n",
       "      <td>0.052</td>\n",
       "      <td>0.051</td>\n",
       "      <td>0.05</td>\n",
       "      <td>0.05</td>\n",
       "      <td>0.051</td>\n",
       "      <td>0.051</td>\n",
       "      <td>0.051</td>\n",
       "      <td>0.051</td>\n",
       "      <td>0.051</td>\n",
       "    </tr>\n",
       "    <tr>\n",
       "      <th>33</th>\n",
       "      <td>D11</td>\n",
       "      <td>S1</td>\n",
       "      <td>128</td>\n",
       "      <td>3.382</td>\n",
       "      <td>4.016</td>\n",
       "      <td>4.424</td>\n",
       "      <td>5.135</td>\n",
       "      <td>5.287</td>\n",
       "      <td>5.212</td>\n",
       "      <td>5.205</td>\n",
       "      <td>...</td>\n",
       "      <td>0.052</td>\n",
       "      <td>0.051</td>\n",
       "      <td>0.051</td>\n",
       "      <td>0.051</td>\n",
       "      <td>0.051</td>\n",
       "      <td>0.051</td>\n",
       "      <td>0.051</td>\n",
       "      <td>0.051</td>\n",
       "      <td>0.051</td>\n",
       "      <td>0.051</td>\n",
       "    </tr>\n",
       "    <tr>\n",
       "      <th>34</th>\n",
       "      <td>E1</td>\n",
       "      <td>Blank</td>\n",
       "      <td>1</td>\n",
       "      <td>3.977</td>\n",
       "      <td>3.618</td>\n",
       "      <td>4.07</td>\n",
       "      <td>3.96</td>\n",
       "      <td>4.618</td>\n",
       "      <td>5.287</td>\n",
       "      <td>5.287</td>\n",
       "      <td>...</td>\n",
       "      <td>0.051</td>\n",
       "      <td>0.05</td>\n",
       "      <td>0.049</td>\n",
       "      <td>0.05</td>\n",
       "      <td>0.05</td>\n",
       "      <td>0.05</td>\n",
       "      <td>0.049</td>\n",
       "      <td>0.05</td>\n",
       "      <td>0.05</td>\n",
       "      <td>0.049</td>\n",
       "    </tr>\n",
       "    <tr>\n",
       "      <th>35</th>\n",
       "      <td>E3</td>\n",
       "      <td>Blank</td>\n",
       "      <td>1</td>\n",
       "      <td>3.393</td>\n",
       "      <td>3.726</td>\n",
       "      <td>4.098</td>\n",
       "      <td>3.924</td>\n",
       "      <td>4.907</td>\n",
       "      <td>4.66</td>\n",
       "      <td>5.287</td>\n",
       "      <td>...</td>\n",
       "      <td>0.052</td>\n",
       "      <td>0.052</td>\n",
       "      <td>0.052</td>\n",
       "      <td>0.05</td>\n",
       "      <td>0.05</td>\n",
       "      <td>0.051</td>\n",
       "      <td>0.051</td>\n",
       "      <td>0.051</td>\n",
       "      <td>0.052</td>\n",
       "      <td>0.05</td>\n",
       "    </tr>\n",
       "    <tr>\n",
       "      <th>36</th>\n",
       "      <td>E5</td>\n",
       "      <td>Blank</td>\n",
       "      <td>1</td>\n",
       "      <td>3.439</td>\n",
       "      <td>3.322</td>\n",
       "      <td>4.038</td>\n",
       "      <td>5.287</td>\n",
       "      <td>5.287</td>\n",
       "      <td>4.939</td>\n",
       "      <td>5.287</td>\n",
       "      <td>...</td>\n",
       "      <td>0.049</td>\n",
       "      <td>0.048</td>\n",
       "      <td>0.048</td>\n",
       "      <td>0.047</td>\n",
       "      <td>0.047</td>\n",
       "      <td>0.047</td>\n",
       "      <td>0.048</td>\n",
       "      <td>0.048</td>\n",
       "      <td>0.047</td>\n",
       "      <td>0.047</td>\n",
       "    </tr>\n",
       "  </tbody>\n",
       "</table>\n",
       "<p>27 rows × 294 columns</p>\n",
       "</div>"
      ],
      "text/plain": [
       "9  Well Sample Dilution    220    222    224    226    228    230    232  ...  \\\n",
       "10   A1     S1        1  3.736  3.389  3.636  4.059  4.713  4.672  5.287  ...   \n",
       "11   A3     S1        2  3.669  3.651  3.956  4.445  5.287  5.287  5.287  ...   \n",
       "12   A5     S1        4  3.232  4.083  4.167  3.785  5.164  5.028  5.112  ...   \n",
       "13   A7     S1        8  3.131  3.328  3.814  4.026  4.893  5.287  4.825  ...   \n",
       "14   A9     S1       16  3.235  3.784  4.502  4.987  5.287  5.287  5.287  ...   \n",
       "15  A11     S1       32  3.043  3.826  3.722  3.854  4.973  5.287  5.145  ...   \n",
       "16   B1     S1       64  3.381  3.484  4.089  3.829  4.271  4.722  5.033  ...   \n",
       "17   B3     S1      128  3.772  4.212  3.998  4.006  5.002  5.106  4.814  ...   \n",
       "18   B5     S1        1  2.956  3.329  3.306  3.651  4.246  4.593  5.065  ...   \n",
       "19   B7     S1        2  3.248  3.987  4.444  4.681  4.528   5.07  5.115  ...   \n",
       "20   B9     S1        4  3.234   3.18  3.725  4.324  4.575  4.893  5.095  ...   \n",
       "21  B11     S1        8  3.562   3.48  3.778  4.274  4.779  4.989  4.977  ...   \n",
       "22   C1     S1       16  4.331  4.615  4.566  4.845  5.287  5.287  5.287  ...   \n",
       "23   C3     S1       32  3.484  3.941  4.229  4.351  4.795  5.287  5.054  ...   \n",
       "24   C5     S1       64  3.472  3.372  3.586  3.776  4.439  4.836  4.813  ...   \n",
       "25   C7     S1      128  4.425  4.407  4.541  4.705  5.094   5.07  5.287  ...   \n",
       "26   C9     S1        1  3.234  3.605  3.781  4.104  4.783  4.752  5.287  ...   \n",
       "27  C11     S1        2  3.373  3.568  3.816  4.155  5.287  5.287  5.287  ...   \n",
       "28   D1     S1        4  3.828  4.325  3.886  5.097  5.287   5.06  5.047  ...   \n",
       "29   D3     S1        8  5.287  4.061  4.142  4.276  4.822  5.287  5.287  ...   \n",
       "30   D5     S1       16  3.651   3.88  3.908  4.008   4.86  5.287   4.86  ...   \n",
       "31   D7     S1       32   3.33  3.384  4.154  4.301  5.287  5.287  4.684  ...   \n",
       "32   D9     S1       64  3.063  3.281  3.669  4.067  4.882  4.825  5.035  ...   \n",
       "33  D11     S1      128  3.382  4.016  4.424  5.135  5.287  5.212  5.205  ...   \n",
       "34   E1  Blank        1  3.977  3.618   4.07   3.96  4.618  5.287  5.287  ...   \n",
       "35   E3  Blank        1  3.393  3.726  4.098  3.924  4.907   4.66  5.287  ...   \n",
       "36   E5  Blank        1  3.439  3.322  4.038  5.287  5.287  4.939  5.287  ...   \n",
       "\n",
       "9     782    784    786    788    790    792    794    796    798    800  \n",
       "10  0.061  0.061  0.062   0.06   0.06   0.06  0.061   0.06   0.06  0.059  \n",
       "11  0.054  0.054  0.055  0.053  0.053  0.053  0.055  0.053  0.053  0.052  \n",
       "12  0.053  0.054  0.052  0.051  0.051  0.051  0.052   0.05   0.05   0.05  \n",
       "13  0.051   0.05   0.05  0.049  0.049   0.05   0.05  0.049  0.051  0.048  \n",
       "14  0.053  0.052  0.052  0.051  0.051  0.052  0.052  0.052  0.052   0.05  \n",
       "15  0.052  0.051  0.051  0.051   0.05  0.051  0.051  0.051  0.052  0.051  \n",
       "16  0.053  0.053  0.053  0.051  0.051  0.051  0.052  0.052  0.051   0.05  \n",
       "17  0.052  0.052  0.052  0.051   0.05  0.051  0.052  0.051  0.052   0.05  \n",
       "18  0.076  0.075  0.075  0.075  0.074  0.074  0.075  0.074  0.073  0.073  \n",
       "19  0.055  0.055  0.054  0.053  0.052  0.053  0.054  0.054  0.053  0.052  \n",
       "20  0.052  0.051  0.051   0.05   0.05   0.05  0.052   0.05  0.051   0.05  \n",
       "21  0.051  0.051  0.051  0.049  0.049   0.05   0.05   0.05   0.05  0.049  \n",
       "22   0.05  0.051  0.049  0.049  0.048  0.049  0.049  0.047  0.049  0.049  \n",
       "23   0.05  0.049  0.049  0.048  0.047  0.048  0.048  0.048  0.049  0.048  \n",
       "24  0.053  0.052  0.053  0.051   0.05  0.051  0.052  0.051  0.051   0.05  \n",
       "25  0.051  0.051  0.051   0.05  0.049   0.05   0.05   0.05  0.051  0.049  \n",
       "26   0.06   0.06  0.059  0.058  0.058  0.058  0.059  0.058  0.059  0.057  \n",
       "27  0.054  0.054  0.055  0.053  0.052  0.053  0.054  0.053  0.053  0.052  \n",
       "28  0.053  0.052  0.053  0.051  0.051  0.052  0.052  0.051  0.053  0.052  \n",
       "29  0.057  0.057  0.057  0.056  0.056  0.056  0.056  0.056  0.057  0.056  \n",
       "30  0.052  0.051  0.052  0.051  0.049  0.051  0.051  0.051  0.052   0.05  \n",
       "31   0.05  0.051  0.051   0.05  0.049  0.049   0.05  0.049   0.05   0.05  \n",
       "32  0.051  0.052  0.051   0.05   0.05  0.051  0.051  0.051  0.051  0.051  \n",
       "33  0.052  0.051  0.051  0.051  0.051  0.051  0.051  0.051  0.051  0.051  \n",
       "34  0.051   0.05  0.049   0.05   0.05   0.05  0.049   0.05   0.05  0.049  \n",
       "35  0.052  0.052  0.052   0.05   0.05  0.051  0.051  0.051  0.052   0.05  \n",
       "36  0.049  0.048  0.048  0.047  0.047  0.047  0.048  0.048  0.047  0.047  \n",
       "\n",
       "[27 rows x 294 columns]"
      ]
     },
     "execution_count": 5,
     "metadata": {},
     "output_type": "execute_result"
    }
   ],
   "source": [
    "# make the first row the header\n",
    "# het the first row\n",
    "new_header = df.iloc[0]\n",
    "# take the data less the header row\n",
    "df = df[1:]\n",
    "# set the header row as the df header\n",
    "df.columns = new_header\n",
    "df"
   ]
  },
  {
   "cell_type": "code",
   "execution_count": 13,
   "id": "19cecc4c",
   "metadata": {},
   "outputs": [
    {
     "data": {
      "text/html": [
       "<div>\n",
       "<style scoped>\n",
       "    .dataframe tbody tr th:only-of-type {\n",
       "        vertical-align: middle;\n",
       "    }\n",
       "\n",
       "    .dataframe tbody tr th {\n",
       "        vertical-align: top;\n",
       "    }\n",
       "\n",
       "    .dataframe thead th {\n",
       "        text-align: right;\n",
       "    }\n",
       "</style>\n",
       "<table border=\"1\" class=\"dataframe\">\n",
       "  <thead>\n",
       "    <tr style=\"text-align: right;\">\n",
       "      <th></th>\n",
       "      <th>Sample</th>\n",
       "      <th>Dilution</th>\n",
       "      <th>Wavelength</th>\n",
       "      <th>Mean Absorbance</th>\n",
       "      <th>Std Absorbance</th>\n",
       "    </tr>\n",
       "  </thead>\n",
       "  <tbody>\n",
       "    <tr>\n",
       "      <th>0</th>\n",
       "      <td>S1</td>\n",
       "      <td>32</td>\n",
       "      <td>220</td>\n",
       "      <td>3.285667</td>\n",
       "      <td>0.182746</td>\n",
       "    </tr>\n",
       "    <tr>\n",
       "      <th>1</th>\n",
       "      <td>S1</td>\n",
       "      <td>32</td>\n",
       "      <td>222</td>\n",
       "      <td>3.717000</td>\n",
       "      <td>0.240101</td>\n",
       "    </tr>\n",
       "    <tr>\n",
       "      <th>2</th>\n",
       "      <td>S1</td>\n",
       "      <td>32</td>\n",
       "      <td>224</td>\n",
       "      <td>4.035000</td>\n",
       "      <td>0.223432</td>\n",
       "    </tr>\n",
       "    <tr>\n",
       "      <th>3</th>\n",
       "      <td>S1</td>\n",
       "      <td>32</td>\n",
       "      <td>226</td>\n",
       "      <td>4.168667</td>\n",
       "      <td>0.223437</td>\n",
       "    </tr>\n",
       "    <tr>\n",
       "      <th>4</th>\n",
       "      <td>S1</td>\n",
       "      <td>32</td>\n",
       "      <td>228</td>\n",
       "      <td>5.018333</td>\n",
       "      <td>0.203400</td>\n",
       "    </tr>\n",
       "    <tr>\n",
       "      <th>...</th>\n",
       "      <td>...</td>\n",
       "      <td>...</td>\n",
       "      <td>...</td>\n",
       "      <td>...</td>\n",
       "      <td>...</td>\n",
       "    </tr>\n",
       "    <tr>\n",
       "      <th>2614</th>\n",
       "      <td>Blank</td>\n",
       "      <td>1</td>\n",
       "      <td>792</td>\n",
       "      <td>0.049333</td>\n",
       "      <td>0.001700</td>\n",
       "    </tr>\n",
       "    <tr>\n",
       "      <th>2615</th>\n",
       "      <td>Blank</td>\n",
       "      <td>1</td>\n",
       "      <td>794</td>\n",
       "      <td>0.049333</td>\n",
       "      <td>0.001247</td>\n",
       "    </tr>\n",
       "    <tr>\n",
       "      <th>2616</th>\n",
       "      <td>Blank</td>\n",
       "      <td>1</td>\n",
       "      <td>796</td>\n",
       "      <td>0.049667</td>\n",
       "      <td>0.001247</td>\n",
       "    </tr>\n",
       "    <tr>\n",
       "      <th>2617</th>\n",
       "      <td>Blank</td>\n",
       "      <td>1</td>\n",
       "      <td>798</td>\n",
       "      <td>0.049667</td>\n",
       "      <td>0.002055</td>\n",
       "    </tr>\n",
       "    <tr>\n",
       "      <th>2618</th>\n",
       "      <td>Blank</td>\n",
       "      <td>1</td>\n",
       "      <td>800</td>\n",
       "      <td>0.048667</td>\n",
       "      <td>0.001247</td>\n",
       "    </tr>\n",
       "  </tbody>\n",
       "</table>\n",
       "<p>2619 rows × 5 columns</p>\n",
       "</div>"
      ],
      "text/plain": [
       "     Sample  Dilution Wavelength  Mean Absorbance  Std Absorbance\n",
       "0        S1        32        220         3.285667        0.182746\n",
       "1        S1        32        222         3.717000        0.240101\n",
       "2        S1        32        224         4.035000        0.223432\n",
       "3        S1        32        226         4.168667        0.223437\n",
       "4        S1        32        228         5.018333        0.203400\n",
       "...     ...       ...        ...              ...             ...\n",
       "2614  Blank         1        792         0.049333        0.001700\n",
       "2615  Blank         1        794         0.049333        0.001247\n",
       "2616  Blank         1        796         0.049667        0.001247\n",
       "2617  Blank         1        798         0.049667        0.002055\n",
       "2618  Blank         1        800         0.048667        0.001247\n",
       "\n",
       "[2619 rows x 5 columns]"
      ]
     },
     "execution_count": 13,
     "metadata": {},
     "output_type": "execute_result"
    }
   ],
   "source": [
    "# construct new dataframe\n",
    "# new columns Sample / Dilution / Wavelength / Mean Absorbance / Std Absorbance\n",
    "# for each sample (e.g. S1 and Blank)\n",
    "samples = list(set(df[\"Sample\"]))\n",
    "# for each Dilution\n",
    "dilutions = list(set(df[\"Dilution\"]))\n",
    "# for each wavelength and convert to string to get columns\n",
    "wavelengths = list(np.arange(220, 802, 2))\n",
    "wavelengths = [str(x) for x in wavelengths]\n",
    "# loop through samples, dilutions, and wavelengths to get new dataframe\n",
    "cleaned_df = []\n",
    "for sample in samples:\n",
    "    sample_df = df[df[\"Sample\"] == sample]\n",
    "    for dilution in dilutions:\n",
    "        if sample == \"Blank\":\n",
    "            if dilution != 1:\n",
    "                continue\n",
    "        dilution_df = sample_df[sample_df[\"Dilution\"] == dilution]\n",
    "        for wavelength in wavelengths:\n",
    "            # list of wavelengths for specific sample and dilution\n",
    "            w_lengths = dilution_df[wavelength].tolist()\n",
    "            w_lengths = [float(x) for x in w_lengths]\n",
    "            new_row = [sample, dilution, wavelength, np.mean(w_lengths), np.std(w_lengths)]\n",
    "            # append to master df\n",
    "            cleaned_df.append(new_row)\n",
    "cleaned_df = pd.DataFrame(data=master_df, columns=[\"Sample\", \"Dilution\", \"Wavelength\", \"Mean Absorbance\", \"Std Absorbance\"])\n",
    "cleaned_df"
   ]
  },
  {
   "cell_type": "markdown",
   "id": "ae186d72",
   "metadata": {},
   "source": [
    "# Plots for the raw data"
   ]
  },
  {
   "cell_type": "code",
   "execution_count": 66,
   "id": "6e9792d7",
   "metadata": {},
   "outputs": [],
   "source": [
    "concentration={\n",
    "    \"1\": \"50.000 mg/L\",\n",
    "    \"2\": \"25.000 mg/L\",\n",
    "    \"4\": \"12.500 mg/L\",\n",
    "    \"8\": \"6.250 mg/L\",\n",
    "    \"16\": \"3.125 mg/L\",\n",
    "    \"32\": \"1.563 mg/L\",\n",
    "    \"64\": \"0.781 mg/L\",\n",
    "    \"128\": \"0.391 mg/L\",\n",
    "    \"Blank\": \"Solvent only\"\n",
    "}\n",
    "def plot_graph(sample, dilution, conc):\n",
    "    graph_df = cleaned_df[cleaned_df[\"Sample\"] == sample]\n",
    "    graph_df = graph_df[graph_df[\"Dilution\"] == dilution]\n",
    "    fig = px.scatter(graph_df, x=\"Wavelength\", y=\"Mean Absorbance\", \n",
    "                     title=\"How Absorbance Varies with Wavelength for Sample \" + sample +\": \" + concentration[str(conc)],\n",
    "                     error_y=\"Std Absorbance\",\n",
    "                     labels={\n",
    "                        \"Wavelength\": \"Wavelength / nm\",\n",
    "                        \"Mean Absorbance\": \"Absorbance\",\n",
    "                      })\n",
    "    fig.update_traces(marker=dict(size=8, line=dict(width=2, color='DarkSlateGrey')), selector=dict(mode='markers'))\n",
    "    fig.update_layout(\n",
    "            font=dict(\n",
    "                family=\"Calibri\",\n",
    "                size=14,\n",
    "                )\n",
    "            )\n",
    "    fig.update_layout(yaxis_range=[0, 6])\n",
    "    fig.show()"
   ]
  },
  {
   "cell_type": "code",
   "execution_count": 67,
   "id": "17daea26",
   "metadata": {},
   "outputs": [
    {
     "data": {
      "application/vnd.plotly.v1+json": {
       "config": {
        "plotlyServerURL": "https://plot.ly"
       },
       "data": [
        {
         "error_y": {
          "array": [
           0.26512387042035024,
           0.170781211560939,
           0.02451303508113349,
           0.6342093940927993,
           0.273959039923043,
           0.25648781647477903,
           0,
           0,
           0.17092948513609008,
           0,
           0,
           0.09658502299356068,
           0,
           0,
           0,
           0,
           0,
           0,
           0,
           0.019798989873223243,
           0,
           0,
           0,
           0,
           0,
           0.028755675768252904,
           0.04949747468305811,
           0.054682924411759516,
           0.04974825513411403,
           0.05508982563857756,
           0.09647221822311788,
           0.10841996536103905,
           0.09500994100034417,
           0.08008467740807565,
           0.06656492236072152,
           0.06300440901679466,
           0.06256907294254004,
           0.04639683897278635,
           0.029261275129806304,
           0.020677416559027783,
           0.016213848676020427,
           0.013366625103842292,
           0.011775681155103787,
           0.010530379332620887,
           0.009741092797468289,
           0.00910433352249845,
           0.00895668589502961,
           0.007874007874011818,
           0.007318166133366696,
           0.007118052168020855,
           0.006649979114420007,
           0.0068475461947247185,
           0.006377042156569656,
           0.005906681715556443,
           0.006182412330330475,
           0.006182412330330475,
           0.005249338582674533,
           0.00509901951359279,
           0.004189935029992182,
           0.004109609335312642,
           0.0041096093353126546,
           0.0041096093353126546,
           0.0041096093353126546,
           0.0036817870057290905,
           0.0037416573867739326,
           0.0036817870057290905,
           0.0032659863237109073,
           0.0036817870057290905,
           0.0032998316455372183,
           0.003299831645537225,
           0.002867441755680878,
           0.0021602468994692888,
           0.002449489742783175,
           0.002054804667656322,
           0.0021602468994692888,
           0.0021602468994692888,
           0.0020548046676563273,
           0.0016329931618554536,
           0.0016996731711975965,
           0.0018856180831641283,
           0.0014142135623730965,
           0.0014142135623730965,
           0.0009428090415820641,
           0.0012472191289246422,
           0.0012472191289246432,
           0.0012472191289246482,
           0.0016329931618554536,
           0.0009428090415820641,
           0.0008164965809277268,
           0.0012472191289246482,
           0.0012472191289246482,
           0.0008164965809277268,
           0.0008164965809277268,
           0.0012472191289246482,
           0.0012472191289246482,
           0.0009428090415820641,
           0.0012472191289246482,
           0.0012472191289246482,
           0.0012472191289246456,
           0.0008164965809277268,
           0.0008164965809277268,
           0.0009428090415820641,
           0.0012472191289246482,
           0.0008164965809277268,
           0.0008164965809277268,
           0.0009428090415820641,
           0.0009428090415820641,
           0.0012472191289246482,
           0.0008164965809277268,
           0.0012472191289246482,
           0.0008164965809277268,
           0.0012472191289246482,
           0.0008164965809277268,
           0.0008164965809277268,
           0.0008164965809277268,
           0.0008164965809277268,
           0.0008164965809277268,
           0.0008164965809277268,
           0.0008164965809277268,
           0.0009428090415820609,
           0.0008164965809277268,
           0.0008164965809277268,
           0.0008164965809277268,
           0.00047140452079103207,
           0.0008164965809277268,
           0.00047140452079103207,
           0.0008164965809277268,
           0.0008164965809277268,
           0.00047140452079103207,
           0.0008164965809277268,
           0.0008164965809277239,
           0.0014142135623730961,
           0.0014142135623730961,
           0.0016996731711975941,
           0.0012472191289246452,
           0.0012472191289246452,
           0.0012472191289246452,
           0.0008164965809277268,
           0.0008164965809277268,
           0.00047140452079103207,
           0.0008164965809277268,
           0.0009428090415820641,
           0.0009428090415820641,
           0.00047140452079103207,
           0.0008164965809277268,
           0.0008164965809277268,
           0.00047140452079103207,
           0.0008164965809277268,
           0.0009428090415820609,
           0.0008164965809277239,
           0.0012472191289246458,
           0.0008164965809277239,
           0.0012472191289246458,
           0.0014142135623730961,
           0.0014142135623730961,
           0.0012472191289246458,
           0.0012472191289246482,
           0.0012472191289246458,
           0.0012472191289246458,
           0.0008164965809277239,
           0.0012472191289246482,
           0.0016329931618554506,
           0.0016329931618554506,
           0.0012472191289246452,
           0.0008164965809277268,
           0.0009428090415820641,
           0.0008164965809277239,
           0.0009428090415820641,
           0.0009428090415820641,
           0.0008164965809277268,
           0.00047140452079103207,
           0.0009428090415820641,
           0.0008164965809277239,
           0.0008164965809277239,
           0.0008164965809277239,
           0.0008164965809277239,
           0.0008164965809277239,
           0.0008164965809277239,
           0.0008164965809277239,
           0.0009428090415820641,
           0.0008164965809277268,
           0.00047140452079103207,
           0.0008164965809277239,
           0.0008164965809277239,
           0.0008164965809277239,
           0.0008164965809277239,
           0.0012472191289246452,
           0.0008164965809277239,
           0.0008164965809277268,
           0.0009428090415820609,
           0.0008164965809277239,
           0.0008164965809277268,
           0.0012472191289246482,
           0.0008164965809277239,
           0.0012472191289246452,
           0.00047140452079103207,
           0.0008164965809277239,
           0.0009428090415820609,
           0.0009428090415820609,
           0.0008164965809277239,
           0.0008164965809277239,
           0.0008164965809277239,
           0.0012472191289246452,
           0.0012472191289246452,
           0.0012472191289246452,
           0.0008164965809277268,
           0.0008164965809277239,
           0.0008164965809277239,
           0.0008164965809277239,
           0.0009428090415820609,
           0.0008164965809277239,
           0.0009428090415820609,
           0.0012472191289246458,
           0.0008164965809277239,
           0.0012472191289246452,
           0.0008164965809277239,
           0.0012472191289246458,
           0.0012472191289246458,
           0.0008164965809277268,
           0.0012472191289246482,
           0.0008164965809277268,
           0.0008164965809277268,
           0.00047140452079103207,
           0.0008164965809277268,
           0.0008164965809277268,
           0.0008164965809277268,
           0.0008164965809277268,
           0.0008164965809277268,
           0.0012472191289246482,
           0.0008164965809277268,
           0.0008164965809277268,
           0.0009428090415820641,
           0.0009428090415820641,
           0.00047140452079103207,
           0.0008164965809277268,
           0.0008164965809277268,
           0.0012472191289246482,
           0.0016996731711975965,
           0.0012472191289246482,
           0.0009428090415820641,
           0.0016329931618554536,
           0.0012472191289246482,
           0.0012472191289246482,
           0.00047140452079103207,
           0.00047140452079103207,
           0.00047140452079103207,
           0.0012472191289246482,
           0.0012472191289246482,
           0.0012472191289246482,
           0.0012472191289246452,
           0.0008164965809277268,
           0.0009428090415820641,
           0.0008164965809277268,
           0.0009428090415820641,
           0.0012472191289246482,
           0.0008164965809277268,
           0.0012472191289246482,
           0.0008164965809277268,
           0.0009428090415820609,
           0.0008164965809277239,
           0.0012472191289246482,
           0.0008164965809277239,
           0.0008164965809277239,
           0.0008164965809277239,
           0.0012472191289246458,
           0.0009428090415820609,
           0.0008164965809277239,
           0.0008164965809277239,
           0.0012472191289246452,
           0.0012472191289246452,
           0.0012472191289246458,
           0.0012472191289246458,
           0.0012472191289246452,
           0.0008164965809277239,
           0.0004714045207910288,
           0.0008164965809277239,
           0.0012472191289246452,
           0.0009428090415820609,
           0.0009428090415820641,
           0.0009428090415820641,
           0.0012472191289246452,
           0.0012472191289246452,
           0.0016329931618554506,
           0.0016996731711975933,
           0.0014142135623730961,
           0.0014142135623730961,
           0.0016996731711975941,
           0.0012472191289246452,
           0.0012472191289246458,
           0.0020548046676563247,
           0.0012472191289246482
          ]
         },
         "hovertemplate": "Wavelength / nm=%{x}<br>Absorbance=%{y}<extra></extra>",
         "legendgroup": "",
         "marker": {
          "color": "#636efa",
          "line": {
           "color": "DarkSlateGrey",
           "width": 2
          },
          "size": 8,
          "symbol": "circle"
         },
         "mode": "markers",
         "name": "",
         "orientation": "v",
         "showlegend": false,
         "type": "scatter",
         "x": [
          "220",
          "222",
          "224",
          "226",
          "228",
          "230",
          "232",
          "234",
          "236",
          "238",
          "240",
          "242",
          "244",
          "246",
          "248",
          "250",
          "252",
          "254",
          "256",
          "258",
          "260",
          "262",
          "264",
          "266",
          "268",
          "270",
          "272",
          "274",
          "276",
          "278",
          "280",
          "282",
          "284",
          "286",
          "288",
          "290",
          "292",
          "294",
          "296",
          "298",
          "300",
          "302",
          "304",
          "306",
          "308",
          "310",
          "312",
          "314",
          "316",
          "318",
          "320",
          "322",
          "324",
          "326",
          "328",
          "330",
          "332",
          "334",
          "336",
          "338",
          "340",
          "342",
          "344",
          "346",
          "348",
          "350",
          "352",
          "354",
          "356",
          "358",
          "360",
          "362",
          "364",
          "366",
          "368",
          "370",
          "372",
          "374",
          "376",
          "378",
          "380",
          "382",
          "384",
          "386",
          "388",
          "390",
          "392",
          "394",
          "396",
          "398",
          "400",
          "402",
          "404",
          "406",
          "408",
          "410",
          "412",
          "414",
          "416",
          "418",
          "420",
          "422",
          "424",
          "426",
          "428",
          "430",
          "432",
          "434",
          "436",
          "438",
          "440",
          "442",
          "444",
          "446",
          "448",
          "450",
          "452",
          "454",
          "456",
          "458",
          "460",
          "462",
          "464",
          "466",
          "468",
          "470",
          "472",
          "474",
          "476",
          "478",
          "480",
          "482",
          "484",
          "486",
          "488",
          "490",
          "492",
          "494",
          "496",
          "498",
          "500",
          "502",
          "504",
          "506",
          "508",
          "510",
          "512",
          "514",
          "516",
          "518",
          "520",
          "522",
          "524",
          "526",
          "528",
          "530",
          "532",
          "534",
          "536",
          "538",
          "540",
          "542",
          "544",
          "546",
          "548",
          "550",
          "552",
          "554",
          "556",
          "558",
          "560",
          "562",
          "564",
          "566",
          "568",
          "570",
          "572",
          "574",
          "576",
          "578",
          "580",
          "582",
          "584",
          "586",
          "588",
          "590",
          "592",
          "594",
          "596",
          "598",
          "600",
          "602",
          "604",
          "606",
          "608",
          "610",
          "612",
          "614",
          "616",
          "618",
          "620",
          "622",
          "624",
          "626",
          "628",
          "630",
          "632",
          "634",
          "636",
          "638",
          "640",
          "642",
          "644",
          "646",
          "648",
          "650",
          "652",
          "654",
          "656",
          "658",
          "660",
          "662",
          "664",
          "666",
          "668",
          "670",
          "672",
          "674",
          "676",
          "678",
          "680",
          "682",
          "684",
          "686",
          "688",
          "690",
          "692",
          "694",
          "696",
          "698",
          "700",
          "702",
          "704",
          "706",
          "708",
          "710",
          "712",
          "714",
          "716",
          "718",
          "720",
          "722",
          "724",
          "726",
          "728",
          "730",
          "732",
          "734",
          "736",
          "738",
          "740",
          "742",
          "744",
          "746",
          "748",
          "750",
          "752",
          "754",
          "756",
          "758",
          "760",
          "762",
          "764",
          "766",
          "768",
          "770",
          "772",
          "774",
          "776",
          "778",
          "780",
          "782",
          "784",
          "786",
          "788",
          "790",
          "792",
          "794",
          "796",
          "798",
          "800"
         ],
         "xaxis": "x",
         "y": [
          3.6029999999999998,
          3.5553333333333335,
          4.068666666666666,
          4.390333333333333,
          4.937333333333334,
          4.962,
          5.287,
          5.287,
          5.154333333333334,
          5.287,
          5.287,
          5.207999999999999,
          5.287,
          5.287,
          5.287,
          5.287,
          5.287,
          5.287,
          5.287,
          5.273,
          5.287,
          5.287,
          5.287,
          5.287,
          5.287,
          5.266666666666667,
          5.252,
          5.248333333333334,
          4.808666666666666,
          4.657666666666667,
          4.000333333333334,
          3.1606666666666663,
          2.5613333333333337,
          2.0913333333333335,
          1.6896666666666667,
          1.4636666666666667,
          1.3573333333333333,
          1.091,
          0.8006666666666667,
          0.6206666666666667,
          0.5153333333333333,
          0.45,
          0.41100000000000003,
          0.37366666666666665,
          0.3446666666666667,
          0.3233333333333333,
          0.3076666666666667,
          0.295,
          0.2836666666666667,
          0.272,
          0.25966666666666666,
          0.24933333333333332,
          0.23500000000000001,
          0.22766666666666668,
          0.22033333333333335,
          0.21133333333333335,
          0.20066666666666666,
          0.19000000000000003,
          0.18033333333333332,
          0.17166666666666666,
          0.16466666666666666,
          0.15766666666666665,
          0.14966666666666664,
          0.14533333333333331,
          0.14,
          0.13533333333333333,
          0.13,
          0.12366666666666666,
          0.11833333333333333,
          0.11333333333333334,
          0.10866666666666668,
          0.106,
          0.104,
          0.10066666666666667,
          0.09800000000000002,
          0.09400000000000001,
          0.09166666666666667,
          0.08800000000000001,
          0.08333333333333333,
          0.08066666666666666,
          0.078,
          0.075,
          0.07233333333333332,
          0.07066666666666667,
          0.06966666666666667,
          0.06766666666666667,
          0.066,
          0.06633333333333334,
          0.066,
          0.06533333333333334,
          0.06466666666666666,
          0.063,
          0.062,
          0.06266666666666666,
          0.06233333333333333,
          0.06133333333333333,
          0.06133333333333333,
          0.06033333333333333,
          0.05933333333333333,
          0.057,
          0.056,
          0.05566666666666667,
          0.05566666666666667,
          0.057,
          0.057,
          0.05666666666666667,
          0.05666666666666667,
          0.05633333333333334,
          0.056,
          0.05466666666666667,
          0.054,
          0.05433333333333334,
          0.053,
          0.053,
          0.053,
          0.054,
          0.053,
          0.053,
          0.053,
          0.051333333333333335,
          0.052,
          0.053,
          0.053,
          0.05333333333333334,
          0.054,
          0.05366666666666667,
          0.053,
          0.053,
          0.05266666666666667,
          0.053,
          0.051,
          0.04800000000000001,
          0.04900000000000001,
          0.04933333333333334,
          0.050666666666666665,
          0.050666666666666665,
          0.051666666666666666,
          0.053,
          0.052,
          0.052333333333333336,
          0.053,
          0.05266666666666667,
          0.05266666666666667,
          0.052333333333333336,
          0.052,
          0.052,
          0.051666666666666666,
          0.052,
          0.051333333333333335,
          0.051,
          0.051333333333333335,
          0.051,
          0.04966666666666667,
          0.04800000000000001,
          0.04700000000000001,
          0.04966666666666667,
          0.04866666666666667,
          0.04966666666666667,
          0.04966666666666667,
          0.05000000000000001,
          0.04766666666666667,
          0.04900000000000001,
          0.05000000000000001,
          0.05033333333333334,
          0.052,
          0.051666666666666666,
          0.051,
          0.051666666666666666,
          0.051666666666666666,
          0.052,
          0.051333333333333335,
          0.051666666666666666,
          0.05000000000000001,
          0.05000000000000001,
          0.05000000000000001,
          0.05000000000000001,
          0.05000000000000001,
          0.05000000000000001,
          0.051,
          0.051666666666666666,
          0.052,
          0.051333333333333335,
          0.051,
          0.051,
          0.051,
          0.051,
          0.05033333333333334,
          0.05000000000000001,
          0.04900000000000001,
          0.05066666666666667,
          0.05000000000000001,
          0.04900000000000001,
          0.04833333333333334,
          0.05000000000000001,
          0.04933333333333334,
          0.04966666666666667,
          0.05000000000000001,
          0.05066666666666667,
          0.051333333333333335,
          0.051,
          0.05000000000000001,
          0.05000000000000001,
          0.04933333333333334,
          0.04933333333333334,
          0.04933333333333334,
          0.04900000000000001,
          0.05000000000000001,
          0.05000000000000001,
          0.05000000000000001,
          0.05066666666666667,
          0.05000000000000001,
          0.04966666666666667,
          0.051333333333333335,
          0.05000000000000001,
          0.05033333333333334,
          0.05000000000000001,
          0.04966666666666667,
          0.04966666666666667,
          0.04900000000000001,
          0.04766666666666667,
          0.04800000000000001,
          0.04900000000000001,
          0.04933333333333334,
          0.04900000000000001,
          0.04900000000000001,
          0.04900000000000001,
          0.04800000000000001,
          0.04900000000000001,
          0.04766666666666667,
          0.04700000000000001,
          0.04700000000000001,
          0.04833333333333334,
          0.04833333333333334,
          0.04866666666666667,
          0.04900000000000001,
          0.04800000000000001,
          0.04833333333333334,
          0.04833333333333334,
          0.04566666666666667,
          0.04533333333333334,
          0.04700000000000001,
          0.04766666666666667,
          0.04866666666666667,
          0.04766666666666667,
          0.04866666666666667,
          0.04833333333333334,
          0.04733333333333334,
          0.04833333333333334,
          0.04766666666666667,
          0.04933333333333334,
          0.04800000000000001,
          0.04833333333333334,
          0.04800000000000001,
          0.04866666666666667,
          0.04833333333333334,
          0.04700000000000001,
          0.04833333333333334,
          0.04900000000000001,
          0.050333333333333334,
          0.051,
          0.052333333333333336,
          0.051,
          0.051,
          0.051,
          0.04966666666666667,
          0.050333333333333334,
          0.05000000000000001,
          0.05000000000000001,
          0.050666666666666665,
          0.050666666666666665,
          0.051333333333333335,
          0.051333333333333335,
          0.04933333333333334,
          0.051,
          0.050666666666666665,
          0.05000000000000001,
          0.05033333333333334,
          0.04966666666666667,
          0.04833333333333334,
          0.04933333333333334,
          0.04933333333333334,
          0.050666666666666665,
          0.05000000000000001,
          0.04966666666666667,
          0.04900000000000001,
          0.04900000000000001,
          0.04933333333333334,
          0.04933333333333334,
          0.04966666666666667,
          0.04966666666666667,
          0.04866666666666667
         ],
         "yaxis": "y"
        }
       ],
       "layout": {
        "font": {
         "family": "Calibri",
         "size": 14
        },
        "legend": {
         "tracegroupgap": 0
        },
        "template": {
         "data": {
          "bar": [
           {
            "error_x": {
             "color": "#2a3f5f"
            },
            "error_y": {
             "color": "#2a3f5f"
            },
            "marker": {
             "line": {
              "color": "#E5ECF6",
              "width": 0.5
             },
             "pattern": {
              "fillmode": "overlay",
              "size": 10,
              "solidity": 0.2
             }
            },
            "type": "bar"
           }
          ],
          "barpolar": [
           {
            "marker": {
             "line": {
              "color": "#E5ECF6",
              "width": 0.5
             },
             "pattern": {
              "fillmode": "overlay",
              "size": 10,
              "solidity": 0.2
             }
            },
            "type": "barpolar"
           }
          ],
          "carpet": [
           {
            "aaxis": {
             "endlinecolor": "#2a3f5f",
             "gridcolor": "white",
             "linecolor": "white",
             "minorgridcolor": "white",
             "startlinecolor": "#2a3f5f"
            },
            "baxis": {
             "endlinecolor": "#2a3f5f",
             "gridcolor": "white",
             "linecolor": "white",
             "minorgridcolor": "white",
             "startlinecolor": "#2a3f5f"
            },
            "type": "carpet"
           }
          ],
          "choropleth": [
           {
            "colorbar": {
             "outlinewidth": 0,
             "ticks": ""
            },
            "type": "choropleth"
           }
          ],
          "contour": [
           {
            "colorbar": {
             "outlinewidth": 0,
             "ticks": ""
            },
            "colorscale": [
             [
              0,
              "#0d0887"
             ],
             [
              0.1111111111111111,
              "#46039f"
             ],
             [
              0.2222222222222222,
              "#7201a8"
             ],
             [
              0.3333333333333333,
              "#9c179e"
             ],
             [
              0.4444444444444444,
              "#bd3786"
             ],
             [
              0.5555555555555556,
              "#d8576b"
             ],
             [
              0.6666666666666666,
              "#ed7953"
             ],
             [
              0.7777777777777778,
              "#fb9f3a"
             ],
             [
              0.8888888888888888,
              "#fdca26"
             ],
             [
              1,
              "#f0f921"
             ]
            ],
            "type": "contour"
           }
          ],
          "contourcarpet": [
           {
            "colorbar": {
             "outlinewidth": 0,
             "ticks": ""
            },
            "type": "contourcarpet"
           }
          ],
          "heatmap": [
           {
            "colorbar": {
             "outlinewidth": 0,
             "ticks": ""
            },
            "colorscale": [
             [
              0,
              "#0d0887"
             ],
             [
              0.1111111111111111,
              "#46039f"
             ],
             [
              0.2222222222222222,
              "#7201a8"
             ],
             [
              0.3333333333333333,
              "#9c179e"
             ],
             [
              0.4444444444444444,
              "#bd3786"
             ],
             [
              0.5555555555555556,
              "#d8576b"
             ],
             [
              0.6666666666666666,
              "#ed7953"
             ],
             [
              0.7777777777777778,
              "#fb9f3a"
             ],
             [
              0.8888888888888888,
              "#fdca26"
             ],
             [
              1,
              "#f0f921"
             ]
            ],
            "type": "heatmap"
           }
          ],
          "heatmapgl": [
           {
            "colorbar": {
             "outlinewidth": 0,
             "ticks": ""
            },
            "colorscale": [
             [
              0,
              "#0d0887"
             ],
             [
              0.1111111111111111,
              "#46039f"
             ],
             [
              0.2222222222222222,
              "#7201a8"
             ],
             [
              0.3333333333333333,
              "#9c179e"
             ],
             [
              0.4444444444444444,
              "#bd3786"
             ],
             [
              0.5555555555555556,
              "#d8576b"
             ],
             [
              0.6666666666666666,
              "#ed7953"
             ],
             [
              0.7777777777777778,
              "#fb9f3a"
             ],
             [
              0.8888888888888888,
              "#fdca26"
             ],
             [
              1,
              "#f0f921"
             ]
            ],
            "type": "heatmapgl"
           }
          ],
          "histogram": [
           {
            "marker": {
             "pattern": {
              "fillmode": "overlay",
              "size": 10,
              "solidity": 0.2
             }
            },
            "type": "histogram"
           }
          ],
          "histogram2d": [
           {
            "colorbar": {
             "outlinewidth": 0,
             "ticks": ""
            },
            "colorscale": [
             [
              0,
              "#0d0887"
             ],
             [
              0.1111111111111111,
              "#46039f"
             ],
             [
              0.2222222222222222,
              "#7201a8"
             ],
             [
              0.3333333333333333,
              "#9c179e"
             ],
             [
              0.4444444444444444,
              "#bd3786"
             ],
             [
              0.5555555555555556,
              "#d8576b"
             ],
             [
              0.6666666666666666,
              "#ed7953"
             ],
             [
              0.7777777777777778,
              "#fb9f3a"
             ],
             [
              0.8888888888888888,
              "#fdca26"
             ],
             [
              1,
              "#f0f921"
             ]
            ],
            "type": "histogram2d"
           }
          ],
          "histogram2dcontour": [
           {
            "colorbar": {
             "outlinewidth": 0,
             "ticks": ""
            },
            "colorscale": [
             [
              0,
              "#0d0887"
             ],
             [
              0.1111111111111111,
              "#46039f"
             ],
             [
              0.2222222222222222,
              "#7201a8"
             ],
             [
              0.3333333333333333,
              "#9c179e"
             ],
             [
              0.4444444444444444,
              "#bd3786"
             ],
             [
              0.5555555555555556,
              "#d8576b"
             ],
             [
              0.6666666666666666,
              "#ed7953"
             ],
             [
              0.7777777777777778,
              "#fb9f3a"
             ],
             [
              0.8888888888888888,
              "#fdca26"
             ],
             [
              1,
              "#f0f921"
             ]
            ],
            "type": "histogram2dcontour"
           }
          ],
          "mesh3d": [
           {
            "colorbar": {
             "outlinewidth": 0,
             "ticks": ""
            },
            "type": "mesh3d"
           }
          ],
          "parcoords": [
           {
            "line": {
             "colorbar": {
              "outlinewidth": 0,
              "ticks": ""
             }
            },
            "type": "parcoords"
           }
          ],
          "pie": [
           {
            "automargin": true,
            "type": "pie"
           }
          ],
          "scatter": [
           {
            "marker": {
             "colorbar": {
              "outlinewidth": 0,
              "ticks": ""
             }
            },
            "type": "scatter"
           }
          ],
          "scatter3d": [
           {
            "line": {
             "colorbar": {
              "outlinewidth": 0,
              "ticks": ""
             }
            },
            "marker": {
             "colorbar": {
              "outlinewidth": 0,
              "ticks": ""
             }
            },
            "type": "scatter3d"
           }
          ],
          "scattercarpet": [
           {
            "marker": {
             "colorbar": {
              "outlinewidth": 0,
              "ticks": ""
             }
            },
            "type": "scattercarpet"
           }
          ],
          "scattergeo": [
           {
            "marker": {
             "colorbar": {
              "outlinewidth": 0,
              "ticks": ""
             }
            },
            "type": "scattergeo"
           }
          ],
          "scattergl": [
           {
            "marker": {
             "colorbar": {
              "outlinewidth": 0,
              "ticks": ""
             }
            },
            "type": "scattergl"
           }
          ],
          "scattermapbox": [
           {
            "marker": {
             "colorbar": {
              "outlinewidth": 0,
              "ticks": ""
             }
            },
            "type": "scattermapbox"
           }
          ],
          "scatterpolar": [
           {
            "marker": {
             "colorbar": {
              "outlinewidth": 0,
              "ticks": ""
             }
            },
            "type": "scatterpolar"
           }
          ],
          "scatterpolargl": [
           {
            "marker": {
             "colorbar": {
              "outlinewidth": 0,
              "ticks": ""
             }
            },
            "type": "scatterpolargl"
           }
          ],
          "scatterternary": [
           {
            "marker": {
             "colorbar": {
              "outlinewidth": 0,
              "ticks": ""
             }
            },
            "type": "scatterternary"
           }
          ],
          "surface": [
           {
            "colorbar": {
             "outlinewidth": 0,
             "ticks": ""
            },
            "colorscale": [
             [
              0,
              "#0d0887"
             ],
             [
              0.1111111111111111,
              "#46039f"
             ],
             [
              0.2222222222222222,
              "#7201a8"
             ],
             [
              0.3333333333333333,
              "#9c179e"
             ],
             [
              0.4444444444444444,
              "#bd3786"
             ],
             [
              0.5555555555555556,
              "#d8576b"
             ],
             [
              0.6666666666666666,
              "#ed7953"
             ],
             [
              0.7777777777777778,
              "#fb9f3a"
             ],
             [
              0.8888888888888888,
              "#fdca26"
             ],
             [
              1,
              "#f0f921"
             ]
            ],
            "type": "surface"
           }
          ],
          "table": [
           {
            "cells": {
             "fill": {
              "color": "#EBF0F8"
             },
             "line": {
              "color": "white"
             }
            },
            "header": {
             "fill": {
              "color": "#C8D4E3"
             },
             "line": {
              "color": "white"
             }
            },
            "type": "table"
           }
          ]
         },
         "layout": {
          "annotationdefaults": {
           "arrowcolor": "#2a3f5f",
           "arrowhead": 0,
           "arrowwidth": 1
          },
          "autotypenumbers": "strict",
          "coloraxis": {
           "colorbar": {
            "outlinewidth": 0,
            "ticks": ""
           }
          },
          "colorscale": {
           "diverging": [
            [
             0,
             "#8e0152"
            ],
            [
             0.1,
             "#c51b7d"
            ],
            [
             0.2,
             "#de77ae"
            ],
            [
             0.3,
             "#f1b6da"
            ],
            [
             0.4,
             "#fde0ef"
            ],
            [
             0.5,
             "#f7f7f7"
            ],
            [
             0.6,
             "#e6f5d0"
            ],
            [
             0.7,
             "#b8e186"
            ],
            [
             0.8,
             "#7fbc41"
            ],
            [
             0.9,
             "#4d9221"
            ],
            [
             1,
             "#276419"
            ]
           ],
           "sequential": [
            [
             0,
             "#0d0887"
            ],
            [
             0.1111111111111111,
             "#46039f"
            ],
            [
             0.2222222222222222,
             "#7201a8"
            ],
            [
             0.3333333333333333,
             "#9c179e"
            ],
            [
             0.4444444444444444,
             "#bd3786"
            ],
            [
             0.5555555555555556,
             "#d8576b"
            ],
            [
             0.6666666666666666,
             "#ed7953"
            ],
            [
             0.7777777777777778,
             "#fb9f3a"
            ],
            [
             0.8888888888888888,
             "#fdca26"
            ],
            [
             1,
             "#f0f921"
            ]
           ],
           "sequentialminus": [
            [
             0,
             "#0d0887"
            ],
            [
             0.1111111111111111,
             "#46039f"
            ],
            [
             0.2222222222222222,
             "#7201a8"
            ],
            [
             0.3333333333333333,
             "#9c179e"
            ],
            [
             0.4444444444444444,
             "#bd3786"
            ],
            [
             0.5555555555555556,
             "#d8576b"
            ],
            [
             0.6666666666666666,
             "#ed7953"
            ],
            [
             0.7777777777777778,
             "#fb9f3a"
            ],
            [
             0.8888888888888888,
             "#fdca26"
            ],
            [
             1,
             "#f0f921"
            ]
           ]
          },
          "colorway": [
           "#636efa",
           "#EF553B",
           "#00cc96",
           "#ab63fa",
           "#FFA15A",
           "#19d3f3",
           "#FF6692",
           "#B6E880",
           "#FF97FF",
           "#FECB52"
          ],
          "font": {
           "color": "#2a3f5f"
          },
          "geo": {
           "bgcolor": "white",
           "lakecolor": "white",
           "landcolor": "#E5ECF6",
           "showlakes": true,
           "showland": true,
           "subunitcolor": "white"
          },
          "hoverlabel": {
           "align": "left"
          },
          "hovermode": "closest",
          "mapbox": {
           "style": "light"
          },
          "paper_bgcolor": "white",
          "plot_bgcolor": "#E5ECF6",
          "polar": {
           "angularaxis": {
            "gridcolor": "white",
            "linecolor": "white",
            "ticks": ""
           },
           "bgcolor": "#E5ECF6",
           "radialaxis": {
            "gridcolor": "white",
            "linecolor": "white",
            "ticks": ""
           }
          },
          "scene": {
           "xaxis": {
            "backgroundcolor": "#E5ECF6",
            "gridcolor": "white",
            "gridwidth": 2,
            "linecolor": "white",
            "showbackground": true,
            "ticks": "",
            "zerolinecolor": "white"
           },
           "yaxis": {
            "backgroundcolor": "#E5ECF6",
            "gridcolor": "white",
            "gridwidth": 2,
            "linecolor": "white",
            "showbackground": true,
            "ticks": "",
            "zerolinecolor": "white"
           },
           "zaxis": {
            "backgroundcolor": "#E5ECF6",
            "gridcolor": "white",
            "gridwidth": 2,
            "linecolor": "white",
            "showbackground": true,
            "ticks": "",
            "zerolinecolor": "white"
           }
          },
          "shapedefaults": {
           "line": {
            "color": "#2a3f5f"
           }
          },
          "ternary": {
           "aaxis": {
            "gridcolor": "white",
            "linecolor": "white",
            "ticks": ""
           },
           "baxis": {
            "gridcolor": "white",
            "linecolor": "white",
            "ticks": ""
           },
           "bgcolor": "#E5ECF6",
           "caxis": {
            "gridcolor": "white",
            "linecolor": "white",
            "ticks": ""
           }
          },
          "title": {
           "x": 0.05
          },
          "xaxis": {
           "automargin": true,
           "gridcolor": "white",
           "linecolor": "white",
           "ticks": "",
           "title": {
            "standoff": 15
           },
           "zerolinecolor": "white",
           "zerolinewidth": 2
          },
          "yaxis": {
           "automargin": true,
           "gridcolor": "white",
           "linecolor": "white",
           "ticks": "",
           "title": {
            "standoff": 15
           },
           "zerolinecolor": "white",
           "zerolinewidth": 2
          }
         }
        },
        "title": {
         "text": "How Absorbance Varies with Wavelength for Sample Blank: Solvent only"
        },
        "xaxis": {
         "anchor": "y",
         "domain": [
          0,
          1
         ],
         "title": {
          "text": "Wavelength / nm"
         }
        },
        "yaxis": {
         "anchor": "x",
         "domain": [
          0,
          1
         ],
         "range": [
          0,
          6
         ],
         "title": {
          "text": "Absorbance"
         }
        }
       }
      },
      "text/html": [
       "<div>                            <div id=\"3e4ca88f-0f3b-4c04-9600-57b855b1fd9c\" class=\"plotly-graph-div\" style=\"height:525px; width:100%;\"></div>            <script type=\"text/javascript\">                require([\"plotly\"], function(Plotly) {                    window.PLOTLYENV=window.PLOTLYENV || {};                                    if (document.getElementById(\"3e4ca88f-0f3b-4c04-9600-57b855b1fd9c\")) {                    Plotly.newPlot(                        \"3e4ca88f-0f3b-4c04-9600-57b855b1fd9c\",                        [{\"error_y\":{\"array\":[0.26512387042035024,0.170781211560939,0.02451303508113349,0.6342093940927993,0.273959039923043,0.25648781647477903,0.0,0.0,0.17092948513609008,0.0,0.0,0.09658502299356068,0.0,0.0,0.0,0.0,0.0,0.0,0.0,0.019798989873223243,0.0,0.0,0.0,0.0,0.0,0.028755675768252904,0.04949747468305811,0.054682924411759516,0.04974825513411403,0.05508982563857756,0.09647221822311788,0.10841996536103905,0.09500994100034417,0.08008467740807565,0.06656492236072152,0.06300440901679466,0.06256907294254004,0.04639683897278635,0.029261275129806304,0.020677416559027783,0.016213848676020427,0.013366625103842292,0.011775681155103787,0.010530379332620887,0.009741092797468289,0.00910433352249845,0.00895668589502961,0.007874007874011818,0.007318166133366696,0.007118052168020855,0.006649979114420007,0.0068475461947247185,0.006377042156569656,0.005906681715556443,0.006182412330330475,0.006182412330330475,0.005249338582674533,0.00509901951359279,0.004189935029992182,0.004109609335312642,0.0041096093353126546,0.0041096093353126546,0.0041096093353126546,0.0036817870057290905,0.0037416573867739326,0.0036817870057290905,0.0032659863237109073,0.0036817870057290905,0.0032998316455372183,0.003299831645537225,0.002867441755680878,0.0021602468994692888,0.002449489742783175,0.002054804667656322,0.0021602468994692888,0.0021602468994692888,0.0020548046676563273,0.0016329931618554536,0.0016996731711975965,0.0018856180831641283,0.0014142135623730965,0.0014142135623730965,0.0009428090415820641,0.0012472191289246422,0.0012472191289246432,0.0012472191289246482,0.0016329931618554536,0.0009428090415820641,0.0008164965809277268,0.0012472191289246482,0.0012472191289246482,0.0008164965809277268,0.0008164965809277268,0.0012472191289246482,0.0012472191289246482,0.0009428090415820641,0.0012472191289246482,0.0012472191289246482,0.0012472191289246456,0.0008164965809277268,0.0008164965809277268,0.0009428090415820641,0.0012472191289246482,0.0008164965809277268,0.0008164965809277268,0.0009428090415820641,0.0009428090415820641,0.0012472191289246482,0.0008164965809277268,0.0012472191289246482,0.0008164965809277268,0.0012472191289246482,0.0008164965809277268,0.0008164965809277268,0.0008164965809277268,0.0008164965809277268,0.0008164965809277268,0.0008164965809277268,0.0008164965809277268,0.0009428090415820609,0.0008164965809277268,0.0008164965809277268,0.0008164965809277268,0.00047140452079103207,0.0008164965809277268,0.00047140452079103207,0.0008164965809277268,0.0008164965809277268,0.00047140452079103207,0.0008164965809277268,0.0008164965809277239,0.0014142135623730961,0.0014142135623730961,0.0016996731711975941,0.0012472191289246452,0.0012472191289246452,0.0012472191289246452,0.0008164965809277268,0.0008164965809277268,0.00047140452079103207,0.0008164965809277268,0.0009428090415820641,0.0009428090415820641,0.00047140452079103207,0.0008164965809277268,0.0008164965809277268,0.00047140452079103207,0.0008164965809277268,0.0009428090415820609,0.0008164965809277239,0.0012472191289246458,0.0008164965809277239,0.0012472191289246458,0.0014142135623730961,0.0014142135623730961,0.0012472191289246458,0.0012472191289246482,0.0012472191289246458,0.0012472191289246458,0.0008164965809277239,0.0012472191289246482,0.0016329931618554506,0.0016329931618554506,0.0012472191289246452,0.0008164965809277268,0.0009428090415820641,0.0008164965809277239,0.0009428090415820641,0.0009428090415820641,0.0008164965809277268,0.00047140452079103207,0.0009428090415820641,0.0008164965809277239,0.0008164965809277239,0.0008164965809277239,0.0008164965809277239,0.0008164965809277239,0.0008164965809277239,0.0008164965809277239,0.0009428090415820641,0.0008164965809277268,0.00047140452079103207,0.0008164965809277239,0.0008164965809277239,0.0008164965809277239,0.0008164965809277239,0.0012472191289246452,0.0008164965809277239,0.0008164965809277268,0.0009428090415820609,0.0008164965809277239,0.0008164965809277268,0.0012472191289246482,0.0008164965809277239,0.0012472191289246452,0.00047140452079103207,0.0008164965809277239,0.0009428090415820609,0.0009428090415820609,0.0008164965809277239,0.0008164965809277239,0.0008164965809277239,0.0012472191289246452,0.0012472191289246452,0.0012472191289246452,0.0008164965809277268,0.0008164965809277239,0.0008164965809277239,0.0008164965809277239,0.0009428090415820609,0.0008164965809277239,0.0009428090415820609,0.0012472191289246458,0.0008164965809277239,0.0012472191289246452,0.0008164965809277239,0.0012472191289246458,0.0012472191289246458,0.0008164965809277268,0.0012472191289246482,0.0008164965809277268,0.0008164965809277268,0.00047140452079103207,0.0008164965809277268,0.0008164965809277268,0.0008164965809277268,0.0008164965809277268,0.0008164965809277268,0.0012472191289246482,0.0008164965809277268,0.0008164965809277268,0.0009428090415820641,0.0009428090415820641,0.00047140452079103207,0.0008164965809277268,0.0008164965809277268,0.0012472191289246482,0.0016996731711975965,0.0012472191289246482,0.0009428090415820641,0.0016329931618554536,0.0012472191289246482,0.0012472191289246482,0.00047140452079103207,0.00047140452079103207,0.00047140452079103207,0.0012472191289246482,0.0012472191289246482,0.0012472191289246482,0.0012472191289246452,0.0008164965809277268,0.0009428090415820641,0.0008164965809277268,0.0009428090415820641,0.0012472191289246482,0.0008164965809277268,0.0012472191289246482,0.0008164965809277268,0.0009428090415820609,0.0008164965809277239,0.0012472191289246482,0.0008164965809277239,0.0008164965809277239,0.0008164965809277239,0.0012472191289246458,0.0009428090415820609,0.0008164965809277239,0.0008164965809277239,0.0012472191289246452,0.0012472191289246452,0.0012472191289246458,0.0012472191289246458,0.0012472191289246452,0.0008164965809277239,0.0004714045207910288,0.0008164965809277239,0.0012472191289246452,0.0009428090415820609,0.0009428090415820641,0.0009428090415820641,0.0012472191289246452,0.0012472191289246452,0.0016329931618554506,0.0016996731711975933,0.0014142135623730961,0.0014142135623730961,0.0016996731711975941,0.0012472191289246452,0.0012472191289246458,0.0020548046676563247,0.0012472191289246482]},\"hovertemplate\":\"Wavelength / nm=%{x}<br>Absorbance=%{y}<extra></extra>\",\"legendgroup\":\"\",\"marker\":{\"color\":\"#636efa\",\"line\":{\"color\":\"DarkSlateGrey\",\"width\":2},\"size\":8,\"symbol\":\"circle\"},\"mode\":\"markers\",\"name\":\"\",\"orientation\":\"v\",\"showlegend\":false,\"type\":\"scatter\",\"x\":[\"220\",\"222\",\"224\",\"226\",\"228\",\"230\",\"232\",\"234\",\"236\",\"238\",\"240\",\"242\",\"244\",\"246\",\"248\",\"250\",\"252\",\"254\",\"256\",\"258\",\"260\",\"262\",\"264\",\"266\",\"268\",\"270\",\"272\",\"274\",\"276\",\"278\",\"280\",\"282\",\"284\",\"286\",\"288\",\"290\",\"292\",\"294\",\"296\",\"298\",\"300\",\"302\",\"304\",\"306\",\"308\",\"310\",\"312\",\"314\",\"316\",\"318\",\"320\",\"322\",\"324\",\"326\",\"328\",\"330\",\"332\",\"334\",\"336\",\"338\",\"340\",\"342\",\"344\",\"346\",\"348\",\"350\",\"352\",\"354\",\"356\",\"358\",\"360\",\"362\",\"364\",\"366\",\"368\",\"370\",\"372\",\"374\",\"376\",\"378\",\"380\",\"382\",\"384\",\"386\",\"388\",\"390\",\"392\",\"394\",\"396\",\"398\",\"400\",\"402\",\"404\",\"406\",\"408\",\"410\",\"412\",\"414\",\"416\",\"418\",\"420\",\"422\",\"424\",\"426\",\"428\",\"430\",\"432\",\"434\",\"436\",\"438\",\"440\",\"442\",\"444\",\"446\",\"448\",\"450\",\"452\",\"454\",\"456\",\"458\",\"460\",\"462\",\"464\",\"466\",\"468\",\"470\",\"472\",\"474\",\"476\",\"478\",\"480\",\"482\",\"484\",\"486\",\"488\",\"490\",\"492\",\"494\",\"496\",\"498\",\"500\",\"502\",\"504\",\"506\",\"508\",\"510\",\"512\",\"514\",\"516\",\"518\",\"520\",\"522\",\"524\",\"526\",\"528\",\"530\",\"532\",\"534\",\"536\",\"538\",\"540\",\"542\",\"544\",\"546\",\"548\",\"550\",\"552\",\"554\",\"556\",\"558\",\"560\",\"562\",\"564\",\"566\",\"568\",\"570\",\"572\",\"574\",\"576\",\"578\",\"580\",\"582\",\"584\",\"586\",\"588\",\"590\",\"592\",\"594\",\"596\",\"598\",\"600\",\"602\",\"604\",\"606\",\"608\",\"610\",\"612\",\"614\",\"616\",\"618\",\"620\",\"622\",\"624\",\"626\",\"628\",\"630\",\"632\",\"634\",\"636\",\"638\",\"640\",\"642\",\"644\",\"646\",\"648\",\"650\",\"652\",\"654\",\"656\",\"658\",\"660\",\"662\",\"664\",\"666\",\"668\",\"670\",\"672\",\"674\",\"676\",\"678\",\"680\",\"682\",\"684\",\"686\",\"688\",\"690\",\"692\",\"694\",\"696\",\"698\",\"700\",\"702\",\"704\",\"706\",\"708\",\"710\",\"712\",\"714\",\"716\",\"718\",\"720\",\"722\",\"724\",\"726\",\"728\",\"730\",\"732\",\"734\",\"736\",\"738\",\"740\",\"742\",\"744\",\"746\",\"748\",\"750\",\"752\",\"754\",\"756\",\"758\",\"760\",\"762\",\"764\",\"766\",\"768\",\"770\",\"772\",\"774\",\"776\",\"778\",\"780\",\"782\",\"784\",\"786\",\"788\",\"790\",\"792\",\"794\",\"796\",\"798\",\"800\"],\"xaxis\":\"x\",\"y\":[3.6029999999999998,3.5553333333333335,4.068666666666666,4.390333333333333,4.937333333333334,4.962,5.287,5.287,5.154333333333334,5.287,5.287,5.207999999999999,5.287,5.287,5.287,5.287,5.287,5.287,5.287,5.273,5.287,5.287,5.287,5.287,5.287,5.266666666666667,5.252,5.248333333333334,4.808666666666666,4.657666666666667,4.000333333333334,3.1606666666666663,2.5613333333333337,2.0913333333333335,1.6896666666666667,1.4636666666666667,1.3573333333333333,1.091,0.8006666666666667,0.6206666666666667,0.5153333333333333,0.45,0.41100000000000003,0.37366666666666665,0.3446666666666667,0.3233333333333333,0.3076666666666667,0.295,0.2836666666666667,0.272,0.25966666666666666,0.24933333333333332,0.23500000000000001,0.22766666666666668,0.22033333333333335,0.21133333333333335,0.20066666666666666,0.19000000000000003,0.18033333333333332,0.17166666666666666,0.16466666666666666,0.15766666666666665,0.14966666666666664,0.14533333333333331,0.14,0.13533333333333333,0.13,0.12366666666666666,0.11833333333333333,0.11333333333333334,0.10866666666666668,0.106,0.104,0.10066666666666667,0.09800000000000002,0.09400000000000001,0.09166666666666667,0.08800000000000001,0.08333333333333333,0.08066666666666666,0.078,0.075,0.07233333333333332,0.07066666666666667,0.06966666666666667,0.06766666666666667,0.066,0.06633333333333334,0.066,0.06533333333333334,0.06466666666666666,0.063,0.062,0.06266666666666666,0.06233333333333333,0.06133333333333333,0.06133333333333333,0.06033333333333333,0.05933333333333333,0.057,0.056,0.05566666666666667,0.05566666666666667,0.057,0.057,0.05666666666666667,0.05666666666666667,0.05633333333333334,0.056,0.05466666666666667,0.054,0.05433333333333334,0.053,0.053,0.053,0.054,0.053,0.053,0.053,0.051333333333333335,0.052,0.053,0.053,0.05333333333333334,0.054,0.05366666666666667,0.053,0.053,0.05266666666666667,0.053,0.051,0.04800000000000001,0.04900000000000001,0.04933333333333334,0.050666666666666665,0.050666666666666665,0.051666666666666666,0.053,0.052,0.052333333333333336,0.053,0.05266666666666667,0.05266666666666667,0.052333333333333336,0.052,0.052,0.051666666666666666,0.052,0.051333333333333335,0.051,0.051333333333333335,0.051,0.04966666666666667,0.04800000000000001,0.04700000000000001,0.04966666666666667,0.04866666666666667,0.04966666666666667,0.04966666666666667,0.05000000000000001,0.04766666666666667,0.04900000000000001,0.05000000000000001,0.05033333333333334,0.052,0.051666666666666666,0.051,0.051666666666666666,0.051666666666666666,0.052,0.051333333333333335,0.051666666666666666,0.05000000000000001,0.05000000000000001,0.05000000000000001,0.05000000000000001,0.05000000000000001,0.05000000000000001,0.051,0.051666666666666666,0.052,0.051333333333333335,0.051,0.051,0.051,0.051,0.05033333333333334,0.05000000000000001,0.04900000000000001,0.05066666666666667,0.05000000000000001,0.04900000000000001,0.04833333333333334,0.05000000000000001,0.04933333333333334,0.04966666666666667,0.05000000000000001,0.05066666666666667,0.051333333333333335,0.051,0.05000000000000001,0.05000000000000001,0.04933333333333334,0.04933333333333334,0.04933333333333334,0.04900000000000001,0.05000000000000001,0.05000000000000001,0.05000000000000001,0.05066666666666667,0.05000000000000001,0.04966666666666667,0.051333333333333335,0.05000000000000001,0.05033333333333334,0.05000000000000001,0.04966666666666667,0.04966666666666667,0.04900000000000001,0.04766666666666667,0.04800000000000001,0.04900000000000001,0.04933333333333334,0.04900000000000001,0.04900000000000001,0.04900000000000001,0.04800000000000001,0.04900000000000001,0.04766666666666667,0.04700000000000001,0.04700000000000001,0.04833333333333334,0.04833333333333334,0.04866666666666667,0.04900000000000001,0.04800000000000001,0.04833333333333334,0.04833333333333334,0.04566666666666667,0.04533333333333334,0.04700000000000001,0.04766666666666667,0.04866666666666667,0.04766666666666667,0.04866666666666667,0.04833333333333334,0.04733333333333334,0.04833333333333334,0.04766666666666667,0.04933333333333334,0.04800000000000001,0.04833333333333334,0.04800000000000001,0.04866666666666667,0.04833333333333334,0.04700000000000001,0.04833333333333334,0.04900000000000001,0.050333333333333334,0.051,0.052333333333333336,0.051,0.051,0.051,0.04966666666666667,0.050333333333333334,0.05000000000000001,0.05000000000000001,0.050666666666666665,0.050666666666666665,0.051333333333333335,0.051333333333333335,0.04933333333333334,0.051,0.050666666666666665,0.05000000000000001,0.05033333333333334,0.04966666666666667,0.04833333333333334,0.04933333333333334,0.04933333333333334,0.050666666666666665,0.05000000000000001,0.04966666666666667,0.04900000000000001,0.04900000000000001,0.04933333333333334,0.04933333333333334,0.04966666666666667,0.04966666666666667,0.04866666666666667],\"yaxis\":\"y\"}],                        {\"font\":{\"family\":\"Calibri\",\"size\":14},\"legend\":{\"tracegroupgap\":0},\"template\":{\"data\":{\"bar\":[{\"error_x\":{\"color\":\"#2a3f5f\"},\"error_y\":{\"color\":\"#2a3f5f\"},\"marker\":{\"line\":{\"color\":\"#E5ECF6\",\"width\":0.5},\"pattern\":{\"fillmode\":\"overlay\",\"size\":10,\"solidity\":0.2}},\"type\":\"bar\"}],\"barpolar\":[{\"marker\":{\"line\":{\"color\":\"#E5ECF6\",\"width\":0.5},\"pattern\":{\"fillmode\":\"overlay\",\"size\":10,\"solidity\":0.2}},\"type\":\"barpolar\"}],\"carpet\":[{\"aaxis\":{\"endlinecolor\":\"#2a3f5f\",\"gridcolor\":\"white\",\"linecolor\":\"white\",\"minorgridcolor\":\"white\",\"startlinecolor\":\"#2a3f5f\"},\"baxis\":{\"endlinecolor\":\"#2a3f5f\",\"gridcolor\":\"white\",\"linecolor\":\"white\",\"minorgridcolor\":\"white\",\"startlinecolor\":\"#2a3f5f\"},\"type\":\"carpet\"}],\"choropleth\":[{\"colorbar\":{\"outlinewidth\":0,\"ticks\":\"\"},\"type\":\"choropleth\"}],\"contour\":[{\"colorbar\":{\"outlinewidth\":0,\"ticks\":\"\"},\"colorscale\":[[0.0,\"#0d0887\"],[0.1111111111111111,\"#46039f\"],[0.2222222222222222,\"#7201a8\"],[0.3333333333333333,\"#9c179e\"],[0.4444444444444444,\"#bd3786\"],[0.5555555555555556,\"#d8576b\"],[0.6666666666666666,\"#ed7953\"],[0.7777777777777778,\"#fb9f3a\"],[0.8888888888888888,\"#fdca26\"],[1.0,\"#f0f921\"]],\"type\":\"contour\"}],\"contourcarpet\":[{\"colorbar\":{\"outlinewidth\":0,\"ticks\":\"\"},\"type\":\"contourcarpet\"}],\"heatmap\":[{\"colorbar\":{\"outlinewidth\":0,\"ticks\":\"\"},\"colorscale\":[[0.0,\"#0d0887\"],[0.1111111111111111,\"#46039f\"],[0.2222222222222222,\"#7201a8\"],[0.3333333333333333,\"#9c179e\"],[0.4444444444444444,\"#bd3786\"],[0.5555555555555556,\"#d8576b\"],[0.6666666666666666,\"#ed7953\"],[0.7777777777777778,\"#fb9f3a\"],[0.8888888888888888,\"#fdca26\"],[1.0,\"#f0f921\"]],\"type\":\"heatmap\"}],\"heatmapgl\":[{\"colorbar\":{\"outlinewidth\":0,\"ticks\":\"\"},\"colorscale\":[[0.0,\"#0d0887\"],[0.1111111111111111,\"#46039f\"],[0.2222222222222222,\"#7201a8\"],[0.3333333333333333,\"#9c179e\"],[0.4444444444444444,\"#bd3786\"],[0.5555555555555556,\"#d8576b\"],[0.6666666666666666,\"#ed7953\"],[0.7777777777777778,\"#fb9f3a\"],[0.8888888888888888,\"#fdca26\"],[1.0,\"#f0f921\"]],\"type\":\"heatmapgl\"}],\"histogram\":[{\"marker\":{\"pattern\":{\"fillmode\":\"overlay\",\"size\":10,\"solidity\":0.2}},\"type\":\"histogram\"}],\"histogram2d\":[{\"colorbar\":{\"outlinewidth\":0,\"ticks\":\"\"},\"colorscale\":[[0.0,\"#0d0887\"],[0.1111111111111111,\"#46039f\"],[0.2222222222222222,\"#7201a8\"],[0.3333333333333333,\"#9c179e\"],[0.4444444444444444,\"#bd3786\"],[0.5555555555555556,\"#d8576b\"],[0.6666666666666666,\"#ed7953\"],[0.7777777777777778,\"#fb9f3a\"],[0.8888888888888888,\"#fdca26\"],[1.0,\"#f0f921\"]],\"type\":\"histogram2d\"}],\"histogram2dcontour\":[{\"colorbar\":{\"outlinewidth\":0,\"ticks\":\"\"},\"colorscale\":[[0.0,\"#0d0887\"],[0.1111111111111111,\"#46039f\"],[0.2222222222222222,\"#7201a8\"],[0.3333333333333333,\"#9c179e\"],[0.4444444444444444,\"#bd3786\"],[0.5555555555555556,\"#d8576b\"],[0.6666666666666666,\"#ed7953\"],[0.7777777777777778,\"#fb9f3a\"],[0.8888888888888888,\"#fdca26\"],[1.0,\"#f0f921\"]],\"type\":\"histogram2dcontour\"}],\"mesh3d\":[{\"colorbar\":{\"outlinewidth\":0,\"ticks\":\"\"},\"type\":\"mesh3d\"}],\"parcoords\":[{\"line\":{\"colorbar\":{\"outlinewidth\":0,\"ticks\":\"\"}},\"type\":\"parcoords\"}],\"pie\":[{\"automargin\":true,\"type\":\"pie\"}],\"scatter\":[{\"marker\":{\"colorbar\":{\"outlinewidth\":0,\"ticks\":\"\"}},\"type\":\"scatter\"}],\"scatter3d\":[{\"line\":{\"colorbar\":{\"outlinewidth\":0,\"ticks\":\"\"}},\"marker\":{\"colorbar\":{\"outlinewidth\":0,\"ticks\":\"\"}},\"type\":\"scatter3d\"}],\"scattercarpet\":[{\"marker\":{\"colorbar\":{\"outlinewidth\":0,\"ticks\":\"\"}},\"type\":\"scattercarpet\"}],\"scattergeo\":[{\"marker\":{\"colorbar\":{\"outlinewidth\":0,\"ticks\":\"\"}},\"type\":\"scattergeo\"}],\"scattergl\":[{\"marker\":{\"colorbar\":{\"outlinewidth\":0,\"ticks\":\"\"}},\"type\":\"scattergl\"}],\"scattermapbox\":[{\"marker\":{\"colorbar\":{\"outlinewidth\":0,\"ticks\":\"\"}},\"type\":\"scattermapbox\"}],\"scatterpolar\":[{\"marker\":{\"colorbar\":{\"outlinewidth\":0,\"ticks\":\"\"}},\"type\":\"scatterpolar\"}],\"scatterpolargl\":[{\"marker\":{\"colorbar\":{\"outlinewidth\":0,\"ticks\":\"\"}},\"type\":\"scatterpolargl\"}],\"scatterternary\":[{\"marker\":{\"colorbar\":{\"outlinewidth\":0,\"ticks\":\"\"}},\"type\":\"scatterternary\"}],\"surface\":[{\"colorbar\":{\"outlinewidth\":0,\"ticks\":\"\"},\"colorscale\":[[0.0,\"#0d0887\"],[0.1111111111111111,\"#46039f\"],[0.2222222222222222,\"#7201a8\"],[0.3333333333333333,\"#9c179e\"],[0.4444444444444444,\"#bd3786\"],[0.5555555555555556,\"#d8576b\"],[0.6666666666666666,\"#ed7953\"],[0.7777777777777778,\"#fb9f3a\"],[0.8888888888888888,\"#fdca26\"],[1.0,\"#f0f921\"]],\"type\":\"surface\"}],\"table\":[{\"cells\":{\"fill\":{\"color\":\"#EBF0F8\"},\"line\":{\"color\":\"white\"}},\"header\":{\"fill\":{\"color\":\"#C8D4E3\"},\"line\":{\"color\":\"white\"}},\"type\":\"table\"}]},\"layout\":{\"annotationdefaults\":{\"arrowcolor\":\"#2a3f5f\",\"arrowhead\":0,\"arrowwidth\":1},\"autotypenumbers\":\"strict\",\"coloraxis\":{\"colorbar\":{\"outlinewidth\":0,\"ticks\":\"\"}},\"colorscale\":{\"diverging\":[[0,\"#8e0152\"],[0.1,\"#c51b7d\"],[0.2,\"#de77ae\"],[0.3,\"#f1b6da\"],[0.4,\"#fde0ef\"],[0.5,\"#f7f7f7\"],[0.6,\"#e6f5d0\"],[0.7,\"#b8e186\"],[0.8,\"#7fbc41\"],[0.9,\"#4d9221\"],[1,\"#276419\"]],\"sequential\":[[0.0,\"#0d0887\"],[0.1111111111111111,\"#46039f\"],[0.2222222222222222,\"#7201a8\"],[0.3333333333333333,\"#9c179e\"],[0.4444444444444444,\"#bd3786\"],[0.5555555555555556,\"#d8576b\"],[0.6666666666666666,\"#ed7953\"],[0.7777777777777778,\"#fb9f3a\"],[0.8888888888888888,\"#fdca26\"],[1.0,\"#f0f921\"]],\"sequentialminus\":[[0.0,\"#0d0887\"],[0.1111111111111111,\"#46039f\"],[0.2222222222222222,\"#7201a8\"],[0.3333333333333333,\"#9c179e\"],[0.4444444444444444,\"#bd3786\"],[0.5555555555555556,\"#d8576b\"],[0.6666666666666666,\"#ed7953\"],[0.7777777777777778,\"#fb9f3a\"],[0.8888888888888888,\"#fdca26\"],[1.0,\"#f0f921\"]]},\"colorway\":[\"#636efa\",\"#EF553B\",\"#00cc96\",\"#ab63fa\",\"#FFA15A\",\"#19d3f3\",\"#FF6692\",\"#B6E880\",\"#FF97FF\",\"#FECB52\"],\"font\":{\"color\":\"#2a3f5f\"},\"geo\":{\"bgcolor\":\"white\",\"lakecolor\":\"white\",\"landcolor\":\"#E5ECF6\",\"showlakes\":true,\"showland\":true,\"subunitcolor\":\"white\"},\"hoverlabel\":{\"align\":\"left\"},\"hovermode\":\"closest\",\"mapbox\":{\"style\":\"light\"},\"paper_bgcolor\":\"white\",\"plot_bgcolor\":\"#E5ECF6\",\"polar\":{\"angularaxis\":{\"gridcolor\":\"white\",\"linecolor\":\"white\",\"ticks\":\"\"},\"bgcolor\":\"#E5ECF6\",\"radialaxis\":{\"gridcolor\":\"white\",\"linecolor\":\"white\",\"ticks\":\"\"}},\"scene\":{\"xaxis\":{\"backgroundcolor\":\"#E5ECF6\",\"gridcolor\":\"white\",\"gridwidth\":2,\"linecolor\":\"white\",\"showbackground\":true,\"ticks\":\"\",\"zerolinecolor\":\"white\"},\"yaxis\":{\"backgroundcolor\":\"#E5ECF6\",\"gridcolor\":\"white\",\"gridwidth\":2,\"linecolor\":\"white\",\"showbackground\":true,\"ticks\":\"\",\"zerolinecolor\":\"white\"},\"zaxis\":{\"backgroundcolor\":\"#E5ECF6\",\"gridcolor\":\"white\",\"gridwidth\":2,\"linecolor\":\"white\",\"showbackground\":true,\"ticks\":\"\",\"zerolinecolor\":\"white\"}},\"shapedefaults\":{\"line\":{\"color\":\"#2a3f5f\"}},\"ternary\":{\"aaxis\":{\"gridcolor\":\"white\",\"linecolor\":\"white\",\"ticks\":\"\"},\"baxis\":{\"gridcolor\":\"white\",\"linecolor\":\"white\",\"ticks\":\"\"},\"bgcolor\":\"#E5ECF6\",\"caxis\":{\"gridcolor\":\"white\",\"linecolor\":\"white\",\"ticks\":\"\"}},\"title\":{\"x\":0.05},\"xaxis\":{\"automargin\":true,\"gridcolor\":\"white\",\"linecolor\":\"white\",\"ticks\":\"\",\"title\":{\"standoff\":15},\"zerolinecolor\":\"white\",\"zerolinewidth\":2},\"yaxis\":{\"automargin\":true,\"gridcolor\":\"white\",\"linecolor\":\"white\",\"ticks\":\"\",\"title\":{\"standoff\":15},\"zerolinecolor\":\"white\",\"zerolinewidth\":2}}},\"title\":{\"text\":\"How Absorbance Varies with Wavelength for Sample Blank: Solvent only\"},\"xaxis\":{\"anchor\":\"y\",\"domain\":[0.0,1.0],\"title\":{\"text\":\"Wavelength / nm\"}},\"yaxis\":{\"anchor\":\"x\",\"domain\":[0.0,1.0],\"range\":[0,6],\"title\":{\"text\":\"Absorbance\"}}},                        {\"responsive\": true}                    ).then(function(){\n",
       "                            \n",
       "var gd = document.getElementById('3e4ca88f-0f3b-4c04-9600-57b855b1fd9c');\n",
       "var x = new MutationObserver(function (mutations, observer) {{\n",
       "        var display = window.getComputedStyle(gd).display;\n",
       "        if (!display || display === 'none') {{\n",
       "            console.log([gd, 'removed!']);\n",
       "            Plotly.purge(gd);\n",
       "            observer.disconnect();\n",
       "        }}\n",
       "}});\n",
       "\n",
       "// Listen for the removal of the full notebook cells\n",
       "var notebookContainer = gd.closest('#notebook-container');\n",
       "if (notebookContainer) {{\n",
       "    x.observe(notebookContainer, {childList: true});\n",
       "}}\n",
       "\n",
       "// Listen for the clearing of the current output cell\n",
       "var outputEl = gd.closest('.output');\n",
       "if (outputEl) {{\n",
       "    x.observe(outputEl, {childList: true});\n",
       "}}\n",
       "\n",
       "                        })                };                });            </script>        </div>"
      ]
     },
     "metadata": {},
     "output_type": "display_data"
    }
   ],
   "source": [
    "# Plot for just the solvent\n",
    "plot_graph(\"Blank\", 1, \"Blank\")"
   ]
  },
  {
   "cell_type": "code",
   "execution_count": 69,
   "id": "f50f2541",
   "metadata": {
    "scrolled": false
   },
   "outputs": [
    {
     "data": {
      "application/vnd.plotly.v1+json": {
       "config": {
        "plotlyServerURL": "https://plot.ly"
       },
       "data": [
        {
         "error_y": {
          "array": [
           0.322780971489268,
           0.11852425912023239,
           0.1987600451689312,
           0.20376947759662156,
           0.2383643336482107,
           0.06491190611556208,
           0.10465180361560882,
           0.17347686365109982,
           0.1800666543255581,
           0.1079516352611463,
           0,
           0.1763052907758457,
           0,
           0,
           0,
           0.03535533905932746,
           0.07473954776421886,
           0.13272779161376372,
           0.15509208734024932,
           0.09321063363276876,
           0.004714045207910216,
           0,
           0.0311555238547943,
           0.07023927359786372,
           0,
           0.11501980505789236,
           0.057039947015714625,
           0.07494145863420477,
           0.1032354374987367,
           0.10705242744665905,
           0.05662155066756822,
           0.07441027408153314,
           0.06340872705445741,
           0.05666274496233525,
           0.04879207585937156,
           0.044790872085975576,
           0.04318178628387978,
           0.03617549815367672,
           0.02847220867208347,
           0.0236126143312331,
           0.02094967514996086,
           0.018708286933869726,
           0.01782008853949819,
           0.016872067646458367,
           0.016391054470858986,
           0.015520595635763768,
           0.015107025591499559,
           0.014696938456699058,
           0.014704496666741841,
           0.013880441875771332,
           0.013880441875771355,
           0.01347425528760517,
           0.013490737563232033,
           0.013888444437333097,
           0.013140268896284673,
           0.011897712198383151,
           0.011897712198383151,
           0.011897712198383176,
           0.011953614051360749,
           0.011585431464655188,
           0.012027745701779155,
           0.012027745701779155,
           0.012569805089976526,
           0.011775681155103787,
           0.011671427600007722,
           0.011585431464655169,
           0.01202774570177913,
           0.011585431464655164,
           0.01122497216032181,
           0.011323525167642004,
           0.010873004286866737,
           0.010873004286866737,
           0.010873004286866737,
           0.010780641085864162,
           0.011224972160321834,
           0.011775681155103806,
           0.010873004286866737,
           0.01098483803552272,
           0.010656244908763851,
           0.010656244908763851,
           0.010198039027185565,
           0.009741092797468301,
           0.010656244908763863,
           0.01019803902718558,
           0.010656244908763855,
           0.010198039027185565,
           0.009416297927883685,
           0.009568466729604892,
           0.010033277962194942,
           0.009568466729604878,
           0.009568466729604892,
           0.009741092797468301,
           0.009741092797468301,
           0.009933109617167556,
           0.009672412085697947,
           0.009463379711052261,
           0.009463379711052261,
           0.008993825042154695,
           0.009463379711052261,
           0.009201449161228175,
           0.008730533902472531,
           0.008730533902472531,
           0.008730533902472531,
           0.008730533902472531,
           0.009201449161228175,
           0.008730533902472531,
           0.008730533902472531,
           0.008730533902472531,
           0.008730533902472538,
           0.008524474568362955,
           0.008055363982396375,
           0.008259674462242572,
           0.008013876853447533,
           0.008259674462242572,
           0.008055363982396375,
           0.008013876853447545,
           0.008259674462242584,
           0.008259674462242572,
           0.008259674462242572,
           0.008013876853447545,
           0.008259674462242584,
           0.008259674462242572,
           0.008259674462242584,
           0.008055363982396375,
           0.00805536398239638,
           0.008055363982396388,
           0.008055363982396388,
           0.008055363982396363,
           0.008055363982396388,
           0.008055363982396388,
           0.007408703590297604,
           0.007586537784494035,
           0.007408703590297629,
           0.007408703590297629,
           0.0069442222186665336,
           0.007717224601860157,
           0.007717224601860157,
           0.007586537784494036,
           0.007586537784494035,
           0.007717224601860157,
           0.007133644853010906,
           0.007586537784494035,
           0.007133644853010906,
           0.007586537784494036,
           0.0075865377844939845,
           0.007586537784494035,
           0.00748331477354789,
           0.008286535263104043,
           0.007788880963698622,
           0.008178562764256868,
           0.008730533902472498,
           0.008831760866327905,
           0.009877021593352677,
           0.01020892855407568,
           0.011430952132988174,
           0.010873004286866737,
           0.01096458946893231,
           0.010656244908763811,
           0.010077477638554004,
           0.009741092797468263,
           0.008730533902472578,
           0.008576453553512366,
           0.00860232526704259,
           0.007930251502246837,
           0.008178562764256872,
           0.007408703590297629,
           0.007118052168020829,
           0.007586537784494035,
           0.007788880963698622,
           0.008013876853447519,
           0.007542472332656513,
           0.007318166133366697,
           0.007071067811865468,
           0.008013876853447533,
           0.0077888809636986215,
           0.008013876853447545,
           0.007788880963698609,
           0.0075424723326565,
           0.007788880963698622,
           0.00801387685344754,
           0.007788880963698616,
           0.00801387685344754,
           0.00801387685344754,
           0.008259674462242579,
           0.00801387685344754,
           0.00801387685344754,
           0.008259674462242579,
           0.0077888809636986155,
           0.007542472332656507,
           0.007542472332656507,
           0.0077888809636986155,
           0.008259674462242579,
           0.007542472332656507,
           0.0077888809636986155,
           0.007542472332656507,
           0.008013876853447533,
           0.008485281374238565,
           0.008013876853447533,
           0.007788880963698612,
           0.008259674462242576,
           0.007542472332656507,
           0.0077888809636986155,
           0.0077888809636986155,
           0.0077888809636986155,
           0.00801387685344754,
           0.008259674462242579,
           0.008259674462242579,
           0.007542472332656507,
           0.007318166133366716,
           0.0077888809636986155,
           0.007318166133366716,
           0.007542472332656507,
           0.0077888809636986155,
           0.0077888809636986155,
           0.00801387685344754,
           0.00801387685344754,
           0.007542472332656507,
           0.007318166133366716,
           0.0077888809636986155,
           0.007318166133366716,
           0.0077888809636986155,
           0.007318166133366716,
           0.0077888809636986155,
           0.007542472332656507,
           0.007542472332656507,
           0.007542472332656507,
           0.0077888809636986155,
           0.007586537784494029,
           0.008055363982396382,
           0.0077888809636986155,
           0.007542472332656507,
           0.007071067811865475,
           0.008013876853447533,
           0.008259674462242572,
           0.0075424723326565,
           0.007542472332656507,
           0.0075424723326565,
           0.007318166133366716,
           0.007318166133366716,
           0.007118052168020874,
           0.0077888809636986155,
           0.007542472332656507,
           0.007542472332656507,
           0.0077888809636986155,
           0.0077888809636986155,
           0.007318166133366716,
           0.0077888809636986155,
           0.007542472332656507,
           0.007071067811865475,
           0.007542472332656507,
           0.0077888809636986155,
           0.007118052168020874,
           0.008055363982396382,
           0.007586537784494029,
           0.007586537784494029,
           0.007586537784494029,
           0.007586537784494029,
           0.007586537784494029,
           0.0077888809636986155,
           0.007586537784494029,
           0.007318166133366716,
           0.007586537784494029,
           0.007408703590297624,
           0.0068475461947247115,
           0.0069442222186665535,
           0.007318166133366716,
           0.008055363982396382,
           0.007118052168020874,
           0.007318166133366716,
           0.007408703590297624,
           0.007586537784494029,
           0.008055363982396382,
           0.0077888809636986155,
           0.007408703590297624,
           0.0068475461947247115,
           0.007318166133366716,
           0.0077888809636986155,
           0.007318166133366716,
           0.0068475461947247115,
           0.0068475461947247115,
           0.0077888809636986155,
           0.007318166133366716,
           0.0068475461947247115,
           0.0069442222186665535,
           0.007586537784494026,
           0.007118052168020872,
           0.007118052168020872,
           0.007118052168020874,
           0.007118052168020872,
           0.006377042156569663,
           0.007118052168020872
          ]
         },
         "hovertemplate": "Wavelength / nm=%{x}<br>Absorbance=%{y}<extra></extra>",
         "legendgroup": "",
         "marker": {
          "color": "#636efa",
          "line": {
           "color": "DarkSlateGrey",
           "width": 2
          },
          "size": 8,
          "symbol": "circle"
         },
         "mode": "markers",
         "name": "",
         "orientation": "v",
         "showlegend": false,
         "type": "scatter",
         "x": [
          "220",
          "222",
          "224",
          "226",
          "228",
          "230",
          "232",
          "234",
          "236",
          "238",
          "240",
          "242",
          "244",
          "246",
          "248",
          "250",
          "252",
          "254",
          "256",
          "258",
          "260",
          "262",
          "264",
          "266",
          "268",
          "270",
          "272",
          "274",
          "276",
          "278",
          "280",
          "282",
          "284",
          "286",
          "288",
          "290",
          "292",
          "294",
          "296",
          "298",
          "300",
          "302",
          "304",
          "306",
          "308",
          "310",
          "312",
          "314",
          "316",
          "318",
          "320",
          "322",
          "324",
          "326",
          "328",
          "330",
          "332",
          "334",
          "336",
          "338",
          "340",
          "342",
          "344",
          "346",
          "348",
          "350",
          "352",
          "354",
          "356",
          "358",
          "360",
          "362",
          "364",
          "366",
          "368",
          "370",
          "372",
          "374",
          "376",
          "378",
          "380",
          "382",
          "384",
          "386",
          "388",
          "390",
          "392",
          "394",
          "396",
          "398",
          "400",
          "402",
          "404",
          "406",
          "408",
          "410",
          "412",
          "414",
          "416",
          "418",
          "420",
          "422",
          "424",
          "426",
          "428",
          "430",
          "432",
          "434",
          "436",
          "438",
          "440",
          "442",
          "444",
          "446",
          "448",
          "450",
          "452",
          "454",
          "456",
          "458",
          "460",
          "462",
          "464",
          "466",
          "468",
          "470",
          "472",
          "474",
          "476",
          "478",
          "480",
          "482",
          "484",
          "486",
          "488",
          "490",
          "492",
          "494",
          "496",
          "498",
          "500",
          "502",
          "504",
          "506",
          "508",
          "510",
          "512",
          "514",
          "516",
          "518",
          "520",
          "522",
          "524",
          "526",
          "528",
          "530",
          "532",
          "534",
          "536",
          "538",
          "540",
          "542",
          "544",
          "546",
          "548",
          "550",
          "552",
          "554",
          "556",
          "558",
          "560",
          "562",
          "564",
          "566",
          "568",
          "570",
          "572",
          "574",
          "576",
          "578",
          "580",
          "582",
          "584",
          "586",
          "588",
          "590",
          "592",
          "594",
          "596",
          "598",
          "600",
          "602",
          "604",
          "606",
          "608",
          "610",
          "612",
          "614",
          "616",
          "618",
          "620",
          "622",
          "624",
          "626",
          "628",
          "630",
          "632",
          "634",
          "636",
          "638",
          "640",
          "642",
          "644",
          "646",
          "648",
          "650",
          "652",
          "654",
          "656",
          "658",
          "660",
          "662",
          "664",
          "666",
          "668",
          "670",
          "672",
          "674",
          "676",
          "678",
          "680",
          "682",
          "684",
          "686",
          "688",
          "690",
          "692",
          "694",
          "696",
          "698",
          "700",
          "702",
          "704",
          "706",
          "708",
          "710",
          "712",
          "714",
          "716",
          "718",
          "720",
          "722",
          "724",
          "726",
          "728",
          "730",
          "732",
          "734",
          "736",
          "738",
          "740",
          "742",
          "744",
          "746",
          "748",
          "750",
          "752",
          "754",
          "756",
          "758",
          "760",
          "762",
          "764",
          "766",
          "768",
          "770",
          "772",
          "774",
          "776",
          "778",
          "780",
          "782",
          "784",
          "786",
          "788",
          "790",
          "792",
          "794",
          "796",
          "798",
          "800"
         ],
         "xaxis": "x",
         "y": [
          3.308666666666667,
          3.4410000000000003,
          3.5743333333333336,
          3.938,
          4.580666666666667,
          4.6723333333333334,
          5.213,
          5.1643333333333326,
          4.8389999999999995,
          5.210666666666666,
          5.287,
          5.162333333333333,
          5.287,
          5.287,
          5.287,
          5.262,
          5.181,
          5.119,
          5.177333333333333,
          5.092333333333333,
          5.283666666666666,
          5.287,
          5.251,
          5.237333333333333,
          5.287,
          5.184666666666666,
          5.246666666666666,
          5.187666666666666,
          4.780333333333333,
          4.663666666666667,
          3.943,
          3.187666666666667,
          2.622,
          2.187,
          1.813,
          1.6043333333333332,
          1.5050000000000001,
          1.255,
          0.976,
          0.7956666666666666,
          0.6823333333333333,
          0.605,
          0.5566666666666666,
          0.5099999999999999,
          0.474,
          0.4483333333333333,
          0.4306666666666667,
          0.416,
          0.4043333333333334,
          0.393,
          0.38199999999999995,
          0.37166666666666665,
          0.359,
          0.35266666666666663,
          0.347,
          0.33966666666666673,
          0.33066666666666666,
          0.32266666666666666,
          0.31433333333333335,
          0.30866666666666664,
          0.303,
          0.299,
          0.29400000000000004,
          0.291,
          0.28833333333333333,
          0.2856666666666667,
          0.28099999999999997,
          0.27666666666666667,
          0.27299999999999996,
          0.26966666666666667,
          0.26633333333333337,
          0.26433333333333336,
          0.26233333333333336,
          0.26066666666666666,
          0.259,
          0.256,
          0.25133333333333335,
          0.245,
          0.2373333333333333,
          0.2313333333333333,
          0.22599999999999998,
          0.22166666666666665,
          0.21833333333333335,
          0.215,
          0.21133333333333335,
          0.205,
          0.19699999999999998,
          0.18766666666666665,
          0.17699999999999996,
          0.16566666666666666,
          0.15466666666666665,
          0.14433333333333334,
          0.13633333333333333,
          0.131,
          0.12533333333333332,
          0.12066666666666666,
          0.11866666666666666,
          0.11633333333333333,
          0.11466666666666665,
          0.11299999999999999,
          0.11266666666666665,
          0.11266666666666665,
          0.11366666666666665,
          0.11566666666666665,
          0.11699999999999999,
          0.11866666666666666,
          0.12066666666666666,
          0.12266666666666666,
          0.12466666666666666,
          0.127,
          0.12966666666666668,
          0.13333333333333333,
          0.13566666666666669,
          0.14033333333333334,
          0.1446666666666667,
          0.14966666666666664,
          0.15533333333333332,
          0.16233333333333333,
          0.17033333333333334,
          0.17966666666666664,
          0.19133333333333336,
          0.20333333333333337,
          0.21533333333333335,
          0.22766666666666666,
          0.24066666666666667,
          0.25366666666666665,
          0.26766666666666666,
          0.2826666666666667,
          0.29866666666666664,
          0.31666666666666665,
          0.3426666666666667,
          0.36633333333333334,
          0.39266666666666666,
          0.42566666666666664,
          0.4613333333333333,
          0.5013333333333333,
          0.5403333333333333,
          0.5826666666666666,
          0.6316666666666667,
          0.6713333333333334,
          0.7043333333333334,
          0.7336666666666667,
          0.7603333333333334,
          0.7836666666666666,
          0.8086666666666668,
          0.8396666666666667,
          0.871,
          0.912,
          0.967,
          1.0303333333333333,
          1.1136666666666668,
          1.23,
          1.3396666666666668,
          1.4493333333333334,
          1.54,
          1.6203333333333332,
          1.6883333333333332,
          1.7096666666666664,
          1.6916666666666667,
          1.6283333333333332,
          1.5326666666666666,
          1.4056666666666666,
          1.2619999999999998,
          1.1203333333333336,
          0.9816666666666668,
          0.8306666666666667,
          0.684,
          0.5783333333333333,
          0.48500000000000004,
          0.4046666666666667,
          0.3293333333333333,
          0.27666666666666667,
          0.236,
          0.20566666666666666,
          0.17800000000000002,
          0.15866666666666665,
          0.14500000000000002,
          0.13433333333333333,
          0.126,
          0.11966666666666666,
          0.11399999999999999,
          0.10966666666666665,
          0.10566666666666669,
          0.10333333333333335,
          0.10066666666666668,
          0.09866666666666668,
          0.09733333333333334,
          0.09600000000000002,
          0.09433333333333334,
          0.09433333333333334,
          0.09400000000000001,
          0.09233333333333334,
          0.09133333333333334,
          0.09200000000000001,
          0.09133333333333334,
          0.09066666666666667,
          0.09100000000000001,
          0.09066666666666667,
          0.09100000000000001,
          0.09133333333333334,
          0.08933333333333333,
          0.09000000000000001,
          0.08900000000000001,
          0.08900000000000001,
          0.08966666666666667,
          0.08933333333333333,
          0.08933333333333333,
          0.08933333333333333,
          0.08866666666666667,
          0.08900000000000001,
          0.08766666666666667,
          0.08633333333333333,
          0.08800000000000001,
          0.08700000000000001,
          0.08566666666666667,
          0.08566666666666667,
          0.08433333333333333,
          0.08366666666666667,
          0.083,
          0.08166666666666667,
          0.081,
          0.08066666666666666,
          0.081,
          0.08033333333333333,
          0.07933333333333333,
          0.07933333333333333,
          0.078,
          0.07833333333333332,
          0.07766666666666666,
          0.077,
          0.07633333333333332,
          0.076,
          0.07566666666666667,
          0.07533333333333334,
          0.07533333333333334,
          0.07433333333333335,
          0.07533333333333334,
          0.07466666666666667,
          0.07366666666666667,
          0.07300000000000001,
          0.07300000000000001,
          0.07333333333333335,
          0.07333333333333335,
          0.07200000000000001,
          0.07200000000000001,
          0.07166666666666667,
          0.07100000000000001,
          0.07133333333333335,
          0.07100000000000001,
          0.07133333333333335,
          0.07,
          0.07,
          0.06966666666666667,
          0.06933333333333334,
          0.06833333333333334,
          0.06733333333333334,
          0.06933333333333334,
          0.06933333333333334,
          0.07,
          0.07033333333333334,
          0.07166666666666667,
          0.07033333333333334,
          0.06966666666666667,
          0.06933333333333334,
          0.06733333333333334,
          0.06866666666666667,
          0.06666666666666667,
          0.067,
          0.06666666666666667,
          0.06666666666666667,
          0.06733333333333334,
          0.06666666666666667,
          0.065,
          0.06666666666666667,
          0.06633333333333334,
          0.06566666666666666,
          0.066,
          0.06566666666666666,
          0.06433333333333334,
          0.06433333333333334,
          0.065,
          0.06566666666666666,
          0.06533333333333334,
          0.06533333333333334,
          0.06433333333333334,
          0.064,
          0.064,
          0.065,
          0.064,
          0.064,
          0.063
         ],
         "yaxis": "y"
        }
       ],
       "layout": {
        "font": {
         "family": "Calibri",
         "size": 14
        },
        "legend": {
         "tracegroupgap": 0
        },
        "template": {
         "data": {
          "bar": [
           {
            "error_x": {
             "color": "#2a3f5f"
            },
            "error_y": {
             "color": "#2a3f5f"
            },
            "marker": {
             "line": {
              "color": "#E5ECF6",
              "width": 0.5
             },
             "pattern": {
              "fillmode": "overlay",
              "size": 10,
              "solidity": 0.2
             }
            },
            "type": "bar"
           }
          ],
          "barpolar": [
           {
            "marker": {
             "line": {
              "color": "#E5ECF6",
              "width": 0.5
             },
             "pattern": {
              "fillmode": "overlay",
              "size": 10,
              "solidity": 0.2
             }
            },
            "type": "barpolar"
           }
          ],
          "carpet": [
           {
            "aaxis": {
             "endlinecolor": "#2a3f5f",
             "gridcolor": "white",
             "linecolor": "white",
             "minorgridcolor": "white",
             "startlinecolor": "#2a3f5f"
            },
            "baxis": {
             "endlinecolor": "#2a3f5f",
             "gridcolor": "white",
             "linecolor": "white",
             "minorgridcolor": "white",
             "startlinecolor": "#2a3f5f"
            },
            "type": "carpet"
           }
          ],
          "choropleth": [
           {
            "colorbar": {
             "outlinewidth": 0,
             "ticks": ""
            },
            "type": "choropleth"
           }
          ],
          "contour": [
           {
            "colorbar": {
             "outlinewidth": 0,
             "ticks": ""
            },
            "colorscale": [
             [
              0,
              "#0d0887"
             ],
             [
              0.1111111111111111,
              "#46039f"
             ],
             [
              0.2222222222222222,
              "#7201a8"
             ],
             [
              0.3333333333333333,
              "#9c179e"
             ],
             [
              0.4444444444444444,
              "#bd3786"
             ],
             [
              0.5555555555555556,
              "#d8576b"
             ],
             [
              0.6666666666666666,
              "#ed7953"
             ],
             [
              0.7777777777777778,
              "#fb9f3a"
             ],
             [
              0.8888888888888888,
              "#fdca26"
             ],
             [
              1,
              "#f0f921"
             ]
            ],
            "type": "contour"
           }
          ],
          "contourcarpet": [
           {
            "colorbar": {
             "outlinewidth": 0,
             "ticks": ""
            },
            "type": "contourcarpet"
           }
          ],
          "heatmap": [
           {
            "colorbar": {
             "outlinewidth": 0,
             "ticks": ""
            },
            "colorscale": [
             [
              0,
              "#0d0887"
             ],
             [
              0.1111111111111111,
              "#46039f"
             ],
             [
              0.2222222222222222,
              "#7201a8"
             ],
             [
              0.3333333333333333,
              "#9c179e"
             ],
             [
              0.4444444444444444,
              "#bd3786"
             ],
             [
              0.5555555555555556,
              "#d8576b"
             ],
             [
              0.6666666666666666,
              "#ed7953"
             ],
             [
              0.7777777777777778,
              "#fb9f3a"
             ],
             [
              0.8888888888888888,
              "#fdca26"
             ],
             [
              1,
              "#f0f921"
             ]
            ],
            "type": "heatmap"
           }
          ],
          "heatmapgl": [
           {
            "colorbar": {
             "outlinewidth": 0,
             "ticks": ""
            },
            "colorscale": [
             [
              0,
              "#0d0887"
             ],
             [
              0.1111111111111111,
              "#46039f"
             ],
             [
              0.2222222222222222,
              "#7201a8"
             ],
             [
              0.3333333333333333,
              "#9c179e"
             ],
             [
              0.4444444444444444,
              "#bd3786"
             ],
             [
              0.5555555555555556,
              "#d8576b"
             ],
             [
              0.6666666666666666,
              "#ed7953"
             ],
             [
              0.7777777777777778,
              "#fb9f3a"
             ],
             [
              0.8888888888888888,
              "#fdca26"
             ],
             [
              1,
              "#f0f921"
             ]
            ],
            "type": "heatmapgl"
           }
          ],
          "histogram": [
           {
            "marker": {
             "pattern": {
              "fillmode": "overlay",
              "size": 10,
              "solidity": 0.2
             }
            },
            "type": "histogram"
           }
          ],
          "histogram2d": [
           {
            "colorbar": {
             "outlinewidth": 0,
             "ticks": ""
            },
            "colorscale": [
             [
              0,
              "#0d0887"
             ],
             [
              0.1111111111111111,
              "#46039f"
             ],
             [
              0.2222222222222222,
              "#7201a8"
             ],
             [
              0.3333333333333333,
              "#9c179e"
             ],
             [
              0.4444444444444444,
              "#bd3786"
             ],
             [
              0.5555555555555556,
              "#d8576b"
             ],
             [
              0.6666666666666666,
              "#ed7953"
             ],
             [
              0.7777777777777778,
              "#fb9f3a"
             ],
             [
              0.8888888888888888,
              "#fdca26"
             ],
             [
              1,
              "#f0f921"
             ]
            ],
            "type": "histogram2d"
           }
          ],
          "histogram2dcontour": [
           {
            "colorbar": {
             "outlinewidth": 0,
             "ticks": ""
            },
            "colorscale": [
             [
              0,
              "#0d0887"
             ],
             [
              0.1111111111111111,
              "#46039f"
             ],
             [
              0.2222222222222222,
              "#7201a8"
             ],
             [
              0.3333333333333333,
              "#9c179e"
             ],
             [
              0.4444444444444444,
              "#bd3786"
             ],
             [
              0.5555555555555556,
              "#d8576b"
             ],
             [
              0.6666666666666666,
              "#ed7953"
             ],
             [
              0.7777777777777778,
              "#fb9f3a"
             ],
             [
              0.8888888888888888,
              "#fdca26"
             ],
             [
              1,
              "#f0f921"
             ]
            ],
            "type": "histogram2dcontour"
           }
          ],
          "mesh3d": [
           {
            "colorbar": {
             "outlinewidth": 0,
             "ticks": ""
            },
            "type": "mesh3d"
           }
          ],
          "parcoords": [
           {
            "line": {
             "colorbar": {
              "outlinewidth": 0,
              "ticks": ""
             }
            },
            "type": "parcoords"
           }
          ],
          "pie": [
           {
            "automargin": true,
            "type": "pie"
           }
          ],
          "scatter": [
           {
            "marker": {
             "colorbar": {
              "outlinewidth": 0,
              "ticks": ""
             }
            },
            "type": "scatter"
           }
          ],
          "scatter3d": [
           {
            "line": {
             "colorbar": {
              "outlinewidth": 0,
              "ticks": ""
             }
            },
            "marker": {
             "colorbar": {
              "outlinewidth": 0,
              "ticks": ""
             }
            },
            "type": "scatter3d"
           }
          ],
          "scattercarpet": [
           {
            "marker": {
             "colorbar": {
              "outlinewidth": 0,
              "ticks": ""
             }
            },
            "type": "scattercarpet"
           }
          ],
          "scattergeo": [
           {
            "marker": {
             "colorbar": {
              "outlinewidth": 0,
              "ticks": ""
             }
            },
            "type": "scattergeo"
           }
          ],
          "scattergl": [
           {
            "marker": {
             "colorbar": {
              "outlinewidth": 0,
              "ticks": ""
             }
            },
            "type": "scattergl"
           }
          ],
          "scattermapbox": [
           {
            "marker": {
             "colorbar": {
              "outlinewidth": 0,
              "ticks": ""
             }
            },
            "type": "scattermapbox"
           }
          ],
          "scatterpolar": [
           {
            "marker": {
             "colorbar": {
              "outlinewidth": 0,
              "ticks": ""
             }
            },
            "type": "scatterpolar"
           }
          ],
          "scatterpolargl": [
           {
            "marker": {
             "colorbar": {
              "outlinewidth": 0,
              "ticks": ""
             }
            },
            "type": "scatterpolargl"
           }
          ],
          "scatterternary": [
           {
            "marker": {
             "colorbar": {
              "outlinewidth": 0,
              "ticks": ""
             }
            },
            "type": "scatterternary"
           }
          ],
          "surface": [
           {
            "colorbar": {
             "outlinewidth": 0,
             "ticks": ""
            },
            "colorscale": [
             [
              0,
              "#0d0887"
             ],
             [
              0.1111111111111111,
              "#46039f"
             ],
             [
              0.2222222222222222,
              "#7201a8"
             ],
             [
              0.3333333333333333,
              "#9c179e"
             ],
             [
              0.4444444444444444,
              "#bd3786"
             ],
             [
              0.5555555555555556,
              "#d8576b"
             ],
             [
              0.6666666666666666,
              "#ed7953"
             ],
             [
              0.7777777777777778,
              "#fb9f3a"
             ],
             [
              0.8888888888888888,
              "#fdca26"
             ],
             [
              1,
              "#f0f921"
             ]
            ],
            "type": "surface"
           }
          ],
          "table": [
           {
            "cells": {
             "fill": {
              "color": "#EBF0F8"
             },
             "line": {
              "color": "white"
             }
            },
            "header": {
             "fill": {
              "color": "#C8D4E3"
             },
             "line": {
              "color": "white"
             }
            },
            "type": "table"
           }
          ]
         },
         "layout": {
          "annotationdefaults": {
           "arrowcolor": "#2a3f5f",
           "arrowhead": 0,
           "arrowwidth": 1
          },
          "autotypenumbers": "strict",
          "coloraxis": {
           "colorbar": {
            "outlinewidth": 0,
            "ticks": ""
           }
          },
          "colorscale": {
           "diverging": [
            [
             0,
             "#8e0152"
            ],
            [
             0.1,
             "#c51b7d"
            ],
            [
             0.2,
             "#de77ae"
            ],
            [
             0.3,
             "#f1b6da"
            ],
            [
             0.4,
             "#fde0ef"
            ],
            [
             0.5,
             "#f7f7f7"
            ],
            [
             0.6,
             "#e6f5d0"
            ],
            [
             0.7,
             "#b8e186"
            ],
            [
             0.8,
             "#7fbc41"
            ],
            [
             0.9,
             "#4d9221"
            ],
            [
             1,
             "#276419"
            ]
           ],
           "sequential": [
            [
             0,
             "#0d0887"
            ],
            [
             0.1111111111111111,
             "#46039f"
            ],
            [
             0.2222222222222222,
             "#7201a8"
            ],
            [
             0.3333333333333333,
             "#9c179e"
            ],
            [
             0.4444444444444444,
             "#bd3786"
            ],
            [
             0.5555555555555556,
             "#d8576b"
            ],
            [
             0.6666666666666666,
             "#ed7953"
            ],
            [
             0.7777777777777778,
             "#fb9f3a"
            ],
            [
             0.8888888888888888,
             "#fdca26"
            ],
            [
             1,
             "#f0f921"
            ]
           ],
           "sequentialminus": [
            [
             0,
             "#0d0887"
            ],
            [
             0.1111111111111111,
             "#46039f"
            ],
            [
             0.2222222222222222,
             "#7201a8"
            ],
            [
             0.3333333333333333,
             "#9c179e"
            ],
            [
             0.4444444444444444,
             "#bd3786"
            ],
            [
             0.5555555555555556,
             "#d8576b"
            ],
            [
             0.6666666666666666,
             "#ed7953"
            ],
            [
             0.7777777777777778,
             "#fb9f3a"
            ],
            [
             0.8888888888888888,
             "#fdca26"
            ],
            [
             1,
             "#f0f921"
            ]
           ]
          },
          "colorway": [
           "#636efa",
           "#EF553B",
           "#00cc96",
           "#ab63fa",
           "#FFA15A",
           "#19d3f3",
           "#FF6692",
           "#B6E880",
           "#FF97FF",
           "#FECB52"
          ],
          "font": {
           "color": "#2a3f5f"
          },
          "geo": {
           "bgcolor": "white",
           "lakecolor": "white",
           "landcolor": "#E5ECF6",
           "showlakes": true,
           "showland": true,
           "subunitcolor": "white"
          },
          "hoverlabel": {
           "align": "left"
          },
          "hovermode": "closest",
          "mapbox": {
           "style": "light"
          },
          "paper_bgcolor": "white",
          "plot_bgcolor": "#E5ECF6",
          "polar": {
           "angularaxis": {
            "gridcolor": "white",
            "linecolor": "white",
            "ticks": ""
           },
           "bgcolor": "#E5ECF6",
           "radialaxis": {
            "gridcolor": "white",
            "linecolor": "white",
            "ticks": ""
           }
          },
          "scene": {
           "xaxis": {
            "backgroundcolor": "#E5ECF6",
            "gridcolor": "white",
            "gridwidth": 2,
            "linecolor": "white",
            "showbackground": true,
            "ticks": "",
            "zerolinecolor": "white"
           },
           "yaxis": {
            "backgroundcolor": "#E5ECF6",
            "gridcolor": "white",
            "gridwidth": 2,
            "linecolor": "white",
            "showbackground": true,
            "ticks": "",
            "zerolinecolor": "white"
           },
           "zaxis": {
            "backgroundcolor": "#E5ECF6",
            "gridcolor": "white",
            "gridwidth": 2,
            "linecolor": "white",
            "showbackground": true,
            "ticks": "",
            "zerolinecolor": "white"
           }
          },
          "shapedefaults": {
           "line": {
            "color": "#2a3f5f"
           }
          },
          "ternary": {
           "aaxis": {
            "gridcolor": "white",
            "linecolor": "white",
            "ticks": ""
           },
           "baxis": {
            "gridcolor": "white",
            "linecolor": "white",
            "ticks": ""
           },
           "bgcolor": "#E5ECF6",
           "caxis": {
            "gridcolor": "white",
            "linecolor": "white",
            "ticks": ""
           }
          },
          "title": {
           "x": 0.05
          },
          "xaxis": {
           "automargin": true,
           "gridcolor": "white",
           "linecolor": "white",
           "ticks": "",
           "title": {
            "standoff": 15
           },
           "zerolinecolor": "white",
           "zerolinewidth": 2
          },
          "yaxis": {
           "automargin": true,
           "gridcolor": "white",
           "linecolor": "white",
           "ticks": "",
           "title": {
            "standoff": 15
           },
           "zerolinecolor": "white",
           "zerolinewidth": 2
          }
         }
        },
        "title": {
         "text": "How Absorbance Varies with Wavelength for Sample S1: 50.000 mg/L"
        },
        "xaxis": {
         "anchor": "y",
         "domain": [
          0,
          1
         ],
         "title": {
          "text": "Wavelength / nm"
         }
        },
        "yaxis": {
         "anchor": "x",
         "domain": [
          0,
          1
         ],
         "range": [
          0,
          6
         ],
         "title": {
          "text": "Absorbance"
         }
        }
       }
      },
      "text/html": [
       "<div>                            <div id=\"e910c0bc-192f-475e-a2c1-9662c9ebf4b7\" class=\"plotly-graph-div\" style=\"height:525px; width:100%;\"></div>            <script type=\"text/javascript\">                require([\"plotly\"], function(Plotly) {                    window.PLOTLYENV=window.PLOTLYENV || {};                                    if (document.getElementById(\"e910c0bc-192f-475e-a2c1-9662c9ebf4b7\")) {                    Plotly.newPlot(                        \"e910c0bc-192f-475e-a2c1-9662c9ebf4b7\",                        [{\"error_y\":{\"array\":[0.322780971489268,0.11852425912023239,0.1987600451689312,0.20376947759662156,0.2383643336482107,0.06491190611556208,0.10465180361560882,0.17347686365109982,0.1800666543255581,0.1079516352611463,0.0,0.1763052907758457,0.0,0.0,0.0,0.03535533905932746,0.07473954776421886,0.13272779161376372,0.15509208734024932,0.09321063363276876,0.004714045207910216,0.0,0.0311555238547943,0.07023927359786372,0.0,0.11501980505789236,0.057039947015714625,0.07494145863420477,0.1032354374987367,0.10705242744665905,0.05662155066756822,0.07441027408153314,0.06340872705445741,0.05666274496233525,0.04879207585937156,0.044790872085975576,0.04318178628387978,0.03617549815367672,0.02847220867208347,0.0236126143312331,0.02094967514996086,0.018708286933869726,0.01782008853949819,0.016872067646458367,0.016391054470858986,0.015520595635763768,0.015107025591499559,0.014696938456699058,0.014704496666741841,0.013880441875771332,0.013880441875771355,0.01347425528760517,0.013490737563232033,0.013888444437333097,0.013140268896284673,0.011897712198383151,0.011897712198383151,0.011897712198383176,0.011953614051360749,0.011585431464655188,0.012027745701779155,0.012027745701779155,0.012569805089976526,0.011775681155103787,0.011671427600007722,0.011585431464655169,0.01202774570177913,0.011585431464655164,0.01122497216032181,0.011323525167642004,0.010873004286866737,0.010873004286866737,0.010873004286866737,0.010780641085864162,0.011224972160321834,0.011775681155103806,0.010873004286866737,0.01098483803552272,0.010656244908763851,0.010656244908763851,0.010198039027185565,0.009741092797468301,0.010656244908763863,0.01019803902718558,0.010656244908763855,0.010198039027185565,0.009416297927883685,0.009568466729604892,0.010033277962194942,0.009568466729604878,0.009568466729604892,0.009741092797468301,0.009741092797468301,0.009933109617167556,0.009672412085697947,0.009463379711052261,0.009463379711052261,0.008993825042154695,0.009463379711052261,0.009201449161228175,0.008730533902472531,0.008730533902472531,0.008730533902472531,0.008730533902472531,0.009201449161228175,0.008730533902472531,0.008730533902472531,0.008730533902472531,0.008730533902472538,0.008524474568362955,0.008055363982396375,0.008259674462242572,0.008013876853447533,0.008259674462242572,0.008055363982396375,0.008013876853447545,0.008259674462242584,0.008259674462242572,0.008259674462242572,0.008013876853447545,0.008259674462242584,0.008259674462242572,0.008259674462242584,0.008055363982396375,0.00805536398239638,0.008055363982396388,0.008055363982396388,0.008055363982396363,0.008055363982396388,0.008055363982396388,0.007408703590297604,0.007586537784494035,0.007408703590297629,0.007408703590297629,0.0069442222186665336,0.007717224601860157,0.007717224601860157,0.007586537784494036,0.007586537784494035,0.007717224601860157,0.007133644853010906,0.007586537784494035,0.007133644853010906,0.007586537784494036,0.0075865377844939845,0.007586537784494035,0.00748331477354789,0.008286535263104043,0.007788880963698622,0.008178562764256868,0.008730533902472498,0.008831760866327905,0.009877021593352677,0.01020892855407568,0.011430952132988174,0.010873004286866737,0.01096458946893231,0.010656244908763811,0.010077477638554004,0.009741092797468263,0.008730533902472578,0.008576453553512366,0.00860232526704259,0.007930251502246837,0.008178562764256872,0.007408703590297629,0.007118052168020829,0.007586537784494035,0.007788880963698622,0.008013876853447519,0.007542472332656513,0.007318166133366697,0.007071067811865468,0.008013876853447533,0.0077888809636986215,0.008013876853447545,0.007788880963698609,0.0075424723326565,0.007788880963698622,0.00801387685344754,0.007788880963698616,0.00801387685344754,0.00801387685344754,0.008259674462242579,0.00801387685344754,0.00801387685344754,0.008259674462242579,0.0077888809636986155,0.007542472332656507,0.007542472332656507,0.0077888809636986155,0.008259674462242579,0.007542472332656507,0.0077888809636986155,0.007542472332656507,0.008013876853447533,0.008485281374238565,0.008013876853447533,0.007788880963698612,0.008259674462242576,0.007542472332656507,0.0077888809636986155,0.0077888809636986155,0.0077888809636986155,0.00801387685344754,0.008259674462242579,0.008259674462242579,0.007542472332656507,0.007318166133366716,0.0077888809636986155,0.007318166133366716,0.007542472332656507,0.0077888809636986155,0.0077888809636986155,0.00801387685344754,0.00801387685344754,0.007542472332656507,0.007318166133366716,0.0077888809636986155,0.007318166133366716,0.0077888809636986155,0.007318166133366716,0.0077888809636986155,0.007542472332656507,0.007542472332656507,0.007542472332656507,0.0077888809636986155,0.007586537784494029,0.008055363982396382,0.0077888809636986155,0.007542472332656507,0.007071067811865475,0.008013876853447533,0.008259674462242572,0.0075424723326565,0.007542472332656507,0.0075424723326565,0.007318166133366716,0.007318166133366716,0.007118052168020874,0.0077888809636986155,0.007542472332656507,0.007542472332656507,0.0077888809636986155,0.0077888809636986155,0.007318166133366716,0.0077888809636986155,0.007542472332656507,0.007071067811865475,0.007542472332656507,0.0077888809636986155,0.007118052168020874,0.008055363982396382,0.007586537784494029,0.007586537784494029,0.007586537784494029,0.007586537784494029,0.007586537784494029,0.0077888809636986155,0.007586537784494029,0.007318166133366716,0.007586537784494029,0.007408703590297624,0.0068475461947247115,0.0069442222186665535,0.007318166133366716,0.008055363982396382,0.007118052168020874,0.007318166133366716,0.007408703590297624,0.007586537784494029,0.008055363982396382,0.0077888809636986155,0.007408703590297624,0.0068475461947247115,0.007318166133366716,0.0077888809636986155,0.007318166133366716,0.0068475461947247115,0.0068475461947247115,0.0077888809636986155,0.007318166133366716,0.0068475461947247115,0.0069442222186665535,0.007586537784494026,0.007118052168020872,0.007118052168020872,0.007118052168020874,0.007118052168020872,0.006377042156569663,0.007118052168020872]},\"hovertemplate\":\"Wavelength / nm=%{x}<br>Absorbance=%{y}<extra></extra>\",\"legendgroup\":\"\",\"marker\":{\"color\":\"#636efa\",\"line\":{\"color\":\"DarkSlateGrey\",\"width\":2},\"size\":8,\"symbol\":\"circle\"},\"mode\":\"markers\",\"name\":\"\",\"orientation\":\"v\",\"showlegend\":false,\"type\":\"scatter\",\"x\":[\"220\",\"222\",\"224\",\"226\",\"228\",\"230\",\"232\",\"234\",\"236\",\"238\",\"240\",\"242\",\"244\",\"246\",\"248\",\"250\",\"252\",\"254\",\"256\",\"258\",\"260\",\"262\",\"264\",\"266\",\"268\",\"270\",\"272\",\"274\",\"276\",\"278\",\"280\",\"282\",\"284\",\"286\",\"288\",\"290\",\"292\",\"294\",\"296\",\"298\",\"300\",\"302\",\"304\",\"306\",\"308\",\"310\",\"312\",\"314\",\"316\",\"318\",\"320\",\"322\",\"324\",\"326\",\"328\",\"330\",\"332\",\"334\",\"336\",\"338\",\"340\",\"342\",\"344\",\"346\",\"348\",\"350\",\"352\",\"354\",\"356\",\"358\",\"360\",\"362\",\"364\",\"366\",\"368\",\"370\",\"372\",\"374\",\"376\",\"378\",\"380\",\"382\",\"384\",\"386\",\"388\",\"390\",\"392\",\"394\",\"396\",\"398\",\"400\",\"402\",\"404\",\"406\",\"408\",\"410\",\"412\",\"414\",\"416\",\"418\",\"420\",\"422\",\"424\",\"426\",\"428\",\"430\",\"432\",\"434\",\"436\",\"438\",\"440\",\"442\",\"444\",\"446\",\"448\",\"450\",\"452\",\"454\",\"456\",\"458\",\"460\",\"462\",\"464\",\"466\",\"468\",\"470\",\"472\",\"474\",\"476\",\"478\",\"480\",\"482\",\"484\",\"486\",\"488\",\"490\",\"492\",\"494\",\"496\",\"498\",\"500\",\"502\",\"504\",\"506\",\"508\",\"510\",\"512\",\"514\",\"516\",\"518\",\"520\",\"522\",\"524\",\"526\",\"528\",\"530\",\"532\",\"534\",\"536\",\"538\",\"540\",\"542\",\"544\",\"546\",\"548\",\"550\",\"552\",\"554\",\"556\",\"558\",\"560\",\"562\",\"564\",\"566\",\"568\",\"570\",\"572\",\"574\",\"576\",\"578\",\"580\",\"582\",\"584\",\"586\",\"588\",\"590\",\"592\",\"594\",\"596\",\"598\",\"600\",\"602\",\"604\",\"606\",\"608\",\"610\",\"612\",\"614\",\"616\",\"618\",\"620\",\"622\",\"624\",\"626\",\"628\",\"630\",\"632\",\"634\",\"636\",\"638\",\"640\",\"642\",\"644\",\"646\",\"648\",\"650\",\"652\",\"654\",\"656\",\"658\",\"660\",\"662\",\"664\",\"666\",\"668\",\"670\",\"672\",\"674\",\"676\",\"678\",\"680\",\"682\",\"684\",\"686\",\"688\",\"690\",\"692\",\"694\",\"696\",\"698\",\"700\",\"702\",\"704\",\"706\",\"708\",\"710\",\"712\",\"714\",\"716\",\"718\",\"720\",\"722\",\"724\",\"726\",\"728\",\"730\",\"732\",\"734\",\"736\",\"738\",\"740\",\"742\",\"744\",\"746\",\"748\",\"750\",\"752\",\"754\",\"756\",\"758\",\"760\",\"762\",\"764\",\"766\",\"768\",\"770\",\"772\",\"774\",\"776\",\"778\",\"780\",\"782\",\"784\",\"786\",\"788\",\"790\",\"792\",\"794\",\"796\",\"798\",\"800\"],\"xaxis\":\"x\",\"y\":[3.308666666666667,3.4410000000000003,3.5743333333333336,3.938,4.580666666666667,4.6723333333333334,5.213,5.1643333333333326,4.8389999999999995,5.210666666666666,5.287,5.162333333333333,5.287,5.287,5.287,5.262,5.181,5.119,5.177333333333333,5.092333333333333,5.283666666666666,5.287,5.251,5.237333333333333,5.287,5.184666666666666,5.246666666666666,5.187666666666666,4.780333333333333,4.663666666666667,3.943,3.187666666666667,2.622,2.187,1.813,1.6043333333333332,1.5050000000000001,1.255,0.976,0.7956666666666666,0.6823333333333333,0.605,0.5566666666666666,0.5099999999999999,0.474,0.4483333333333333,0.4306666666666667,0.416,0.4043333333333334,0.393,0.38199999999999995,0.37166666666666665,0.359,0.35266666666666663,0.347,0.33966666666666673,0.33066666666666666,0.32266666666666666,0.31433333333333335,0.30866666666666664,0.303,0.299,0.29400000000000004,0.291,0.28833333333333333,0.2856666666666667,0.28099999999999997,0.27666666666666667,0.27299999999999996,0.26966666666666667,0.26633333333333337,0.26433333333333336,0.26233333333333336,0.26066666666666666,0.259,0.256,0.25133333333333335,0.245,0.2373333333333333,0.2313333333333333,0.22599999999999998,0.22166666666666665,0.21833333333333335,0.215,0.21133333333333335,0.205,0.19699999999999998,0.18766666666666665,0.17699999999999996,0.16566666666666666,0.15466666666666665,0.14433333333333334,0.13633333333333333,0.131,0.12533333333333332,0.12066666666666666,0.11866666666666666,0.11633333333333333,0.11466666666666665,0.11299999999999999,0.11266666666666665,0.11266666666666665,0.11366666666666665,0.11566666666666665,0.11699999999999999,0.11866666666666666,0.12066666666666666,0.12266666666666666,0.12466666666666666,0.127,0.12966666666666668,0.13333333333333333,0.13566666666666669,0.14033333333333334,0.1446666666666667,0.14966666666666664,0.15533333333333332,0.16233333333333333,0.17033333333333334,0.17966666666666664,0.19133333333333336,0.20333333333333337,0.21533333333333335,0.22766666666666666,0.24066666666666667,0.25366666666666665,0.26766666666666666,0.2826666666666667,0.29866666666666664,0.31666666666666665,0.3426666666666667,0.36633333333333334,0.39266666666666666,0.42566666666666664,0.4613333333333333,0.5013333333333333,0.5403333333333333,0.5826666666666666,0.6316666666666667,0.6713333333333334,0.7043333333333334,0.7336666666666667,0.7603333333333334,0.7836666666666666,0.8086666666666668,0.8396666666666667,0.871,0.912,0.967,1.0303333333333333,1.1136666666666668,1.23,1.3396666666666668,1.4493333333333334,1.54,1.6203333333333332,1.6883333333333332,1.7096666666666664,1.6916666666666667,1.6283333333333332,1.5326666666666666,1.4056666666666666,1.2619999999999998,1.1203333333333336,0.9816666666666668,0.8306666666666667,0.684,0.5783333333333333,0.48500000000000004,0.4046666666666667,0.3293333333333333,0.27666666666666667,0.236,0.20566666666666666,0.17800000000000002,0.15866666666666665,0.14500000000000002,0.13433333333333333,0.126,0.11966666666666666,0.11399999999999999,0.10966666666666665,0.10566666666666669,0.10333333333333335,0.10066666666666668,0.09866666666666668,0.09733333333333334,0.09600000000000002,0.09433333333333334,0.09433333333333334,0.09400000000000001,0.09233333333333334,0.09133333333333334,0.09200000000000001,0.09133333333333334,0.09066666666666667,0.09100000000000001,0.09066666666666667,0.09100000000000001,0.09133333333333334,0.08933333333333333,0.09000000000000001,0.08900000000000001,0.08900000000000001,0.08966666666666667,0.08933333333333333,0.08933333333333333,0.08933333333333333,0.08866666666666667,0.08900000000000001,0.08766666666666667,0.08633333333333333,0.08800000000000001,0.08700000000000001,0.08566666666666667,0.08566666666666667,0.08433333333333333,0.08366666666666667,0.083,0.08166666666666667,0.081,0.08066666666666666,0.081,0.08033333333333333,0.07933333333333333,0.07933333333333333,0.078,0.07833333333333332,0.07766666666666666,0.077,0.07633333333333332,0.076,0.07566666666666667,0.07533333333333334,0.07533333333333334,0.07433333333333335,0.07533333333333334,0.07466666666666667,0.07366666666666667,0.07300000000000001,0.07300000000000001,0.07333333333333335,0.07333333333333335,0.07200000000000001,0.07200000000000001,0.07166666666666667,0.07100000000000001,0.07133333333333335,0.07100000000000001,0.07133333333333335,0.07,0.07,0.06966666666666667,0.06933333333333334,0.06833333333333334,0.06733333333333334,0.06933333333333334,0.06933333333333334,0.07,0.07033333333333334,0.07166666666666667,0.07033333333333334,0.06966666666666667,0.06933333333333334,0.06733333333333334,0.06866666666666667,0.06666666666666667,0.067,0.06666666666666667,0.06666666666666667,0.06733333333333334,0.06666666666666667,0.065,0.06666666666666667,0.06633333333333334,0.06566666666666666,0.066,0.06566666666666666,0.06433333333333334,0.06433333333333334,0.065,0.06566666666666666,0.06533333333333334,0.06533333333333334,0.06433333333333334,0.064,0.064,0.065,0.064,0.064,0.063],\"yaxis\":\"y\"}],                        {\"font\":{\"family\":\"Calibri\",\"size\":14},\"legend\":{\"tracegroupgap\":0},\"template\":{\"data\":{\"bar\":[{\"error_x\":{\"color\":\"#2a3f5f\"},\"error_y\":{\"color\":\"#2a3f5f\"},\"marker\":{\"line\":{\"color\":\"#E5ECF6\",\"width\":0.5},\"pattern\":{\"fillmode\":\"overlay\",\"size\":10,\"solidity\":0.2}},\"type\":\"bar\"}],\"barpolar\":[{\"marker\":{\"line\":{\"color\":\"#E5ECF6\",\"width\":0.5},\"pattern\":{\"fillmode\":\"overlay\",\"size\":10,\"solidity\":0.2}},\"type\":\"barpolar\"}],\"carpet\":[{\"aaxis\":{\"endlinecolor\":\"#2a3f5f\",\"gridcolor\":\"white\",\"linecolor\":\"white\",\"minorgridcolor\":\"white\",\"startlinecolor\":\"#2a3f5f\"},\"baxis\":{\"endlinecolor\":\"#2a3f5f\",\"gridcolor\":\"white\",\"linecolor\":\"white\",\"minorgridcolor\":\"white\",\"startlinecolor\":\"#2a3f5f\"},\"type\":\"carpet\"}],\"choropleth\":[{\"colorbar\":{\"outlinewidth\":0,\"ticks\":\"\"},\"type\":\"choropleth\"}],\"contour\":[{\"colorbar\":{\"outlinewidth\":0,\"ticks\":\"\"},\"colorscale\":[[0.0,\"#0d0887\"],[0.1111111111111111,\"#46039f\"],[0.2222222222222222,\"#7201a8\"],[0.3333333333333333,\"#9c179e\"],[0.4444444444444444,\"#bd3786\"],[0.5555555555555556,\"#d8576b\"],[0.6666666666666666,\"#ed7953\"],[0.7777777777777778,\"#fb9f3a\"],[0.8888888888888888,\"#fdca26\"],[1.0,\"#f0f921\"]],\"type\":\"contour\"}],\"contourcarpet\":[{\"colorbar\":{\"outlinewidth\":0,\"ticks\":\"\"},\"type\":\"contourcarpet\"}],\"heatmap\":[{\"colorbar\":{\"outlinewidth\":0,\"ticks\":\"\"},\"colorscale\":[[0.0,\"#0d0887\"],[0.1111111111111111,\"#46039f\"],[0.2222222222222222,\"#7201a8\"],[0.3333333333333333,\"#9c179e\"],[0.4444444444444444,\"#bd3786\"],[0.5555555555555556,\"#d8576b\"],[0.6666666666666666,\"#ed7953\"],[0.7777777777777778,\"#fb9f3a\"],[0.8888888888888888,\"#fdca26\"],[1.0,\"#f0f921\"]],\"type\":\"heatmap\"}],\"heatmapgl\":[{\"colorbar\":{\"outlinewidth\":0,\"ticks\":\"\"},\"colorscale\":[[0.0,\"#0d0887\"],[0.1111111111111111,\"#46039f\"],[0.2222222222222222,\"#7201a8\"],[0.3333333333333333,\"#9c179e\"],[0.4444444444444444,\"#bd3786\"],[0.5555555555555556,\"#d8576b\"],[0.6666666666666666,\"#ed7953\"],[0.7777777777777778,\"#fb9f3a\"],[0.8888888888888888,\"#fdca26\"],[1.0,\"#f0f921\"]],\"type\":\"heatmapgl\"}],\"histogram\":[{\"marker\":{\"pattern\":{\"fillmode\":\"overlay\",\"size\":10,\"solidity\":0.2}},\"type\":\"histogram\"}],\"histogram2d\":[{\"colorbar\":{\"outlinewidth\":0,\"ticks\":\"\"},\"colorscale\":[[0.0,\"#0d0887\"],[0.1111111111111111,\"#46039f\"],[0.2222222222222222,\"#7201a8\"],[0.3333333333333333,\"#9c179e\"],[0.4444444444444444,\"#bd3786\"],[0.5555555555555556,\"#d8576b\"],[0.6666666666666666,\"#ed7953\"],[0.7777777777777778,\"#fb9f3a\"],[0.8888888888888888,\"#fdca26\"],[1.0,\"#f0f921\"]],\"type\":\"histogram2d\"}],\"histogram2dcontour\":[{\"colorbar\":{\"outlinewidth\":0,\"ticks\":\"\"},\"colorscale\":[[0.0,\"#0d0887\"],[0.1111111111111111,\"#46039f\"],[0.2222222222222222,\"#7201a8\"],[0.3333333333333333,\"#9c179e\"],[0.4444444444444444,\"#bd3786\"],[0.5555555555555556,\"#d8576b\"],[0.6666666666666666,\"#ed7953\"],[0.7777777777777778,\"#fb9f3a\"],[0.8888888888888888,\"#fdca26\"],[1.0,\"#f0f921\"]],\"type\":\"histogram2dcontour\"}],\"mesh3d\":[{\"colorbar\":{\"outlinewidth\":0,\"ticks\":\"\"},\"type\":\"mesh3d\"}],\"parcoords\":[{\"line\":{\"colorbar\":{\"outlinewidth\":0,\"ticks\":\"\"}},\"type\":\"parcoords\"}],\"pie\":[{\"automargin\":true,\"type\":\"pie\"}],\"scatter\":[{\"marker\":{\"colorbar\":{\"outlinewidth\":0,\"ticks\":\"\"}},\"type\":\"scatter\"}],\"scatter3d\":[{\"line\":{\"colorbar\":{\"outlinewidth\":0,\"ticks\":\"\"}},\"marker\":{\"colorbar\":{\"outlinewidth\":0,\"ticks\":\"\"}},\"type\":\"scatter3d\"}],\"scattercarpet\":[{\"marker\":{\"colorbar\":{\"outlinewidth\":0,\"ticks\":\"\"}},\"type\":\"scattercarpet\"}],\"scattergeo\":[{\"marker\":{\"colorbar\":{\"outlinewidth\":0,\"ticks\":\"\"}},\"type\":\"scattergeo\"}],\"scattergl\":[{\"marker\":{\"colorbar\":{\"outlinewidth\":0,\"ticks\":\"\"}},\"type\":\"scattergl\"}],\"scattermapbox\":[{\"marker\":{\"colorbar\":{\"outlinewidth\":0,\"ticks\":\"\"}},\"type\":\"scattermapbox\"}],\"scatterpolar\":[{\"marker\":{\"colorbar\":{\"outlinewidth\":0,\"ticks\":\"\"}},\"type\":\"scatterpolar\"}],\"scatterpolargl\":[{\"marker\":{\"colorbar\":{\"outlinewidth\":0,\"ticks\":\"\"}},\"type\":\"scatterpolargl\"}],\"scatterternary\":[{\"marker\":{\"colorbar\":{\"outlinewidth\":0,\"ticks\":\"\"}},\"type\":\"scatterternary\"}],\"surface\":[{\"colorbar\":{\"outlinewidth\":0,\"ticks\":\"\"},\"colorscale\":[[0.0,\"#0d0887\"],[0.1111111111111111,\"#46039f\"],[0.2222222222222222,\"#7201a8\"],[0.3333333333333333,\"#9c179e\"],[0.4444444444444444,\"#bd3786\"],[0.5555555555555556,\"#d8576b\"],[0.6666666666666666,\"#ed7953\"],[0.7777777777777778,\"#fb9f3a\"],[0.8888888888888888,\"#fdca26\"],[1.0,\"#f0f921\"]],\"type\":\"surface\"}],\"table\":[{\"cells\":{\"fill\":{\"color\":\"#EBF0F8\"},\"line\":{\"color\":\"white\"}},\"header\":{\"fill\":{\"color\":\"#C8D4E3\"},\"line\":{\"color\":\"white\"}},\"type\":\"table\"}]},\"layout\":{\"annotationdefaults\":{\"arrowcolor\":\"#2a3f5f\",\"arrowhead\":0,\"arrowwidth\":1},\"autotypenumbers\":\"strict\",\"coloraxis\":{\"colorbar\":{\"outlinewidth\":0,\"ticks\":\"\"}},\"colorscale\":{\"diverging\":[[0,\"#8e0152\"],[0.1,\"#c51b7d\"],[0.2,\"#de77ae\"],[0.3,\"#f1b6da\"],[0.4,\"#fde0ef\"],[0.5,\"#f7f7f7\"],[0.6,\"#e6f5d0\"],[0.7,\"#b8e186\"],[0.8,\"#7fbc41\"],[0.9,\"#4d9221\"],[1,\"#276419\"]],\"sequential\":[[0.0,\"#0d0887\"],[0.1111111111111111,\"#46039f\"],[0.2222222222222222,\"#7201a8\"],[0.3333333333333333,\"#9c179e\"],[0.4444444444444444,\"#bd3786\"],[0.5555555555555556,\"#d8576b\"],[0.6666666666666666,\"#ed7953\"],[0.7777777777777778,\"#fb9f3a\"],[0.8888888888888888,\"#fdca26\"],[1.0,\"#f0f921\"]],\"sequentialminus\":[[0.0,\"#0d0887\"],[0.1111111111111111,\"#46039f\"],[0.2222222222222222,\"#7201a8\"],[0.3333333333333333,\"#9c179e\"],[0.4444444444444444,\"#bd3786\"],[0.5555555555555556,\"#d8576b\"],[0.6666666666666666,\"#ed7953\"],[0.7777777777777778,\"#fb9f3a\"],[0.8888888888888888,\"#fdca26\"],[1.0,\"#f0f921\"]]},\"colorway\":[\"#636efa\",\"#EF553B\",\"#00cc96\",\"#ab63fa\",\"#FFA15A\",\"#19d3f3\",\"#FF6692\",\"#B6E880\",\"#FF97FF\",\"#FECB52\"],\"font\":{\"color\":\"#2a3f5f\"},\"geo\":{\"bgcolor\":\"white\",\"lakecolor\":\"white\",\"landcolor\":\"#E5ECF6\",\"showlakes\":true,\"showland\":true,\"subunitcolor\":\"white\"},\"hoverlabel\":{\"align\":\"left\"},\"hovermode\":\"closest\",\"mapbox\":{\"style\":\"light\"},\"paper_bgcolor\":\"white\",\"plot_bgcolor\":\"#E5ECF6\",\"polar\":{\"angularaxis\":{\"gridcolor\":\"white\",\"linecolor\":\"white\",\"ticks\":\"\"},\"bgcolor\":\"#E5ECF6\",\"radialaxis\":{\"gridcolor\":\"white\",\"linecolor\":\"white\",\"ticks\":\"\"}},\"scene\":{\"xaxis\":{\"backgroundcolor\":\"#E5ECF6\",\"gridcolor\":\"white\",\"gridwidth\":2,\"linecolor\":\"white\",\"showbackground\":true,\"ticks\":\"\",\"zerolinecolor\":\"white\"},\"yaxis\":{\"backgroundcolor\":\"#E5ECF6\",\"gridcolor\":\"white\",\"gridwidth\":2,\"linecolor\":\"white\",\"showbackground\":true,\"ticks\":\"\",\"zerolinecolor\":\"white\"},\"zaxis\":{\"backgroundcolor\":\"#E5ECF6\",\"gridcolor\":\"white\",\"gridwidth\":2,\"linecolor\":\"white\",\"showbackground\":true,\"ticks\":\"\",\"zerolinecolor\":\"white\"}},\"shapedefaults\":{\"line\":{\"color\":\"#2a3f5f\"}},\"ternary\":{\"aaxis\":{\"gridcolor\":\"white\",\"linecolor\":\"white\",\"ticks\":\"\"},\"baxis\":{\"gridcolor\":\"white\",\"linecolor\":\"white\",\"ticks\":\"\"},\"bgcolor\":\"#E5ECF6\",\"caxis\":{\"gridcolor\":\"white\",\"linecolor\":\"white\",\"ticks\":\"\"}},\"title\":{\"x\":0.05},\"xaxis\":{\"automargin\":true,\"gridcolor\":\"white\",\"linecolor\":\"white\",\"ticks\":\"\",\"title\":{\"standoff\":15},\"zerolinecolor\":\"white\",\"zerolinewidth\":2},\"yaxis\":{\"automargin\":true,\"gridcolor\":\"white\",\"linecolor\":\"white\",\"ticks\":\"\",\"title\":{\"standoff\":15},\"zerolinecolor\":\"white\",\"zerolinewidth\":2}}},\"title\":{\"text\":\"How Absorbance Varies with Wavelength for Sample S1: 50.000 mg/L\"},\"xaxis\":{\"anchor\":\"y\",\"domain\":[0.0,1.0],\"title\":{\"text\":\"Wavelength / nm\"}},\"yaxis\":{\"anchor\":\"x\",\"domain\":[0.0,1.0],\"range\":[0,6],\"title\":{\"text\":\"Absorbance\"}}},                        {\"responsive\": true}                    ).then(function(){\n",
       "                            \n",
       "var gd = document.getElementById('e910c0bc-192f-475e-a2c1-9662c9ebf4b7');\n",
       "var x = new MutationObserver(function (mutations, observer) {{\n",
       "        var display = window.getComputedStyle(gd).display;\n",
       "        if (!display || display === 'none') {{\n",
       "            console.log([gd, 'removed!']);\n",
       "            Plotly.purge(gd);\n",
       "            observer.disconnect();\n",
       "        }}\n",
       "}});\n",
       "\n",
       "// Listen for the removal of the full notebook cells\n",
       "var notebookContainer = gd.closest('#notebook-container');\n",
       "if (notebookContainer) {{\n",
       "    x.observe(notebookContainer, {childList: true});\n",
       "}}\n",
       "\n",
       "// Listen for the clearing of the current output cell\n",
       "var outputEl = gd.closest('.output');\n",
       "if (outputEl) {{\n",
       "    x.observe(outputEl, {childList: true});\n",
       "}}\n",
       "\n",
       "                        })                };                });            </script>        </div>"
      ]
     },
     "metadata": {},
     "output_type": "display_data"
    },
    {
     "data": {
      "application/vnd.plotly.v1+json": {
       "config": {
        "plotlyServerURL": "https://plot.ly"
       },
       "data": [
        {
         "error_y": {
          "array": [
           0.17653517118882184,
           0.18115248334544642,
           0.26918147534083153,
           0.21511547286670624,
           0.35779603128039317,
           0.10229478101165371,
           0.08108157757605731,
           0,
           0.03638070306571266,
           0.030800432897390817,
           0,
           0,
           0,
           0,
           0,
           0,
           0,
           0.06175399222362526,
           0,
           0.011085526098877313,
           0,
           0,
           0,
           0,
           0,
           0.02779688231918587,
           0.008956685895029662,
           0.084956197864285,
           0.09034870717884602,
           0.025961509971494608,
           0.12338107184203317,
           0.10888934240268369,
           0.09033394833738972,
           0.07529645114848069,
           0.0625157757867742,
           0.05435888969514452,
           0.04899886620003451,
           0.0392031744746377,
           0.029393876913398162,
           0.022866763848189968,
           0.01960158723731889,
           0.016753109164172098,
           0.015121728296284997,
           0.01309792180292568,
           0.01151810169544732,
           0.01104536101718727,
           0.009843215373488942,
           0.00980929264637476,
           0.009030811456096032,
           0.008653836657164788,
           0.008653836657164788,
           0.008286535263104043,
           0.007408703590297629,
           0.007408703590297605,
           0.006976149845485435,
           0.006976149845485456,
           0.00654896090146284,
           0.005792715732327594,
           0.005792715732327594,
           0.00535412613473633,
           0.0058878405775518936,
           0.005557777333511027,
           0.0043204937989385775,
           0.004546060565661956,
           0.0038586123009300786,
           0.004189935029992169,
           0.0032998316455372123,
           0.0029439202887759515,
           0.0032659863237109073,
           0.002867441755680878,
           0.002867441755680878,
           0.0020548046676563273,
           0.0020548046676563273,
           0.0024944382578492965,
           0.0024944382578492965,
           0.0024944382578492843,
           0.0021602468994692888,
           0.0016996731711975965,
           0.0016996731711975965,
           0.0014142135623730965,
           0.0016996731711975965,
           0.0016996731711975965,
           0.0016996731711975837,
           0.0014142135623730833,
           0.0012472191289246482,
           0.0012472191289246482,
           0.0012472191289246482,
           0.0012472191289246482,
           0.0012472191289246422,
           0.0012472191289246482,
           0.0012472191289246482,
           0.0012472191289246422,
           0.0016329931618554536,
           0.0009428090415820641,
           0.0009428090415820641,
           0.0012472191289246482,
           0.0014142135623730963,
           0.0009428090415820576,
           0.0009428090415820641,
           0.0009428090415820641,
           0.00047140452079103207,
           0.00047140452079103207,
           0.00047140452079103207,
           0.00047140452079103207,
           0.00047140452079103207,
           0.0009428090415820576,
           0.0009428090415820576,
           0.0008164965809277268,
           0.0008164965809277268,
           0.0009428090415820641,
           0.00047140452079103207,
           0.00047140452079103207,
           0.0008164965809277268,
           0.0008164965809277268,
           0.00047140452079103207,
           0.00047140452079103207,
           0.00047140452079103207,
           0.00047140452079103207,
           0.0008164965809277268,
           0.0008164965809277268,
           0.00047140452079103207,
           0.00047140452079103207,
           0.00047140452079103207,
           0.0008164965809277268,
           0.00047140452079103207,
           0.0008164965809277268,
           0.00047140452079103207,
           0.0009428090415820641,
           0.0008164965809277268,
           0.0008164965809277268,
           0.0009428090415820641,
           0.00047140452079103207,
           0,
           0.00047140452079103207,
           0.00047140452079103207,
           0.00047140452079103207,
           0.0008164965809277268,
           0.0008164965809277268,
           0.0008164965809277042,
           0.0008164965809277268,
           0.0012472191289246482,
           0.0009428090415820641,
           0.0012472191289246482,
           0.0012472191289246482,
           0.0014142135623730965,
           0.0009428090415820641,
           0.0009428090415820641,
           0.0012472191289246482,
           0.0012472191289246482,
           0.0012472191289246482,
           0.0016996731711975965,
           0.0021602468994692888,
           0.002624669291337273,
           0.002867441755680878,
           0.0024944382578492965,
           0.0024944382578492965,
           0.00244948974278318,
           0.0029439202887759515,
           0.002867441755680878,
           0.0023570226039551605,
           0.0023570226039551605,
           0.0016996731711975963,
           0.0021602468994692888,
           0.0016996731711975963,
           0.0016996731711975963,
           0.0012472191289246482,
           0.0014142135623730965,
           0.0009428090415820641,
           0.0008164965809277268,
           0.0008164965809277268,
           0.0008164965809277268,
           0.0008164965809277268,
           0.00047140452079103207,
           0.00047140452079103207,
           0.00047140452079103207,
           0.0009428090415820641,
           0.00047140452079103207,
           0.00047140452079103207,
           0.00047140452079103207,
           0.00047140452079103207,
           0.00047140452079103207,
           0.0008164965809277268,
           0.00047140452079103207,
           0.0008164965809277268,
           0.0009428090415820641,
           0.00047140452079103207,
           0,
           0.00047140452079102557,
           0.0008164965809277268,
           0.00047140452079103207,
           0,
           0.0008164965809277268,
           0.00047140452079103207,
           0.0008164965809277268,
           0.00047140452079103207,
           0.00047140452079103207,
           0.00047140452079103207,
           0,
           0.00047140452079103207,
           0.00047140452079103207,
           0.00047140452079103207,
           0.00047140452079103207,
           0.00047140452079103207,
           0,
           0,
           0.00047140452079103207,
           0,
           0.0009428090415820641,
           0.00047140452079103207,
           0,
           0,
           0.00047140452079103207,
           0.00047140452079103207,
           0,
           0,
           0.00047140452079103207,
           0.00047140452079103207,
           0.0008164965809277268,
           0,
           0.00047140452079103207,
           0.0008164965809277268,
           0.00047140452079103207,
           0.00047140452079103207,
           0.00047140452079103207,
           0.0008164965809277268,
           0.0008164965809277268,
           0.00047140452079103207,
           0.00047140452079103207,
           0,
           0,
           0.0004714045207910288,
           0,
           0,
           0,
           0,
           0,
           0.0004714045207910288,
           0.0004714045207910288,
           0,
           0.00047140452079103207,
           0.00047140452079103207,
           0.00047140452079103207,
           0,
           0.0009428090415820609,
           0.0009428090415820609,
           0.00047140452079103207,
           0.0008164965809277268,
           0.00047140452079103207,
           0,
           0.00047140452079103207,
           0.00047140452079103207,
           0,
           0.00047140452079103207,
           0.00047140452079103207,
           0.00047140452079103207,
           0.00047140452079103207,
           0.0009428090415820641,
           0.00047140452079103207,
           0.00047140452079103207,
           0.00047140452079103207,
           0.0004714045207910288,
           0.00047140452079103207,
           0.00047140452079103207,
           0,
           0,
           0.00047140452079103207,
           0.00047140452079103207,
           0.00047140452079103207,
           0,
           0,
           0.00047140452079103207,
           0.0008164965809277268,
           0,
           0.00047140452079103207,
           0.00047140452079103207,
           0,
           0.0008164965809277268,
           0.0008164965809277268,
           0.0009428090415820641,
           0,
           0.00047140452079103207,
           0.00047140452079103207,
           0.00047140452079103207,
           0.00047140452079103207,
           0,
           0.00047140452079103207,
           0,
           0.00047140452079103207,
           0.00047140452079103207,
           0,
           0
          ]
         },
         "hovertemplate": "Wavelength / nm=%{x}<br>Absorbance=%{y}<extra></extra>",
         "legendgroup": "",
         "marker": {
          "color": "#636efa",
          "line": {
           "color": "DarkSlateGrey",
           "width": 2
          },
          "size": 8,
          "symbol": "circle"
         },
         "mode": "markers",
         "name": "",
         "orientation": "v",
         "showlegend": false,
         "type": "scatter",
         "x": [
          "220",
          "222",
          "224",
          "226",
          "228",
          "230",
          "232",
          "234",
          "236",
          "238",
          "240",
          "242",
          "244",
          "246",
          "248",
          "250",
          "252",
          "254",
          "256",
          "258",
          "260",
          "262",
          "264",
          "266",
          "268",
          "270",
          "272",
          "274",
          "276",
          "278",
          "280",
          "282",
          "284",
          "286",
          "288",
          "290",
          "292",
          "294",
          "296",
          "298",
          "300",
          "302",
          "304",
          "306",
          "308",
          "310",
          "312",
          "314",
          "316",
          "318",
          "320",
          "322",
          "324",
          "326",
          "328",
          "330",
          "332",
          "334",
          "336",
          "338",
          "340",
          "342",
          "344",
          "346",
          "348",
          "350",
          "352",
          "354",
          "356",
          "358",
          "360",
          "362",
          "364",
          "366",
          "368",
          "370",
          "372",
          "374",
          "376",
          "378",
          "380",
          "382",
          "384",
          "386",
          "388",
          "390",
          "392",
          "394",
          "396",
          "398",
          "400",
          "402",
          "404",
          "406",
          "408",
          "410",
          "412",
          "414",
          "416",
          "418",
          "420",
          "422",
          "424",
          "426",
          "428",
          "430",
          "432",
          "434",
          "436",
          "438",
          "440",
          "442",
          "444",
          "446",
          "448",
          "450",
          "452",
          "454",
          "456",
          "458",
          "460",
          "462",
          "464",
          "466",
          "468",
          "470",
          "472",
          "474",
          "476",
          "478",
          "480",
          "482",
          "484",
          "486",
          "488",
          "490",
          "492",
          "494",
          "496",
          "498",
          "500",
          "502",
          "504",
          "506",
          "508",
          "510",
          "512",
          "514",
          "516",
          "518",
          "520",
          "522",
          "524",
          "526",
          "528",
          "530",
          "532",
          "534",
          "536",
          "538",
          "540",
          "542",
          "544",
          "546",
          "548",
          "550",
          "552",
          "554",
          "556",
          "558",
          "560",
          "562",
          "564",
          "566",
          "568",
          "570",
          "572",
          "574",
          "576",
          "578",
          "580",
          "582",
          "584",
          "586",
          "588",
          "590",
          "592",
          "594",
          "596",
          "598",
          "600",
          "602",
          "604",
          "606",
          "608",
          "610",
          "612",
          "614",
          "616",
          "618",
          "620",
          "622",
          "624",
          "626",
          "628",
          "630",
          "632",
          "634",
          "636",
          "638",
          "640",
          "642",
          "644",
          "646",
          "648",
          "650",
          "652",
          "654",
          "656",
          "658",
          "660",
          "662",
          "664",
          "666",
          "668",
          "670",
          "672",
          "674",
          "676",
          "678",
          "680",
          "682",
          "684",
          "686",
          "688",
          "690",
          "692",
          "694",
          "696",
          "698",
          "700",
          "702",
          "704",
          "706",
          "708",
          "710",
          "712",
          "714",
          "716",
          "718",
          "720",
          "722",
          "724",
          "726",
          "728",
          "730",
          "732",
          "734",
          "736",
          "738",
          "740",
          "742",
          "744",
          "746",
          "748",
          "750",
          "752",
          "754",
          "756",
          "758",
          "760",
          "762",
          "764",
          "766",
          "768",
          "770",
          "772",
          "774",
          "776",
          "778",
          "780",
          "782",
          "784",
          "786",
          "788",
          "790",
          "792",
          "794",
          "796",
          "798",
          "800"
         ],
         "xaxis": "x",
         "y": [
          3.4299999999999997,
          3.735333333333333,
          4.072,
          4.4270000000000005,
          5.034,
          5.214666666666666,
          5.229666666666667,
          5.287,
          4.903333333333333,
          5.1770000000000005,
          5.287,
          5.287,
          5.287,
          5.287,
          5.287,
          5.287,
          5.287,
          5.243333333333333,
          5.287,
          5.117333333333334,
          5.287,
          5.287,
          5.287,
          5.287,
          5.287,
          5.25,
          5.280666666666666,
          5.1063333333333345,
          4.803666666666667,
          4.796,
          3.9466666666666668,
          3.1263333333333336,
          2.5413333333333337,
          2.0953333333333335,
          1.7156666666666667,
          1.499666666666667,
          1.3953333333333333,
          1.1453333333333333,
          0.87,
          0.6953333333333332,
          0.5883333333333334,
          0.518,
          0.476,
          0.4346666666666667,
          0.403,
          0.379,
          0.3626666666666667,
          0.34933333333333333,
          0.3376666666666666,
          0.32633333333333336,
          0.31633333333333336,
          0.306,
          0.29266666666666663,
          0.2856666666666667,
          0.28,
          0.272,
          0.26233333333333336,
          0.25266666666666665,
          0.24466666666666667,
          0.237,
          0.231,
          0.22566666666666668,
          0.219,
          0.215,
          0.21133333333333335,
          0.20766666666666667,
          0.20333333333333334,
          0.19800000000000004,
          0.19400000000000003,
          0.18966666666666665,
          0.18466666666666667,
          0.18266666666666667,
          0.18066666666666667,
          0.17833333333333332,
          0.17533333333333334,
          0.1723333333333333,
          0.169,
          0.16433333333333333,
          0.15733333333333333,
          0.153,
          0.14933333333333332,
          0.14533333333333331,
          0.14233333333333334,
          0.14,
          0.1376666666666667,
          0.13266666666666668,
          0.12866666666666668,
          0.12433333333333334,
          0.11866666666666666,
          0.11266666666666668,
          0.10733333333333334,
          0.10133333333333334,
          0.09700000000000002,
          0.09433333333333334,
          0.09133333333333334,
          0.08866666666666667,
          0.08800000000000001,
          0.08633333333333333,
          0.08433333333333333,
          0.08233333333333333,
          0.08166666666666667,
          0.08166666666666667,
          0.08166666666666667,
          0.08366666666666667,
          0.08466666666666667,
          0.08533333333333333,
          0.08633333333333333,
          0.08700000000000001,
          0.08800000000000001,
          0.08833333333333333,
          0.08966666666666667,
          0.09166666666666667,
          0.09200000000000001,
          0.09400000000000001,
          0.09666666666666668,
          0.09966666666666668,
          0.10233333333333333,
          0.10566666666666667,
          0.11,
          0.114,
          0.11933333333333333,
          0.12566666666666668,
          0.13266666666666668,
          0.139,
          0.14566666666666664,
          0.153,
          0.15966666666666665,
          0.16733333333333333,
          0.17499999999999996,
          0.18400000000000002,
          0.19633333333333333,
          0.20566666666666666,
          0.22,
          0.2363333333333333,
          0.25533333333333336,
          0.2753333333333334,
          0.296,
          0.319,
          0.34400000000000003,
          0.36400000000000005,
          0.38133333333333336,
          0.39766666666666667,
          0.41133333333333333,
          0.4223333333333333,
          0.435,
          0.44966666666666666,
          0.4656666666666667,
          0.48566666666666664,
          0.5126666666666666,
          0.5436666666666667,
          0.5863333333333333,
          0.644,
          0.6976666666666667,
          0.7506666666666666,
          0.7953333333333333,
          0.8383333333333333,
          0.8729999999999999,
          0.8860000000000001,
          0.8773333333333332,
          0.8466666666666667,
          0.7966666666666667,
          0.7346666666666667,
          0.664,
          0.5936666666666667,
          0.5246666666666667,
          0.4483333333333333,
          0.373,
          0.3196666666666667,
          0.272,
          0.231,
          0.19200000000000003,
          0.165,
          0.14266666666666664,
          0.12766666666666668,
          0.11366666666666668,
          0.10333333333333333,
          0.09666666666666668,
          0.09066666666666667,
          0.08666666666666667,
          0.08433333333333333,
          0.08166666666666667,
          0.079,
          0.07666666666666666,
          0.075,
          0.07433333333333332,
          0.07266666666666666,
          0.072,
          0.07066666666666667,
          0.069,
          0.06966666666666667,
          0.069,
          0.068,
          0.06766666666666667,
          0.068,
          0.06733333333333334,
          0.06733333333333334,
          0.06766666666666667,
          0.068,
          0.06866666666666667,
          0.06866666666666667,
          0.06733333333333334,
          0.06733333333333334,
          0.06633333333333334,
          0.066,
          0.067,
          0.06666666666666667,
          0.067,
          0.06666666666666667,
          0.06633333333333334,
          0.067,
          0.066,
          0.06566666666666666,
          0.06733333333333334,
          0.066,
          0.065,
          0.06533333333333334,
          0.06433333333333334,
          0.064,
          0.063,
          0.06233333333333333,
          0.062,
          0.06233333333333333,
          0.06233333333333333,
          0.06233333333333333,
          0.061,
          0.061,
          0.06033333333333333,
          0.06033333333333333,
          0.06,
          0.059,
          0.05833333333333333,
          0.059,
          0.059,
          0.059,
          0.059,
          0.058,
          0.05833333333333333,
          0.05833333333333333,
          0.057,
          0.05633333333333334,
          0.05733333333333334,
          0.05766666666666667,
          0.058,
          0.057666666666666665,
          0.057666666666666665,
          0.05766666666666667,
          0.057,
          0.05666666666666667,
          0.057,
          0.05733333333333334,
          0.05633333333333334,
          0.056,
          0.05566666666666667,
          0.05633333333333334,
          0.05533333333333334,
          0.05366666666666667,
          0.05566666666666667,
          0.05633333333333334,
          0.05733333333333334,
          0.05666666666666667,
          0.05833333333333333,
          0.05766666666666667,
          0.05633333333333334,
          0.057,
          0.055,
          0.05633333333333334,
          0.05566666666666667,
          0.05533333333333334,
          0.055,
          0.056,
          0.05666666666666667,
          0.056,
          0.054,
          0.05633333333333334,
          0.05633333333333334,
          0.055,
          0.056,
          0.055,
          0.05333333333333334,
          0.053,
          0.05433333333333334,
          0.05433333333333334,
          0.05433333333333334,
          0.05466666666666667,
          0.053,
          0.052333333333333336,
          0.053,
          0.05433333333333334,
          0.05333333333333334,
          0.053,
          0.052
         ],
         "yaxis": "y"
        }
       ],
       "layout": {
        "font": {
         "family": "Calibri",
         "size": 14
        },
        "legend": {
         "tracegroupgap": 0
        },
        "template": {
         "data": {
          "bar": [
           {
            "error_x": {
             "color": "#2a3f5f"
            },
            "error_y": {
             "color": "#2a3f5f"
            },
            "marker": {
             "line": {
              "color": "#E5ECF6",
              "width": 0.5
             },
             "pattern": {
              "fillmode": "overlay",
              "size": 10,
              "solidity": 0.2
             }
            },
            "type": "bar"
           }
          ],
          "barpolar": [
           {
            "marker": {
             "line": {
              "color": "#E5ECF6",
              "width": 0.5
             },
             "pattern": {
              "fillmode": "overlay",
              "size": 10,
              "solidity": 0.2
             }
            },
            "type": "barpolar"
           }
          ],
          "carpet": [
           {
            "aaxis": {
             "endlinecolor": "#2a3f5f",
             "gridcolor": "white",
             "linecolor": "white",
             "minorgridcolor": "white",
             "startlinecolor": "#2a3f5f"
            },
            "baxis": {
             "endlinecolor": "#2a3f5f",
             "gridcolor": "white",
             "linecolor": "white",
             "minorgridcolor": "white",
             "startlinecolor": "#2a3f5f"
            },
            "type": "carpet"
           }
          ],
          "choropleth": [
           {
            "colorbar": {
             "outlinewidth": 0,
             "ticks": ""
            },
            "type": "choropleth"
           }
          ],
          "contour": [
           {
            "colorbar": {
             "outlinewidth": 0,
             "ticks": ""
            },
            "colorscale": [
             [
              0,
              "#0d0887"
             ],
             [
              0.1111111111111111,
              "#46039f"
             ],
             [
              0.2222222222222222,
              "#7201a8"
             ],
             [
              0.3333333333333333,
              "#9c179e"
             ],
             [
              0.4444444444444444,
              "#bd3786"
             ],
             [
              0.5555555555555556,
              "#d8576b"
             ],
             [
              0.6666666666666666,
              "#ed7953"
             ],
             [
              0.7777777777777778,
              "#fb9f3a"
             ],
             [
              0.8888888888888888,
              "#fdca26"
             ],
             [
              1,
              "#f0f921"
             ]
            ],
            "type": "contour"
           }
          ],
          "contourcarpet": [
           {
            "colorbar": {
             "outlinewidth": 0,
             "ticks": ""
            },
            "type": "contourcarpet"
           }
          ],
          "heatmap": [
           {
            "colorbar": {
             "outlinewidth": 0,
             "ticks": ""
            },
            "colorscale": [
             [
              0,
              "#0d0887"
             ],
             [
              0.1111111111111111,
              "#46039f"
             ],
             [
              0.2222222222222222,
              "#7201a8"
             ],
             [
              0.3333333333333333,
              "#9c179e"
             ],
             [
              0.4444444444444444,
              "#bd3786"
             ],
             [
              0.5555555555555556,
              "#d8576b"
             ],
             [
              0.6666666666666666,
              "#ed7953"
             ],
             [
              0.7777777777777778,
              "#fb9f3a"
             ],
             [
              0.8888888888888888,
              "#fdca26"
             ],
             [
              1,
              "#f0f921"
             ]
            ],
            "type": "heatmap"
           }
          ],
          "heatmapgl": [
           {
            "colorbar": {
             "outlinewidth": 0,
             "ticks": ""
            },
            "colorscale": [
             [
              0,
              "#0d0887"
             ],
             [
              0.1111111111111111,
              "#46039f"
             ],
             [
              0.2222222222222222,
              "#7201a8"
             ],
             [
              0.3333333333333333,
              "#9c179e"
             ],
             [
              0.4444444444444444,
              "#bd3786"
             ],
             [
              0.5555555555555556,
              "#d8576b"
             ],
             [
              0.6666666666666666,
              "#ed7953"
             ],
             [
              0.7777777777777778,
              "#fb9f3a"
             ],
             [
              0.8888888888888888,
              "#fdca26"
             ],
             [
              1,
              "#f0f921"
             ]
            ],
            "type": "heatmapgl"
           }
          ],
          "histogram": [
           {
            "marker": {
             "pattern": {
              "fillmode": "overlay",
              "size": 10,
              "solidity": 0.2
             }
            },
            "type": "histogram"
           }
          ],
          "histogram2d": [
           {
            "colorbar": {
             "outlinewidth": 0,
             "ticks": ""
            },
            "colorscale": [
             [
              0,
              "#0d0887"
             ],
             [
              0.1111111111111111,
              "#46039f"
             ],
             [
              0.2222222222222222,
              "#7201a8"
             ],
             [
              0.3333333333333333,
              "#9c179e"
             ],
             [
              0.4444444444444444,
              "#bd3786"
             ],
             [
              0.5555555555555556,
              "#d8576b"
             ],
             [
              0.6666666666666666,
              "#ed7953"
             ],
             [
              0.7777777777777778,
              "#fb9f3a"
             ],
             [
              0.8888888888888888,
              "#fdca26"
             ],
             [
              1,
              "#f0f921"
             ]
            ],
            "type": "histogram2d"
           }
          ],
          "histogram2dcontour": [
           {
            "colorbar": {
             "outlinewidth": 0,
             "ticks": ""
            },
            "colorscale": [
             [
              0,
              "#0d0887"
             ],
             [
              0.1111111111111111,
              "#46039f"
             ],
             [
              0.2222222222222222,
              "#7201a8"
             ],
             [
              0.3333333333333333,
              "#9c179e"
             ],
             [
              0.4444444444444444,
              "#bd3786"
             ],
             [
              0.5555555555555556,
              "#d8576b"
             ],
             [
              0.6666666666666666,
              "#ed7953"
             ],
             [
              0.7777777777777778,
              "#fb9f3a"
             ],
             [
              0.8888888888888888,
              "#fdca26"
             ],
             [
              1,
              "#f0f921"
             ]
            ],
            "type": "histogram2dcontour"
           }
          ],
          "mesh3d": [
           {
            "colorbar": {
             "outlinewidth": 0,
             "ticks": ""
            },
            "type": "mesh3d"
           }
          ],
          "parcoords": [
           {
            "line": {
             "colorbar": {
              "outlinewidth": 0,
              "ticks": ""
             }
            },
            "type": "parcoords"
           }
          ],
          "pie": [
           {
            "automargin": true,
            "type": "pie"
           }
          ],
          "scatter": [
           {
            "marker": {
             "colorbar": {
              "outlinewidth": 0,
              "ticks": ""
             }
            },
            "type": "scatter"
           }
          ],
          "scatter3d": [
           {
            "line": {
             "colorbar": {
              "outlinewidth": 0,
              "ticks": ""
             }
            },
            "marker": {
             "colorbar": {
              "outlinewidth": 0,
              "ticks": ""
             }
            },
            "type": "scatter3d"
           }
          ],
          "scattercarpet": [
           {
            "marker": {
             "colorbar": {
              "outlinewidth": 0,
              "ticks": ""
             }
            },
            "type": "scattercarpet"
           }
          ],
          "scattergeo": [
           {
            "marker": {
             "colorbar": {
              "outlinewidth": 0,
              "ticks": ""
             }
            },
            "type": "scattergeo"
           }
          ],
          "scattergl": [
           {
            "marker": {
             "colorbar": {
              "outlinewidth": 0,
              "ticks": ""
             }
            },
            "type": "scattergl"
           }
          ],
          "scattermapbox": [
           {
            "marker": {
             "colorbar": {
              "outlinewidth": 0,
              "ticks": ""
             }
            },
            "type": "scattermapbox"
           }
          ],
          "scatterpolar": [
           {
            "marker": {
             "colorbar": {
              "outlinewidth": 0,
              "ticks": ""
             }
            },
            "type": "scatterpolar"
           }
          ],
          "scatterpolargl": [
           {
            "marker": {
             "colorbar": {
              "outlinewidth": 0,
              "ticks": ""
             }
            },
            "type": "scatterpolargl"
           }
          ],
          "scatterternary": [
           {
            "marker": {
             "colorbar": {
              "outlinewidth": 0,
              "ticks": ""
             }
            },
            "type": "scatterternary"
           }
          ],
          "surface": [
           {
            "colorbar": {
             "outlinewidth": 0,
             "ticks": ""
            },
            "colorscale": [
             [
              0,
              "#0d0887"
             ],
             [
              0.1111111111111111,
              "#46039f"
             ],
             [
              0.2222222222222222,
              "#7201a8"
             ],
             [
              0.3333333333333333,
              "#9c179e"
             ],
             [
              0.4444444444444444,
              "#bd3786"
             ],
             [
              0.5555555555555556,
              "#d8576b"
             ],
             [
              0.6666666666666666,
              "#ed7953"
             ],
             [
              0.7777777777777778,
              "#fb9f3a"
             ],
             [
              0.8888888888888888,
              "#fdca26"
             ],
             [
              1,
              "#f0f921"
             ]
            ],
            "type": "surface"
           }
          ],
          "table": [
           {
            "cells": {
             "fill": {
              "color": "#EBF0F8"
             },
             "line": {
              "color": "white"
             }
            },
            "header": {
             "fill": {
              "color": "#C8D4E3"
             },
             "line": {
              "color": "white"
             }
            },
            "type": "table"
           }
          ]
         },
         "layout": {
          "annotationdefaults": {
           "arrowcolor": "#2a3f5f",
           "arrowhead": 0,
           "arrowwidth": 1
          },
          "autotypenumbers": "strict",
          "coloraxis": {
           "colorbar": {
            "outlinewidth": 0,
            "ticks": ""
           }
          },
          "colorscale": {
           "diverging": [
            [
             0,
             "#8e0152"
            ],
            [
             0.1,
             "#c51b7d"
            ],
            [
             0.2,
             "#de77ae"
            ],
            [
             0.3,
             "#f1b6da"
            ],
            [
             0.4,
             "#fde0ef"
            ],
            [
             0.5,
             "#f7f7f7"
            ],
            [
             0.6,
             "#e6f5d0"
            ],
            [
             0.7,
             "#b8e186"
            ],
            [
             0.8,
             "#7fbc41"
            ],
            [
             0.9,
             "#4d9221"
            ],
            [
             1,
             "#276419"
            ]
           ],
           "sequential": [
            [
             0,
             "#0d0887"
            ],
            [
             0.1111111111111111,
             "#46039f"
            ],
            [
             0.2222222222222222,
             "#7201a8"
            ],
            [
             0.3333333333333333,
             "#9c179e"
            ],
            [
             0.4444444444444444,
             "#bd3786"
            ],
            [
             0.5555555555555556,
             "#d8576b"
            ],
            [
             0.6666666666666666,
             "#ed7953"
            ],
            [
             0.7777777777777778,
             "#fb9f3a"
            ],
            [
             0.8888888888888888,
             "#fdca26"
            ],
            [
             1,
             "#f0f921"
            ]
           ],
           "sequentialminus": [
            [
             0,
             "#0d0887"
            ],
            [
             0.1111111111111111,
             "#46039f"
            ],
            [
             0.2222222222222222,
             "#7201a8"
            ],
            [
             0.3333333333333333,
             "#9c179e"
            ],
            [
             0.4444444444444444,
             "#bd3786"
            ],
            [
             0.5555555555555556,
             "#d8576b"
            ],
            [
             0.6666666666666666,
             "#ed7953"
            ],
            [
             0.7777777777777778,
             "#fb9f3a"
            ],
            [
             0.8888888888888888,
             "#fdca26"
            ],
            [
             1,
             "#f0f921"
            ]
           ]
          },
          "colorway": [
           "#636efa",
           "#EF553B",
           "#00cc96",
           "#ab63fa",
           "#FFA15A",
           "#19d3f3",
           "#FF6692",
           "#B6E880",
           "#FF97FF",
           "#FECB52"
          ],
          "font": {
           "color": "#2a3f5f"
          },
          "geo": {
           "bgcolor": "white",
           "lakecolor": "white",
           "landcolor": "#E5ECF6",
           "showlakes": true,
           "showland": true,
           "subunitcolor": "white"
          },
          "hoverlabel": {
           "align": "left"
          },
          "hovermode": "closest",
          "mapbox": {
           "style": "light"
          },
          "paper_bgcolor": "white",
          "plot_bgcolor": "#E5ECF6",
          "polar": {
           "angularaxis": {
            "gridcolor": "white",
            "linecolor": "white",
            "ticks": ""
           },
           "bgcolor": "#E5ECF6",
           "radialaxis": {
            "gridcolor": "white",
            "linecolor": "white",
            "ticks": ""
           }
          },
          "scene": {
           "xaxis": {
            "backgroundcolor": "#E5ECF6",
            "gridcolor": "white",
            "gridwidth": 2,
            "linecolor": "white",
            "showbackground": true,
            "ticks": "",
            "zerolinecolor": "white"
           },
           "yaxis": {
            "backgroundcolor": "#E5ECF6",
            "gridcolor": "white",
            "gridwidth": 2,
            "linecolor": "white",
            "showbackground": true,
            "ticks": "",
            "zerolinecolor": "white"
           },
           "zaxis": {
            "backgroundcolor": "#E5ECF6",
            "gridcolor": "white",
            "gridwidth": 2,
            "linecolor": "white",
            "showbackground": true,
            "ticks": "",
            "zerolinecolor": "white"
           }
          },
          "shapedefaults": {
           "line": {
            "color": "#2a3f5f"
           }
          },
          "ternary": {
           "aaxis": {
            "gridcolor": "white",
            "linecolor": "white",
            "ticks": ""
           },
           "baxis": {
            "gridcolor": "white",
            "linecolor": "white",
            "ticks": ""
           },
           "bgcolor": "#E5ECF6",
           "caxis": {
            "gridcolor": "white",
            "linecolor": "white",
            "ticks": ""
           }
          },
          "title": {
           "x": 0.05
          },
          "xaxis": {
           "automargin": true,
           "gridcolor": "white",
           "linecolor": "white",
           "ticks": "",
           "title": {
            "standoff": 15
           },
           "zerolinecolor": "white",
           "zerolinewidth": 2
          },
          "yaxis": {
           "automargin": true,
           "gridcolor": "white",
           "linecolor": "white",
           "ticks": "",
           "title": {
            "standoff": 15
           },
           "zerolinecolor": "white",
           "zerolinewidth": 2
          }
         }
        },
        "title": {
         "text": "How Absorbance Varies with Wavelength for Sample S1: 25.000 mg/L"
        },
        "xaxis": {
         "anchor": "y",
         "domain": [
          0,
          1
         ],
         "title": {
          "text": "Wavelength / nm"
         }
        },
        "yaxis": {
         "anchor": "x",
         "domain": [
          0,
          1
         ],
         "range": [
          0,
          6
         ],
         "title": {
          "text": "Absorbance"
         }
        }
       }
      },
      "text/html": [
       "<div>                            <div id=\"21ca352d-3266-4aca-91bc-942b5e9af3e1\" class=\"plotly-graph-div\" style=\"height:525px; width:100%;\"></div>            <script type=\"text/javascript\">                require([\"plotly\"], function(Plotly) {                    window.PLOTLYENV=window.PLOTLYENV || {};                                    if (document.getElementById(\"21ca352d-3266-4aca-91bc-942b5e9af3e1\")) {                    Plotly.newPlot(                        \"21ca352d-3266-4aca-91bc-942b5e9af3e1\",                        [{\"error_y\":{\"array\":[0.17653517118882184,0.18115248334544642,0.26918147534083153,0.21511547286670624,0.35779603128039317,0.10229478101165371,0.08108157757605731,0.0,0.03638070306571266,0.030800432897390817,0.0,0.0,0.0,0.0,0.0,0.0,0.0,0.06175399222362526,0.0,0.011085526098877313,0.0,0.0,0.0,0.0,0.0,0.02779688231918587,0.008956685895029662,0.084956197864285,0.09034870717884602,0.025961509971494608,0.12338107184203317,0.10888934240268369,0.09033394833738972,0.07529645114848069,0.0625157757867742,0.05435888969514452,0.04899886620003451,0.0392031744746377,0.029393876913398162,0.022866763848189968,0.01960158723731889,0.016753109164172098,0.015121728296284997,0.01309792180292568,0.01151810169544732,0.01104536101718727,0.009843215373488942,0.00980929264637476,0.009030811456096032,0.008653836657164788,0.008653836657164788,0.008286535263104043,0.007408703590297629,0.007408703590297605,0.006976149845485435,0.006976149845485456,0.00654896090146284,0.005792715732327594,0.005792715732327594,0.00535412613473633,0.0058878405775518936,0.005557777333511027,0.0043204937989385775,0.004546060565661956,0.0038586123009300786,0.004189935029992169,0.0032998316455372123,0.0029439202887759515,0.0032659863237109073,0.002867441755680878,0.002867441755680878,0.0020548046676563273,0.0020548046676563273,0.0024944382578492965,0.0024944382578492965,0.0024944382578492843,0.0021602468994692888,0.0016996731711975965,0.0016996731711975965,0.0014142135623730965,0.0016996731711975965,0.0016996731711975965,0.0016996731711975837,0.0014142135623730833,0.0012472191289246482,0.0012472191289246482,0.0012472191289246482,0.0012472191289246482,0.0012472191289246422,0.0012472191289246482,0.0012472191289246482,0.0012472191289246422,0.0016329931618554536,0.0009428090415820641,0.0009428090415820641,0.0012472191289246482,0.0014142135623730963,0.0009428090415820576,0.0009428090415820641,0.0009428090415820641,0.00047140452079103207,0.00047140452079103207,0.00047140452079103207,0.00047140452079103207,0.00047140452079103207,0.0009428090415820576,0.0009428090415820576,0.0008164965809277268,0.0008164965809277268,0.0009428090415820641,0.00047140452079103207,0.00047140452079103207,0.0008164965809277268,0.0008164965809277268,0.00047140452079103207,0.00047140452079103207,0.00047140452079103207,0.00047140452079103207,0.0008164965809277268,0.0008164965809277268,0.00047140452079103207,0.00047140452079103207,0.00047140452079103207,0.0008164965809277268,0.00047140452079103207,0.0008164965809277268,0.00047140452079103207,0.0009428090415820641,0.0008164965809277268,0.0008164965809277268,0.0009428090415820641,0.00047140452079103207,0.0,0.00047140452079103207,0.00047140452079103207,0.00047140452079103207,0.0008164965809277268,0.0008164965809277268,0.0008164965809277042,0.0008164965809277268,0.0012472191289246482,0.0009428090415820641,0.0012472191289246482,0.0012472191289246482,0.0014142135623730965,0.0009428090415820641,0.0009428090415820641,0.0012472191289246482,0.0012472191289246482,0.0012472191289246482,0.0016996731711975965,0.0021602468994692888,0.002624669291337273,0.002867441755680878,0.0024944382578492965,0.0024944382578492965,0.00244948974278318,0.0029439202887759515,0.002867441755680878,0.0023570226039551605,0.0023570226039551605,0.0016996731711975963,0.0021602468994692888,0.0016996731711975963,0.0016996731711975963,0.0012472191289246482,0.0014142135623730965,0.0009428090415820641,0.0008164965809277268,0.0008164965809277268,0.0008164965809277268,0.0008164965809277268,0.00047140452079103207,0.00047140452079103207,0.00047140452079103207,0.0009428090415820641,0.00047140452079103207,0.00047140452079103207,0.00047140452079103207,0.00047140452079103207,0.00047140452079103207,0.0008164965809277268,0.00047140452079103207,0.0008164965809277268,0.0009428090415820641,0.00047140452079103207,0.0,0.00047140452079102557,0.0008164965809277268,0.00047140452079103207,0.0,0.0008164965809277268,0.00047140452079103207,0.0008164965809277268,0.00047140452079103207,0.00047140452079103207,0.00047140452079103207,0.0,0.00047140452079103207,0.00047140452079103207,0.00047140452079103207,0.00047140452079103207,0.00047140452079103207,0.0,0.0,0.00047140452079103207,0.0,0.0009428090415820641,0.00047140452079103207,0.0,0.0,0.00047140452079103207,0.00047140452079103207,0.0,0.0,0.00047140452079103207,0.00047140452079103207,0.0008164965809277268,0.0,0.00047140452079103207,0.0008164965809277268,0.00047140452079103207,0.00047140452079103207,0.00047140452079103207,0.0008164965809277268,0.0008164965809277268,0.00047140452079103207,0.00047140452079103207,0.0,0.0,0.0004714045207910288,0.0,0.0,0.0,0.0,0.0,0.0004714045207910288,0.0004714045207910288,0.0,0.00047140452079103207,0.00047140452079103207,0.00047140452079103207,0.0,0.0009428090415820609,0.0009428090415820609,0.00047140452079103207,0.0008164965809277268,0.00047140452079103207,0.0,0.00047140452079103207,0.00047140452079103207,0.0,0.00047140452079103207,0.00047140452079103207,0.00047140452079103207,0.00047140452079103207,0.0009428090415820641,0.00047140452079103207,0.00047140452079103207,0.00047140452079103207,0.0004714045207910288,0.00047140452079103207,0.00047140452079103207,0.0,0.0,0.00047140452079103207,0.00047140452079103207,0.00047140452079103207,0.0,0.0,0.00047140452079103207,0.0008164965809277268,0.0,0.00047140452079103207,0.00047140452079103207,0.0,0.0008164965809277268,0.0008164965809277268,0.0009428090415820641,0.0,0.00047140452079103207,0.00047140452079103207,0.00047140452079103207,0.00047140452079103207,0.0,0.00047140452079103207,0.0,0.00047140452079103207,0.00047140452079103207,0.0,0.0]},\"hovertemplate\":\"Wavelength / nm=%{x}<br>Absorbance=%{y}<extra></extra>\",\"legendgroup\":\"\",\"marker\":{\"color\":\"#636efa\",\"line\":{\"color\":\"DarkSlateGrey\",\"width\":2},\"size\":8,\"symbol\":\"circle\"},\"mode\":\"markers\",\"name\":\"\",\"orientation\":\"v\",\"showlegend\":false,\"type\":\"scatter\",\"x\":[\"220\",\"222\",\"224\",\"226\",\"228\",\"230\",\"232\",\"234\",\"236\",\"238\",\"240\",\"242\",\"244\",\"246\",\"248\",\"250\",\"252\",\"254\",\"256\",\"258\",\"260\",\"262\",\"264\",\"266\",\"268\",\"270\",\"272\",\"274\",\"276\",\"278\",\"280\",\"282\",\"284\",\"286\",\"288\",\"290\",\"292\",\"294\",\"296\",\"298\",\"300\",\"302\",\"304\",\"306\",\"308\",\"310\",\"312\",\"314\",\"316\",\"318\",\"320\",\"322\",\"324\",\"326\",\"328\",\"330\",\"332\",\"334\",\"336\",\"338\",\"340\",\"342\",\"344\",\"346\",\"348\",\"350\",\"352\",\"354\",\"356\",\"358\",\"360\",\"362\",\"364\",\"366\",\"368\",\"370\",\"372\",\"374\",\"376\",\"378\",\"380\",\"382\",\"384\",\"386\",\"388\",\"390\",\"392\",\"394\",\"396\",\"398\",\"400\",\"402\",\"404\",\"406\",\"408\",\"410\",\"412\",\"414\",\"416\",\"418\",\"420\",\"422\",\"424\",\"426\",\"428\",\"430\",\"432\",\"434\",\"436\",\"438\",\"440\",\"442\",\"444\",\"446\",\"448\",\"450\",\"452\",\"454\",\"456\",\"458\",\"460\",\"462\",\"464\",\"466\",\"468\",\"470\",\"472\",\"474\",\"476\",\"478\",\"480\",\"482\",\"484\",\"486\",\"488\",\"490\",\"492\",\"494\",\"496\",\"498\",\"500\",\"502\",\"504\",\"506\",\"508\",\"510\",\"512\",\"514\",\"516\",\"518\",\"520\",\"522\",\"524\",\"526\",\"528\",\"530\",\"532\",\"534\",\"536\",\"538\",\"540\",\"542\",\"544\",\"546\",\"548\",\"550\",\"552\",\"554\",\"556\",\"558\",\"560\",\"562\",\"564\",\"566\",\"568\",\"570\",\"572\",\"574\",\"576\",\"578\",\"580\",\"582\",\"584\",\"586\",\"588\",\"590\",\"592\",\"594\",\"596\",\"598\",\"600\",\"602\",\"604\",\"606\",\"608\",\"610\",\"612\",\"614\",\"616\",\"618\",\"620\",\"622\",\"624\",\"626\",\"628\",\"630\",\"632\",\"634\",\"636\",\"638\",\"640\",\"642\",\"644\",\"646\",\"648\",\"650\",\"652\",\"654\",\"656\",\"658\",\"660\",\"662\",\"664\",\"666\",\"668\",\"670\",\"672\",\"674\",\"676\",\"678\",\"680\",\"682\",\"684\",\"686\",\"688\",\"690\",\"692\",\"694\",\"696\",\"698\",\"700\",\"702\",\"704\",\"706\",\"708\",\"710\",\"712\",\"714\",\"716\",\"718\",\"720\",\"722\",\"724\",\"726\",\"728\",\"730\",\"732\",\"734\",\"736\",\"738\",\"740\",\"742\",\"744\",\"746\",\"748\",\"750\",\"752\",\"754\",\"756\",\"758\",\"760\",\"762\",\"764\",\"766\",\"768\",\"770\",\"772\",\"774\",\"776\",\"778\",\"780\",\"782\",\"784\",\"786\",\"788\",\"790\",\"792\",\"794\",\"796\",\"798\",\"800\"],\"xaxis\":\"x\",\"y\":[3.4299999999999997,3.735333333333333,4.072,4.4270000000000005,5.034,5.214666666666666,5.229666666666667,5.287,4.903333333333333,5.1770000000000005,5.287,5.287,5.287,5.287,5.287,5.287,5.287,5.243333333333333,5.287,5.117333333333334,5.287,5.287,5.287,5.287,5.287,5.25,5.280666666666666,5.1063333333333345,4.803666666666667,4.796,3.9466666666666668,3.1263333333333336,2.5413333333333337,2.0953333333333335,1.7156666666666667,1.499666666666667,1.3953333333333333,1.1453333333333333,0.87,0.6953333333333332,0.5883333333333334,0.518,0.476,0.4346666666666667,0.403,0.379,0.3626666666666667,0.34933333333333333,0.3376666666666666,0.32633333333333336,0.31633333333333336,0.306,0.29266666666666663,0.2856666666666667,0.28,0.272,0.26233333333333336,0.25266666666666665,0.24466666666666667,0.237,0.231,0.22566666666666668,0.219,0.215,0.21133333333333335,0.20766666666666667,0.20333333333333334,0.19800000000000004,0.19400000000000003,0.18966666666666665,0.18466666666666667,0.18266666666666667,0.18066666666666667,0.17833333333333332,0.17533333333333334,0.1723333333333333,0.169,0.16433333333333333,0.15733333333333333,0.153,0.14933333333333332,0.14533333333333331,0.14233333333333334,0.14,0.1376666666666667,0.13266666666666668,0.12866666666666668,0.12433333333333334,0.11866666666666666,0.11266666666666668,0.10733333333333334,0.10133333333333334,0.09700000000000002,0.09433333333333334,0.09133333333333334,0.08866666666666667,0.08800000000000001,0.08633333333333333,0.08433333333333333,0.08233333333333333,0.08166666666666667,0.08166666666666667,0.08166666666666667,0.08366666666666667,0.08466666666666667,0.08533333333333333,0.08633333333333333,0.08700000000000001,0.08800000000000001,0.08833333333333333,0.08966666666666667,0.09166666666666667,0.09200000000000001,0.09400000000000001,0.09666666666666668,0.09966666666666668,0.10233333333333333,0.10566666666666667,0.11,0.114,0.11933333333333333,0.12566666666666668,0.13266666666666668,0.139,0.14566666666666664,0.153,0.15966666666666665,0.16733333333333333,0.17499999999999996,0.18400000000000002,0.19633333333333333,0.20566666666666666,0.22,0.2363333333333333,0.25533333333333336,0.2753333333333334,0.296,0.319,0.34400000000000003,0.36400000000000005,0.38133333333333336,0.39766666666666667,0.41133333333333333,0.4223333333333333,0.435,0.44966666666666666,0.4656666666666667,0.48566666666666664,0.5126666666666666,0.5436666666666667,0.5863333333333333,0.644,0.6976666666666667,0.7506666666666666,0.7953333333333333,0.8383333333333333,0.8729999999999999,0.8860000000000001,0.8773333333333332,0.8466666666666667,0.7966666666666667,0.7346666666666667,0.664,0.5936666666666667,0.5246666666666667,0.4483333333333333,0.373,0.3196666666666667,0.272,0.231,0.19200000000000003,0.165,0.14266666666666664,0.12766666666666668,0.11366666666666668,0.10333333333333333,0.09666666666666668,0.09066666666666667,0.08666666666666667,0.08433333333333333,0.08166666666666667,0.079,0.07666666666666666,0.075,0.07433333333333332,0.07266666666666666,0.072,0.07066666666666667,0.069,0.06966666666666667,0.069,0.068,0.06766666666666667,0.068,0.06733333333333334,0.06733333333333334,0.06766666666666667,0.068,0.06866666666666667,0.06866666666666667,0.06733333333333334,0.06733333333333334,0.06633333333333334,0.066,0.067,0.06666666666666667,0.067,0.06666666666666667,0.06633333333333334,0.067,0.066,0.06566666666666666,0.06733333333333334,0.066,0.065,0.06533333333333334,0.06433333333333334,0.064,0.063,0.06233333333333333,0.062,0.06233333333333333,0.06233333333333333,0.06233333333333333,0.061,0.061,0.06033333333333333,0.06033333333333333,0.06,0.059,0.05833333333333333,0.059,0.059,0.059,0.059,0.058,0.05833333333333333,0.05833333333333333,0.057,0.05633333333333334,0.05733333333333334,0.05766666666666667,0.058,0.057666666666666665,0.057666666666666665,0.05766666666666667,0.057,0.05666666666666667,0.057,0.05733333333333334,0.05633333333333334,0.056,0.05566666666666667,0.05633333333333334,0.05533333333333334,0.05366666666666667,0.05566666666666667,0.05633333333333334,0.05733333333333334,0.05666666666666667,0.05833333333333333,0.05766666666666667,0.05633333333333334,0.057,0.055,0.05633333333333334,0.05566666666666667,0.05533333333333334,0.055,0.056,0.05666666666666667,0.056,0.054,0.05633333333333334,0.05633333333333334,0.055,0.056,0.055,0.05333333333333334,0.053,0.05433333333333334,0.05433333333333334,0.05433333333333334,0.05466666666666667,0.053,0.052333333333333336,0.053,0.05433333333333334,0.05333333333333334,0.053,0.052],\"yaxis\":\"y\"}],                        {\"font\":{\"family\":\"Calibri\",\"size\":14},\"legend\":{\"tracegroupgap\":0},\"template\":{\"data\":{\"bar\":[{\"error_x\":{\"color\":\"#2a3f5f\"},\"error_y\":{\"color\":\"#2a3f5f\"},\"marker\":{\"line\":{\"color\":\"#E5ECF6\",\"width\":0.5},\"pattern\":{\"fillmode\":\"overlay\",\"size\":10,\"solidity\":0.2}},\"type\":\"bar\"}],\"barpolar\":[{\"marker\":{\"line\":{\"color\":\"#E5ECF6\",\"width\":0.5},\"pattern\":{\"fillmode\":\"overlay\",\"size\":10,\"solidity\":0.2}},\"type\":\"barpolar\"}],\"carpet\":[{\"aaxis\":{\"endlinecolor\":\"#2a3f5f\",\"gridcolor\":\"white\",\"linecolor\":\"white\",\"minorgridcolor\":\"white\",\"startlinecolor\":\"#2a3f5f\"},\"baxis\":{\"endlinecolor\":\"#2a3f5f\",\"gridcolor\":\"white\",\"linecolor\":\"white\",\"minorgridcolor\":\"white\",\"startlinecolor\":\"#2a3f5f\"},\"type\":\"carpet\"}],\"choropleth\":[{\"colorbar\":{\"outlinewidth\":0,\"ticks\":\"\"},\"type\":\"choropleth\"}],\"contour\":[{\"colorbar\":{\"outlinewidth\":0,\"ticks\":\"\"},\"colorscale\":[[0.0,\"#0d0887\"],[0.1111111111111111,\"#46039f\"],[0.2222222222222222,\"#7201a8\"],[0.3333333333333333,\"#9c179e\"],[0.4444444444444444,\"#bd3786\"],[0.5555555555555556,\"#d8576b\"],[0.6666666666666666,\"#ed7953\"],[0.7777777777777778,\"#fb9f3a\"],[0.8888888888888888,\"#fdca26\"],[1.0,\"#f0f921\"]],\"type\":\"contour\"}],\"contourcarpet\":[{\"colorbar\":{\"outlinewidth\":0,\"ticks\":\"\"},\"type\":\"contourcarpet\"}],\"heatmap\":[{\"colorbar\":{\"outlinewidth\":0,\"ticks\":\"\"},\"colorscale\":[[0.0,\"#0d0887\"],[0.1111111111111111,\"#46039f\"],[0.2222222222222222,\"#7201a8\"],[0.3333333333333333,\"#9c179e\"],[0.4444444444444444,\"#bd3786\"],[0.5555555555555556,\"#d8576b\"],[0.6666666666666666,\"#ed7953\"],[0.7777777777777778,\"#fb9f3a\"],[0.8888888888888888,\"#fdca26\"],[1.0,\"#f0f921\"]],\"type\":\"heatmap\"}],\"heatmapgl\":[{\"colorbar\":{\"outlinewidth\":0,\"ticks\":\"\"},\"colorscale\":[[0.0,\"#0d0887\"],[0.1111111111111111,\"#46039f\"],[0.2222222222222222,\"#7201a8\"],[0.3333333333333333,\"#9c179e\"],[0.4444444444444444,\"#bd3786\"],[0.5555555555555556,\"#d8576b\"],[0.6666666666666666,\"#ed7953\"],[0.7777777777777778,\"#fb9f3a\"],[0.8888888888888888,\"#fdca26\"],[1.0,\"#f0f921\"]],\"type\":\"heatmapgl\"}],\"histogram\":[{\"marker\":{\"pattern\":{\"fillmode\":\"overlay\",\"size\":10,\"solidity\":0.2}},\"type\":\"histogram\"}],\"histogram2d\":[{\"colorbar\":{\"outlinewidth\":0,\"ticks\":\"\"},\"colorscale\":[[0.0,\"#0d0887\"],[0.1111111111111111,\"#46039f\"],[0.2222222222222222,\"#7201a8\"],[0.3333333333333333,\"#9c179e\"],[0.4444444444444444,\"#bd3786\"],[0.5555555555555556,\"#d8576b\"],[0.6666666666666666,\"#ed7953\"],[0.7777777777777778,\"#fb9f3a\"],[0.8888888888888888,\"#fdca26\"],[1.0,\"#f0f921\"]],\"type\":\"histogram2d\"}],\"histogram2dcontour\":[{\"colorbar\":{\"outlinewidth\":0,\"ticks\":\"\"},\"colorscale\":[[0.0,\"#0d0887\"],[0.1111111111111111,\"#46039f\"],[0.2222222222222222,\"#7201a8\"],[0.3333333333333333,\"#9c179e\"],[0.4444444444444444,\"#bd3786\"],[0.5555555555555556,\"#d8576b\"],[0.6666666666666666,\"#ed7953\"],[0.7777777777777778,\"#fb9f3a\"],[0.8888888888888888,\"#fdca26\"],[1.0,\"#f0f921\"]],\"type\":\"histogram2dcontour\"}],\"mesh3d\":[{\"colorbar\":{\"outlinewidth\":0,\"ticks\":\"\"},\"type\":\"mesh3d\"}],\"parcoords\":[{\"line\":{\"colorbar\":{\"outlinewidth\":0,\"ticks\":\"\"}},\"type\":\"parcoords\"}],\"pie\":[{\"automargin\":true,\"type\":\"pie\"}],\"scatter\":[{\"marker\":{\"colorbar\":{\"outlinewidth\":0,\"ticks\":\"\"}},\"type\":\"scatter\"}],\"scatter3d\":[{\"line\":{\"colorbar\":{\"outlinewidth\":0,\"ticks\":\"\"}},\"marker\":{\"colorbar\":{\"outlinewidth\":0,\"ticks\":\"\"}},\"type\":\"scatter3d\"}],\"scattercarpet\":[{\"marker\":{\"colorbar\":{\"outlinewidth\":0,\"ticks\":\"\"}},\"type\":\"scattercarpet\"}],\"scattergeo\":[{\"marker\":{\"colorbar\":{\"outlinewidth\":0,\"ticks\":\"\"}},\"type\":\"scattergeo\"}],\"scattergl\":[{\"marker\":{\"colorbar\":{\"outlinewidth\":0,\"ticks\":\"\"}},\"type\":\"scattergl\"}],\"scattermapbox\":[{\"marker\":{\"colorbar\":{\"outlinewidth\":0,\"ticks\":\"\"}},\"type\":\"scattermapbox\"}],\"scatterpolar\":[{\"marker\":{\"colorbar\":{\"outlinewidth\":0,\"ticks\":\"\"}},\"type\":\"scatterpolar\"}],\"scatterpolargl\":[{\"marker\":{\"colorbar\":{\"outlinewidth\":0,\"ticks\":\"\"}},\"type\":\"scatterpolargl\"}],\"scatterternary\":[{\"marker\":{\"colorbar\":{\"outlinewidth\":0,\"ticks\":\"\"}},\"type\":\"scatterternary\"}],\"surface\":[{\"colorbar\":{\"outlinewidth\":0,\"ticks\":\"\"},\"colorscale\":[[0.0,\"#0d0887\"],[0.1111111111111111,\"#46039f\"],[0.2222222222222222,\"#7201a8\"],[0.3333333333333333,\"#9c179e\"],[0.4444444444444444,\"#bd3786\"],[0.5555555555555556,\"#d8576b\"],[0.6666666666666666,\"#ed7953\"],[0.7777777777777778,\"#fb9f3a\"],[0.8888888888888888,\"#fdca26\"],[1.0,\"#f0f921\"]],\"type\":\"surface\"}],\"table\":[{\"cells\":{\"fill\":{\"color\":\"#EBF0F8\"},\"line\":{\"color\":\"white\"}},\"header\":{\"fill\":{\"color\":\"#C8D4E3\"},\"line\":{\"color\":\"white\"}},\"type\":\"table\"}]},\"layout\":{\"annotationdefaults\":{\"arrowcolor\":\"#2a3f5f\",\"arrowhead\":0,\"arrowwidth\":1},\"autotypenumbers\":\"strict\",\"coloraxis\":{\"colorbar\":{\"outlinewidth\":0,\"ticks\":\"\"}},\"colorscale\":{\"diverging\":[[0,\"#8e0152\"],[0.1,\"#c51b7d\"],[0.2,\"#de77ae\"],[0.3,\"#f1b6da\"],[0.4,\"#fde0ef\"],[0.5,\"#f7f7f7\"],[0.6,\"#e6f5d0\"],[0.7,\"#b8e186\"],[0.8,\"#7fbc41\"],[0.9,\"#4d9221\"],[1,\"#276419\"]],\"sequential\":[[0.0,\"#0d0887\"],[0.1111111111111111,\"#46039f\"],[0.2222222222222222,\"#7201a8\"],[0.3333333333333333,\"#9c179e\"],[0.4444444444444444,\"#bd3786\"],[0.5555555555555556,\"#d8576b\"],[0.6666666666666666,\"#ed7953\"],[0.7777777777777778,\"#fb9f3a\"],[0.8888888888888888,\"#fdca26\"],[1.0,\"#f0f921\"]],\"sequentialminus\":[[0.0,\"#0d0887\"],[0.1111111111111111,\"#46039f\"],[0.2222222222222222,\"#7201a8\"],[0.3333333333333333,\"#9c179e\"],[0.4444444444444444,\"#bd3786\"],[0.5555555555555556,\"#d8576b\"],[0.6666666666666666,\"#ed7953\"],[0.7777777777777778,\"#fb9f3a\"],[0.8888888888888888,\"#fdca26\"],[1.0,\"#f0f921\"]]},\"colorway\":[\"#636efa\",\"#EF553B\",\"#00cc96\",\"#ab63fa\",\"#FFA15A\",\"#19d3f3\",\"#FF6692\",\"#B6E880\",\"#FF97FF\",\"#FECB52\"],\"font\":{\"color\":\"#2a3f5f\"},\"geo\":{\"bgcolor\":\"white\",\"lakecolor\":\"white\",\"landcolor\":\"#E5ECF6\",\"showlakes\":true,\"showland\":true,\"subunitcolor\":\"white\"},\"hoverlabel\":{\"align\":\"left\"},\"hovermode\":\"closest\",\"mapbox\":{\"style\":\"light\"},\"paper_bgcolor\":\"white\",\"plot_bgcolor\":\"#E5ECF6\",\"polar\":{\"angularaxis\":{\"gridcolor\":\"white\",\"linecolor\":\"white\",\"ticks\":\"\"},\"bgcolor\":\"#E5ECF6\",\"radialaxis\":{\"gridcolor\":\"white\",\"linecolor\":\"white\",\"ticks\":\"\"}},\"scene\":{\"xaxis\":{\"backgroundcolor\":\"#E5ECF6\",\"gridcolor\":\"white\",\"gridwidth\":2,\"linecolor\":\"white\",\"showbackground\":true,\"ticks\":\"\",\"zerolinecolor\":\"white\"},\"yaxis\":{\"backgroundcolor\":\"#E5ECF6\",\"gridcolor\":\"white\",\"gridwidth\":2,\"linecolor\":\"white\",\"showbackground\":true,\"ticks\":\"\",\"zerolinecolor\":\"white\"},\"zaxis\":{\"backgroundcolor\":\"#E5ECF6\",\"gridcolor\":\"white\",\"gridwidth\":2,\"linecolor\":\"white\",\"showbackground\":true,\"ticks\":\"\",\"zerolinecolor\":\"white\"}},\"shapedefaults\":{\"line\":{\"color\":\"#2a3f5f\"}},\"ternary\":{\"aaxis\":{\"gridcolor\":\"white\",\"linecolor\":\"white\",\"ticks\":\"\"},\"baxis\":{\"gridcolor\":\"white\",\"linecolor\":\"white\",\"ticks\":\"\"},\"bgcolor\":\"#E5ECF6\",\"caxis\":{\"gridcolor\":\"white\",\"linecolor\":\"white\",\"ticks\":\"\"}},\"title\":{\"x\":0.05},\"xaxis\":{\"automargin\":true,\"gridcolor\":\"white\",\"linecolor\":\"white\",\"ticks\":\"\",\"title\":{\"standoff\":15},\"zerolinecolor\":\"white\",\"zerolinewidth\":2},\"yaxis\":{\"automargin\":true,\"gridcolor\":\"white\",\"linecolor\":\"white\",\"ticks\":\"\",\"title\":{\"standoff\":15},\"zerolinecolor\":\"white\",\"zerolinewidth\":2}}},\"title\":{\"text\":\"How Absorbance Varies with Wavelength for Sample S1: 25.000 mg/L\"},\"xaxis\":{\"anchor\":\"y\",\"domain\":[0.0,1.0],\"title\":{\"text\":\"Wavelength / nm\"}},\"yaxis\":{\"anchor\":\"x\",\"domain\":[0.0,1.0],\"range\":[0,6],\"title\":{\"text\":\"Absorbance\"}}},                        {\"responsive\": true}                    ).then(function(){\n",
       "                            \n",
       "var gd = document.getElementById('21ca352d-3266-4aca-91bc-942b5e9af3e1');\n",
       "var x = new MutationObserver(function (mutations, observer) {{\n",
       "        var display = window.getComputedStyle(gd).display;\n",
       "        if (!display || display === 'none') {{\n",
       "            console.log([gd, 'removed!']);\n",
       "            Plotly.purge(gd);\n",
       "            observer.disconnect();\n",
       "        }}\n",
       "}});\n",
       "\n",
       "// Listen for the removal of the full notebook cells\n",
       "var notebookContainer = gd.closest('#notebook-container');\n",
       "if (notebookContainer) {{\n",
       "    x.observe(notebookContainer, {childList: true});\n",
       "}}\n",
       "\n",
       "// Listen for the clearing of the current output cell\n",
       "var outputEl = gd.closest('.output');\n",
       "if (outputEl) {{\n",
       "    x.observe(outputEl, {childList: true});\n",
       "}}\n",
       "\n",
       "                        })                };                });            </script>        </div>"
      ]
     },
     "metadata": {},
     "output_type": "display_data"
    },
    {
     "data": {
      "application/vnd.plotly.v1+json": {
       "config": {
        "plotlyServerURL": "https://plot.ly"
       },
       "data": [
        {
         "error_y": {
          "array": [
           0.2804868782829044,
           0.49272462446640064,
           0.1826490259121757,
           0.5384539596536242,
           0.31073282557349613,
           0.07237095795659708,
           0.02752372713779082,
           0,
           0.13498394966316066,
           0.18054793146296513,
           0.009899494936611622,
           0.060339778661252105,
           0,
           0,
           0,
           0,
           0,
           0.04966554808583781,
           0.04101219330881964,
           0.03942080668885405,
           0,
           0,
           0.044312024954357127,
           0,
           0,
           0.06788225099390863,
           0,
           0.04001943972066015,
           0.10909425079056895,
           0.014817407180595439,
           0.04977504952840893,
           0.04368828981164936,
           0.03449959742116161,
           0.028859814429217798,
           0.021954498400100192,
           0.017518244457961286,
           0.014899664425751323,
           0.011897712198383124,
           0.00987702159335266,
           0.008498365855987981,
           0.0072571803523590874,
           0.006164414002968961,
           0.005436502143433369,
           0.004189935029992182,
           0.004189935029992182,
           0.0033993463423951675,
           0.0035590260840104404,
           0.0030912061651652374,
           0.0024944382578492965,
           0.0024944382578492965,
           0.0020548046676563034,
           0.002867441755680878,
           0.00244948974278318,
           0.0016329931618554536,
           0.0012472191289246482,
           0.0016329931618554536,
           0.0020548046676563273,
           0.0016329931618554536,
           0.0016329931618554536,
           0.0014142135623730833,
           0.0014142135623730963,
           0.0016996731711975965,
           0.0012472191289246482,
           0.0012472191289246482,
           0.0014142135623730961,
           0.0009428090415820511,
           0.0012472191289246482,
           0.00047140452079103207,
           0.0012472191289246482,
           0.00047140452079103207,
           0.0009428090415820641,
           0.00047140452079103207,
           0.00047140452079103207,
           0.0008164965809277268,
           0.00047140452079103207,
           0.0012472191289246482,
           0.0008164965809277268,
           0,
           0.00047140452079103207,
           0.00047140452079102557,
           0.0008164965809277268,
           0.00047140452079103207,
           0.00047140452079103207,
           0.00047140452079103207,
           0.00047140452079103207,
           0.00047140452079103207,
           0.00047140452079103207,
           0.0008164965809277268,
           0.00047140452079103207,
           0.00047140452079103207,
           0.00047140452079103207,
           0.0009428090415820641,
           0.0009428090415820641,
           0.0008164965809277268,
           0.0008164965809277268,
           0.0009428090415820641,
           0.00047140452079103207,
           0.0008164965809277268,
           0.0008164965809277268,
           0.0008164965809277211,
           0.0012472191289246482,
           0.0012472191289246482,
           0.0008164965809277268,
           0.0009428090415820576,
           0.00047140452079102557,
           0.0008164965809277211,
           0.0009428090415820576,
           0.0009428090415820576,
           0.00047140452079103207,
           0.0009428090415820576,
           0.00047140452079103207,
           0.00047140452079103207,
           0.0008164965809277268,
           0.0008164965809277268,
           0.0008164965809277268,
           0.0009428090415820641,
           0.00047140452079103207,
           0.00047140452079103207,
           0.0009428090415820641,
           0.0008164965809277268,
           0.00047140452079102557,
           1.3877787807814457e-17,
           0.00047140452079103207,
           0.00047140452079103207,
           0.00047140452079103207,
           0.00047140452079103207,
           0,
           0.00047140452079103207,
           0.0008164965809277268,
           0.00047140452079103207,
           0.00047140452079103207,
           0.0009428090415820641,
           0.0008164965809277268,
           0.00047140452079103207,
           0.0008164965809277268,
           0.00047140452079103207,
           0.00047140452079103207,
           0.00047140452079103207,
           0.0008164965809277268,
           0.0009428090415820641,
           0.0008164965809277268,
           0.0009428090415820641,
           0.000471404520791019,
           0.0009428090415820641,
           0.0012472191289246482,
           0.0008164965809277268,
           0.0008164965809277268,
           0.0008164965809277268,
           0.0012472191289246482,
           0.0016996731711975965,
           0.0016996731711975965,
           0.0024944382578492965,
           0.0030912061651652374,
           0.002624669291337273,
           0.002624669291337273,
           0.0024944382578492965,
           0.00244948974278318,
           0.0024944382578492717,
           0.002867441755680878,
           0.002867441755680878,
           0.0021602468994692888,
           0.0018856180831641283,
           0.0014142135623730965,
           0.0014142135623730965,
           0.0014142135623730965,
           0.0009428090415820641,
           0.0008164965809277268,
           0.0009428090415820641,
           0,
           0,
           0.00047140452079103207,
           0.00047140452079103207,
           0.00047140452079103207,
           0.00047140452079103207,
           0.00047140452079103207,
           0.0008164965809277268,
           0.0009428090415820641,
           0.0008164965809277211,
           0.00047140452079103207,
           0.00047140452079103207,
           0.00047140452079103207,
           0.00047140452079103207,
           0.0009428090415820641,
           0.0009428090415820641,
           0.0009428090415820641,
           0.0008164965809277268,
           0.00047140452079103207,
           0.0012472191289246482,
           0.0012472191289246452,
           0.0008164965809277268,
           0.0009428090415820641,
           0.0009428090415820609,
           0.0012472191289246452,
           0.0008164965809277239,
           0.0004714045207910288,
           0.0008164965809277239,
           0.0004714045207910288,
           0.0008164965809277239,
           0.0008164965809277268,
           0.0008164965809277268,
           0.0004714045207910288,
           0.0004714045207910288,
           0.0012472191289246452,
           0.0008164965809277239,
           0.0008164965809277239,
           0.0008164965809277239,
           0.0004714045207910288,
           0.0004714045207910288,
           0.0008164965809277239,
           0.0004714045207910288,
           0.0008164965809277239,
           0.0008164965809277239,
           0,
           0,
           0.00047140452079103207,
           0.00047140452079103207,
           0.00047140452079103207,
           0.00047140452079103207,
           0.0008164965809277268,
           0.0008164965809277268,
           0.00047140452079103207,
           0.00047140452079103207,
           0.0008164965809277268,
           0.0008164965809277268,
           0.0012472191289246482,
           0.00047140452079103207,
           0.0009428090415820641,
           0.00047140452079103207,
           0.00047140452079103207,
           0.0008164965809277268,
           0.00047140452079103207,
           0.0008164965809277268,
           0.00047140452079103207,
           0.00047140452079103207,
           0.0008164965809277268,
           0.00047140452079103207,
           0.00047140452079103207,
           0.0014142135623730963,
           0.000942809041582061,
           0.000942809041582061,
           0.0012472191289246452,
           0.0012472191289246482,
           0.00047140452079103207,
           0.0009428090415820641,
           0.0009428090415820641,
           0.0012472191289246482,
           0.0008164965809277268,
           0.00047140452079103207,
           0.00047140452079103207,
           0.00047140452079103207,
           0.00047140452079103207,
           0.00047140452079103207,
           0.0008164965809277268,
           0.0009428090415820641,
           0.0008164965809277239,
           0.0008164965809277239,
           0.0008164965809277268,
           0.0008164965809277268,
           0.0009428090415820641,
           0.0008164965809277268,
           0.0008164965809277268,
           0.00047140452079103207,
           0.00047140452079103207,
           0.0009428090415820641,
           0.00047140452079103207,
           0.00047140452079103207,
           0.00047140452079103207,
           0.0008164965809277268,
           0.0008164965809277268,
           0.0008164965809277268,
           0.00047140452079103207,
           0.00047140452079103207,
           0.00047140452079103207,
           0.00047140452079103207,
           0.0008164965809277268,
           0.0009428090415820641,
           0.00047140452079103207,
           0.0008164965809277268,
           0.0004714045207910288,
           0.000942809041582061,
           0.0008164965809277268,
           0.00047140452079103207,
           0.0012472191289246482,
           0.0008164965809277268,
           0.0004714045207910288,
           0.0004714045207910288,
           0.0008164965809277239,
           0,
           0.0004714045207910288,
           0.0012472191289246458,
           0.0009428090415820609
          ]
         },
         "hovertemplate": "Wavelength / nm=%{x}<br>Absorbance=%{y}<extra></extra>",
         "legendgroup": "",
         "marker": {
          "color": "#636efa",
          "line": {
           "color": "DarkSlateGrey",
           "width": 2
          },
          "size": 8,
          "symbol": "circle"
         },
         "mode": "markers",
         "name": "",
         "orientation": "v",
         "showlegend": false,
         "type": "scatter",
         "x": [
          "220",
          "222",
          "224",
          "226",
          "228",
          "230",
          "232",
          "234",
          "236",
          "238",
          "240",
          "242",
          "244",
          "246",
          "248",
          "250",
          "252",
          "254",
          "256",
          "258",
          "260",
          "262",
          "264",
          "266",
          "268",
          "270",
          "272",
          "274",
          "276",
          "278",
          "280",
          "282",
          "284",
          "286",
          "288",
          "290",
          "292",
          "294",
          "296",
          "298",
          "300",
          "302",
          "304",
          "306",
          "308",
          "310",
          "312",
          "314",
          "316",
          "318",
          "320",
          "322",
          "324",
          "326",
          "328",
          "330",
          "332",
          "334",
          "336",
          "338",
          "340",
          "342",
          "344",
          "346",
          "348",
          "350",
          "352",
          "354",
          "356",
          "358",
          "360",
          "362",
          "364",
          "366",
          "368",
          "370",
          "372",
          "374",
          "376",
          "378",
          "380",
          "382",
          "384",
          "386",
          "388",
          "390",
          "392",
          "394",
          "396",
          "398",
          "400",
          "402",
          "404",
          "406",
          "408",
          "410",
          "412",
          "414",
          "416",
          "418",
          "420",
          "422",
          "424",
          "426",
          "428",
          "430",
          "432",
          "434",
          "436",
          "438",
          "440",
          "442",
          "444",
          "446",
          "448",
          "450",
          "452",
          "454",
          "456",
          "458",
          "460",
          "462",
          "464",
          "466",
          "468",
          "470",
          "472",
          "474",
          "476",
          "478",
          "480",
          "482",
          "484",
          "486",
          "488",
          "490",
          "492",
          "494",
          "496",
          "498",
          "500",
          "502",
          "504",
          "506",
          "508",
          "510",
          "512",
          "514",
          "516",
          "518",
          "520",
          "522",
          "524",
          "526",
          "528",
          "530",
          "532",
          "534",
          "536",
          "538",
          "540",
          "542",
          "544",
          "546",
          "548",
          "550",
          "552",
          "554",
          "556",
          "558",
          "560",
          "562",
          "564",
          "566",
          "568",
          "570",
          "572",
          "574",
          "576",
          "578",
          "580",
          "582",
          "584",
          "586",
          "588",
          "590",
          "592",
          "594",
          "596",
          "598",
          "600",
          "602",
          "604",
          "606",
          "608",
          "610",
          "612",
          "614",
          "616",
          "618",
          "620",
          "622",
          "624",
          "626",
          "628",
          "630",
          "632",
          "634",
          "636",
          "638",
          "640",
          "642",
          "644",
          "646",
          "648",
          "650",
          "652",
          "654",
          "656",
          "658",
          "660",
          "662",
          "664",
          "666",
          "668",
          "670",
          "672",
          "674",
          "676",
          "678",
          "680",
          "682",
          "684",
          "686",
          "688",
          "690",
          "692",
          "694",
          "696",
          "698",
          "700",
          "702",
          "704",
          "706",
          "708",
          "710",
          "712",
          "714",
          "716",
          "718",
          "720",
          "722",
          "724",
          "726",
          "728",
          "730",
          "732",
          "734",
          "736",
          "738",
          "740",
          "742",
          "744",
          "746",
          "748",
          "750",
          "752",
          "754",
          "756",
          "758",
          "760",
          "762",
          "764",
          "766",
          "768",
          "770",
          "772",
          "774",
          "776",
          "778",
          "780",
          "782",
          "784",
          "786",
          "788",
          "790",
          "792",
          "794",
          "796",
          "798",
          "800"
         ],
         "xaxis": "x",
         "y": [
          3.4313333333333333,
          3.862666666666667,
          3.9259999999999997,
          4.402,
          5.008666666666667,
          4.993666666666666,
          5.084666666666667,
          5.287,
          5.097,
          5.159333333333333,
          5.28,
          5.2443333333333335,
          5.287,
          5.287,
          5.287,
          5.287,
          5.287,
          5.217,
          5.258,
          5.236,
          5.287,
          5.287,
          5.2556666666666665,
          5.287,
          5.287,
          5.239,
          5.287,
          5.237333333333333,
          4.837666666666667,
          4.6593333333333335,
          3.8676666666666666,
          3.057,
          2.4753333333333334,
          2.0283333333333333,
          1.648,
          1.4303333333333335,
          1.328,
          1.0803333333333334,
          0.8083333333333335,
          0.6383333333333333,
          0.536,
          0.4709999999999999,
          0.43166666666666664,
          0.39333333333333337,
          0.36433333333333334,
          0.3423333333333334,
          0.327,
          0.31466666666666665,
          0.3036666666666667,
          0.29266666666666663,
          0.2826666666666666,
          0.27233333333333337,
          0.259,
          0.252,
          0.24633333333333332,
          0.238,
          0.22733333333333336,
          0.218,
          0.21,
          0.20199999999999999,
          0.19600000000000004,
          0.18966666666666665,
          0.18233333333333332,
          0.17866666666666667,
          0.17499999999999996,
          0.17066666666666666,
          0.16566666666666666,
          0.15966666666666665,
          0.15466666666666665,
          0.15066666666666664,
          0.14533333333333331,
          0.1433333333333333,
          0.1413333333333333,
          0.139,
          0.1366666666666667,
          0.13366666666666668,
          0.13,
          0.126,
          0.12033333333333333,
          0.11766666666666666,
          0.114,
          0.11033333333333334,
          0.10733333333333334,
          0.10533333333333333,
          0.10366666666666667,
          0.10033333333333334,
          0.09766666666666668,
          0.09500000000000001,
          0.09233333333333334,
          0.08933333333333333,
          0.08633333333333333,
          0.08266666666666667,
          0.07966666666666666,
          0.079,
          0.077,
          0.07533333333333332,
          0.07533333333333332,
          0.074,
          0.072,
          0.07,
          0.06833333333333334,
          0.06833333333333334,
          0.068,
          0.07033333333333334,
          0.07066666666666667,
          0.07100000000000001,
          0.07133333333333335,
          0.07133333333333335,
          0.07166666666666666,
          0.07133333333333335,
          0.07166666666666666,
          0.07266666666666666,
          0.072,
          0.073,
          0.075,
          0.07633333333333332,
          0.07733333333333332,
          0.07966666666666666,
          0.08133333333333333,
          0.082,
          0.08566666666666667,
          0.09000000000000001,
          0.09333333333333334,
          0.09666666666666668,
          0.10033333333333334,
          0.10333333333333333,
          0.107,
          0.11133333333333334,
          0.115,
          0.11933333333333333,
          0.12433333333333334,
          0.12666666666666668,
          0.135,
          0.1433333333333333,
          0.154,
          0.16366666666666665,
          0.17466666666666666,
          0.18766666666666665,
          0.20000000000000004,
          0.21033333333333334,
          0.22,
          0.22766666666666668,
          0.2343333333333333,
          0.23966666666666667,
          0.24566666666666667,
          0.253,
          0.261,
          0.271,
          0.2836666666666667,
          0.29833333333333334,
          0.32033333333333336,
          0.34833333333333333,
          0.37433333333333335,
          0.3986666666666667,
          0.41966666666666663,
          0.44333333333333336,
          0.46,
          0.4676666666666667,
          0.4643333333333333,
          0.44933333333333336,
          0.422,
          0.39333333333333337,
          0.359,
          0.324,
          0.291,
          0.25266666666666665,
          0.214,
          0.18766666666666665,
          0.164,
          0.143,
          0.12333333333333334,
          0.10966666666666668,
          0.09733333333333334,
          0.08933333333333333,
          0.08266666666666667,
          0.077,
          0.07366666666666666,
          0.07100000000000001,
          0.06933333333333334,
          0.06833333333333334,
          0.06733333333333334,
          0.06533333333333334,
          0.06366666666666666,
          0.06366666666666666,
          0.06266666666666666,
          0.062,
          0.06133333333333333,
          0.06033333333333333,
          0.05833333333333333,
          0.06,
          0.059666666666666666,
          0.057666666666666665,
          0.057333333333333326,
          0.059,
          0.058666666666666666,
          0.057999999999999996,
          0.058666666666666666,
          0.059,
          0.06,
          0.06,
          0.05833333333333333,
          0.058666666666666666,
          0.05833333333333333,
          0.057999999999999996,
          0.057999999999999996,
          0.057999999999999996,
          0.05833333333333333,
          0.058666666666666666,
          0.057999999999999996,
          0.05833333333333333,
          0.057999999999999996,
          0.057999999999999996,
          0.059,
          0.058,
          0.05766666666666667,
          0.05766666666666667,
          0.05666666666666667,
          0.05666666666666667,
          0.056,
          0.054,
          0.05433333333333334,
          0.05533333333333334,
          0.056,
          0.056,
          0.05466666666666667,
          0.05466666666666667,
          0.05366666666666667,
          0.05433333333333334,
          0.05366666666666667,
          0.053,
          0.052333333333333336,
          0.053,
          0.05366666666666667,
          0.05366666666666667,
          0.054,
          0.052333333333333336,
          0.05366666666666667,
          0.053,
          0.051333333333333335,
          0.050333333333333334,
          0.051666666666666666,
          0.05266666666666667,
          0.05366666666666667,
          0.052333333333333336,
          0.052333333333333336,
          0.052333333333333336,
          0.052,
          0.05266666666666667,
          0.051666666666666666,
          0.05266666666666667,
          0.052333333333333336,
          0.052333333333333336,
          0.052,
          0.052333333333333336,
          0.051,
          0.049999999999999996,
          0.052,
          0.053,
          0.05333333333333334,
          0.054,
          0.056,
          0.05466666666666667,
          0.05366666666666667,
          0.05333333333333334,
          0.052333333333333336,
          0.05333333333333334,
          0.052333333333333336,
          0.052,
          0.052,
          0.053,
          0.05366666666666667,
          0.05366666666666667,
          0.051666666666666666,
          0.05333333333333334,
          0.053,
          0.052333333333333336,
          0.05266666666666667,
          0.052,
          0.050666666666666665,
          0.051333333333333335,
          0.052,
          0.05266666666666667,
          0.052333333333333336,
          0.052,
          0.050666666666666665,
          0.050666666666666665,
          0.051,
          0.052,
          0.050333333333333334,
          0.051333333333333335,
          0.050666666666666665
         ],
         "yaxis": "y"
        }
       ],
       "layout": {
        "font": {
         "family": "Calibri",
         "size": 14
        },
        "legend": {
         "tracegroupgap": 0
        },
        "template": {
         "data": {
          "bar": [
           {
            "error_x": {
             "color": "#2a3f5f"
            },
            "error_y": {
             "color": "#2a3f5f"
            },
            "marker": {
             "line": {
              "color": "#E5ECF6",
              "width": 0.5
             },
             "pattern": {
              "fillmode": "overlay",
              "size": 10,
              "solidity": 0.2
             }
            },
            "type": "bar"
           }
          ],
          "barpolar": [
           {
            "marker": {
             "line": {
              "color": "#E5ECF6",
              "width": 0.5
             },
             "pattern": {
              "fillmode": "overlay",
              "size": 10,
              "solidity": 0.2
             }
            },
            "type": "barpolar"
           }
          ],
          "carpet": [
           {
            "aaxis": {
             "endlinecolor": "#2a3f5f",
             "gridcolor": "white",
             "linecolor": "white",
             "minorgridcolor": "white",
             "startlinecolor": "#2a3f5f"
            },
            "baxis": {
             "endlinecolor": "#2a3f5f",
             "gridcolor": "white",
             "linecolor": "white",
             "minorgridcolor": "white",
             "startlinecolor": "#2a3f5f"
            },
            "type": "carpet"
           }
          ],
          "choropleth": [
           {
            "colorbar": {
             "outlinewidth": 0,
             "ticks": ""
            },
            "type": "choropleth"
           }
          ],
          "contour": [
           {
            "colorbar": {
             "outlinewidth": 0,
             "ticks": ""
            },
            "colorscale": [
             [
              0,
              "#0d0887"
             ],
             [
              0.1111111111111111,
              "#46039f"
             ],
             [
              0.2222222222222222,
              "#7201a8"
             ],
             [
              0.3333333333333333,
              "#9c179e"
             ],
             [
              0.4444444444444444,
              "#bd3786"
             ],
             [
              0.5555555555555556,
              "#d8576b"
             ],
             [
              0.6666666666666666,
              "#ed7953"
             ],
             [
              0.7777777777777778,
              "#fb9f3a"
             ],
             [
              0.8888888888888888,
              "#fdca26"
             ],
             [
              1,
              "#f0f921"
             ]
            ],
            "type": "contour"
           }
          ],
          "contourcarpet": [
           {
            "colorbar": {
             "outlinewidth": 0,
             "ticks": ""
            },
            "type": "contourcarpet"
           }
          ],
          "heatmap": [
           {
            "colorbar": {
             "outlinewidth": 0,
             "ticks": ""
            },
            "colorscale": [
             [
              0,
              "#0d0887"
             ],
             [
              0.1111111111111111,
              "#46039f"
             ],
             [
              0.2222222222222222,
              "#7201a8"
             ],
             [
              0.3333333333333333,
              "#9c179e"
             ],
             [
              0.4444444444444444,
              "#bd3786"
             ],
             [
              0.5555555555555556,
              "#d8576b"
             ],
             [
              0.6666666666666666,
              "#ed7953"
             ],
             [
              0.7777777777777778,
              "#fb9f3a"
             ],
             [
              0.8888888888888888,
              "#fdca26"
             ],
             [
              1,
              "#f0f921"
             ]
            ],
            "type": "heatmap"
           }
          ],
          "heatmapgl": [
           {
            "colorbar": {
             "outlinewidth": 0,
             "ticks": ""
            },
            "colorscale": [
             [
              0,
              "#0d0887"
             ],
             [
              0.1111111111111111,
              "#46039f"
             ],
             [
              0.2222222222222222,
              "#7201a8"
             ],
             [
              0.3333333333333333,
              "#9c179e"
             ],
             [
              0.4444444444444444,
              "#bd3786"
             ],
             [
              0.5555555555555556,
              "#d8576b"
             ],
             [
              0.6666666666666666,
              "#ed7953"
             ],
             [
              0.7777777777777778,
              "#fb9f3a"
             ],
             [
              0.8888888888888888,
              "#fdca26"
             ],
             [
              1,
              "#f0f921"
             ]
            ],
            "type": "heatmapgl"
           }
          ],
          "histogram": [
           {
            "marker": {
             "pattern": {
              "fillmode": "overlay",
              "size": 10,
              "solidity": 0.2
             }
            },
            "type": "histogram"
           }
          ],
          "histogram2d": [
           {
            "colorbar": {
             "outlinewidth": 0,
             "ticks": ""
            },
            "colorscale": [
             [
              0,
              "#0d0887"
             ],
             [
              0.1111111111111111,
              "#46039f"
             ],
             [
              0.2222222222222222,
              "#7201a8"
             ],
             [
              0.3333333333333333,
              "#9c179e"
             ],
             [
              0.4444444444444444,
              "#bd3786"
             ],
             [
              0.5555555555555556,
              "#d8576b"
             ],
             [
              0.6666666666666666,
              "#ed7953"
             ],
             [
              0.7777777777777778,
              "#fb9f3a"
             ],
             [
              0.8888888888888888,
              "#fdca26"
             ],
             [
              1,
              "#f0f921"
             ]
            ],
            "type": "histogram2d"
           }
          ],
          "histogram2dcontour": [
           {
            "colorbar": {
             "outlinewidth": 0,
             "ticks": ""
            },
            "colorscale": [
             [
              0,
              "#0d0887"
             ],
             [
              0.1111111111111111,
              "#46039f"
             ],
             [
              0.2222222222222222,
              "#7201a8"
             ],
             [
              0.3333333333333333,
              "#9c179e"
             ],
             [
              0.4444444444444444,
              "#bd3786"
             ],
             [
              0.5555555555555556,
              "#d8576b"
             ],
             [
              0.6666666666666666,
              "#ed7953"
             ],
             [
              0.7777777777777778,
              "#fb9f3a"
             ],
             [
              0.8888888888888888,
              "#fdca26"
             ],
             [
              1,
              "#f0f921"
             ]
            ],
            "type": "histogram2dcontour"
           }
          ],
          "mesh3d": [
           {
            "colorbar": {
             "outlinewidth": 0,
             "ticks": ""
            },
            "type": "mesh3d"
           }
          ],
          "parcoords": [
           {
            "line": {
             "colorbar": {
              "outlinewidth": 0,
              "ticks": ""
             }
            },
            "type": "parcoords"
           }
          ],
          "pie": [
           {
            "automargin": true,
            "type": "pie"
           }
          ],
          "scatter": [
           {
            "marker": {
             "colorbar": {
              "outlinewidth": 0,
              "ticks": ""
             }
            },
            "type": "scatter"
           }
          ],
          "scatter3d": [
           {
            "line": {
             "colorbar": {
              "outlinewidth": 0,
              "ticks": ""
             }
            },
            "marker": {
             "colorbar": {
              "outlinewidth": 0,
              "ticks": ""
             }
            },
            "type": "scatter3d"
           }
          ],
          "scattercarpet": [
           {
            "marker": {
             "colorbar": {
              "outlinewidth": 0,
              "ticks": ""
             }
            },
            "type": "scattercarpet"
           }
          ],
          "scattergeo": [
           {
            "marker": {
             "colorbar": {
              "outlinewidth": 0,
              "ticks": ""
             }
            },
            "type": "scattergeo"
           }
          ],
          "scattergl": [
           {
            "marker": {
             "colorbar": {
              "outlinewidth": 0,
              "ticks": ""
             }
            },
            "type": "scattergl"
           }
          ],
          "scattermapbox": [
           {
            "marker": {
             "colorbar": {
              "outlinewidth": 0,
              "ticks": ""
             }
            },
            "type": "scattermapbox"
           }
          ],
          "scatterpolar": [
           {
            "marker": {
             "colorbar": {
              "outlinewidth": 0,
              "ticks": ""
             }
            },
            "type": "scatterpolar"
           }
          ],
          "scatterpolargl": [
           {
            "marker": {
             "colorbar": {
              "outlinewidth": 0,
              "ticks": ""
             }
            },
            "type": "scatterpolargl"
           }
          ],
          "scatterternary": [
           {
            "marker": {
             "colorbar": {
              "outlinewidth": 0,
              "ticks": ""
             }
            },
            "type": "scatterternary"
           }
          ],
          "surface": [
           {
            "colorbar": {
             "outlinewidth": 0,
             "ticks": ""
            },
            "colorscale": [
             [
              0,
              "#0d0887"
             ],
             [
              0.1111111111111111,
              "#46039f"
             ],
             [
              0.2222222222222222,
              "#7201a8"
             ],
             [
              0.3333333333333333,
              "#9c179e"
             ],
             [
              0.4444444444444444,
              "#bd3786"
             ],
             [
              0.5555555555555556,
              "#d8576b"
             ],
             [
              0.6666666666666666,
              "#ed7953"
             ],
             [
              0.7777777777777778,
              "#fb9f3a"
             ],
             [
              0.8888888888888888,
              "#fdca26"
             ],
             [
              1,
              "#f0f921"
             ]
            ],
            "type": "surface"
           }
          ],
          "table": [
           {
            "cells": {
             "fill": {
              "color": "#EBF0F8"
             },
             "line": {
              "color": "white"
             }
            },
            "header": {
             "fill": {
              "color": "#C8D4E3"
             },
             "line": {
              "color": "white"
             }
            },
            "type": "table"
           }
          ]
         },
         "layout": {
          "annotationdefaults": {
           "arrowcolor": "#2a3f5f",
           "arrowhead": 0,
           "arrowwidth": 1
          },
          "autotypenumbers": "strict",
          "coloraxis": {
           "colorbar": {
            "outlinewidth": 0,
            "ticks": ""
           }
          },
          "colorscale": {
           "diverging": [
            [
             0,
             "#8e0152"
            ],
            [
             0.1,
             "#c51b7d"
            ],
            [
             0.2,
             "#de77ae"
            ],
            [
             0.3,
             "#f1b6da"
            ],
            [
             0.4,
             "#fde0ef"
            ],
            [
             0.5,
             "#f7f7f7"
            ],
            [
             0.6,
             "#e6f5d0"
            ],
            [
             0.7,
             "#b8e186"
            ],
            [
             0.8,
             "#7fbc41"
            ],
            [
             0.9,
             "#4d9221"
            ],
            [
             1,
             "#276419"
            ]
           ],
           "sequential": [
            [
             0,
             "#0d0887"
            ],
            [
             0.1111111111111111,
             "#46039f"
            ],
            [
             0.2222222222222222,
             "#7201a8"
            ],
            [
             0.3333333333333333,
             "#9c179e"
            ],
            [
             0.4444444444444444,
             "#bd3786"
            ],
            [
             0.5555555555555556,
             "#d8576b"
            ],
            [
             0.6666666666666666,
             "#ed7953"
            ],
            [
             0.7777777777777778,
             "#fb9f3a"
            ],
            [
             0.8888888888888888,
             "#fdca26"
            ],
            [
             1,
             "#f0f921"
            ]
           ],
           "sequentialminus": [
            [
             0,
             "#0d0887"
            ],
            [
             0.1111111111111111,
             "#46039f"
            ],
            [
             0.2222222222222222,
             "#7201a8"
            ],
            [
             0.3333333333333333,
             "#9c179e"
            ],
            [
             0.4444444444444444,
             "#bd3786"
            ],
            [
             0.5555555555555556,
             "#d8576b"
            ],
            [
             0.6666666666666666,
             "#ed7953"
            ],
            [
             0.7777777777777778,
             "#fb9f3a"
            ],
            [
             0.8888888888888888,
             "#fdca26"
            ],
            [
             1,
             "#f0f921"
            ]
           ]
          },
          "colorway": [
           "#636efa",
           "#EF553B",
           "#00cc96",
           "#ab63fa",
           "#FFA15A",
           "#19d3f3",
           "#FF6692",
           "#B6E880",
           "#FF97FF",
           "#FECB52"
          ],
          "font": {
           "color": "#2a3f5f"
          },
          "geo": {
           "bgcolor": "white",
           "lakecolor": "white",
           "landcolor": "#E5ECF6",
           "showlakes": true,
           "showland": true,
           "subunitcolor": "white"
          },
          "hoverlabel": {
           "align": "left"
          },
          "hovermode": "closest",
          "mapbox": {
           "style": "light"
          },
          "paper_bgcolor": "white",
          "plot_bgcolor": "#E5ECF6",
          "polar": {
           "angularaxis": {
            "gridcolor": "white",
            "linecolor": "white",
            "ticks": ""
           },
           "bgcolor": "#E5ECF6",
           "radialaxis": {
            "gridcolor": "white",
            "linecolor": "white",
            "ticks": ""
           }
          },
          "scene": {
           "xaxis": {
            "backgroundcolor": "#E5ECF6",
            "gridcolor": "white",
            "gridwidth": 2,
            "linecolor": "white",
            "showbackground": true,
            "ticks": "",
            "zerolinecolor": "white"
           },
           "yaxis": {
            "backgroundcolor": "#E5ECF6",
            "gridcolor": "white",
            "gridwidth": 2,
            "linecolor": "white",
            "showbackground": true,
            "ticks": "",
            "zerolinecolor": "white"
           },
           "zaxis": {
            "backgroundcolor": "#E5ECF6",
            "gridcolor": "white",
            "gridwidth": 2,
            "linecolor": "white",
            "showbackground": true,
            "ticks": "",
            "zerolinecolor": "white"
           }
          },
          "shapedefaults": {
           "line": {
            "color": "#2a3f5f"
           }
          },
          "ternary": {
           "aaxis": {
            "gridcolor": "white",
            "linecolor": "white",
            "ticks": ""
           },
           "baxis": {
            "gridcolor": "white",
            "linecolor": "white",
            "ticks": ""
           },
           "bgcolor": "#E5ECF6",
           "caxis": {
            "gridcolor": "white",
            "linecolor": "white",
            "ticks": ""
           }
          },
          "title": {
           "x": 0.05
          },
          "xaxis": {
           "automargin": true,
           "gridcolor": "white",
           "linecolor": "white",
           "ticks": "",
           "title": {
            "standoff": 15
           },
           "zerolinecolor": "white",
           "zerolinewidth": 2
          },
          "yaxis": {
           "automargin": true,
           "gridcolor": "white",
           "linecolor": "white",
           "ticks": "",
           "title": {
            "standoff": 15
           },
           "zerolinecolor": "white",
           "zerolinewidth": 2
          }
         }
        },
        "title": {
         "text": "How Absorbance Varies with Wavelength for Sample S1: 12.500 mg/L"
        },
        "xaxis": {
         "anchor": "y",
         "domain": [
          0,
          1
         ],
         "title": {
          "text": "Wavelength / nm"
         }
        },
        "yaxis": {
         "anchor": "x",
         "domain": [
          0,
          1
         ],
         "range": [
          0,
          6
         ],
         "title": {
          "text": "Absorbance"
         }
        }
       }
      },
      "text/html": [
       "<div>                            <div id=\"17e20222-2ca0-440a-8335-c848b494d2b8\" class=\"plotly-graph-div\" style=\"height:525px; width:100%;\"></div>            <script type=\"text/javascript\">                require([\"plotly\"], function(Plotly) {                    window.PLOTLYENV=window.PLOTLYENV || {};                                    if (document.getElementById(\"17e20222-2ca0-440a-8335-c848b494d2b8\")) {                    Plotly.newPlot(                        \"17e20222-2ca0-440a-8335-c848b494d2b8\",                        [{\"error_y\":{\"array\":[0.2804868782829044,0.49272462446640064,0.1826490259121757,0.5384539596536242,0.31073282557349613,0.07237095795659708,0.02752372713779082,0.0,0.13498394966316066,0.18054793146296513,0.009899494936611622,0.060339778661252105,0.0,0.0,0.0,0.0,0.0,0.04966554808583781,0.04101219330881964,0.03942080668885405,0.0,0.0,0.044312024954357127,0.0,0.0,0.06788225099390863,0.0,0.04001943972066015,0.10909425079056895,0.014817407180595439,0.04977504952840893,0.04368828981164936,0.03449959742116161,0.028859814429217798,0.021954498400100192,0.017518244457961286,0.014899664425751323,0.011897712198383124,0.00987702159335266,0.008498365855987981,0.0072571803523590874,0.006164414002968961,0.005436502143433369,0.004189935029992182,0.004189935029992182,0.0033993463423951675,0.0035590260840104404,0.0030912061651652374,0.0024944382578492965,0.0024944382578492965,0.0020548046676563034,0.002867441755680878,0.00244948974278318,0.0016329931618554536,0.0012472191289246482,0.0016329931618554536,0.0020548046676563273,0.0016329931618554536,0.0016329931618554536,0.0014142135623730833,0.0014142135623730963,0.0016996731711975965,0.0012472191289246482,0.0012472191289246482,0.0014142135623730961,0.0009428090415820511,0.0012472191289246482,0.00047140452079103207,0.0012472191289246482,0.00047140452079103207,0.0009428090415820641,0.00047140452079103207,0.00047140452079103207,0.0008164965809277268,0.00047140452079103207,0.0012472191289246482,0.0008164965809277268,0.0,0.00047140452079103207,0.00047140452079102557,0.0008164965809277268,0.00047140452079103207,0.00047140452079103207,0.00047140452079103207,0.00047140452079103207,0.00047140452079103207,0.00047140452079103207,0.0008164965809277268,0.00047140452079103207,0.00047140452079103207,0.00047140452079103207,0.0009428090415820641,0.0009428090415820641,0.0008164965809277268,0.0008164965809277268,0.0009428090415820641,0.00047140452079103207,0.0008164965809277268,0.0008164965809277268,0.0008164965809277211,0.0012472191289246482,0.0012472191289246482,0.0008164965809277268,0.0009428090415820576,0.00047140452079102557,0.0008164965809277211,0.0009428090415820576,0.0009428090415820576,0.00047140452079103207,0.0009428090415820576,0.00047140452079103207,0.00047140452079103207,0.0008164965809277268,0.0008164965809277268,0.0008164965809277268,0.0009428090415820641,0.00047140452079103207,0.00047140452079103207,0.0009428090415820641,0.0008164965809277268,0.00047140452079102557,1.3877787807814457e-17,0.00047140452079103207,0.00047140452079103207,0.00047140452079103207,0.00047140452079103207,0.0,0.00047140452079103207,0.0008164965809277268,0.00047140452079103207,0.00047140452079103207,0.0009428090415820641,0.0008164965809277268,0.00047140452079103207,0.0008164965809277268,0.00047140452079103207,0.00047140452079103207,0.00047140452079103207,0.0008164965809277268,0.0009428090415820641,0.0008164965809277268,0.0009428090415820641,0.000471404520791019,0.0009428090415820641,0.0012472191289246482,0.0008164965809277268,0.0008164965809277268,0.0008164965809277268,0.0012472191289246482,0.0016996731711975965,0.0016996731711975965,0.0024944382578492965,0.0030912061651652374,0.002624669291337273,0.002624669291337273,0.0024944382578492965,0.00244948974278318,0.0024944382578492717,0.002867441755680878,0.002867441755680878,0.0021602468994692888,0.0018856180831641283,0.0014142135623730965,0.0014142135623730965,0.0014142135623730965,0.0009428090415820641,0.0008164965809277268,0.0009428090415820641,0.0,0.0,0.00047140452079103207,0.00047140452079103207,0.00047140452079103207,0.00047140452079103207,0.00047140452079103207,0.0008164965809277268,0.0009428090415820641,0.0008164965809277211,0.00047140452079103207,0.00047140452079103207,0.00047140452079103207,0.00047140452079103207,0.0009428090415820641,0.0009428090415820641,0.0009428090415820641,0.0008164965809277268,0.00047140452079103207,0.0012472191289246482,0.0012472191289246452,0.0008164965809277268,0.0009428090415820641,0.0009428090415820609,0.0012472191289246452,0.0008164965809277239,0.0004714045207910288,0.0008164965809277239,0.0004714045207910288,0.0008164965809277239,0.0008164965809277268,0.0008164965809277268,0.0004714045207910288,0.0004714045207910288,0.0012472191289246452,0.0008164965809277239,0.0008164965809277239,0.0008164965809277239,0.0004714045207910288,0.0004714045207910288,0.0008164965809277239,0.0004714045207910288,0.0008164965809277239,0.0008164965809277239,0.0,0.0,0.00047140452079103207,0.00047140452079103207,0.00047140452079103207,0.00047140452079103207,0.0008164965809277268,0.0008164965809277268,0.00047140452079103207,0.00047140452079103207,0.0008164965809277268,0.0008164965809277268,0.0012472191289246482,0.00047140452079103207,0.0009428090415820641,0.00047140452079103207,0.00047140452079103207,0.0008164965809277268,0.00047140452079103207,0.0008164965809277268,0.00047140452079103207,0.00047140452079103207,0.0008164965809277268,0.00047140452079103207,0.00047140452079103207,0.0014142135623730963,0.000942809041582061,0.000942809041582061,0.0012472191289246452,0.0012472191289246482,0.00047140452079103207,0.0009428090415820641,0.0009428090415820641,0.0012472191289246482,0.0008164965809277268,0.00047140452079103207,0.00047140452079103207,0.00047140452079103207,0.00047140452079103207,0.00047140452079103207,0.0008164965809277268,0.0009428090415820641,0.0008164965809277239,0.0008164965809277239,0.0008164965809277268,0.0008164965809277268,0.0009428090415820641,0.0008164965809277268,0.0008164965809277268,0.00047140452079103207,0.00047140452079103207,0.0009428090415820641,0.00047140452079103207,0.00047140452079103207,0.00047140452079103207,0.0008164965809277268,0.0008164965809277268,0.0008164965809277268,0.00047140452079103207,0.00047140452079103207,0.00047140452079103207,0.00047140452079103207,0.0008164965809277268,0.0009428090415820641,0.00047140452079103207,0.0008164965809277268,0.0004714045207910288,0.000942809041582061,0.0008164965809277268,0.00047140452079103207,0.0012472191289246482,0.0008164965809277268,0.0004714045207910288,0.0004714045207910288,0.0008164965809277239,0.0,0.0004714045207910288,0.0012472191289246458,0.0009428090415820609]},\"hovertemplate\":\"Wavelength / nm=%{x}<br>Absorbance=%{y}<extra></extra>\",\"legendgroup\":\"\",\"marker\":{\"color\":\"#636efa\",\"line\":{\"color\":\"DarkSlateGrey\",\"width\":2},\"size\":8,\"symbol\":\"circle\"},\"mode\":\"markers\",\"name\":\"\",\"orientation\":\"v\",\"showlegend\":false,\"type\":\"scatter\",\"x\":[\"220\",\"222\",\"224\",\"226\",\"228\",\"230\",\"232\",\"234\",\"236\",\"238\",\"240\",\"242\",\"244\",\"246\",\"248\",\"250\",\"252\",\"254\",\"256\",\"258\",\"260\",\"262\",\"264\",\"266\",\"268\",\"270\",\"272\",\"274\",\"276\",\"278\",\"280\",\"282\",\"284\",\"286\",\"288\",\"290\",\"292\",\"294\",\"296\",\"298\",\"300\",\"302\",\"304\",\"306\",\"308\",\"310\",\"312\",\"314\",\"316\",\"318\",\"320\",\"322\",\"324\",\"326\",\"328\",\"330\",\"332\",\"334\",\"336\",\"338\",\"340\",\"342\",\"344\",\"346\",\"348\",\"350\",\"352\",\"354\",\"356\",\"358\",\"360\",\"362\",\"364\",\"366\",\"368\",\"370\",\"372\",\"374\",\"376\",\"378\",\"380\",\"382\",\"384\",\"386\",\"388\",\"390\",\"392\",\"394\",\"396\",\"398\",\"400\",\"402\",\"404\",\"406\",\"408\",\"410\",\"412\",\"414\",\"416\",\"418\",\"420\",\"422\",\"424\",\"426\",\"428\",\"430\",\"432\",\"434\",\"436\",\"438\",\"440\",\"442\",\"444\",\"446\",\"448\",\"450\",\"452\",\"454\",\"456\",\"458\",\"460\",\"462\",\"464\",\"466\",\"468\",\"470\",\"472\",\"474\",\"476\",\"478\",\"480\",\"482\",\"484\",\"486\",\"488\",\"490\",\"492\",\"494\",\"496\",\"498\",\"500\",\"502\",\"504\",\"506\",\"508\",\"510\",\"512\",\"514\",\"516\",\"518\",\"520\",\"522\",\"524\",\"526\",\"528\",\"530\",\"532\",\"534\",\"536\",\"538\",\"540\",\"542\",\"544\",\"546\",\"548\",\"550\",\"552\",\"554\",\"556\",\"558\",\"560\",\"562\",\"564\",\"566\",\"568\",\"570\",\"572\",\"574\",\"576\",\"578\",\"580\",\"582\",\"584\",\"586\",\"588\",\"590\",\"592\",\"594\",\"596\",\"598\",\"600\",\"602\",\"604\",\"606\",\"608\",\"610\",\"612\",\"614\",\"616\",\"618\",\"620\",\"622\",\"624\",\"626\",\"628\",\"630\",\"632\",\"634\",\"636\",\"638\",\"640\",\"642\",\"644\",\"646\",\"648\",\"650\",\"652\",\"654\",\"656\",\"658\",\"660\",\"662\",\"664\",\"666\",\"668\",\"670\",\"672\",\"674\",\"676\",\"678\",\"680\",\"682\",\"684\",\"686\",\"688\",\"690\",\"692\",\"694\",\"696\",\"698\",\"700\",\"702\",\"704\",\"706\",\"708\",\"710\",\"712\",\"714\",\"716\",\"718\",\"720\",\"722\",\"724\",\"726\",\"728\",\"730\",\"732\",\"734\",\"736\",\"738\",\"740\",\"742\",\"744\",\"746\",\"748\",\"750\",\"752\",\"754\",\"756\",\"758\",\"760\",\"762\",\"764\",\"766\",\"768\",\"770\",\"772\",\"774\",\"776\",\"778\",\"780\",\"782\",\"784\",\"786\",\"788\",\"790\",\"792\",\"794\",\"796\",\"798\",\"800\"],\"xaxis\":\"x\",\"y\":[3.4313333333333333,3.862666666666667,3.9259999999999997,4.402,5.008666666666667,4.993666666666666,5.084666666666667,5.287,5.097,5.159333333333333,5.28,5.2443333333333335,5.287,5.287,5.287,5.287,5.287,5.217,5.258,5.236,5.287,5.287,5.2556666666666665,5.287,5.287,5.239,5.287,5.237333333333333,4.837666666666667,4.6593333333333335,3.8676666666666666,3.057,2.4753333333333334,2.0283333333333333,1.648,1.4303333333333335,1.328,1.0803333333333334,0.8083333333333335,0.6383333333333333,0.536,0.4709999999999999,0.43166666666666664,0.39333333333333337,0.36433333333333334,0.3423333333333334,0.327,0.31466666666666665,0.3036666666666667,0.29266666666666663,0.2826666666666666,0.27233333333333337,0.259,0.252,0.24633333333333332,0.238,0.22733333333333336,0.218,0.21,0.20199999999999999,0.19600000000000004,0.18966666666666665,0.18233333333333332,0.17866666666666667,0.17499999999999996,0.17066666666666666,0.16566666666666666,0.15966666666666665,0.15466666666666665,0.15066666666666664,0.14533333333333331,0.1433333333333333,0.1413333333333333,0.139,0.1366666666666667,0.13366666666666668,0.13,0.126,0.12033333333333333,0.11766666666666666,0.114,0.11033333333333334,0.10733333333333334,0.10533333333333333,0.10366666666666667,0.10033333333333334,0.09766666666666668,0.09500000000000001,0.09233333333333334,0.08933333333333333,0.08633333333333333,0.08266666666666667,0.07966666666666666,0.079,0.077,0.07533333333333332,0.07533333333333332,0.074,0.072,0.07,0.06833333333333334,0.06833333333333334,0.068,0.07033333333333334,0.07066666666666667,0.07100000000000001,0.07133333333333335,0.07133333333333335,0.07166666666666666,0.07133333333333335,0.07166666666666666,0.07266666666666666,0.072,0.073,0.075,0.07633333333333332,0.07733333333333332,0.07966666666666666,0.08133333333333333,0.082,0.08566666666666667,0.09000000000000001,0.09333333333333334,0.09666666666666668,0.10033333333333334,0.10333333333333333,0.107,0.11133333333333334,0.115,0.11933333333333333,0.12433333333333334,0.12666666666666668,0.135,0.1433333333333333,0.154,0.16366666666666665,0.17466666666666666,0.18766666666666665,0.20000000000000004,0.21033333333333334,0.22,0.22766666666666668,0.2343333333333333,0.23966666666666667,0.24566666666666667,0.253,0.261,0.271,0.2836666666666667,0.29833333333333334,0.32033333333333336,0.34833333333333333,0.37433333333333335,0.3986666666666667,0.41966666666666663,0.44333333333333336,0.46,0.4676666666666667,0.4643333333333333,0.44933333333333336,0.422,0.39333333333333337,0.359,0.324,0.291,0.25266666666666665,0.214,0.18766666666666665,0.164,0.143,0.12333333333333334,0.10966666666666668,0.09733333333333334,0.08933333333333333,0.08266666666666667,0.077,0.07366666666666666,0.07100000000000001,0.06933333333333334,0.06833333333333334,0.06733333333333334,0.06533333333333334,0.06366666666666666,0.06366666666666666,0.06266666666666666,0.062,0.06133333333333333,0.06033333333333333,0.05833333333333333,0.06,0.059666666666666666,0.057666666666666665,0.057333333333333326,0.059,0.058666666666666666,0.057999999999999996,0.058666666666666666,0.059,0.06,0.06,0.05833333333333333,0.058666666666666666,0.05833333333333333,0.057999999999999996,0.057999999999999996,0.057999999999999996,0.05833333333333333,0.058666666666666666,0.057999999999999996,0.05833333333333333,0.057999999999999996,0.057999999999999996,0.059,0.058,0.05766666666666667,0.05766666666666667,0.05666666666666667,0.05666666666666667,0.056,0.054,0.05433333333333334,0.05533333333333334,0.056,0.056,0.05466666666666667,0.05466666666666667,0.05366666666666667,0.05433333333333334,0.05366666666666667,0.053,0.052333333333333336,0.053,0.05366666666666667,0.05366666666666667,0.054,0.052333333333333336,0.05366666666666667,0.053,0.051333333333333335,0.050333333333333334,0.051666666666666666,0.05266666666666667,0.05366666666666667,0.052333333333333336,0.052333333333333336,0.052333333333333336,0.052,0.05266666666666667,0.051666666666666666,0.05266666666666667,0.052333333333333336,0.052333333333333336,0.052,0.052333333333333336,0.051,0.049999999999999996,0.052,0.053,0.05333333333333334,0.054,0.056,0.05466666666666667,0.05366666666666667,0.05333333333333334,0.052333333333333336,0.05333333333333334,0.052333333333333336,0.052,0.052,0.053,0.05366666666666667,0.05366666666666667,0.051666666666666666,0.05333333333333334,0.053,0.052333333333333336,0.05266666666666667,0.052,0.050666666666666665,0.051333333333333335,0.052,0.05266666666666667,0.052333333333333336,0.052,0.050666666666666665,0.050666666666666665,0.051,0.052,0.050333333333333334,0.051333333333333335,0.050666666666666665],\"yaxis\":\"y\"}],                        {\"font\":{\"family\":\"Calibri\",\"size\":14},\"legend\":{\"tracegroupgap\":0},\"template\":{\"data\":{\"bar\":[{\"error_x\":{\"color\":\"#2a3f5f\"},\"error_y\":{\"color\":\"#2a3f5f\"},\"marker\":{\"line\":{\"color\":\"#E5ECF6\",\"width\":0.5},\"pattern\":{\"fillmode\":\"overlay\",\"size\":10,\"solidity\":0.2}},\"type\":\"bar\"}],\"barpolar\":[{\"marker\":{\"line\":{\"color\":\"#E5ECF6\",\"width\":0.5},\"pattern\":{\"fillmode\":\"overlay\",\"size\":10,\"solidity\":0.2}},\"type\":\"barpolar\"}],\"carpet\":[{\"aaxis\":{\"endlinecolor\":\"#2a3f5f\",\"gridcolor\":\"white\",\"linecolor\":\"white\",\"minorgridcolor\":\"white\",\"startlinecolor\":\"#2a3f5f\"},\"baxis\":{\"endlinecolor\":\"#2a3f5f\",\"gridcolor\":\"white\",\"linecolor\":\"white\",\"minorgridcolor\":\"white\",\"startlinecolor\":\"#2a3f5f\"},\"type\":\"carpet\"}],\"choropleth\":[{\"colorbar\":{\"outlinewidth\":0,\"ticks\":\"\"},\"type\":\"choropleth\"}],\"contour\":[{\"colorbar\":{\"outlinewidth\":0,\"ticks\":\"\"},\"colorscale\":[[0.0,\"#0d0887\"],[0.1111111111111111,\"#46039f\"],[0.2222222222222222,\"#7201a8\"],[0.3333333333333333,\"#9c179e\"],[0.4444444444444444,\"#bd3786\"],[0.5555555555555556,\"#d8576b\"],[0.6666666666666666,\"#ed7953\"],[0.7777777777777778,\"#fb9f3a\"],[0.8888888888888888,\"#fdca26\"],[1.0,\"#f0f921\"]],\"type\":\"contour\"}],\"contourcarpet\":[{\"colorbar\":{\"outlinewidth\":0,\"ticks\":\"\"},\"type\":\"contourcarpet\"}],\"heatmap\":[{\"colorbar\":{\"outlinewidth\":0,\"ticks\":\"\"},\"colorscale\":[[0.0,\"#0d0887\"],[0.1111111111111111,\"#46039f\"],[0.2222222222222222,\"#7201a8\"],[0.3333333333333333,\"#9c179e\"],[0.4444444444444444,\"#bd3786\"],[0.5555555555555556,\"#d8576b\"],[0.6666666666666666,\"#ed7953\"],[0.7777777777777778,\"#fb9f3a\"],[0.8888888888888888,\"#fdca26\"],[1.0,\"#f0f921\"]],\"type\":\"heatmap\"}],\"heatmapgl\":[{\"colorbar\":{\"outlinewidth\":0,\"ticks\":\"\"},\"colorscale\":[[0.0,\"#0d0887\"],[0.1111111111111111,\"#46039f\"],[0.2222222222222222,\"#7201a8\"],[0.3333333333333333,\"#9c179e\"],[0.4444444444444444,\"#bd3786\"],[0.5555555555555556,\"#d8576b\"],[0.6666666666666666,\"#ed7953\"],[0.7777777777777778,\"#fb9f3a\"],[0.8888888888888888,\"#fdca26\"],[1.0,\"#f0f921\"]],\"type\":\"heatmapgl\"}],\"histogram\":[{\"marker\":{\"pattern\":{\"fillmode\":\"overlay\",\"size\":10,\"solidity\":0.2}},\"type\":\"histogram\"}],\"histogram2d\":[{\"colorbar\":{\"outlinewidth\":0,\"ticks\":\"\"},\"colorscale\":[[0.0,\"#0d0887\"],[0.1111111111111111,\"#46039f\"],[0.2222222222222222,\"#7201a8\"],[0.3333333333333333,\"#9c179e\"],[0.4444444444444444,\"#bd3786\"],[0.5555555555555556,\"#d8576b\"],[0.6666666666666666,\"#ed7953\"],[0.7777777777777778,\"#fb9f3a\"],[0.8888888888888888,\"#fdca26\"],[1.0,\"#f0f921\"]],\"type\":\"histogram2d\"}],\"histogram2dcontour\":[{\"colorbar\":{\"outlinewidth\":0,\"ticks\":\"\"},\"colorscale\":[[0.0,\"#0d0887\"],[0.1111111111111111,\"#46039f\"],[0.2222222222222222,\"#7201a8\"],[0.3333333333333333,\"#9c179e\"],[0.4444444444444444,\"#bd3786\"],[0.5555555555555556,\"#d8576b\"],[0.6666666666666666,\"#ed7953\"],[0.7777777777777778,\"#fb9f3a\"],[0.8888888888888888,\"#fdca26\"],[1.0,\"#f0f921\"]],\"type\":\"histogram2dcontour\"}],\"mesh3d\":[{\"colorbar\":{\"outlinewidth\":0,\"ticks\":\"\"},\"type\":\"mesh3d\"}],\"parcoords\":[{\"line\":{\"colorbar\":{\"outlinewidth\":0,\"ticks\":\"\"}},\"type\":\"parcoords\"}],\"pie\":[{\"automargin\":true,\"type\":\"pie\"}],\"scatter\":[{\"marker\":{\"colorbar\":{\"outlinewidth\":0,\"ticks\":\"\"}},\"type\":\"scatter\"}],\"scatter3d\":[{\"line\":{\"colorbar\":{\"outlinewidth\":0,\"ticks\":\"\"}},\"marker\":{\"colorbar\":{\"outlinewidth\":0,\"ticks\":\"\"}},\"type\":\"scatter3d\"}],\"scattercarpet\":[{\"marker\":{\"colorbar\":{\"outlinewidth\":0,\"ticks\":\"\"}},\"type\":\"scattercarpet\"}],\"scattergeo\":[{\"marker\":{\"colorbar\":{\"outlinewidth\":0,\"ticks\":\"\"}},\"type\":\"scattergeo\"}],\"scattergl\":[{\"marker\":{\"colorbar\":{\"outlinewidth\":0,\"ticks\":\"\"}},\"type\":\"scattergl\"}],\"scattermapbox\":[{\"marker\":{\"colorbar\":{\"outlinewidth\":0,\"ticks\":\"\"}},\"type\":\"scattermapbox\"}],\"scatterpolar\":[{\"marker\":{\"colorbar\":{\"outlinewidth\":0,\"ticks\":\"\"}},\"type\":\"scatterpolar\"}],\"scatterpolargl\":[{\"marker\":{\"colorbar\":{\"outlinewidth\":0,\"ticks\":\"\"}},\"type\":\"scatterpolargl\"}],\"scatterternary\":[{\"marker\":{\"colorbar\":{\"outlinewidth\":0,\"ticks\":\"\"}},\"type\":\"scatterternary\"}],\"surface\":[{\"colorbar\":{\"outlinewidth\":0,\"ticks\":\"\"},\"colorscale\":[[0.0,\"#0d0887\"],[0.1111111111111111,\"#46039f\"],[0.2222222222222222,\"#7201a8\"],[0.3333333333333333,\"#9c179e\"],[0.4444444444444444,\"#bd3786\"],[0.5555555555555556,\"#d8576b\"],[0.6666666666666666,\"#ed7953\"],[0.7777777777777778,\"#fb9f3a\"],[0.8888888888888888,\"#fdca26\"],[1.0,\"#f0f921\"]],\"type\":\"surface\"}],\"table\":[{\"cells\":{\"fill\":{\"color\":\"#EBF0F8\"},\"line\":{\"color\":\"white\"}},\"header\":{\"fill\":{\"color\":\"#C8D4E3\"},\"line\":{\"color\":\"white\"}},\"type\":\"table\"}]},\"layout\":{\"annotationdefaults\":{\"arrowcolor\":\"#2a3f5f\",\"arrowhead\":0,\"arrowwidth\":1},\"autotypenumbers\":\"strict\",\"coloraxis\":{\"colorbar\":{\"outlinewidth\":0,\"ticks\":\"\"}},\"colorscale\":{\"diverging\":[[0,\"#8e0152\"],[0.1,\"#c51b7d\"],[0.2,\"#de77ae\"],[0.3,\"#f1b6da\"],[0.4,\"#fde0ef\"],[0.5,\"#f7f7f7\"],[0.6,\"#e6f5d0\"],[0.7,\"#b8e186\"],[0.8,\"#7fbc41\"],[0.9,\"#4d9221\"],[1,\"#276419\"]],\"sequential\":[[0.0,\"#0d0887\"],[0.1111111111111111,\"#46039f\"],[0.2222222222222222,\"#7201a8\"],[0.3333333333333333,\"#9c179e\"],[0.4444444444444444,\"#bd3786\"],[0.5555555555555556,\"#d8576b\"],[0.6666666666666666,\"#ed7953\"],[0.7777777777777778,\"#fb9f3a\"],[0.8888888888888888,\"#fdca26\"],[1.0,\"#f0f921\"]],\"sequentialminus\":[[0.0,\"#0d0887\"],[0.1111111111111111,\"#46039f\"],[0.2222222222222222,\"#7201a8\"],[0.3333333333333333,\"#9c179e\"],[0.4444444444444444,\"#bd3786\"],[0.5555555555555556,\"#d8576b\"],[0.6666666666666666,\"#ed7953\"],[0.7777777777777778,\"#fb9f3a\"],[0.8888888888888888,\"#fdca26\"],[1.0,\"#f0f921\"]]},\"colorway\":[\"#636efa\",\"#EF553B\",\"#00cc96\",\"#ab63fa\",\"#FFA15A\",\"#19d3f3\",\"#FF6692\",\"#B6E880\",\"#FF97FF\",\"#FECB52\"],\"font\":{\"color\":\"#2a3f5f\"},\"geo\":{\"bgcolor\":\"white\",\"lakecolor\":\"white\",\"landcolor\":\"#E5ECF6\",\"showlakes\":true,\"showland\":true,\"subunitcolor\":\"white\"},\"hoverlabel\":{\"align\":\"left\"},\"hovermode\":\"closest\",\"mapbox\":{\"style\":\"light\"},\"paper_bgcolor\":\"white\",\"plot_bgcolor\":\"#E5ECF6\",\"polar\":{\"angularaxis\":{\"gridcolor\":\"white\",\"linecolor\":\"white\",\"ticks\":\"\"},\"bgcolor\":\"#E5ECF6\",\"radialaxis\":{\"gridcolor\":\"white\",\"linecolor\":\"white\",\"ticks\":\"\"}},\"scene\":{\"xaxis\":{\"backgroundcolor\":\"#E5ECF6\",\"gridcolor\":\"white\",\"gridwidth\":2,\"linecolor\":\"white\",\"showbackground\":true,\"ticks\":\"\",\"zerolinecolor\":\"white\"},\"yaxis\":{\"backgroundcolor\":\"#E5ECF6\",\"gridcolor\":\"white\",\"gridwidth\":2,\"linecolor\":\"white\",\"showbackground\":true,\"ticks\":\"\",\"zerolinecolor\":\"white\"},\"zaxis\":{\"backgroundcolor\":\"#E5ECF6\",\"gridcolor\":\"white\",\"gridwidth\":2,\"linecolor\":\"white\",\"showbackground\":true,\"ticks\":\"\",\"zerolinecolor\":\"white\"}},\"shapedefaults\":{\"line\":{\"color\":\"#2a3f5f\"}},\"ternary\":{\"aaxis\":{\"gridcolor\":\"white\",\"linecolor\":\"white\",\"ticks\":\"\"},\"baxis\":{\"gridcolor\":\"white\",\"linecolor\":\"white\",\"ticks\":\"\"},\"bgcolor\":\"#E5ECF6\",\"caxis\":{\"gridcolor\":\"white\",\"linecolor\":\"white\",\"ticks\":\"\"}},\"title\":{\"x\":0.05},\"xaxis\":{\"automargin\":true,\"gridcolor\":\"white\",\"linecolor\":\"white\",\"ticks\":\"\",\"title\":{\"standoff\":15},\"zerolinecolor\":\"white\",\"zerolinewidth\":2},\"yaxis\":{\"automargin\":true,\"gridcolor\":\"white\",\"linecolor\":\"white\",\"ticks\":\"\",\"title\":{\"standoff\":15},\"zerolinecolor\":\"white\",\"zerolinewidth\":2}}},\"title\":{\"text\":\"How Absorbance Varies with Wavelength for Sample S1: 12.500 mg/L\"},\"xaxis\":{\"anchor\":\"y\",\"domain\":[0.0,1.0],\"title\":{\"text\":\"Wavelength / nm\"}},\"yaxis\":{\"anchor\":\"x\",\"domain\":[0.0,1.0],\"range\":[0,6],\"title\":{\"text\":\"Absorbance\"}}},                        {\"responsive\": true}                    ).then(function(){\n",
       "                            \n",
       "var gd = document.getElementById('17e20222-2ca0-440a-8335-c848b494d2b8');\n",
       "var x = new MutationObserver(function (mutations, observer) {{\n",
       "        var display = window.getComputedStyle(gd).display;\n",
       "        if (!display || display === 'none') {{\n",
       "            console.log([gd, 'removed!']);\n",
       "            Plotly.purge(gd);\n",
       "            observer.disconnect();\n",
       "        }}\n",
       "}});\n",
       "\n",
       "// Listen for the removal of the full notebook cells\n",
       "var notebookContainer = gd.closest('#notebook-container');\n",
       "if (notebookContainer) {{\n",
       "    x.observe(notebookContainer, {childList: true});\n",
       "}}\n",
       "\n",
       "// Listen for the clearing of the current output cell\n",
       "var outputEl = gd.closest('.output');\n",
       "if (outputEl) {{\n",
       "    x.observe(outputEl, {childList: true});\n",
       "}}\n",
       "\n",
       "                        })                };                });            </script>        </div>"
      ]
     },
     "metadata": {},
     "output_type": "display_data"
    },
    {
     "data": {
      "application/vnd.plotly.v1+json": {
       "config": {
        "plotlyServerURL": "https://plot.ly"
       },
       "data": [
        {
         "error_y": {
          "array": [
           0.9315293279810836,
           0.31586811593870423,
           0.16376677182980556,
           0.1173825654288859,
           0.047005909793934944,
           0.14047854719572744,
           0.1922521492438741,
           0.001885618083163919,
           0.12805554350445805,
           0,
           0,
           0.07542472332656514,
           0,
           0,
           0,
           0,
           0,
           0,
           0,
           0,
           0,
           0,
           0,
           0,
           0,
           0.015084944665313026,
           0,
           0.06289850731314868,
           0.09937918404888546,
           0.04656178690729121,
           0.14583171427672692,
           0.14845276091141663,
           0.12360240918184218,
           0.10215021618511956,
           0.08456292857327552,
           0.07608328769622573,
           0.07179755489491885,
           0.055880825572522386,
           0.041362892656206816,
           0.03240370349203933,
           0.026233989826601356,
           0.023151673805580444,
           0.020992061991778378,
           0.01837268503936091,
           0.01713346303452852,
           0.016673332000533055,
           0.015755069730795313,
           0.014514360704718175,
           0.013597385369580753,
           0.012814921857827377,
           0.01189771219838315,
           0.011440668201153687,
           0.011115554667022045,
           0.010198039027185565,
           0.009741092797468301,
           0.009741092797468313,
           0.009416297927883689,
           0.008640987597877141,
           0.008379870059984364,
           0.008379870059984364,
           0.007586537784494025,
           0.007483314773547877,
           0.007133644853010893,
           0.006683312551921146,
           0.006683312551921146,
           0.007039570693980965,
           0.006342099196813479,
           0.005436502143433356,
           0.005557777333511015,
           0.005436502143433369,
           0.004988876515698593,
           0.004642796092394711,
           0.004642796092394706,
           0.005099019513592783,
           0.004320493798938571,
           0.004496912521077345,
           0.004546060565661956,
           0.004189935029992182,
           0.004189935029992175,
           0.0033993463423951866,
           0.0037416573867739447,
           0.0038586123009300786,
           0.0032659863237109073,
           0.00374165738677394,
           0.0032998316455372196,
           0.0037416573867739386,
           0.002943920288775945,
           0.003299831645537225,
           0.003399346342395193,
           0.0037416573867739447,
           0.0038586123009300786,
           0.0029439202887759515,
           0.003091206165165231,
           0.0026246692913372664,
           0.002943920288775945,
           0.003091206165165231,
           0.003091206165165231,
           0.002943920288775945,
           0.0029439202887759515,
           0.0035590260840104404,
           0.0030912061651652374,
           0.003299831645537225,
           0.0030912061651652374,
           0.0033993463423951926,
           0.0030912061651652374,
           0.0030912061651652374,
           0.0030912061651652374,
           0.0030912061651652374,
           0.0030912061651652374,
           0.0029439202887759515,
           0.0030912061651652374,
           0.0030912061651652374,
           0.0030912061651652374,
           0.0033993463423951926,
           0.0033993463423951926,
           0.0029439202887759515,
           0.0029439202887759515,
           0.002943920288775945,
           0.002943920288775945,
           0.0033993463423951866,
           0.0033993463423951866,
           0.0033993463423951883,
           0.003399346342395193,
           0.003399346342395193,
           0.0029439202887759515,
           0.003299831645537225,
           0.003299831645537225,
           0.003681787005729084,
           0.0037416573867739386,
           0.0032998316455372196,
           0.003681787005729085,
           0.004109609335312649,
           0.0036817870057290905,
           0.0037416573867739386,
           0.00374165738677394,
           0.0041096093353126546,
           0.0032659863237109016,
           0.003299831645537225,
           0.0036817870057290905,
           0.0036817870057290905,
           0.004109609335312644,
           0.004109609335312642,
           0.004546060565661944,
           0.0041096093353126546,
           0.004189935029992182,
           0.004988876515698593,
           0.004546060565661956,
           0.004988876515698593,
           0.004988876515698583,
           0.005436502143433356,
           0.005436502143433369,
           0.00588784057755189,
           0.006480740698407866,
           0.006798692684790386,
           0.007408703590297616,
           0.006944222218666559,
           0.00694422221866656,
           0.007408703590297629,
           0.007586537784494035,
           0.007118052168020881,
           0.006480740698407853,
           0.006182412330330475,
           0.005249338582674533,
           0.00509901951359279,
           0.004642796092394698,
           0.004546060565661956,
           0.004546060565661956,
           0.004082482904638628,
           0.004082482904638634,
           0.0037416573867739386,
           0.003681787005729085,
           0.003681787005729084,
           0.003299831645537225,
           0.0037416573867739386,
           0.0037416573867739386,
           0.0033993463423951926,
           0.0033993463423951926,
           0.0033993463423951905,
           0.0033993463423951905,
           0.0030912061651652374,
           0.0035590260840104387,
           0.0030912061651652343,
           0.0029439202887759485,
           0.0038586123009300755,
           0.0030912061651652343,
           0.0030912061651652343,
           0.0033993463423951896,
           0.0033993463423951896,
           0.0033993463423951896,
           0.0033993463423951896,
           0.0029439202887759485,
           0.0033993463423951896,
           0.0030912061651652374,
           0.0030912061651652343,
           0.0030912061651652343,
           0.003559026084010437,
           0.0033993463423951896,
           0.0033993463423951896,
           0.0033993463423951896,
           0.0033993463423951896,
           0.0033993463423951896,
           0.0029439202887759485,
           0.0033993463423951896,
           0.0033993463423951896,
           0.0030912061651652343,
           0.0030912061651652343,
           0.0033993463423951896,
           0.0030912061651652343,
           0.0033993463423951896,
           0.0028284271247461896,
           0.0030912061651652343,
           0.0033993463423951896,
           0.0030912061651652343,
           0.0033993463423951896,
           0.003559026084010437,
           0.0028284271247461896,
           0.0030912061651652343,
           0.0033993463423951896,
           0.0033993463423951896,
           0.0033993463423951905,
           0.0029439202887759494,
           0.0035590260840104387,
           0.003559026084010437,
           0.0028284271247461927,
           0.003091206165165235,
           0.003299831645537225,
           0.003559026084010437,
           0.0029439202887759494,
           0.003559026084010437,
           0.0033993463423951896,
           0.003559026084010437,
           0.003559026084010437,
           0.003559026084010437,
           0.003559026084010437,
           0.003091206165165235,
           0.0033993463423951896,
           0.003559026084010437,
           0.0029439202887759494,
           0.0026246692913372695,
           0.003559026084010437,
           0.0030912061651652343,
           0.003559026084010437,
           0.003559026084010437,
           0.003559026084010437,
           0.0030912061651652343,
           0.0030912061651652343,
           0.0032998316455372214,
           0.0030912061651652343,
           0.0033993463423951896,
           0.0033993463423951905,
           0.0030912061651652343,
           0.0028284271247461896,
           0.003559026084010437,
           0.0032998316455372214,
           0.004027681991198191,
           0.0030912061651652343,
           0.0030912061651652343,
           0.003091206165165235,
           0.0035590260840104387,
           0.003559026084010437,
           0.0032998316455372214,
           0.0033993463423951896,
           0.0030912061651652374,
           0.003299831645537225,
           0.0032998316455372214,
           0.003299831645537225,
           0.0033993463423951905,
           0.0033993463423951905,
           0.0037712361663282535,
           0.0029439202887759494,
           0.0028284271247461927,
           0.0030912061651652374,
           0.004027681991198191,
           0.0030912061651652374,
           0.0030912061651652374,
           0.0028284271247461927,
           0.002624669291337273,
           0.0037712361663282535,
           0.003559026084010437,
           0.0030912061651652343,
           0.0029439202887759494,
           0.0028284271247461927,
           0.003091206165165235,
           0.003091206165165235,
           0.0032998316455372214,
           0.0032998316455372214,
           0.0028284271247461896,
           0.0028284271247461896,
           0.0030912061651652343,
           0.003091206165165235,
           0.003559026084010437
          ]
         },
         "hovertemplate": "Wavelength / nm=%{x}<br>Absorbance=%{y}<extra></extra>",
         "legendgroup": "",
         "marker": {
          "color": "#636efa",
          "line": {
           "color": "DarkSlateGrey",
           "width": 2
          },
          "size": 8,
          "symbol": "circle"
         },
         "mode": "markers",
         "name": "",
         "orientation": "v",
         "showlegend": false,
         "type": "scatter",
         "x": [
          "220",
          "222",
          "224",
          "226",
          "228",
          "230",
          "232",
          "234",
          "236",
          "238",
          "240",
          "242",
          "244",
          "246",
          "248",
          "250",
          "252",
          "254",
          "256",
          "258",
          "260",
          "262",
          "264",
          "266",
          "268",
          "270",
          "272",
          "274",
          "276",
          "278",
          "280",
          "282",
          "284",
          "286",
          "288",
          "290",
          "292",
          "294",
          "296",
          "298",
          "300",
          "302",
          "304",
          "306",
          "308",
          "310",
          "312",
          "314",
          "316",
          "318",
          "320",
          "322",
          "324",
          "326",
          "328",
          "330",
          "332",
          "334",
          "336",
          "338",
          "340",
          "342",
          "344",
          "346",
          "348",
          "350",
          "352",
          "354",
          "356",
          "358",
          "360",
          "362",
          "364",
          "366",
          "368",
          "370",
          "372",
          "374",
          "376",
          "378",
          "380",
          "382",
          "384",
          "386",
          "388",
          "390",
          "392",
          "394",
          "396",
          "398",
          "400",
          "402",
          "404",
          "406",
          "408",
          "410",
          "412",
          "414",
          "416",
          "418",
          "420",
          "422",
          "424",
          "426",
          "428",
          "430",
          "432",
          "434",
          "436",
          "438",
          "440",
          "442",
          "444",
          "446",
          "448",
          "450",
          "452",
          "454",
          "456",
          "458",
          "460",
          "462",
          "464",
          "466",
          "468",
          "470",
          "472",
          "474",
          "476",
          "478",
          "480",
          "482",
          "484",
          "486",
          "488",
          "490",
          "492",
          "494",
          "496",
          "498",
          "500",
          "502",
          "504",
          "506",
          "508",
          "510",
          "512",
          "514",
          "516",
          "518",
          "520",
          "522",
          "524",
          "526",
          "528",
          "530",
          "532",
          "534",
          "536",
          "538",
          "540",
          "542",
          "544",
          "546",
          "548",
          "550",
          "552",
          "554",
          "556",
          "558",
          "560",
          "562",
          "564",
          "566",
          "568",
          "570",
          "572",
          "574",
          "576",
          "578",
          "580",
          "582",
          "584",
          "586",
          "588",
          "590",
          "592",
          "594",
          "596",
          "598",
          "600",
          "602",
          "604",
          "606",
          "608",
          "610",
          "612",
          "614",
          "616",
          "618",
          "620",
          "622",
          "624",
          "626",
          "628",
          "630",
          "632",
          "634",
          "636",
          "638",
          "640",
          "642",
          "644",
          "646",
          "648",
          "650",
          "652",
          "654",
          "656",
          "658",
          "660",
          "662",
          "664",
          "666",
          "668",
          "670",
          "672",
          "674",
          "676",
          "678",
          "680",
          "682",
          "684",
          "686",
          "688",
          "690",
          "692",
          "694",
          "696",
          "698",
          "700",
          "702",
          "704",
          "706",
          "708",
          "710",
          "712",
          "714",
          "716",
          "718",
          "720",
          "722",
          "724",
          "726",
          "728",
          "730",
          "732",
          "734",
          "736",
          "738",
          "740",
          "742",
          "744",
          "746",
          "748",
          "750",
          "752",
          "754",
          "756",
          "758",
          "760",
          "762",
          "764",
          "766",
          "768",
          "770",
          "772",
          "774",
          "776",
          "778",
          "780",
          "782",
          "784",
          "786",
          "788",
          "790",
          "792",
          "794",
          "796",
          "798",
          "800"
         ],
         "xaxis": "x",
         "y": [
          3.9933333333333336,
          3.6229999999999998,
          3.9113333333333338,
          4.192,
          4.831333333333333,
          5.187666666666666,
          5.0296666666666665,
          5.285666666666667,
          5.059666666666667,
          5.287,
          5.287,
          5.233666666666667,
          5.287,
          5.287,
          5.287,
          5.287,
          5.287,
          5.287,
          5.287,
          5.287,
          5.287,
          5.287,
          5.287,
          5.287,
          5.287,
          5.2763333333333335,
          5.287,
          5.2026666666666666,
          4.830333333333333,
          4.718,
          3.8593333333333333,
          3.037333333333333,
          2.458666666666667,
          2.0079999999999996,
          1.6273333333333333,
          1.4110000000000003,
          1.3096666666666668,
          1.059,
          0.7843333333333334,
          0.614,
          0.5126666666666667,
          0.449,
          0.41100000000000003,
          0.3746666666666667,
          0.3463333333333334,
          0.325,
          0.31033333333333335,
          0.298,
          0.2873333333333334,
          0.2763333333333333,
          0.26566666666666666,
          0.25533333333333336,
          0.24166666666666667,
          0.23500000000000001,
          0.22866666666666666,
          0.21966666666666668,
          0.21,
          0.19999999999999998,
          0.19066666666666668,
          0.18266666666666667,
          0.17666666666666667,
          0.17,
          0.16333333333333333,
          0.159,
          0.155,
          0.15066666666666664,
          0.14533333333333334,
          0.1396666666666667,
          0.13433333333333333,
          0.13066666666666668,
          0.12533333333333332,
          0.12366666666666666,
          0.12166666666666666,
          0.119,
          0.11599999999999999,
          0.11333333333333333,
          0.11,
          0.10633333333333334,
          0.10133333333333333,
          0.09833333333333333,
          0.09600000000000002,
          0.09266666666666667,
          0.09000000000000001,
          0.08800000000000001,
          0.08666666666666667,
          0.084,
          0.082,
          0.08066666666666666,
          0.07933333333333333,
          0.078,
          0.07566666666666666,
          0.074,
          0.07166666666666667,
          0.07133333333333335,
          0.07,
          0.06866666666666667,
          0.06866666666666667,
          0.067,
          0.066,
          0.064,
          0.06266666666666666,
          0.06233333333333333,
          0.06266666666666666,
          0.06433333333333334,
          0.06466666666666666,
          0.06466666666666666,
          0.06466666666666666,
          0.06466666666666666,
          0.06466666666666666,
          0.064,
          0.06366666666666666,
          0.06466666666666666,
          0.06366666666666666,
          0.06333333333333334,
          0.06533333333333334,
          0.066,
          0.066,
          0.067,
          0.068,
          0.06733333333333334,
          0.06933333333333334,
          0.07233333333333335,
          0.07433333333333332,
          0.07633333333333332,
          0.078,
          0.07966666666666666,
          0.08066666666666666,
          0.08333333333333333,
          0.085,
          0.08766666666666667,
          0.08933333333333333,
          0.08866666666666667,
          0.09333333333333334,
          0.09799999999999999,
          0.104,
          0.10866666666666668,
          0.11499999999999999,
          0.12233333333333334,
          0.12766666666666668,
          0.13366666666666668,
          0.13833333333333334,
          0.14233333333333334,
          0.14600000000000002,
          0.14833333333333332,
          0.15066666666666664,
          0.15466666666666665,
          0.159,
          0.16366666666666665,
          0.16966666666666666,
          0.17733333333333334,
          0.18833333333333332,
          0.20199999999999999,
          0.214,
          0.22533333333333336,
          0.2353333333333333,
          0.24866666666666667,
          0.25666666666666665,
          0.26133333333333336,
          0.25966666666666666,
          0.252,
          0.237,
          0.22366666666666668,
          0.20733333333333334,
          0.19000000000000003,
          0.1743333333333333,
          0.155,
          0.135,
          0.122,
          0.11,
          0.09899999999999999,
          0.08933333333333333,
          0.08233333333333333,
          0.07566666666666666,
          0.07100000000000001,
          0.068,
          0.06533333333333334,
          0.06333333333333334,
          0.06133333333333333,
          0.06133333333333333,
          0.06166666666666667,
          0.061,
          0.059666666666666666,
          0.059,
          0.058666666666666666,
          0.057666666666666665,
          0.057666666666666665,
          0.057333333333333326,
          0.056333333333333326,
          0.054333333333333324,
          0.056333333333333326,
          0.055999999999999994,
          0.054333333333333324,
          0.05366666666666667,
          0.05566666666666666,
          0.05466666666666666,
          0.05499999999999999,
          0.055333333333333325,
          0.056333333333333326,
          0.056333333333333326,
          0.057333333333333326,
          0.055333333333333325,
          0.055999999999999994,
          0.054333333333333324,
          0.054333333333333324,
          0.05466666666666666,
          0.05566666666666666,
          0.055333333333333325,
          0.05566666666666666,
          0.055333333333333325,
          0.055999999999999994,
          0.05466666666666666,
          0.054333333333333324,
          0.056666666666666664,
          0.055333333333333325,
          0.05499999999999999,
          0.05499999999999999,
          0.05466666666666666,
          0.054333333333333324,
          0.054333333333333324,
          0.052333333333333336,
          0.052,
          0.053,
          0.05399999999999999,
          0.054,
          0.05266666666666667,
          0.05333333333333334,
          0.052,
          0.053,
          0.052,
          0.051333333333333335,
          0.051,
          0.052,
          0.052,
          0.052,
          0.05266666666666667,
          0.051333333333333335,
          0.052,
          0.052,
          0.050333333333333334,
          0.048999999999999995,
          0.050666666666666665,
          0.052,
          0.052,
          0.051,
          0.051666666666666666,
          0.051666666666666666,
          0.051333333333333335,
          0.051666666666666666,
          0.051333333333333335,
          0.052333333333333336,
          0.051666666666666666,
          0.052,
          0.051,
          0.051333333333333335,
          0.050333333333333334,
          0.049666666666666665,
          0.051666666666666666,
          0.05266666666666667,
          0.053,
          0.05399999999999999,
          0.055333333333333325,
          0.054333333333333324,
          0.05366666666666667,
          0.05333333333333334,
          0.052333333333333336,
          0.05333333333333334,
          0.052333333333333336,
          0.052333333333333336,
          0.05266666666666667,
          0.053,
          0.054,
          0.05366666666666667,
          0.051333333333333335,
          0.05366666666666667,
          0.05366666666666667,
          0.053,
          0.05333333333333334,
          0.05366666666666666,
          0.051,
          0.051666666666666666,
          0.052,
          0.053,
          0.05266666666666667,
          0.05266666666666667,
          0.051333333333333335,
          0.051333333333333335,
          0.052,
          0.052,
          0.051666666666666666,
          0.05266666666666667,
          0.051
         ],
         "yaxis": "y"
        }
       ],
       "layout": {
        "font": {
         "family": "Calibri",
         "size": 14
        },
        "legend": {
         "tracegroupgap": 0
        },
        "template": {
         "data": {
          "bar": [
           {
            "error_x": {
             "color": "#2a3f5f"
            },
            "error_y": {
             "color": "#2a3f5f"
            },
            "marker": {
             "line": {
              "color": "#E5ECF6",
              "width": 0.5
             },
             "pattern": {
              "fillmode": "overlay",
              "size": 10,
              "solidity": 0.2
             }
            },
            "type": "bar"
           }
          ],
          "barpolar": [
           {
            "marker": {
             "line": {
              "color": "#E5ECF6",
              "width": 0.5
             },
             "pattern": {
              "fillmode": "overlay",
              "size": 10,
              "solidity": 0.2
             }
            },
            "type": "barpolar"
           }
          ],
          "carpet": [
           {
            "aaxis": {
             "endlinecolor": "#2a3f5f",
             "gridcolor": "white",
             "linecolor": "white",
             "minorgridcolor": "white",
             "startlinecolor": "#2a3f5f"
            },
            "baxis": {
             "endlinecolor": "#2a3f5f",
             "gridcolor": "white",
             "linecolor": "white",
             "minorgridcolor": "white",
             "startlinecolor": "#2a3f5f"
            },
            "type": "carpet"
           }
          ],
          "choropleth": [
           {
            "colorbar": {
             "outlinewidth": 0,
             "ticks": ""
            },
            "type": "choropleth"
           }
          ],
          "contour": [
           {
            "colorbar": {
             "outlinewidth": 0,
             "ticks": ""
            },
            "colorscale": [
             [
              0,
              "#0d0887"
             ],
             [
              0.1111111111111111,
              "#46039f"
             ],
             [
              0.2222222222222222,
              "#7201a8"
             ],
             [
              0.3333333333333333,
              "#9c179e"
             ],
             [
              0.4444444444444444,
              "#bd3786"
             ],
             [
              0.5555555555555556,
              "#d8576b"
             ],
             [
              0.6666666666666666,
              "#ed7953"
             ],
             [
              0.7777777777777778,
              "#fb9f3a"
             ],
             [
              0.8888888888888888,
              "#fdca26"
             ],
             [
              1,
              "#f0f921"
             ]
            ],
            "type": "contour"
           }
          ],
          "contourcarpet": [
           {
            "colorbar": {
             "outlinewidth": 0,
             "ticks": ""
            },
            "type": "contourcarpet"
           }
          ],
          "heatmap": [
           {
            "colorbar": {
             "outlinewidth": 0,
             "ticks": ""
            },
            "colorscale": [
             [
              0,
              "#0d0887"
             ],
             [
              0.1111111111111111,
              "#46039f"
             ],
             [
              0.2222222222222222,
              "#7201a8"
             ],
             [
              0.3333333333333333,
              "#9c179e"
             ],
             [
              0.4444444444444444,
              "#bd3786"
             ],
             [
              0.5555555555555556,
              "#d8576b"
             ],
             [
              0.6666666666666666,
              "#ed7953"
             ],
             [
              0.7777777777777778,
              "#fb9f3a"
             ],
             [
              0.8888888888888888,
              "#fdca26"
             ],
             [
              1,
              "#f0f921"
             ]
            ],
            "type": "heatmap"
           }
          ],
          "heatmapgl": [
           {
            "colorbar": {
             "outlinewidth": 0,
             "ticks": ""
            },
            "colorscale": [
             [
              0,
              "#0d0887"
             ],
             [
              0.1111111111111111,
              "#46039f"
             ],
             [
              0.2222222222222222,
              "#7201a8"
             ],
             [
              0.3333333333333333,
              "#9c179e"
             ],
             [
              0.4444444444444444,
              "#bd3786"
             ],
             [
              0.5555555555555556,
              "#d8576b"
             ],
             [
              0.6666666666666666,
              "#ed7953"
             ],
             [
              0.7777777777777778,
              "#fb9f3a"
             ],
             [
              0.8888888888888888,
              "#fdca26"
             ],
             [
              1,
              "#f0f921"
             ]
            ],
            "type": "heatmapgl"
           }
          ],
          "histogram": [
           {
            "marker": {
             "pattern": {
              "fillmode": "overlay",
              "size": 10,
              "solidity": 0.2
             }
            },
            "type": "histogram"
           }
          ],
          "histogram2d": [
           {
            "colorbar": {
             "outlinewidth": 0,
             "ticks": ""
            },
            "colorscale": [
             [
              0,
              "#0d0887"
             ],
             [
              0.1111111111111111,
              "#46039f"
             ],
             [
              0.2222222222222222,
              "#7201a8"
             ],
             [
              0.3333333333333333,
              "#9c179e"
             ],
             [
              0.4444444444444444,
              "#bd3786"
             ],
             [
              0.5555555555555556,
              "#d8576b"
             ],
             [
              0.6666666666666666,
              "#ed7953"
             ],
             [
              0.7777777777777778,
              "#fb9f3a"
             ],
             [
              0.8888888888888888,
              "#fdca26"
             ],
             [
              1,
              "#f0f921"
             ]
            ],
            "type": "histogram2d"
           }
          ],
          "histogram2dcontour": [
           {
            "colorbar": {
             "outlinewidth": 0,
             "ticks": ""
            },
            "colorscale": [
             [
              0,
              "#0d0887"
             ],
             [
              0.1111111111111111,
              "#46039f"
             ],
             [
              0.2222222222222222,
              "#7201a8"
             ],
             [
              0.3333333333333333,
              "#9c179e"
             ],
             [
              0.4444444444444444,
              "#bd3786"
             ],
             [
              0.5555555555555556,
              "#d8576b"
             ],
             [
              0.6666666666666666,
              "#ed7953"
             ],
             [
              0.7777777777777778,
              "#fb9f3a"
             ],
             [
              0.8888888888888888,
              "#fdca26"
             ],
             [
              1,
              "#f0f921"
             ]
            ],
            "type": "histogram2dcontour"
           }
          ],
          "mesh3d": [
           {
            "colorbar": {
             "outlinewidth": 0,
             "ticks": ""
            },
            "type": "mesh3d"
           }
          ],
          "parcoords": [
           {
            "line": {
             "colorbar": {
              "outlinewidth": 0,
              "ticks": ""
             }
            },
            "type": "parcoords"
           }
          ],
          "pie": [
           {
            "automargin": true,
            "type": "pie"
           }
          ],
          "scatter": [
           {
            "marker": {
             "colorbar": {
              "outlinewidth": 0,
              "ticks": ""
             }
            },
            "type": "scatter"
           }
          ],
          "scatter3d": [
           {
            "line": {
             "colorbar": {
              "outlinewidth": 0,
              "ticks": ""
             }
            },
            "marker": {
             "colorbar": {
              "outlinewidth": 0,
              "ticks": ""
             }
            },
            "type": "scatter3d"
           }
          ],
          "scattercarpet": [
           {
            "marker": {
             "colorbar": {
              "outlinewidth": 0,
              "ticks": ""
             }
            },
            "type": "scattercarpet"
           }
          ],
          "scattergeo": [
           {
            "marker": {
             "colorbar": {
              "outlinewidth": 0,
              "ticks": ""
             }
            },
            "type": "scattergeo"
           }
          ],
          "scattergl": [
           {
            "marker": {
             "colorbar": {
              "outlinewidth": 0,
              "ticks": ""
             }
            },
            "type": "scattergl"
           }
          ],
          "scattermapbox": [
           {
            "marker": {
             "colorbar": {
              "outlinewidth": 0,
              "ticks": ""
             }
            },
            "type": "scattermapbox"
           }
          ],
          "scatterpolar": [
           {
            "marker": {
             "colorbar": {
              "outlinewidth": 0,
              "ticks": ""
             }
            },
            "type": "scatterpolar"
           }
          ],
          "scatterpolargl": [
           {
            "marker": {
             "colorbar": {
              "outlinewidth": 0,
              "ticks": ""
             }
            },
            "type": "scatterpolargl"
           }
          ],
          "scatterternary": [
           {
            "marker": {
             "colorbar": {
              "outlinewidth": 0,
              "ticks": ""
             }
            },
            "type": "scatterternary"
           }
          ],
          "surface": [
           {
            "colorbar": {
             "outlinewidth": 0,
             "ticks": ""
            },
            "colorscale": [
             [
              0,
              "#0d0887"
             ],
             [
              0.1111111111111111,
              "#46039f"
             ],
             [
              0.2222222222222222,
              "#7201a8"
             ],
             [
              0.3333333333333333,
              "#9c179e"
             ],
             [
              0.4444444444444444,
              "#bd3786"
             ],
             [
              0.5555555555555556,
              "#d8576b"
             ],
             [
              0.6666666666666666,
              "#ed7953"
             ],
             [
              0.7777777777777778,
              "#fb9f3a"
             ],
             [
              0.8888888888888888,
              "#fdca26"
             ],
             [
              1,
              "#f0f921"
             ]
            ],
            "type": "surface"
           }
          ],
          "table": [
           {
            "cells": {
             "fill": {
              "color": "#EBF0F8"
             },
             "line": {
              "color": "white"
             }
            },
            "header": {
             "fill": {
              "color": "#C8D4E3"
             },
             "line": {
              "color": "white"
             }
            },
            "type": "table"
           }
          ]
         },
         "layout": {
          "annotationdefaults": {
           "arrowcolor": "#2a3f5f",
           "arrowhead": 0,
           "arrowwidth": 1
          },
          "autotypenumbers": "strict",
          "coloraxis": {
           "colorbar": {
            "outlinewidth": 0,
            "ticks": ""
           }
          },
          "colorscale": {
           "diverging": [
            [
             0,
             "#8e0152"
            ],
            [
             0.1,
             "#c51b7d"
            ],
            [
             0.2,
             "#de77ae"
            ],
            [
             0.3,
             "#f1b6da"
            ],
            [
             0.4,
             "#fde0ef"
            ],
            [
             0.5,
             "#f7f7f7"
            ],
            [
             0.6,
             "#e6f5d0"
            ],
            [
             0.7,
             "#b8e186"
            ],
            [
             0.8,
             "#7fbc41"
            ],
            [
             0.9,
             "#4d9221"
            ],
            [
             1,
             "#276419"
            ]
           ],
           "sequential": [
            [
             0,
             "#0d0887"
            ],
            [
             0.1111111111111111,
             "#46039f"
            ],
            [
             0.2222222222222222,
             "#7201a8"
            ],
            [
             0.3333333333333333,
             "#9c179e"
            ],
            [
             0.4444444444444444,
             "#bd3786"
            ],
            [
             0.5555555555555556,
             "#d8576b"
            ],
            [
             0.6666666666666666,
             "#ed7953"
            ],
            [
             0.7777777777777778,
             "#fb9f3a"
            ],
            [
             0.8888888888888888,
             "#fdca26"
            ],
            [
             1,
             "#f0f921"
            ]
           ],
           "sequentialminus": [
            [
             0,
             "#0d0887"
            ],
            [
             0.1111111111111111,
             "#46039f"
            ],
            [
             0.2222222222222222,
             "#7201a8"
            ],
            [
             0.3333333333333333,
             "#9c179e"
            ],
            [
             0.4444444444444444,
             "#bd3786"
            ],
            [
             0.5555555555555556,
             "#d8576b"
            ],
            [
             0.6666666666666666,
             "#ed7953"
            ],
            [
             0.7777777777777778,
             "#fb9f3a"
            ],
            [
             0.8888888888888888,
             "#fdca26"
            ],
            [
             1,
             "#f0f921"
            ]
           ]
          },
          "colorway": [
           "#636efa",
           "#EF553B",
           "#00cc96",
           "#ab63fa",
           "#FFA15A",
           "#19d3f3",
           "#FF6692",
           "#B6E880",
           "#FF97FF",
           "#FECB52"
          ],
          "font": {
           "color": "#2a3f5f"
          },
          "geo": {
           "bgcolor": "white",
           "lakecolor": "white",
           "landcolor": "#E5ECF6",
           "showlakes": true,
           "showland": true,
           "subunitcolor": "white"
          },
          "hoverlabel": {
           "align": "left"
          },
          "hovermode": "closest",
          "mapbox": {
           "style": "light"
          },
          "paper_bgcolor": "white",
          "plot_bgcolor": "#E5ECF6",
          "polar": {
           "angularaxis": {
            "gridcolor": "white",
            "linecolor": "white",
            "ticks": ""
           },
           "bgcolor": "#E5ECF6",
           "radialaxis": {
            "gridcolor": "white",
            "linecolor": "white",
            "ticks": ""
           }
          },
          "scene": {
           "xaxis": {
            "backgroundcolor": "#E5ECF6",
            "gridcolor": "white",
            "gridwidth": 2,
            "linecolor": "white",
            "showbackground": true,
            "ticks": "",
            "zerolinecolor": "white"
           },
           "yaxis": {
            "backgroundcolor": "#E5ECF6",
            "gridcolor": "white",
            "gridwidth": 2,
            "linecolor": "white",
            "showbackground": true,
            "ticks": "",
            "zerolinecolor": "white"
           },
           "zaxis": {
            "backgroundcolor": "#E5ECF6",
            "gridcolor": "white",
            "gridwidth": 2,
            "linecolor": "white",
            "showbackground": true,
            "ticks": "",
            "zerolinecolor": "white"
           }
          },
          "shapedefaults": {
           "line": {
            "color": "#2a3f5f"
           }
          },
          "ternary": {
           "aaxis": {
            "gridcolor": "white",
            "linecolor": "white",
            "ticks": ""
           },
           "baxis": {
            "gridcolor": "white",
            "linecolor": "white",
            "ticks": ""
           },
           "bgcolor": "#E5ECF6",
           "caxis": {
            "gridcolor": "white",
            "linecolor": "white",
            "ticks": ""
           }
          },
          "title": {
           "x": 0.05
          },
          "xaxis": {
           "automargin": true,
           "gridcolor": "white",
           "linecolor": "white",
           "ticks": "",
           "title": {
            "standoff": 15
           },
           "zerolinecolor": "white",
           "zerolinewidth": 2
          },
          "yaxis": {
           "automargin": true,
           "gridcolor": "white",
           "linecolor": "white",
           "ticks": "",
           "title": {
            "standoff": 15
           },
           "zerolinecolor": "white",
           "zerolinewidth": 2
          }
         }
        },
        "title": {
         "text": "How Absorbance Varies with Wavelength for Sample S1: 6.250 mg/L"
        },
        "xaxis": {
         "anchor": "y",
         "domain": [
          0,
          1
         ],
         "title": {
          "text": "Wavelength / nm"
         }
        },
        "yaxis": {
         "anchor": "x",
         "domain": [
          0,
          1
         ],
         "range": [
          0,
          6
         ],
         "title": {
          "text": "Absorbance"
         }
        }
       }
      },
      "text/html": [
       "<div>                            <div id=\"a7bab41a-d495-4d1a-82fd-6360d7a2bb0d\" class=\"plotly-graph-div\" style=\"height:525px; width:100%;\"></div>            <script type=\"text/javascript\">                require([\"plotly\"], function(Plotly) {                    window.PLOTLYENV=window.PLOTLYENV || {};                                    if (document.getElementById(\"a7bab41a-d495-4d1a-82fd-6360d7a2bb0d\")) {                    Plotly.newPlot(                        \"a7bab41a-d495-4d1a-82fd-6360d7a2bb0d\",                        [{\"error_y\":{\"array\":[0.9315293279810836,0.31586811593870423,0.16376677182980556,0.1173825654288859,0.047005909793934944,0.14047854719572744,0.1922521492438741,0.001885618083163919,0.12805554350445805,0.0,0.0,0.07542472332656514,0.0,0.0,0.0,0.0,0.0,0.0,0.0,0.0,0.0,0.0,0.0,0.0,0.0,0.015084944665313026,0.0,0.06289850731314868,0.09937918404888546,0.04656178690729121,0.14583171427672692,0.14845276091141663,0.12360240918184218,0.10215021618511956,0.08456292857327552,0.07608328769622573,0.07179755489491885,0.055880825572522386,0.041362892656206816,0.03240370349203933,0.026233989826601356,0.023151673805580444,0.020992061991778378,0.01837268503936091,0.01713346303452852,0.016673332000533055,0.015755069730795313,0.014514360704718175,0.013597385369580753,0.012814921857827377,0.01189771219838315,0.011440668201153687,0.011115554667022045,0.010198039027185565,0.009741092797468301,0.009741092797468313,0.009416297927883689,0.008640987597877141,0.008379870059984364,0.008379870059984364,0.007586537784494025,0.007483314773547877,0.007133644853010893,0.006683312551921146,0.006683312551921146,0.007039570693980965,0.006342099196813479,0.005436502143433356,0.005557777333511015,0.005436502143433369,0.004988876515698593,0.004642796092394711,0.004642796092394706,0.005099019513592783,0.004320493798938571,0.004496912521077345,0.004546060565661956,0.004189935029992182,0.004189935029992175,0.0033993463423951866,0.0037416573867739447,0.0038586123009300786,0.0032659863237109073,0.00374165738677394,0.0032998316455372196,0.0037416573867739386,0.002943920288775945,0.003299831645537225,0.003399346342395193,0.0037416573867739447,0.0038586123009300786,0.0029439202887759515,0.003091206165165231,0.0026246692913372664,0.002943920288775945,0.003091206165165231,0.003091206165165231,0.002943920288775945,0.0029439202887759515,0.0035590260840104404,0.0030912061651652374,0.003299831645537225,0.0030912061651652374,0.0033993463423951926,0.0030912061651652374,0.0030912061651652374,0.0030912061651652374,0.0030912061651652374,0.0030912061651652374,0.0029439202887759515,0.0030912061651652374,0.0030912061651652374,0.0030912061651652374,0.0033993463423951926,0.0033993463423951926,0.0029439202887759515,0.0029439202887759515,0.002943920288775945,0.002943920288775945,0.0033993463423951866,0.0033993463423951866,0.0033993463423951883,0.003399346342395193,0.003399346342395193,0.0029439202887759515,0.003299831645537225,0.003299831645537225,0.003681787005729084,0.0037416573867739386,0.0032998316455372196,0.003681787005729085,0.004109609335312649,0.0036817870057290905,0.0037416573867739386,0.00374165738677394,0.0041096093353126546,0.0032659863237109016,0.003299831645537225,0.0036817870057290905,0.0036817870057290905,0.004109609335312644,0.004109609335312642,0.004546060565661944,0.0041096093353126546,0.004189935029992182,0.004988876515698593,0.004546060565661956,0.004988876515698593,0.004988876515698583,0.005436502143433356,0.005436502143433369,0.00588784057755189,0.006480740698407866,0.006798692684790386,0.007408703590297616,0.006944222218666559,0.00694422221866656,0.007408703590297629,0.007586537784494035,0.007118052168020881,0.006480740698407853,0.006182412330330475,0.005249338582674533,0.00509901951359279,0.004642796092394698,0.004546060565661956,0.004546060565661956,0.004082482904638628,0.004082482904638634,0.0037416573867739386,0.003681787005729085,0.003681787005729084,0.003299831645537225,0.0037416573867739386,0.0037416573867739386,0.0033993463423951926,0.0033993463423951926,0.0033993463423951905,0.0033993463423951905,0.0030912061651652374,0.0035590260840104387,0.0030912061651652343,0.0029439202887759485,0.0038586123009300755,0.0030912061651652343,0.0030912061651652343,0.0033993463423951896,0.0033993463423951896,0.0033993463423951896,0.0033993463423951896,0.0029439202887759485,0.0033993463423951896,0.0030912061651652374,0.0030912061651652343,0.0030912061651652343,0.003559026084010437,0.0033993463423951896,0.0033993463423951896,0.0033993463423951896,0.0033993463423951896,0.0033993463423951896,0.0029439202887759485,0.0033993463423951896,0.0033993463423951896,0.0030912061651652343,0.0030912061651652343,0.0033993463423951896,0.0030912061651652343,0.0033993463423951896,0.0028284271247461896,0.0030912061651652343,0.0033993463423951896,0.0030912061651652343,0.0033993463423951896,0.003559026084010437,0.0028284271247461896,0.0030912061651652343,0.0033993463423951896,0.0033993463423951896,0.0033993463423951905,0.0029439202887759494,0.0035590260840104387,0.003559026084010437,0.0028284271247461927,0.003091206165165235,0.003299831645537225,0.003559026084010437,0.0029439202887759494,0.003559026084010437,0.0033993463423951896,0.003559026084010437,0.003559026084010437,0.003559026084010437,0.003559026084010437,0.003091206165165235,0.0033993463423951896,0.003559026084010437,0.0029439202887759494,0.0026246692913372695,0.003559026084010437,0.0030912061651652343,0.003559026084010437,0.003559026084010437,0.003559026084010437,0.0030912061651652343,0.0030912061651652343,0.0032998316455372214,0.0030912061651652343,0.0033993463423951896,0.0033993463423951905,0.0030912061651652343,0.0028284271247461896,0.003559026084010437,0.0032998316455372214,0.004027681991198191,0.0030912061651652343,0.0030912061651652343,0.003091206165165235,0.0035590260840104387,0.003559026084010437,0.0032998316455372214,0.0033993463423951896,0.0030912061651652374,0.003299831645537225,0.0032998316455372214,0.003299831645537225,0.0033993463423951905,0.0033993463423951905,0.0037712361663282535,0.0029439202887759494,0.0028284271247461927,0.0030912061651652374,0.004027681991198191,0.0030912061651652374,0.0030912061651652374,0.0028284271247461927,0.002624669291337273,0.0037712361663282535,0.003559026084010437,0.0030912061651652343,0.0029439202887759494,0.0028284271247461927,0.003091206165165235,0.003091206165165235,0.0032998316455372214,0.0032998316455372214,0.0028284271247461896,0.0028284271247461896,0.0030912061651652343,0.003091206165165235,0.003559026084010437]},\"hovertemplate\":\"Wavelength / nm=%{x}<br>Absorbance=%{y}<extra></extra>\",\"legendgroup\":\"\",\"marker\":{\"color\":\"#636efa\",\"line\":{\"color\":\"DarkSlateGrey\",\"width\":2},\"size\":8,\"symbol\":\"circle\"},\"mode\":\"markers\",\"name\":\"\",\"orientation\":\"v\",\"showlegend\":false,\"type\":\"scatter\",\"x\":[\"220\",\"222\",\"224\",\"226\",\"228\",\"230\",\"232\",\"234\",\"236\",\"238\",\"240\",\"242\",\"244\",\"246\",\"248\",\"250\",\"252\",\"254\",\"256\",\"258\",\"260\",\"262\",\"264\",\"266\",\"268\",\"270\",\"272\",\"274\",\"276\",\"278\",\"280\",\"282\",\"284\",\"286\",\"288\",\"290\",\"292\",\"294\",\"296\",\"298\",\"300\",\"302\",\"304\",\"306\",\"308\",\"310\",\"312\",\"314\",\"316\",\"318\",\"320\",\"322\",\"324\",\"326\",\"328\",\"330\",\"332\",\"334\",\"336\",\"338\",\"340\",\"342\",\"344\",\"346\",\"348\",\"350\",\"352\",\"354\",\"356\",\"358\",\"360\",\"362\",\"364\",\"366\",\"368\",\"370\",\"372\",\"374\",\"376\",\"378\",\"380\",\"382\",\"384\",\"386\",\"388\",\"390\",\"392\",\"394\",\"396\",\"398\",\"400\",\"402\",\"404\",\"406\",\"408\",\"410\",\"412\",\"414\",\"416\",\"418\",\"420\",\"422\",\"424\",\"426\",\"428\",\"430\",\"432\",\"434\",\"436\",\"438\",\"440\",\"442\",\"444\",\"446\",\"448\",\"450\",\"452\",\"454\",\"456\",\"458\",\"460\",\"462\",\"464\",\"466\",\"468\",\"470\",\"472\",\"474\",\"476\",\"478\",\"480\",\"482\",\"484\",\"486\",\"488\",\"490\",\"492\",\"494\",\"496\",\"498\",\"500\",\"502\",\"504\",\"506\",\"508\",\"510\",\"512\",\"514\",\"516\",\"518\",\"520\",\"522\",\"524\",\"526\",\"528\",\"530\",\"532\",\"534\",\"536\",\"538\",\"540\",\"542\",\"544\",\"546\",\"548\",\"550\",\"552\",\"554\",\"556\",\"558\",\"560\",\"562\",\"564\",\"566\",\"568\",\"570\",\"572\",\"574\",\"576\",\"578\",\"580\",\"582\",\"584\",\"586\",\"588\",\"590\",\"592\",\"594\",\"596\",\"598\",\"600\",\"602\",\"604\",\"606\",\"608\",\"610\",\"612\",\"614\",\"616\",\"618\",\"620\",\"622\",\"624\",\"626\",\"628\",\"630\",\"632\",\"634\",\"636\",\"638\",\"640\",\"642\",\"644\",\"646\",\"648\",\"650\",\"652\",\"654\",\"656\",\"658\",\"660\",\"662\",\"664\",\"666\",\"668\",\"670\",\"672\",\"674\",\"676\",\"678\",\"680\",\"682\",\"684\",\"686\",\"688\",\"690\",\"692\",\"694\",\"696\",\"698\",\"700\",\"702\",\"704\",\"706\",\"708\",\"710\",\"712\",\"714\",\"716\",\"718\",\"720\",\"722\",\"724\",\"726\",\"728\",\"730\",\"732\",\"734\",\"736\",\"738\",\"740\",\"742\",\"744\",\"746\",\"748\",\"750\",\"752\",\"754\",\"756\",\"758\",\"760\",\"762\",\"764\",\"766\",\"768\",\"770\",\"772\",\"774\",\"776\",\"778\",\"780\",\"782\",\"784\",\"786\",\"788\",\"790\",\"792\",\"794\",\"796\",\"798\",\"800\"],\"xaxis\":\"x\",\"y\":[3.9933333333333336,3.6229999999999998,3.9113333333333338,4.192,4.831333333333333,5.187666666666666,5.0296666666666665,5.285666666666667,5.059666666666667,5.287,5.287,5.233666666666667,5.287,5.287,5.287,5.287,5.287,5.287,5.287,5.287,5.287,5.287,5.287,5.287,5.287,5.2763333333333335,5.287,5.2026666666666666,4.830333333333333,4.718,3.8593333333333333,3.037333333333333,2.458666666666667,2.0079999999999996,1.6273333333333333,1.4110000000000003,1.3096666666666668,1.059,0.7843333333333334,0.614,0.5126666666666667,0.449,0.41100000000000003,0.3746666666666667,0.3463333333333334,0.325,0.31033333333333335,0.298,0.2873333333333334,0.2763333333333333,0.26566666666666666,0.25533333333333336,0.24166666666666667,0.23500000000000001,0.22866666666666666,0.21966666666666668,0.21,0.19999999999999998,0.19066666666666668,0.18266666666666667,0.17666666666666667,0.17,0.16333333333333333,0.159,0.155,0.15066666666666664,0.14533333333333334,0.1396666666666667,0.13433333333333333,0.13066666666666668,0.12533333333333332,0.12366666666666666,0.12166666666666666,0.119,0.11599999999999999,0.11333333333333333,0.11,0.10633333333333334,0.10133333333333333,0.09833333333333333,0.09600000000000002,0.09266666666666667,0.09000000000000001,0.08800000000000001,0.08666666666666667,0.084,0.082,0.08066666666666666,0.07933333333333333,0.078,0.07566666666666666,0.074,0.07166666666666667,0.07133333333333335,0.07,0.06866666666666667,0.06866666666666667,0.067,0.066,0.064,0.06266666666666666,0.06233333333333333,0.06266666666666666,0.06433333333333334,0.06466666666666666,0.06466666666666666,0.06466666666666666,0.06466666666666666,0.06466666666666666,0.064,0.06366666666666666,0.06466666666666666,0.06366666666666666,0.06333333333333334,0.06533333333333334,0.066,0.066,0.067,0.068,0.06733333333333334,0.06933333333333334,0.07233333333333335,0.07433333333333332,0.07633333333333332,0.078,0.07966666666666666,0.08066666666666666,0.08333333333333333,0.085,0.08766666666666667,0.08933333333333333,0.08866666666666667,0.09333333333333334,0.09799999999999999,0.104,0.10866666666666668,0.11499999999999999,0.12233333333333334,0.12766666666666668,0.13366666666666668,0.13833333333333334,0.14233333333333334,0.14600000000000002,0.14833333333333332,0.15066666666666664,0.15466666666666665,0.159,0.16366666666666665,0.16966666666666666,0.17733333333333334,0.18833333333333332,0.20199999999999999,0.214,0.22533333333333336,0.2353333333333333,0.24866666666666667,0.25666666666666665,0.26133333333333336,0.25966666666666666,0.252,0.237,0.22366666666666668,0.20733333333333334,0.19000000000000003,0.1743333333333333,0.155,0.135,0.122,0.11,0.09899999999999999,0.08933333333333333,0.08233333333333333,0.07566666666666666,0.07100000000000001,0.068,0.06533333333333334,0.06333333333333334,0.06133333333333333,0.06133333333333333,0.06166666666666667,0.061,0.059666666666666666,0.059,0.058666666666666666,0.057666666666666665,0.057666666666666665,0.057333333333333326,0.056333333333333326,0.054333333333333324,0.056333333333333326,0.055999999999999994,0.054333333333333324,0.05366666666666667,0.05566666666666666,0.05466666666666666,0.05499999999999999,0.055333333333333325,0.056333333333333326,0.056333333333333326,0.057333333333333326,0.055333333333333325,0.055999999999999994,0.054333333333333324,0.054333333333333324,0.05466666666666666,0.05566666666666666,0.055333333333333325,0.05566666666666666,0.055333333333333325,0.055999999999999994,0.05466666666666666,0.054333333333333324,0.056666666666666664,0.055333333333333325,0.05499999999999999,0.05499999999999999,0.05466666666666666,0.054333333333333324,0.054333333333333324,0.052333333333333336,0.052,0.053,0.05399999999999999,0.054,0.05266666666666667,0.05333333333333334,0.052,0.053,0.052,0.051333333333333335,0.051,0.052,0.052,0.052,0.05266666666666667,0.051333333333333335,0.052,0.052,0.050333333333333334,0.048999999999999995,0.050666666666666665,0.052,0.052,0.051,0.051666666666666666,0.051666666666666666,0.051333333333333335,0.051666666666666666,0.051333333333333335,0.052333333333333336,0.051666666666666666,0.052,0.051,0.051333333333333335,0.050333333333333334,0.049666666666666665,0.051666666666666666,0.05266666666666667,0.053,0.05399999999999999,0.055333333333333325,0.054333333333333324,0.05366666666666667,0.05333333333333334,0.052333333333333336,0.05333333333333334,0.052333333333333336,0.052333333333333336,0.05266666666666667,0.053,0.054,0.05366666666666667,0.051333333333333335,0.05366666666666667,0.05366666666666667,0.053,0.05333333333333334,0.05366666666666666,0.051,0.051666666666666666,0.052,0.053,0.05266666666666667,0.05266666666666667,0.051333333333333335,0.051333333333333335,0.052,0.052,0.051666666666666666,0.05266666666666667,0.051],\"yaxis\":\"y\"}],                        {\"font\":{\"family\":\"Calibri\",\"size\":14},\"legend\":{\"tracegroupgap\":0},\"template\":{\"data\":{\"bar\":[{\"error_x\":{\"color\":\"#2a3f5f\"},\"error_y\":{\"color\":\"#2a3f5f\"},\"marker\":{\"line\":{\"color\":\"#E5ECF6\",\"width\":0.5},\"pattern\":{\"fillmode\":\"overlay\",\"size\":10,\"solidity\":0.2}},\"type\":\"bar\"}],\"barpolar\":[{\"marker\":{\"line\":{\"color\":\"#E5ECF6\",\"width\":0.5},\"pattern\":{\"fillmode\":\"overlay\",\"size\":10,\"solidity\":0.2}},\"type\":\"barpolar\"}],\"carpet\":[{\"aaxis\":{\"endlinecolor\":\"#2a3f5f\",\"gridcolor\":\"white\",\"linecolor\":\"white\",\"minorgridcolor\":\"white\",\"startlinecolor\":\"#2a3f5f\"},\"baxis\":{\"endlinecolor\":\"#2a3f5f\",\"gridcolor\":\"white\",\"linecolor\":\"white\",\"minorgridcolor\":\"white\",\"startlinecolor\":\"#2a3f5f\"},\"type\":\"carpet\"}],\"choropleth\":[{\"colorbar\":{\"outlinewidth\":0,\"ticks\":\"\"},\"type\":\"choropleth\"}],\"contour\":[{\"colorbar\":{\"outlinewidth\":0,\"ticks\":\"\"},\"colorscale\":[[0.0,\"#0d0887\"],[0.1111111111111111,\"#46039f\"],[0.2222222222222222,\"#7201a8\"],[0.3333333333333333,\"#9c179e\"],[0.4444444444444444,\"#bd3786\"],[0.5555555555555556,\"#d8576b\"],[0.6666666666666666,\"#ed7953\"],[0.7777777777777778,\"#fb9f3a\"],[0.8888888888888888,\"#fdca26\"],[1.0,\"#f0f921\"]],\"type\":\"contour\"}],\"contourcarpet\":[{\"colorbar\":{\"outlinewidth\":0,\"ticks\":\"\"},\"type\":\"contourcarpet\"}],\"heatmap\":[{\"colorbar\":{\"outlinewidth\":0,\"ticks\":\"\"},\"colorscale\":[[0.0,\"#0d0887\"],[0.1111111111111111,\"#46039f\"],[0.2222222222222222,\"#7201a8\"],[0.3333333333333333,\"#9c179e\"],[0.4444444444444444,\"#bd3786\"],[0.5555555555555556,\"#d8576b\"],[0.6666666666666666,\"#ed7953\"],[0.7777777777777778,\"#fb9f3a\"],[0.8888888888888888,\"#fdca26\"],[1.0,\"#f0f921\"]],\"type\":\"heatmap\"}],\"heatmapgl\":[{\"colorbar\":{\"outlinewidth\":0,\"ticks\":\"\"},\"colorscale\":[[0.0,\"#0d0887\"],[0.1111111111111111,\"#46039f\"],[0.2222222222222222,\"#7201a8\"],[0.3333333333333333,\"#9c179e\"],[0.4444444444444444,\"#bd3786\"],[0.5555555555555556,\"#d8576b\"],[0.6666666666666666,\"#ed7953\"],[0.7777777777777778,\"#fb9f3a\"],[0.8888888888888888,\"#fdca26\"],[1.0,\"#f0f921\"]],\"type\":\"heatmapgl\"}],\"histogram\":[{\"marker\":{\"pattern\":{\"fillmode\":\"overlay\",\"size\":10,\"solidity\":0.2}},\"type\":\"histogram\"}],\"histogram2d\":[{\"colorbar\":{\"outlinewidth\":0,\"ticks\":\"\"},\"colorscale\":[[0.0,\"#0d0887\"],[0.1111111111111111,\"#46039f\"],[0.2222222222222222,\"#7201a8\"],[0.3333333333333333,\"#9c179e\"],[0.4444444444444444,\"#bd3786\"],[0.5555555555555556,\"#d8576b\"],[0.6666666666666666,\"#ed7953\"],[0.7777777777777778,\"#fb9f3a\"],[0.8888888888888888,\"#fdca26\"],[1.0,\"#f0f921\"]],\"type\":\"histogram2d\"}],\"histogram2dcontour\":[{\"colorbar\":{\"outlinewidth\":0,\"ticks\":\"\"},\"colorscale\":[[0.0,\"#0d0887\"],[0.1111111111111111,\"#46039f\"],[0.2222222222222222,\"#7201a8\"],[0.3333333333333333,\"#9c179e\"],[0.4444444444444444,\"#bd3786\"],[0.5555555555555556,\"#d8576b\"],[0.6666666666666666,\"#ed7953\"],[0.7777777777777778,\"#fb9f3a\"],[0.8888888888888888,\"#fdca26\"],[1.0,\"#f0f921\"]],\"type\":\"histogram2dcontour\"}],\"mesh3d\":[{\"colorbar\":{\"outlinewidth\":0,\"ticks\":\"\"},\"type\":\"mesh3d\"}],\"parcoords\":[{\"line\":{\"colorbar\":{\"outlinewidth\":0,\"ticks\":\"\"}},\"type\":\"parcoords\"}],\"pie\":[{\"automargin\":true,\"type\":\"pie\"}],\"scatter\":[{\"marker\":{\"colorbar\":{\"outlinewidth\":0,\"ticks\":\"\"}},\"type\":\"scatter\"}],\"scatter3d\":[{\"line\":{\"colorbar\":{\"outlinewidth\":0,\"ticks\":\"\"}},\"marker\":{\"colorbar\":{\"outlinewidth\":0,\"ticks\":\"\"}},\"type\":\"scatter3d\"}],\"scattercarpet\":[{\"marker\":{\"colorbar\":{\"outlinewidth\":0,\"ticks\":\"\"}},\"type\":\"scattercarpet\"}],\"scattergeo\":[{\"marker\":{\"colorbar\":{\"outlinewidth\":0,\"ticks\":\"\"}},\"type\":\"scattergeo\"}],\"scattergl\":[{\"marker\":{\"colorbar\":{\"outlinewidth\":0,\"ticks\":\"\"}},\"type\":\"scattergl\"}],\"scattermapbox\":[{\"marker\":{\"colorbar\":{\"outlinewidth\":0,\"ticks\":\"\"}},\"type\":\"scattermapbox\"}],\"scatterpolar\":[{\"marker\":{\"colorbar\":{\"outlinewidth\":0,\"ticks\":\"\"}},\"type\":\"scatterpolar\"}],\"scatterpolargl\":[{\"marker\":{\"colorbar\":{\"outlinewidth\":0,\"ticks\":\"\"}},\"type\":\"scatterpolargl\"}],\"scatterternary\":[{\"marker\":{\"colorbar\":{\"outlinewidth\":0,\"ticks\":\"\"}},\"type\":\"scatterternary\"}],\"surface\":[{\"colorbar\":{\"outlinewidth\":0,\"ticks\":\"\"},\"colorscale\":[[0.0,\"#0d0887\"],[0.1111111111111111,\"#46039f\"],[0.2222222222222222,\"#7201a8\"],[0.3333333333333333,\"#9c179e\"],[0.4444444444444444,\"#bd3786\"],[0.5555555555555556,\"#d8576b\"],[0.6666666666666666,\"#ed7953\"],[0.7777777777777778,\"#fb9f3a\"],[0.8888888888888888,\"#fdca26\"],[1.0,\"#f0f921\"]],\"type\":\"surface\"}],\"table\":[{\"cells\":{\"fill\":{\"color\":\"#EBF0F8\"},\"line\":{\"color\":\"white\"}},\"header\":{\"fill\":{\"color\":\"#C8D4E3\"},\"line\":{\"color\":\"white\"}},\"type\":\"table\"}]},\"layout\":{\"annotationdefaults\":{\"arrowcolor\":\"#2a3f5f\",\"arrowhead\":0,\"arrowwidth\":1},\"autotypenumbers\":\"strict\",\"coloraxis\":{\"colorbar\":{\"outlinewidth\":0,\"ticks\":\"\"}},\"colorscale\":{\"diverging\":[[0,\"#8e0152\"],[0.1,\"#c51b7d\"],[0.2,\"#de77ae\"],[0.3,\"#f1b6da\"],[0.4,\"#fde0ef\"],[0.5,\"#f7f7f7\"],[0.6,\"#e6f5d0\"],[0.7,\"#b8e186\"],[0.8,\"#7fbc41\"],[0.9,\"#4d9221\"],[1,\"#276419\"]],\"sequential\":[[0.0,\"#0d0887\"],[0.1111111111111111,\"#46039f\"],[0.2222222222222222,\"#7201a8\"],[0.3333333333333333,\"#9c179e\"],[0.4444444444444444,\"#bd3786\"],[0.5555555555555556,\"#d8576b\"],[0.6666666666666666,\"#ed7953\"],[0.7777777777777778,\"#fb9f3a\"],[0.8888888888888888,\"#fdca26\"],[1.0,\"#f0f921\"]],\"sequentialminus\":[[0.0,\"#0d0887\"],[0.1111111111111111,\"#46039f\"],[0.2222222222222222,\"#7201a8\"],[0.3333333333333333,\"#9c179e\"],[0.4444444444444444,\"#bd3786\"],[0.5555555555555556,\"#d8576b\"],[0.6666666666666666,\"#ed7953\"],[0.7777777777777778,\"#fb9f3a\"],[0.8888888888888888,\"#fdca26\"],[1.0,\"#f0f921\"]]},\"colorway\":[\"#636efa\",\"#EF553B\",\"#00cc96\",\"#ab63fa\",\"#FFA15A\",\"#19d3f3\",\"#FF6692\",\"#B6E880\",\"#FF97FF\",\"#FECB52\"],\"font\":{\"color\":\"#2a3f5f\"},\"geo\":{\"bgcolor\":\"white\",\"lakecolor\":\"white\",\"landcolor\":\"#E5ECF6\",\"showlakes\":true,\"showland\":true,\"subunitcolor\":\"white\"},\"hoverlabel\":{\"align\":\"left\"},\"hovermode\":\"closest\",\"mapbox\":{\"style\":\"light\"},\"paper_bgcolor\":\"white\",\"plot_bgcolor\":\"#E5ECF6\",\"polar\":{\"angularaxis\":{\"gridcolor\":\"white\",\"linecolor\":\"white\",\"ticks\":\"\"},\"bgcolor\":\"#E5ECF6\",\"radialaxis\":{\"gridcolor\":\"white\",\"linecolor\":\"white\",\"ticks\":\"\"}},\"scene\":{\"xaxis\":{\"backgroundcolor\":\"#E5ECF6\",\"gridcolor\":\"white\",\"gridwidth\":2,\"linecolor\":\"white\",\"showbackground\":true,\"ticks\":\"\",\"zerolinecolor\":\"white\"},\"yaxis\":{\"backgroundcolor\":\"#E5ECF6\",\"gridcolor\":\"white\",\"gridwidth\":2,\"linecolor\":\"white\",\"showbackground\":true,\"ticks\":\"\",\"zerolinecolor\":\"white\"},\"zaxis\":{\"backgroundcolor\":\"#E5ECF6\",\"gridcolor\":\"white\",\"gridwidth\":2,\"linecolor\":\"white\",\"showbackground\":true,\"ticks\":\"\",\"zerolinecolor\":\"white\"}},\"shapedefaults\":{\"line\":{\"color\":\"#2a3f5f\"}},\"ternary\":{\"aaxis\":{\"gridcolor\":\"white\",\"linecolor\":\"white\",\"ticks\":\"\"},\"baxis\":{\"gridcolor\":\"white\",\"linecolor\":\"white\",\"ticks\":\"\"},\"bgcolor\":\"#E5ECF6\",\"caxis\":{\"gridcolor\":\"white\",\"linecolor\":\"white\",\"ticks\":\"\"}},\"title\":{\"x\":0.05},\"xaxis\":{\"automargin\":true,\"gridcolor\":\"white\",\"linecolor\":\"white\",\"ticks\":\"\",\"title\":{\"standoff\":15},\"zerolinecolor\":\"white\",\"zerolinewidth\":2},\"yaxis\":{\"automargin\":true,\"gridcolor\":\"white\",\"linecolor\":\"white\",\"ticks\":\"\",\"title\":{\"standoff\":15},\"zerolinecolor\":\"white\",\"zerolinewidth\":2}}},\"title\":{\"text\":\"How Absorbance Varies with Wavelength for Sample S1: 6.250 mg/L\"},\"xaxis\":{\"anchor\":\"y\",\"domain\":[0.0,1.0],\"title\":{\"text\":\"Wavelength / nm\"}},\"yaxis\":{\"anchor\":\"x\",\"domain\":[0.0,1.0],\"range\":[0,6],\"title\":{\"text\":\"Absorbance\"}}},                        {\"responsive\": true}                    ).then(function(){\n",
       "                            \n",
       "var gd = document.getElementById('a7bab41a-d495-4d1a-82fd-6360d7a2bb0d');\n",
       "var x = new MutationObserver(function (mutations, observer) {{\n",
       "        var display = window.getComputedStyle(gd).display;\n",
       "        if (!display || display === 'none') {{\n",
       "            console.log([gd, 'removed!']);\n",
       "            Plotly.purge(gd);\n",
       "            observer.disconnect();\n",
       "        }}\n",
       "}});\n",
       "\n",
       "// Listen for the removal of the full notebook cells\n",
       "var notebookContainer = gd.closest('#notebook-container');\n",
       "if (notebookContainer) {{\n",
       "    x.observe(notebookContainer, {childList: true});\n",
       "}}\n",
       "\n",
       "// Listen for the clearing of the current output cell\n",
       "var outputEl = gd.closest('.output');\n",
       "if (outputEl) {{\n",
       "    x.observe(outputEl, {childList: true});\n",
       "}}\n",
       "\n",
       "                        })                };                });            </script>        </div>"
      ]
     },
     "metadata": {},
     "output_type": "display_data"
    },
    {
     "data": {
      "application/vnd.plotly.v1+json": {
       "config": {
        "plotlyServerURL": "https://plot.ly"
       },
       "data": [
        {
         "error_y": {
          "array": [
           0.4517462414527285,
           0.3711845901973843,
           0.2962536450783723,
           0.4319431546961809,
           0.20128973037777034,
           0,
           0.20128973037777034,
           0,
           0.274269940022599,
           0.03488393453853627,
           0,
           0.053268710849386364,
           0,
           0,
           0,
           0,
           0,
           0,
           0.030641293851416826,
           0.14352932336866445,
           0,
           0,
           0,
           0,
           0,
           0,
           0,
           0,
           0.03655437350334716,
           0.09195771975327725,
           0.10043350481233287,
           0.07807830826946906,
           0.06231104770958898,
           0.04893760199365001,
           0.040778534658431356,
           0.036463071120731924,
           0.03278210894171792,
           0.025420901286583468,
           0.018624953392932006,
           0.014267289706021811,
           0.01132352516764203,
           0.009977753031397186,
           0.008730533902472517,
           0.007586537784494035,
           0.006236095644623242,
           0.005792715732327594,
           0.005792715732327594,
           0.004988876515698569,
           0.004546060565661936,
           0.004496912521077351,
           0.004496912521077351,
           0.004496912521077351,
           0.0032659863237108956,
           0.00244948974278318,
           0.003299831645537225,
           0.0032998316455372244,
           0.0032659863237108956,
           0.0024944382578492965,
           0.00244948974278318,
           0.002449489742783169,
           0.0024944382578492965,
           0.0018856180831641283,
           0.0024944382578492965,
           0.0016329931618554536,
           0.0021602468994692888,
           0.0012472191289246359,
           0.0012472191289246482,
           0.0008164965809277268,
           0.0008164965809277268,
           0.00047140452079103207,
           0.00047140452079103207,
           0,
           0.00047140452079103207,
           0.00047140452079103207,
           0,
           0.00047140452079103207,
           1.3877787807814457e-17,
           0.00047140452079103207,
           0.0008164965809277268,
           0.0016329931618554536,
           0.0016996731711975965,
           0.0009428090415820641,
           0.0012472191289246482,
           0.0012472191289246482,
           0.0016996731711975965,
           0.0008164965809277268,
           0.0009428090415820641,
           0.0009428090415820641,
           0.0012472191289246482,
           0.0012472191289246432,
           0.0009428090415820576,
           0.0012472191289246482,
           0.0012472191289246482,
           0.0012472191289246482,
           0.0014142135623730965,
           0.0012472191289246482,
           0.0009428090415820641,
           0.0016996731711975965,
           0.0012472191289246482,
           0.0012472191289246482,
           0.001247219128924645,
           0.0016996731711975933,
           0.0020548046676563242,
           0.0016329931618554536,
           0.0016329931618554536,
           0.0016329931618554536,
           0.0012472191289246482,
           0.0016996731711975963,
           0.0012472191289246482,
           0.0016329931618554508,
           0.0016996731711975933,
           0.0016329931618554508,
           0.0016329931618554508,
           0.0016996731711975941,
           0.0016996731711975933,
           0.001247219128924645,
           0.001247219128924645,
           0.001247219128924645,
           0.001247219128924645,
           0.0016996731711975933,
           0.0016996731711975933,
           0.0012472191289246482,
           0.0016996731711975965,
           0.0012472191289246482,
           0.0012472191289246482,
           0.0012472191289246482,
           0.0016329931618554536,
           0.0012472191289246482,
           0.0012472191289246482,
           0.0008164965809277211,
           0.0014142135623730898,
           0.0016996731711975965,
           0.0014142135623730898,
           0.0016996731711975965,
           0.0016996731711975965,
           0.0012472191289246482,
           0.0012472191289246482,
           0.0008164965809277268,
           0.00047140452079103207,
           0.00047140452079103207,
           0.00047140452079103207,
           0.0009428090415820641,
           0.00047140452079103207,
           0.00047140452079103207,
           0.00047140452079102557,
           0.00047140452079103207,
           0.00047140452079103207,
           0.00047140452079103207,
           0,
           0.00047140452079103207,
           0,
           0.00047140452079103207,
           0,
           0.00047140452079103207,
           0.00047140452079103207,
           0.00047140452079103207,
           0.00047140452079103207,
           0.00047140452079103207,
           0.0008164965809277268,
           0.00047140452079103207,
           0,
           0.00047140452079103207,
           0.00047140452079103207,
           0.00047140452079103207,
           0.00047140452079103207,
           0.00047140452079103207,
           0.0008164965809277268,
           0.0008164965809277268,
           0.00047140452079103207,
           0.0008164965809277268,
           0.0012472191289246422,
           0.0008164965809277268,
           0.0012472191289246482,
           0.0016996731711975933,
           0.001247219128924645,
           0.0012472191289246456,
           0.0016996731711975965,
           0.0012472191289246482,
           0.0012472191289246482,
           0.0008164965809277268,
           0.0012472191289246482,
           0.0012472191289246482,
           0.0012472191289246482,
           0.0008164965809277268,
           0.0012472191289246482,
           0.0014142135623730965,
           0.0012472191289246482,
           0.0012472191289246482,
           0.0016996731711975933,
           0.0016329931618554536,
           0.0012472191289246482,
           0.0016996731711975933,
           0.001247219128924645,
           0.0016329931618554536,
           0.001247219128924645,
           0.0016329931618554508,
           0.0012472191289246482,
           0.0012472191289246482,
           0.0016996731711975965,
           0.0012472191289246482,
           0.0012472191289246482,
           0.0008164965809277268,
           0.001247219128924645,
           0.001247219128924645,
           0.0016996731711975933,
           0.0012472191289246482,
           0.0012472191289246482,
           0.0012472191289246482,
           0.0012472191289246482,
           0.0014142135623730965,
           0.0012472191289246482,
           0.001414213562373093,
           0.0014142135623730965,
           0.0014142135623730965,
           0.0009428090415820641,
           0.001414213562373093,
           0.001414213562373093,
           0.001414213562373093,
           0.001247219128924645,
           0.0012472191289246456,
           0.0012472191289246456,
           0.001247219128924645,
           0.0012472191289246452,
           0.0016996731711975933,
           0.001247219128924645,
           0.001247219128924645,
           0.0012472191289246456,
           0.001414213562373093,
           0.0016996731711975933,
           0.0021602468994692866,
           0.0012472191289246482,
           0.0012472191289246456,
           0.000942809041582061,
           0.0012472191289246452,
           0.001247219128924645,
           0.001414213562373093,
           0.000942809041582061,
           0.0012472191289246456,
           0.0014142135623730961,
           0.0014142135623730961,
           0.0012472191289246482,
           0.0012472191289246456,
           0.0016996731711975933,
           0.0016996731711975941,
           0.0012472191289246456,
           0.0016329931618554506,
           0.0016996731711975941,
           0.0016996731711975933,
           0.0012472191289246456,
           0.001414213562373093,
           0.0012472191289246456,
           0.0012472191289246452,
           0.0012472191289246456,
           0.0021602468994692853,
           0.0016996731711975941,
           0.0012472191289246482,
           0.0012472191289246456,
           0.001247219128924645,
           0.0012472191289246452,
           0.0012472191289246482,
           0.0014142135623730965,
           0.0008164965809277268,
           0.001247219128924645,
           0.001247219128924645,
           0.001247219128924645,
           0.0016996731711975933,
           0.000942809041582061,
           0.0008164965809277239,
           0.001247219128924645,
           0.001247219128924645,
           0.0012472191289246482,
           0.0012472191289246482,
           0.001247219128924645,
           0.0009428090415820641,
           0.00047140452079103207,
           0.001414213562373093,
           0.0008164965809277268,
           0.001247219128924645,
           0.0008164965809277239,
           0.0016996731711975933,
           0.001414213562373093,
           0.001247219128924645,
           0.00047140452079103207,
           0.001414213562373093,
           0.000942809041582061,
           0.0012472191289246452,
           0.001247219128924645,
           0.001247219128924645,
           0.0021602468994692853,
           0.001414213562373093,
           0.00047140452079103207
          ]
         },
         "hovertemplate": "Wavelength / nm=%{x}<br>Absorbance=%{y}<extra></extra>",
         "legendgroup": "",
         "marker": {
          "color": "#636efa",
          "line": {
           "color": "DarkSlateGrey",
           "width": 2
          },
          "size": 8,
          "symbol": "circle"
         },
         "mode": "markers",
         "name": "",
         "orientation": "v",
         "showlegend": false,
         "type": "scatter",
         "x": [
          "220",
          "222",
          "224",
          "226",
          "228",
          "230",
          "232",
          "234",
          "236",
          "238",
          "240",
          "242",
          "244",
          "246",
          "248",
          "250",
          "252",
          "254",
          "256",
          "258",
          "260",
          "262",
          "264",
          "266",
          "268",
          "270",
          "272",
          "274",
          "276",
          "278",
          "280",
          "282",
          "284",
          "286",
          "288",
          "290",
          "292",
          "294",
          "296",
          "298",
          "300",
          "302",
          "304",
          "306",
          "308",
          "310",
          "312",
          "314",
          "316",
          "318",
          "320",
          "322",
          "324",
          "326",
          "328",
          "330",
          "332",
          "334",
          "336",
          "338",
          "340",
          "342",
          "344",
          "346",
          "348",
          "350",
          "352",
          "354",
          "356",
          "358",
          "360",
          "362",
          "364",
          "366",
          "368",
          "370",
          "372",
          "374",
          "376",
          "378",
          "380",
          "382",
          "384",
          "386",
          "388",
          "390",
          "392",
          "394",
          "396",
          "398",
          "400",
          "402",
          "404",
          "406",
          "408",
          "410",
          "412",
          "414",
          "416",
          "418",
          "420",
          "422",
          "424",
          "426",
          "428",
          "430",
          "432",
          "434",
          "436",
          "438",
          "440",
          "442",
          "444",
          "446",
          "448",
          "450",
          "452",
          "454",
          "456",
          "458",
          "460",
          "462",
          "464",
          "466",
          "468",
          "470",
          "472",
          "474",
          "476",
          "478",
          "480",
          "482",
          "484",
          "486",
          "488",
          "490",
          "492",
          "494",
          "496",
          "498",
          "500",
          "502",
          "504",
          "506",
          "508",
          "510",
          "512",
          "514",
          "516",
          "518",
          "520",
          "522",
          "524",
          "526",
          "528",
          "530",
          "532",
          "534",
          "536",
          "538",
          "540",
          "542",
          "544",
          "546",
          "548",
          "550",
          "552",
          "554",
          "556",
          "558",
          "560",
          "562",
          "564",
          "566",
          "568",
          "570",
          "572",
          "574",
          "576",
          "578",
          "580",
          "582",
          "584",
          "586",
          "588",
          "590",
          "592",
          "594",
          "596",
          "598",
          "600",
          "602",
          "604",
          "606",
          "608",
          "610",
          "612",
          "614",
          "616",
          "618",
          "620",
          "622",
          "624",
          "626",
          "628",
          "630",
          "632",
          "634",
          "636",
          "638",
          "640",
          "642",
          "644",
          "646",
          "648",
          "650",
          "652",
          "654",
          "656",
          "658",
          "660",
          "662",
          "664",
          "666",
          "668",
          "670",
          "672",
          "674",
          "676",
          "678",
          "680",
          "682",
          "684",
          "686",
          "688",
          "690",
          "692",
          "694",
          "696",
          "698",
          "700",
          "702",
          "704",
          "706",
          "708",
          "710",
          "712",
          "714",
          "716",
          "718",
          "720",
          "722",
          "724",
          "726",
          "728",
          "730",
          "732",
          "734",
          "736",
          "738",
          "740",
          "742",
          "744",
          "746",
          "748",
          "750",
          "752",
          "754",
          "756",
          "758",
          "760",
          "762",
          "764",
          "766",
          "768",
          "770",
          "772",
          "774",
          "776",
          "778",
          "780",
          "782",
          "784",
          "786",
          "788",
          "790",
          "792",
          "794",
          "796",
          "798",
          "800"
         ],
         "xaxis": "x",
         "y": [
          3.7390000000000003,
          4.093,
          4.325333333333333,
          4.613333333333333,
          5.144666666666667,
          5.287,
          5.144666666666667,
          5.287,
          5.061,
          5.262333333333333,
          5.287,
          5.249333333333333,
          5.287,
          5.287,
          5.287,
          5.287,
          5.287,
          5.287,
          5.265333333333333,
          5.162,
          5.287,
          5.287,
          5.287,
          5.287,
          5.287,
          5.287,
          5.287,
          5.287,
          4.741666666666666,
          4.656666666666666,
          3.815666666666667,
          2.998333333333333,
          2.42,
          1.9756666666666665,
          1.5953333333333333,
          1.3786666666666667,
          1.277,
          1.0316666666666665,
          0.7626666666666666,
          0.5953333333333334,
          0.4963333333333333,
          0.4343333333333333,
          0.39766666666666667,
          0.36233333333333334,
          0.33433333333333337,
          0.31466666666666665,
          0.2996666666666667,
          0.2876666666666667,
          0.27699999999999997,
          0.26666666666666666,
          0.25566666666666665,
          0.24633333333333332,
          0.23199999999999998,
          0.225,
          0.21933333333333335,
          0.21066666666666667,
          0.20099999999999998,
          0.19066666666666668,
          0.18200000000000002,
          0.17400000000000002,
          0.16733333333333333,
          0.16133333333333333,
          0.15433333333333332,
          0.15,
          0.145,
          0.14033333333333334,
          0.13533333333333333,
          0.13,
          0.125,
          0.12066666666666666,
          0.11566666666666668,
          0.114,
          0.11266666666666668,
          0.10933333333333334,
          0.107,
          0.10333333333333333,
          0.10000000000000002,
          0.09666666666666668,
          0.09200000000000001,
          0.09000000000000001,
          0.08766666666666667,
          0.08366666666666667,
          0.08133333333333333,
          0.07933333333333333,
          0.07866666666666666,
          0.076,
          0.07466666666666666,
          0.07366666666666666,
          0.07333333333333332,
          0.07133333333333335,
          0.07066666666666667,
          0.06833333333333334,
          0.06733333333333334,
          0.06733333333333334,
          0.066,
          0.06533333333333334,
          0.06466666666666666,
          0.06366666666666666,
          0.06233333333333333,
          0.06033333333333333,
          0.058666666666666666,
          0.05833333333333333,
          0.058666666666666666,
          0.061,
          0.061,
          0.061,
          0.06033333333333333,
          0.06066666666666667,
          0.06033333333333333,
          0.059,
          0.05833333333333333,
          0.059,
          0.057999999999999996,
          0.057333333333333326,
          0.05833333333333333,
          0.059666666666666666,
          0.059666666666666666,
          0.059666666666666666,
          0.059666666666666666,
          0.05833333333333333,
          0.06033333333333333,
          0.06266666666666666,
          0.06333333333333334,
          0.06433333333333334,
          0.06533333333333334,
          0.06633333333333334,
          0.067,
          0.06833333333333334,
          0.06866666666666667,
          0.07,
          0.07,
          0.06733333333333334,
          0.07100000000000001,
          0.07333333333333332,
          0.07733333333333332,
          0.07966666666666666,
          0.08366666666666667,
          0.08800000000000001,
          0.09033333333333333,
          0.09333333333333334,
          0.09633333333333334,
          0.09766666666666668,
          0.09966666666666668,
          0.10033333333333334,
          0.10133333333333334,
          0.10333333333333333,
          0.10533333333333333,
          0.10833333333333334,
          0.111,
          0.11433333333333334,
          0.121,
          0.12733333333333333,
          0.132,
          0.1366666666666667,
          0.1413333333333333,
          0.14966666666666664,
          0.15266666666666664,
          0.15533333333333332,
          0.155,
          0.15133333333333332,
          0.142,
          0.1366666666666667,
          0.12933333333333333,
          0.12033333333333333,
          0.11333333333333334,
          0.10333333333333333,
          0.09300000000000001,
          0.08700000000000001,
          0.08133333333333333,
          0.076,
          0.07066666666666667,
          0.067,
          0.06266666666666666,
          0.06033333333333333,
          0.058666666666666666,
          0.057666666666666665,
          0.05633333333333334,
          0.05566666666666667,
          0.05666666666666667,
          0.057,
          0.05666666666666667,
          0.05566666666666667,
          0.05466666666666667,
          0.055,
          0.05433333333333334,
          0.054,
          0.05366666666666667,
          0.05266666666666667,
          0.051333333333333335,
          0.053,
          0.05266666666666667,
          0.051333333333333335,
          0.050666666666666665,
          0.053,
          0.051666666666666666,
          0.052,
          0.05333333333333334,
          0.05366666666666667,
          0.05433333333333334,
          0.05433333333333334,
          0.05266666666666667,
          0.053,
          0.051666666666666666,
          0.051666666666666666,
          0.052333333333333336,
          0.05266666666666667,
          0.05266666666666667,
          0.05266666666666667,
          0.05266666666666667,
          0.053,
          0.05266666666666667,
          0.052,
          0.054,
          0.053,
          0.052333333333333336,
          0.052,
          0.052,
          0.052,
          0.051666666666666666,
          0.04966666666666667,
          0.04966666666666667,
          0.050666666666666665,
          0.051666666666666666,
          0.051333333333333335,
          0.050666666666666665,
          0.050666666666666665,
          0.04966666666666667,
          0.051,
          0.050333333333333334,
          0.04900000000000001,
          0.04866666666666667,
          0.04966666666666667,
          0.050333333333333334,
          0.05033333333333334,
          0.050666666666666665,
          0.049999999999999996,
          0.050333333333333334,
          0.04966666666666667,
          0.04800000000000001,
          0.04700000000000001,
          0.04866666666666667,
          0.04966666666666667,
          0.050333333333333334,
          0.04933333333333334,
          0.04966666666666667,
          0.05000000000000001,
          0.04933333333333334,
          0.050333333333333334,
          0.04966666666666667,
          0.051,
          0.04966666666666667,
          0.05033333333333334,
          0.04966666666666667,
          0.049999999999999996,
          0.04933333333333334,
          0.04866666666666667,
          0.04966666666666667,
          0.050666666666666665,
          0.051666666666666666,
          0.05266666666666667,
          0.054,
          0.053,
          0.051666666666666666,
          0.051666666666666666,
          0.050666666666666665,
          0.052333333333333336,
          0.051333333333333335,
          0.051,
          0.051666666666666666,
          0.051666666666666666,
          0.05266666666666667,
          0.05266666666666667,
          0.050666666666666665,
          0.052333333333333336,
          0.052333333333333336,
          0.052,
          0.052,
          0.051666666666666666,
          0.05000000000000001,
          0.050333333333333334,
          0.051,
          0.051666666666666666,
          0.051333333333333335,
          0.051,
          0.050333333333333334,
          0.04933333333333334,
          0.050666666666666665,
          0.050666666666666665,
          0.049999999999999996,
          0.051,
          0.04966666666666667
         ],
         "yaxis": "y"
        }
       ],
       "layout": {
        "font": {
         "family": "Calibri",
         "size": 14
        },
        "legend": {
         "tracegroupgap": 0
        },
        "template": {
         "data": {
          "bar": [
           {
            "error_x": {
             "color": "#2a3f5f"
            },
            "error_y": {
             "color": "#2a3f5f"
            },
            "marker": {
             "line": {
              "color": "#E5ECF6",
              "width": 0.5
             },
             "pattern": {
              "fillmode": "overlay",
              "size": 10,
              "solidity": 0.2
             }
            },
            "type": "bar"
           }
          ],
          "barpolar": [
           {
            "marker": {
             "line": {
              "color": "#E5ECF6",
              "width": 0.5
             },
             "pattern": {
              "fillmode": "overlay",
              "size": 10,
              "solidity": 0.2
             }
            },
            "type": "barpolar"
           }
          ],
          "carpet": [
           {
            "aaxis": {
             "endlinecolor": "#2a3f5f",
             "gridcolor": "white",
             "linecolor": "white",
             "minorgridcolor": "white",
             "startlinecolor": "#2a3f5f"
            },
            "baxis": {
             "endlinecolor": "#2a3f5f",
             "gridcolor": "white",
             "linecolor": "white",
             "minorgridcolor": "white",
             "startlinecolor": "#2a3f5f"
            },
            "type": "carpet"
           }
          ],
          "choropleth": [
           {
            "colorbar": {
             "outlinewidth": 0,
             "ticks": ""
            },
            "type": "choropleth"
           }
          ],
          "contour": [
           {
            "colorbar": {
             "outlinewidth": 0,
             "ticks": ""
            },
            "colorscale": [
             [
              0,
              "#0d0887"
             ],
             [
              0.1111111111111111,
              "#46039f"
             ],
             [
              0.2222222222222222,
              "#7201a8"
             ],
             [
              0.3333333333333333,
              "#9c179e"
             ],
             [
              0.4444444444444444,
              "#bd3786"
             ],
             [
              0.5555555555555556,
              "#d8576b"
             ],
             [
              0.6666666666666666,
              "#ed7953"
             ],
             [
              0.7777777777777778,
              "#fb9f3a"
             ],
             [
              0.8888888888888888,
              "#fdca26"
             ],
             [
              1,
              "#f0f921"
             ]
            ],
            "type": "contour"
           }
          ],
          "contourcarpet": [
           {
            "colorbar": {
             "outlinewidth": 0,
             "ticks": ""
            },
            "type": "contourcarpet"
           }
          ],
          "heatmap": [
           {
            "colorbar": {
             "outlinewidth": 0,
             "ticks": ""
            },
            "colorscale": [
             [
              0,
              "#0d0887"
             ],
             [
              0.1111111111111111,
              "#46039f"
             ],
             [
              0.2222222222222222,
              "#7201a8"
             ],
             [
              0.3333333333333333,
              "#9c179e"
             ],
             [
              0.4444444444444444,
              "#bd3786"
             ],
             [
              0.5555555555555556,
              "#d8576b"
             ],
             [
              0.6666666666666666,
              "#ed7953"
             ],
             [
              0.7777777777777778,
              "#fb9f3a"
             ],
             [
              0.8888888888888888,
              "#fdca26"
             ],
             [
              1,
              "#f0f921"
             ]
            ],
            "type": "heatmap"
           }
          ],
          "heatmapgl": [
           {
            "colorbar": {
             "outlinewidth": 0,
             "ticks": ""
            },
            "colorscale": [
             [
              0,
              "#0d0887"
             ],
             [
              0.1111111111111111,
              "#46039f"
             ],
             [
              0.2222222222222222,
              "#7201a8"
             ],
             [
              0.3333333333333333,
              "#9c179e"
             ],
             [
              0.4444444444444444,
              "#bd3786"
             ],
             [
              0.5555555555555556,
              "#d8576b"
             ],
             [
              0.6666666666666666,
              "#ed7953"
             ],
             [
              0.7777777777777778,
              "#fb9f3a"
             ],
             [
              0.8888888888888888,
              "#fdca26"
             ],
             [
              1,
              "#f0f921"
             ]
            ],
            "type": "heatmapgl"
           }
          ],
          "histogram": [
           {
            "marker": {
             "pattern": {
              "fillmode": "overlay",
              "size": 10,
              "solidity": 0.2
             }
            },
            "type": "histogram"
           }
          ],
          "histogram2d": [
           {
            "colorbar": {
             "outlinewidth": 0,
             "ticks": ""
            },
            "colorscale": [
             [
              0,
              "#0d0887"
             ],
             [
              0.1111111111111111,
              "#46039f"
             ],
             [
              0.2222222222222222,
              "#7201a8"
             ],
             [
              0.3333333333333333,
              "#9c179e"
             ],
             [
              0.4444444444444444,
              "#bd3786"
             ],
             [
              0.5555555555555556,
              "#d8576b"
             ],
             [
              0.6666666666666666,
              "#ed7953"
             ],
             [
              0.7777777777777778,
              "#fb9f3a"
             ],
             [
              0.8888888888888888,
              "#fdca26"
             ],
             [
              1,
              "#f0f921"
             ]
            ],
            "type": "histogram2d"
           }
          ],
          "histogram2dcontour": [
           {
            "colorbar": {
             "outlinewidth": 0,
             "ticks": ""
            },
            "colorscale": [
             [
              0,
              "#0d0887"
             ],
             [
              0.1111111111111111,
              "#46039f"
             ],
             [
              0.2222222222222222,
              "#7201a8"
             ],
             [
              0.3333333333333333,
              "#9c179e"
             ],
             [
              0.4444444444444444,
              "#bd3786"
             ],
             [
              0.5555555555555556,
              "#d8576b"
             ],
             [
              0.6666666666666666,
              "#ed7953"
             ],
             [
              0.7777777777777778,
              "#fb9f3a"
             ],
             [
              0.8888888888888888,
              "#fdca26"
             ],
             [
              1,
              "#f0f921"
             ]
            ],
            "type": "histogram2dcontour"
           }
          ],
          "mesh3d": [
           {
            "colorbar": {
             "outlinewidth": 0,
             "ticks": ""
            },
            "type": "mesh3d"
           }
          ],
          "parcoords": [
           {
            "line": {
             "colorbar": {
              "outlinewidth": 0,
              "ticks": ""
             }
            },
            "type": "parcoords"
           }
          ],
          "pie": [
           {
            "automargin": true,
            "type": "pie"
           }
          ],
          "scatter": [
           {
            "marker": {
             "colorbar": {
              "outlinewidth": 0,
              "ticks": ""
             }
            },
            "type": "scatter"
           }
          ],
          "scatter3d": [
           {
            "line": {
             "colorbar": {
              "outlinewidth": 0,
              "ticks": ""
             }
            },
            "marker": {
             "colorbar": {
              "outlinewidth": 0,
              "ticks": ""
             }
            },
            "type": "scatter3d"
           }
          ],
          "scattercarpet": [
           {
            "marker": {
             "colorbar": {
              "outlinewidth": 0,
              "ticks": ""
             }
            },
            "type": "scattercarpet"
           }
          ],
          "scattergeo": [
           {
            "marker": {
             "colorbar": {
              "outlinewidth": 0,
              "ticks": ""
             }
            },
            "type": "scattergeo"
           }
          ],
          "scattergl": [
           {
            "marker": {
             "colorbar": {
              "outlinewidth": 0,
              "ticks": ""
             }
            },
            "type": "scattergl"
           }
          ],
          "scattermapbox": [
           {
            "marker": {
             "colorbar": {
              "outlinewidth": 0,
              "ticks": ""
             }
            },
            "type": "scattermapbox"
           }
          ],
          "scatterpolar": [
           {
            "marker": {
             "colorbar": {
              "outlinewidth": 0,
              "ticks": ""
             }
            },
            "type": "scatterpolar"
           }
          ],
          "scatterpolargl": [
           {
            "marker": {
             "colorbar": {
              "outlinewidth": 0,
              "ticks": ""
             }
            },
            "type": "scatterpolargl"
           }
          ],
          "scatterternary": [
           {
            "marker": {
             "colorbar": {
              "outlinewidth": 0,
              "ticks": ""
             }
            },
            "type": "scatterternary"
           }
          ],
          "surface": [
           {
            "colorbar": {
             "outlinewidth": 0,
             "ticks": ""
            },
            "colorscale": [
             [
              0,
              "#0d0887"
             ],
             [
              0.1111111111111111,
              "#46039f"
             ],
             [
              0.2222222222222222,
              "#7201a8"
             ],
             [
              0.3333333333333333,
              "#9c179e"
             ],
             [
              0.4444444444444444,
              "#bd3786"
             ],
             [
              0.5555555555555556,
              "#d8576b"
             ],
             [
              0.6666666666666666,
              "#ed7953"
             ],
             [
              0.7777777777777778,
              "#fb9f3a"
             ],
             [
              0.8888888888888888,
              "#fdca26"
             ],
             [
              1,
              "#f0f921"
             ]
            ],
            "type": "surface"
           }
          ],
          "table": [
           {
            "cells": {
             "fill": {
              "color": "#EBF0F8"
             },
             "line": {
              "color": "white"
             }
            },
            "header": {
             "fill": {
              "color": "#C8D4E3"
             },
             "line": {
              "color": "white"
             }
            },
            "type": "table"
           }
          ]
         },
         "layout": {
          "annotationdefaults": {
           "arrowcolor": "#2a3f5f",
           "arrowhead": 0,
           "arrowwidth": 1
          },
          "autotypenumbers": "strict",
          "coloraxis": {
           "colorbar": {
            "outlinewidth": 0,
            "ticks": ""
           }
          },
          "colorscale": {
           "diverging": [
            [
             0,
             "#8e0152"
            ],
            [
             0.1,
             "#c51b7d"
            ],
            [
             0.2,
             "#de77ae"
            ],
            [
             0.3,
             "#f1b6da"
            ],
            [
             0.4,
             "#fde0ef"
            ],
            [
             0.5,
             "#f7f7f7"
            ],
            [
             0.6,
             "#e6f5d0"
            ],
            [
             0.7,
             "#b8e186"
            ],
            [
             0.8,
             "#7fbc41"
            ],
            [
             0.9,
             "#4d9221"
            ],
            [
             1,
             "#276419"
            ]
           ],
           "sequential": [
            [
             0,
             "#0d0887"
            ],
            [
             0.1111111111111111,
             "#46039f"
            ],
            [
             0.2222222222222222,
             "#7201a8"
            ],
            [
             0.3333333333333333,
             "#9c179e"
            ],
            [
             0.4444444444444444,
             "#bd3786"
            ],
            [
             0.5555555555555556,
             "#d8576b"
            ],
            [
             0.6666666666666666,
             "#ed7953"
            ],
            [
             0.7777777777777778,
             "#fb9f3a"
            ],
            [
             0.8888888888888888,
             "#fdca26"
            ],
            [
             1,
             "#f0f921"
            ]
           ],
           "sequentialminus": [
            [
             0,
             "#0d0887"
            ],
            [
             0.1111111111111111,
             "#46039f"
            ],
            [
             0.2222222222222222,
             "#7201a8"
            ],
            [
             0.3333333333333333,
             "#9c179e"
            ],
            [
             0.4444444444444444,
             "#bd3786"
            ],
            [
             0.5555555555555556,
             "#d8576b"
            ],
            [
             0.6666666666666666,
             "#ed7953"
            ],
            [
             0.7777777777777778,
             "#fb9f3a"
            ],
            [
             0.8888888888888888,
             "#fdca26"
            ],
            [
             1,
             "#f0f921"
            ]
           ]
          },
          "colorway": [
           "#636efa",
           "#EF553B",
           "#00cc96",
           "#ab63fa",
           "#FFA15A",
           "#19d3f3",
           "#FF6692",
           "#B6E880",
           "#FF97FF",
           "#FECB52"
          ],
          "font": {
           "color": "#2a3f5f"
          },
          "geo": {
           "bgcolor": "white",
           "lakecolor": "white",
           "landcolor": "#E5ECF6",
           "showlakes": true,
           "showland": true,
           "subunitcolor": "white"
          },
          "hoverlabel": {
           "align": "left"
          },
          "hovermode": "closest",
          "mapbox": {
           "style": "light"
          },
          "paper_bgcolor": "white",
          "plot_bgcolor": "#E5ECF6",
          "polar": {
           "angularaxis": {
            "gridcolor": "white",
            "linecolor": "white",
            "ticks": ""
           },
           "bgcolor": "#E5ECF6",
           "radialaxis": {
            "gridcolor": "white",
            "linecolor": "white",
            "ticks": ""
           }
          },
          "scene": {
           "xaxis": {
            "backgroundcolor": "#E5ECF6",
            "gridcolor": "white",
            "gridwidth": 2,
            "linecolor": "white",
            "showbackground": true,
            "ticks": "",
            "zerolinecolor": "white"
           },
           "yaxis": {
            "backgroundcolor": "#E5ECF6",
            "gridcolor": "white",
            "gridwidth": 2,
            "linecolor": "white",
            "showbackground": true,
            "ticks": "",
            "zerolinecolor": "white"
           },
           "zaxis": {
            "backgroundcolor": "#E5ECF6",
            "gridcolor": "white",
            "gridwidth": 2,
            "linecolor": "white",
            "showbackground": true,
            "ticks": "",
            "zerolinecolor": "white"
           }
          },
          "shapedefaults": {
           "line": {
            "color": "#2a3f5f"
           }
          },
          "ternary": {
           "aaxis": {
            "gridcolor": "white",
            "linecolor": "white",
            "ticks": ""
           },
           "baxis": {
            "gridcolor": "white",
            "linecolor": "white",
            "ticks": ""
           },
           "bgcolor": "#E5ECF6",
           "caxis": {
            "gridcolor": "white",
            "linecolor": "white",
            "ticks": ""
           }
          },
          "title": {
           "x": 0.05
          },
          "xaxis": {
           "automargin": true,
           "gridcolor": "white",
           "linecolor": "white",
           "ticks": "",
           "title": {
            "standoff": 15
           },
           "zerolinecolor": "white",
           "zerolinewidth": 2
          },
          "yaxis": {
           "automargin": true,
           "gridcolor": "white",
           "linecolor": "white",
           "ticks": "",
           "title": {
            "standoff": 15
           },
           "zerolinecolor": "white",
           "zerolinewidth": 2
          }
         }
        },
        "title": {
         "text": "How Absorbance Varies with Wavelength for Sample S1: 3.125 mg/L"
        },
        "xaxis": {
         "anchor": "y",
         "domain": [
          0,
          1
         ],
         "title": {
          "text": "Wavelength / nm"
         }
        },
        "yaxis": {
         "anchor": "x",
         "domain": [
          0,
          1
         ],
         "range": [
          0,
          6
         ],
         "title": {
          "text": "Absorbance"
         }
        }
       }
      },
      "text/html": [
       "<div>                            <div id=\"b23d83de-157b-4946-8034-5e297276be3e\" class=\"plotly-graph-div\" style=\"height:525px; width:100%;\"></div>            <script type=\"text/javascript\">                require([\"plotly\"], function(Plotly) {                    window.PLOTLYENV=window.PLOTLYENV || {};                                    if (document.getElementById(\"b23d83de-157b-4946-8034-5e297276be3e\")) {                    Plotly.newPlot(                        \"b23d83de-157b-4946-8034-5e297276be3e\",                        [{\"error_y\":{\"array\":[0.4517462414527285,0.3711845901973843,0.2962536450783723,0.4319431546961809,0.20128973037777034,0.0,0.20128973037777034,0.0,0.274269940022599,0.03488393453853627,0.0,0.053268710849386364,0.0,0.0,0.0,0.0,0.0,0.0,0.030641293851416826,0.14352932336866445,0.0,0.0,0.0,0.0,0.0,0.0,0.0,0.0,0.03655437350334716,0.09195771975327725,0.10043350481233287,0.07807830826946906,0.06231104770958898,0.04893760199365001,0.040778534658431356,0.036463071120731924,0.03278210894171792,0.025420901286583468,0.018624953392932006,0.014267289706021811,0.01132352516764203,0.009977753031397186,0.008730533902472517,0.007586537784494035,0.006236095644623242,0.005792715732327594,0.005792715732327594,0.004988876515698569,0.004546060565661936,0.004496912521077351,0.004496912521077351,0.004496912521077351,0.0032659863237108956,0.00244948974278318,0.003299831645537225,0.0032998316455372244,0.0032659863237108956,0.0024944382578492965,0.00244948974278318,0.002449489742783169,0.0024944382578492965,0.0018856180831641283,0.0024944382578492965,0.0016329931618554536,0.0021602468994692888,0.0012472191289246359,0.0012472191289246482,0.0008164965809277268,0.0008164965809277268,0.00047140452079103207,0.00047140452079103207,0.0,0.00047140452079103207,0.00047140452079103207,0.0,0.00047140452079103207,1.3877787807814457e-17,0.00047140452079103207,0.0008164965809277268,0.0016329931618554536,0.0016996731711975965,0.0009428090415820641,0.0012472191289246482,0.0012472191289246482,0.0016996731711975965,0.0008164965809277268,0.0009428090415820641,0.0009428090415820641,0.0012472191289246482,0.0012472191289246432,0.0009428090415820576,0.0012472191289246482,0.0012472191289246482,0.0012472191289246482,0.0014142135623730965,0.0012472191289246482,0.0009428090415820641,0.0016996731711975965,0.0012472191289246482,0.0012472191289246482,0.001247219128924645,0.0016996731711975933,0.0020548046676563242,0.0016329931618554536,0.0016329931618554536,0.0016329931618554536,0.0012472191289246482,0.0016996731711975963,0.0012472191289246482,0.0016329931618554508,0.0016996731711975933,0.0016329931618554508,0.0016329931618554508,0.0016996731711975941,0.0016996731711975933,0.001247219128924645,0.001247219128924645,0.001247219128924645,0.001247219128924645,0.0016996731711975933,0.0016996731711975933,0.0012472191289246482,0.0016996731711975965,0.0012472191289246482,0.0012472191289246482,0.0012472191289246482,0.0016329931618554536,0.0012472191289246482,0.0012472191289246482,0.0008164965809277211,0.0014142135623730898,0.0016996731711975965,0.0014142135623730898,0.0016996731711975965,0.0016996731711975965,0.0012472191289246482,0.0012472191289246482,0.0008164965809277268,0.00047140452079103207,0.00047140452079103207,0.00047140452079103207,0.0009428090415820641,0.00047140452079103207,0.00047140452079103207,0.00047140452079102557,0.00047140452079103207,0.00047140452079103207,0.00047140452079103207,0.0,0.00047140452079103207,0.0,0.00047140452079103207,0.0,0.00047140452079103207,0.00047140452079103207,0.00047140452079103207,0.00047140452079103207,0.00047140452079103207,0.0008164965809277268,0.00047140452079103207,0.0,0.00047140452079103207,0.00047140452079103207,0.00047140452079103207,0.00047140452079103207,0.00047140452079103207,0.0008164965809277268,0.0008164965809277268,0.00047140452079103207,0.0008164965809277268,0.0012472191289246422,0.0008164965809277268,0.0012472191289246482,0.0016996731711975933,0.001247219128924645,0.0012472191289246456,0.0016996731711975965,0.0012472191289246482,0.0012472191289246482,0.0008164965809277268,0.0012472191289246482,0.0012472191289246482,0.0012472191289246482,0.0008164965809277268,0.0012472191289246482,0.0014142135623730965,0.0012472191289246482,0.0012472191289246482,0.0016996731711975933,0.0016329931618554536,0.0012472191289246482,0.0016996731711975933,0.001247219128924645,0.0016329931618554536,0.001247219128924645,0.0016329931618554508,0.0012472191289246482,0.0012472191289246482,0.0016996731711975965,0.0012472191289246482,0.0012472191289246482,0.0008164965809277268,0.001247219128924645,0.001247219128924645,0.0016996731711975933,0.0012472191289246482,0.0012472191289246482,0.0012472191289246482,0.0012472191289246482,0.0014142135623730965,0.0012472191289246482,0.001414213562373093,0.0014142135623730965,0.0014142135623730965,0.0009428090415820641,0.001414213562373093,0.001414213562373093,0.001414213562373093,0.001247219128924645,0.0012472191289246456,0.0012472191289246456,0.001247219128924645,0.0012472191289246452,0.0016996731711975933,0.001247219128924645,0.001247219128924645,0.0012472191289246456,0.001414213562373093,0.0016996731711975933,0.0021602468994692866,0.0012472191289246482,0.0012472191289246456,0.000942809041582061,0.0012472191289246452,0.001247219128924645,0.001414213562373093,0.000942809041582061,0.0012472191289246456,0.0014142135623730961,0.0014142135623730961,0.0012472191289246482,0.0012472191289246456,0.0016996731711975933,0.0016996731711975941,0.0012472191289246456,0.0016329931618554506,0.0016996731711975941,0.0016996731711975933,0.0012472191289246456,0.001414213562373093,0.0012472191289246456,0.0012472191289246452,0.0012472191289246456,0.0021602468994692853,0.0016996731711975941,0.0012472191289246482,0.0012472191289246456,0.001247219128924645,0.0012472191289246452,0.0012472191289246482,0.0014142135623730965,0.0008164965809277268,0.001247219128924645,0.001247219128924645,0.001247219128924645,0.0016996731711975933,0.000942809041582061,0.0008164965809277239,0.001247219128924645,0.001247219128924645,0.0012472191289246482,0.0012472191289246482,0.001247219128924645,0.0009428090415820641,0.00047140452079103207,0.001414213562373093,0.0008164965809277268,0.001247219128924645,0.0008164965809277239,0.0016996731711975933,0.001414213562373093,0.001247219128924645,0.00047140452079103207,0.001414213562373093,0.000942809041582061,0.0012472191289246452,0.001247219128924645,0.001247219128924645,0.0021602468994692853,0.001414213562373093,0.00047140452079103207]},\"hovertemplate\":\"Wavelength / nm=%{x}<br>Absorbance=%{y}<extra></extra>\",\"legendgroup\":\"\",\"marker\":{\"color\":\"#636efa\",\"line\":{\"color\":\"DarkSlateGrey\",\"width\":2},\"size\":8,\"symbol\":\"circle\"},\"mode\":\"markers\",\"name\":\"\",\"orientation\":\"v\",\"showlegend\":false,\"type\":\"scatter\",\"x\":[\"220\",\"222\",\"224\",\"226\",\"228\",\"230\",\"232\",\"234\",\"236\",\"238\",\"240\",\"242\",\"244\",\"246\",\"248\",\"250\",\"252\",\"254\",\"256\",\"258\",\"260\",\"262\",\"264\",\"266\",\"268\",\"270\",\"272\",\"274\",\"276\",\"278\",\"280\",\"282\",\"284\",\"286\",\"288\",\"290\",\"292\",\"294\",\"296\",\"298\",\"300\",\"302\",\"304\",\"306\",\"308\",\"310\",\"312\",\"314\",\"316\",\"318\",\"320\",\"322\",\"324\",\"326\",\"328\",\"330\",\"332\",\"334\",\"336\",\"338\",\"340\",\"342\",\"344\",\"346\",\"348\",\"350\",\"352\",\"354\",\"356\",\"358\",\"360\",\"362\",\"364\",\"366\",\"368\",\"370\",\"372\",\"374\",\"376\",\"378\",\"380\",\"382\",\"384\",\"386\",\"388\",\"390\",\"392\",\"394\",\"396\",\"398\",\"400\",\"402\",\"404\",\"406\",\"408\",\"410\",\"412\",\"414\",\"416\",\"418\",\"420\",\"422\",\"424\",\"426\",\"428\",\"430\",\"432\",\"434\",\"436\",\"438\",\"440\",\"442\",\"444\",\"446\",\"448\",\"450\",\"452\",\"454\",\"456\",\"458\",\"460\",\"462\",\"464\",\"466\",\"468\",\"470\",\"472\",\"474\",\"476\",\"478\",\"480\",\"482\",\"484\",\"486\",\"488\",\"490\",\"492\",\"494\",\"496\",\"498\",\"500\",\"502\",\"504\",\"506\",\"508\",\"510\",\"512\",\"514\",\"516\",\"518\",\"520\",\"522\",\"524\",\"526\",\"528\",\"530\",\"532\",\"534\",\"536\",\"538\",\"540\",\"542\",\"544\",\"546\",\"548\",\"550\",\"552\",\"554\",\"556\",\"558\",\"560\",\"562\",\"564\",\"566\",\"568\",\"570\",\"572\",\"574\",\"576\",\"578\",\"580\",\"582\",\"584\",\"586\",\"588\",\"590\",\"592\",\"594\",\"596\",\"598\",\"600\",\"602\",\"604\",\"606\",\"608\",\"610\",\"612\",\"614\",\"616\",\"618\",\"620\",\"622\",\"624\",\"626\",\"628\",\"630\",\"632\",\"634\",\"636\",\"638\",\"640\",\"642\",\"644\",\"646\",\"648\",\"650\",\"652\",\"654\",\"656\",\"658\",\"660\",\"662\",\"664\",\"666\",\"668\",\"670\",\"672\",\"674\",\"676\",\"678\",\"680\",\"682\",\"684\",\"686\",\"688\",\"690\",\"692\",\"694\",\"696\",\"698\",\"700\",\"702\",\"704\",\"706\",\"708\",\"710\",\"712\",\"714\",\"716\",\"718\",\"720\",\"722\",\"724\",\"726\",\"728\",\"730\",\"732\",\"734\",\"736\",\"738\",\"740\",\"742\",\"744\",\"746\",\"748\",\"750\",\"752\",\"754\",\"756\",\"758\",\"760\",\"762\",\"764\",\"766\",\"768\",\"770\",\"772\",\"774\",\"776\",\"778\",\"780\",\"782\",\"784\",\"786\",\"788\",\"790\",\"792\",\"794\",\"796\",\"798\",\"800\"],\"xaxis\":\"x\",\"y\":[3.7390000000000003,4.093,4.325333333333333,4.613333333333333,5.144666666666667,5.287,5.144666666666667,5.287,5.061,5.262333333333333,5.287,5.249333333333333,5.287,5.287,5.287,5.287,5.287,5.287,5.265333333333333,5.162,5.287,5.287,5.287,5.287,5.287,5.287,5.287,5.287,4.741666666666666,4.656666666666666,3.815666666666667,2.998333333333333,2.42,1.9756666666666665,1.5953333333333333,1.3786666666666667,1.277,1.0316666666666665,0.7626666666666666,0.5953333333333334,0.4963333333333333,0.4343333333333333,0.39766666666666667,0.36233333333333334,0.33433333333333337,0.31466666666666665,0.2996666666666667,0.2876666666666667,0.27699999999999997,0.26666666666666666,0.25566666666666665,0.24633333333333332,0.23199999999999998,0.225,0.21933333333333335,0.21066666666666667,0.20099999999999998,0.19066666666666668,0.18200000000000002,0.17400000000000002,0.16733333333333333,0.16133333333333333,0.15433333333333332,0.15,0.145,0.14033333333333334,0.13533333333333333,0.13,0.125,0.12066666666666666,0.11566666666666668,0.114,0.11266666666666668,0.10933333333333334,0.107,0.10333333333333333,0.10000000000000002,0.09666666666666668,0.09200000000000001,0.09000000000000001,0.08766666666666667,0.08366666666666667,0.08133333333333333,0.07933333333333333,0.07866666666666666,0.076,0.07466666666666666,0.07366666666666666,0.07333333333333332,0.07133333333333335,0.07066666666666667,0.06833333333333334,0.06733333333333334,0.06733333333333334,0.066,0.06533333333333334,0.06466666666666666,0.06366666666666666,0.06233333333333333,0.06033333333333333,0.058666666666666666,0.05833333333333333,0.058666666666666666,0.061,0.061,0.061,0.06033333333333333,0.06066666666666667,0.06033333333333333,0.059,0.05833333333333333,0.059,0.057999999999999996,0.057333333333333326,0.05833333333333333,0.059666666666666666,0.059666666666666666,0.059666666666666666,0.059666666666666666,0.05833333333333333,0.06033333333333333,0.06266666666666666,0.06333333333333334,0.06433333333333334,0.06533333333333334,0.06633333333333334,0.067,0.06833333333333334,0.06866666666666667,0.07,0.07,0.06733333333333334,0.07100000000000001,0.07333333333333332,0.07733333333333332,0.07966666666666666,0.08366666666666667,0.08800000000000001,0.09033333333333333,0.09333333333333334,0.09633333333333334,0.09766666666666668,0.09966666666666668,0.10033333333333334,0.10133333333333334,0.10333333333333333,0.10533333333333333,0.10833333333333334,0.111,0.11433333333333334,0.121,0.12733333333333333,0.132,0.1366666666666667,0.1413333333333333,0.14966666666666664,0.15266666666666664,0.15533333333333332,0.155,0.15133333333333332,0.142,0.1366666666666667,0.12933333333333333,0.12033333333333333,0.11333333333333334,0.10333333333333333,0.09300000000000001,0.08700000000000001,0.08133333333333333,0.076,0.07066666666666667,0.067,0.06266666666666666,0.06033333333333333,0.058666666666666666,0.057666666666666665,0.05633333333333334,0.05566666666666667,0.05666666666666667,0.057,0.05666666666666667,0.05566666666666667,0.05466666666666667,0.055,0.05433333333333334,0.054,0.05366666666666667,0.05266666666666667,0.051333333333333335,0.053,0.05266666666666667,0.051333333333333335,0.050666666666666665,0.053,0.051666666666666666,0.052,0.05333333333333334,0.05366666666666667,0.05433333333333334,0.05433333333333334,0.05266666666666667,0.053,0.051666666666666666,0.051666666666666666,0.052333333333333336,0.05266666666666667,0.05266666666666667,0.05266666666666667,0.05266666666666667,0.053,0.05266666666666667,0.052,0.054,0.053,0.052333333333333336,0.052,0.052,0.052,0.051666666666666666,0.04966666666666667,0.04966666666666667,0.050666666666666665,0.051666666666666666,0.051333333333333335,0.050666666666666665,0.050666666666666665,0.04966666666666667,0.051,0.050333333333333334,0.04900000000000001,0.04866666666666667,0.04966666666666667,0.050333333333333334,0.05033333333333334,0.050666666666666665,0.049999999999999996,0.050333333333333334,0.04966666666666667,0.04800000000000001,0.04700000000000001,0.04866666666666667,0.04966666666666667,0.050333333333333334,0.04933333333333334,0.04966666666666667,0.05000000000000001,0.04933333333333334,0.050333333333333334,0.04966666666666667,0.051,0.04966666666666667,0.05033333333333334,0.04966666666666667,0.049999999999999996,0.04933333333333334,0.04866666666666667,0.04966666666666667,0.050666666666666665,0.051666666666666666,0.05266666666666667,0.054,0.053,0.051666666666666666,0.051666666666666666,0.050666666666666665,0.052333333333333336,0.051333333333333335,0.051,0.051666666666666666,0.051666666666666666,0.05266666666666667,0.05266666666666667,0.050666666666666665,0.052333333333333336,0.052333333333333336,0.052,0.052,0.051666666666666666,0.05000000000000001,0.050333333333333334,0.051,0.051666666666666666,0.051333333333333335,0.051,0.050333333333333334,0.04933333333333334,0.050666666666666665,0.050666666666666665,0.049999999999999996,0.051,0.04966666666666667],\"yaxis\":\"y\"}],                        {\"font\":{\"family\":\"Calibri\",\"size\":14},\"legend\":{\"tracegroupgap\":0},\"template\":{\"data\":{\"bar\":[{\"error_x\":{\"color\":\"#2a3f5f\"},\"error_y\":{\"color\":\"#2a3f5f\"},\"marker\":{\"line\":{\"color\":\"#E5ECF6\",\"width\":0.5},\"pattern\":{\"fillmode\":\"overlay\",\"size\":10,\"solidity\":0.2}},\"type\":\"bar\"}],\"barpolar\":[{\"marker\":{\"line\":{\"color\":\"#E5ECF6\",\"width\":0.5},\"pattern\":{\"fillmode\":\"overlay\",\"size\":10,\"solidity\":0.2}},\"type\":\"barpolar\"}],\"carpet\":[{\"aaxis\":{\"endlinecolor\":\"#2a3f5f\",\"gridcolor\":\"white\",\"linecolor\":\"white\",\"minorgridcolor\":\"white\",\"startlinecolor\":\"#2a3f5f\"},\"baxis\":{\"endlinecolor\":\"#2a3f5f\",\"gridcolor\":\"white\",\"linecolor\":\"white\",\"minorgridcolor\":\"white\",\"startlinecolor\":\"#2a3f5f\"},\"type\":\"carpet\"}],\"choropleth\":[{\"colorbar\":{\"outlinewidth\":0,\"ticks\":\"\"},\"type\":\"choropleth\"}],\"contour\":[{\"colorbar\":{\"outlinewidth\":0,\"ticks\":\"\"},\"colorscale\":[[0.0,\"#0d0887\"],[0.1111111111111111,\"#46039f\"],[0.2222222222222222,\"#7201a8\"],[0.3333333333333333,\"#9c179e\"],[0.4444444444444444,\"#bd3786\"],[0.5555555555555556,\"#d8576b\"],[0.6666666666666666,\"#ed7953\"],[0.7777777777777778,\"#fb9f3a\"],[0.8888888888888888,\"#fdca26\"],[1.0,\"#f0f921\"]],\"type\":\"contour\"}],\"contourcarpet\":[{\"colorbar\":{\"outlinewidth\":0,\"ticks\":\"\"},\"type\":\"contourcarpet\"}],\"heatmap\":[{\"colorbar\":{\"outlinewidth\":0,\"ticks\":\"\"},\"colorscale\":[[0.0,\"#0d0887\"],[0.1111111111111111,\"#46039f\"],[0.2222222222222222,\"#7201a8\"],[0.3333333333333333,\"#9c179e\"],[0.4444444444444444,\"#bd3786\"],[0.5555555555555556,\"#d8576b\"],[0.6666666666666666,\"#ed7953\"],[0.7777777777777778,\"#fb9f3a\"],[0.8888888888888888,\"#fdca26\"],[1.0,\"#f0f921\"]],\"type\":\"heatmap\"}],\"heatmapgl\":[{\"colorbar\":{\"outlinewidth\":0,\"ticks\":\"\"},\"colorscale\":[[0.0,\"#0d0887\"],[0.1111111111111111,\"#46039f\"],[0.2222222222222222,\"#7201a8\"],[0.3333333333333333,\"#9c179e\"],[0.4444444444444444,\"#bd3786\"],[0.5555555555555556,\"#d8576b\"],[0.6666666666666666,\"#ed7953\"],[0.7777777777777778,\"#fb9f3a\"],[0.8888888888888888,\"#fdca26\"],[1.0,\"#f0f921\"]],\"type\":\"heatmapgl\"}],\"histogram\":[{\"marker\":{\"pattern\":{\"fillmode\":\"overlay\",\"size\":10,\"solidity\":0.2}},\"type\":\"histogram\"}],\"histogram2d\":[{\"colorbar\":{\"outlinewidth\":0,\"ticks\":\"\"},\"colorscale\":[[0.0,\"#0d0887\"],[0.1111111111111111,\"#46039f\"],[0.2222222222222222,\"#7201a8\"],[0.3333333333333333,\"#9c179e\"],[0.4444444444444444,\"#bd3786\"],[0.5555555555555556,\"#d8576b\"],[0.6666666666666666,\"#ed7953\"],[0.7777777777777778,\"#fb9f3a\"],[0.8888888888888888,\"#fdca26\"],[1.0,\"#f0f921\"]],\"type\":\"histogram2d\"}],\"histogram2dcontour\":[{\"colorbar\":{\"outlinewidth\":0,\"ticks\":\"\"},\"colorscale\":[[0.0,\"#0d0887\"],[0.1111111111111111,\"#46039f\"],[0.2222222222222222,\"#7201a8\"],[0.3333333333333333,\"#9c179e\"],[0.4444444444444444,\"#bd3786\"],[0.5555555555555556,\"#d8576b\"],[0.6666666666666666,\"#ed7953\"],[0.7777777777777778,\"#fb9f3a\"],[0.8888888888888888,\"#fdca26\"],[1.0,\"#f0f921\"]],\"type\":\"histogram2dcontour\"}],\"mesh3d\":[{\"colorbar\":{\"outlinewidth\":0,\"ticks\":\"\"},\"type\":\"mesh3d\"}],\"parcoords\":[{\"line\":{\"colorbar\":{\"outlinewidth\":0,\"ticks\":\"\"}},\"type\":\"parcoords\"}],\"pie\":[{\"automargin\":true,\"type\":\"pie\"}],\"scatter\":[{\"marker\":{\"colorbar\":{\"outlinewidth\":0,\"ticks\":\"\"}},\"type\":\"scatter\"}],\"scatter3d\":[{\"line\":{\"colorbar\":{\"outlinewidth\":0,\"ticks\":\"\"}},\"marker\":{\"colorbar\":{\"outlinewidth\":0,\"ticks\":\"\"}},\"type\":\"scatter3d\"}],\"scattercarpet\":[{\"marker\":{\"colorbar\":{\"outlinewidth\":0,\"ticks\":\"\"}},\"type\":\"scattercarpet\"}],\"scattergeo\":[{\"marker\":{\"colorbar\":{\"outlinewidth\":0,\"ticks\":\"\"}},\"type\":\"scattergeo\"}],\"scattergl\":[{\"marker\":{\"colorbar\":{\"outlinewidth\":0,\"ticks\":\"\"}},\"type\":\"scattergl\"}],\"scattermapbox\":[{\"marker\":{\"colorbar\":{\"outlinewidth\":0,\"ticks\":\"\"}},\"type\":\"scattermapbox\"}],\"scatterpolar\":[{\"marker\":{\"colorbar\":{\"outlinewidth\":0,\"ticks\":\"\"}},\"type\":\"scatterpolar\"}],\"scatterpolargl\":[{\"marker\":{\"colorbar\":{\"outlinewidth\":0,\"ticks\":\"\"}},\"type\":\"scatterpolargl\"}],\"scatterternary\":[{\"marker\":{\"colorbar\":{\"outlinewidth\":0,\"ticks\":\"\"}},\"type\":\"scatterternary\"}],\"surface\":[{\"colorbar\":{\"outlinewidth\":0,\"ticks\":\"\"},\"colorscale\":[[0.0,\"#0d0887\"],[0.1111111111111111,\"#46039f\"],[0.2222222222222222,\"#7201a8\"],[0.3333333333333333,\"#9c179e\"],[0.4444444444444444,\"#bd3786\"],[0.5555555555555556,\"#d8576b\"],[0.6666666666666666,\"#ed7953\"],[0.7777777777777778,\"#fb9f3a\"],[0.8888888888888888,\"#fdca26\"],[1.0,\"#f0f921\"]],\"type\":\"surface\"}],\"table\":[{\"cells\":{\"fill\":{\"color\":\"#EBF0F8\"},\"line\":{\"color\":\"white\"}},\"header\":{\"fill\":{\"color\":\"#C8D4E3\"},\"line\":{\"color\":\"white\"}},\"type\":\"table\"}]},\"layout\":{\"annotationdefaults\":{\"arrowcolor\":\"#2a3f5f\",\"arrowhead\":0,\"arrowwidth\":1},\"autotypenumbers\":\"strict\",\"coloraxis\":{\"colorbar\":{\"outlinewidth\":0,\"ticks\":\"\"}},\"colorscale\":{\"diverging\":[[0,\"#8e0152\"],[0.1,\"#c51b7d\"],[0.2,\"#de77ae\"],[0.3,\"#f1b6da\"],[0.4,\"#fde0ef\"],[0.5,\"#f7f7f7\"],[0.6,\"#e6f5d0\"],[0.7,\"#b8e186\"],[0.8,\"#7fbc41\"],[0.9,\"#4d9221\"],[1,\"#276419\"]],\"sequential\":[[0.0,\"#0d0887\"],[0.1111111111111111,\"#46039f\"],[0.2222222222222222,\"#7201a8\"],[0.3333333333333333,\"#9c179e\"],[0.4444444444444444,\"#bd3786\"],[0.5555555555555556,\"#d8576b\"],[0.6666666666666666,\"#ed7953\"],[0.7777777777777778,\"#fb9f3a\"],[0.8888888888888888,\"#fdca26\"],[1.0,\"#f0f921\"]],\"sequentialminus\":[[0.0,\"#0d0887\"],[0.1111111111111111,\"#46039f\"],[0.2222222222222222,\"#7201a8\"],[0.3333333333333333,\"#9c179e\"],[0.4444444444444444,\"#bd3786\"],[0.5555555555555556,\"#d8576b\"],[0.6666666666666666,\"#ed7953\"],[0.7777777777777778,\"#fb9f3a\"],[0.8888888888888888,\"#fdca26\"],[1.0,\"#f0f921\"]]},\"colorway\":[\"#636efa\",\"#EF553B\",\"#00cc96\",\"#ab63fa\",\"#FFA15A\",\"#19d3f3\",\"#FF6692\",\"#B6E880\",\"#FF97FF\",\"#FECB52\"],\"font\":{\"color\":\"#2a3f5f\"},\"geo\":{\"bgcolor\":\"white\",\"lakecolor\":\"white\",\"landcolor\":\"#E5ECF6\",\"showlakes\":true,\"showland\":true,\"subunitcolor\":\"white\"},\"hoverlabel\":{\"align\":\"left\"},\"hovermode\":\"closest\",\"mapbox\":{\"style\":\"light\"},\"paper_bgcolor\":\"white\",\"plot_bgcolor\":\"#E5ECF6\",\"polar\":{\"angularaxis\":{\"gridcolor\":\"white\",\"linecolor\":\"white\",\"ticks\":\"\"},\"bgcolor\":\"#E5ECF6\",\"radialaxis\":{\"gridcolor\":\"white\",\"linecolor\":\"white\",\"ticks\":\"\"}},\"scene\":{\"xaxis\":{\"backgroundcolor\":\"#E5ECF6\",\"gridcolor\":\"white\",\"gridwidth\":2,\"linecolor\":\"white\",\"showbackground\":true,\"ticks\":\"\",\"zerolinecolor\":\"white\"},\"yaxis\":{\"backgroundcolor\":\"#E5ECF6\",\"gridcolor\":\"white\",\"gridwidth\":2,\"linecolor\":\"white\",\"showbackground\":true,\"ticks\":\"\",\"zerolinecolor\":\"white\"},\"zaxis\":{\"backgroundcolor\":\"#E5ECF6\",\"gridcolor\":\"white\",\"gridwidth\":2,\"linecolor\":\"white\",\"showbackground\":true,\"ticks\":\"\",\"zerolinecolor\":\"white\"}},\"shapedefaults\":{\"line\":{\"color\":\"#2a3f5f\"}},\"ternary\":{\"aaxis\":{\"gridcolor\":\"white\",\"linecolor\":\"white\",\"ticks\":\"\"},\"baxis\":{\"gridcolor\":\"white\",\"linecolor\":\"white\",\"ticks\":\"\"},\"bgcolor\":\"#E5ECF6\",\"caxis\":{\"gridcolor\":\"white\",\"linecolor\":\"white\",\"ticks\":\"\"}},\"title\":{\"x\":0.05},\"xaxis\":{\"automargin\":true,\"gridcolor\":\"white\",\"linecolor\":\"white\",\"ticks\":\"\",\"title\":{\"standoff\":15},\"zerolinecolor\":\"white\",\"zerolinewidth\":2},\"yaxis\":{\"automargin\":true,\"gridcolor\":\"white\",\"linecolor\":\"white\",\"ticks\":\"\",\"title\":{\"standoff\":15},\"zerolinecolor\":\"white\",\"zerolinewidth\":2}}},\"title\":{\"text\":\"How Absorbance Varies with Wavelength for Sample S1: 3.125 mg/L\"},\"xaxis\":{\"anchor\":\"y\",\"domain\":[0.0,1.0],\"title\":{\"text\":\"Wavelength / nm\"}},\"yaxis\":{\"anchor\":\"x\",\"domain\":[0.0,1.0],\"range\":[0,6],\"title\":{\"text\":\"Absorbance\"}}},                        {\"responsive\": true}                    ).then(function(){\n",
       "                            \n",
       "var gd = document.getElementById('b23d83de-157b-4946-8034-5e297276be3e');\n",
       "var x = new MutationObserver(function (mutations, observer) {{\n",
       "        var display = window.getComputedStyle(gd).display;\n",
       "        if (!display || display === 'none') {{\n",
       "            console.log([gd, 'removed!']);\n",
       "            Plotly.purge(gd);\n",
       "            observer.disconnect();\n",
       "        }}\n",
       "}});\n",
       "\n",
       "// Listen for the removal of the full notebook cells\n",
       "var notebookContainer = gd.closest('#notebook-container');\n",
       "if (notebookContainer) {{\n",
       "    x.observe(notebookContainer, {childList: true});\n",
       "}}\n",
       "\n",
       "// Listen for the clearing of the current output cell\n",
       "var outputEl = gd.closest('.output');\n",
       "if (outputEl) {{\n",
       "    x.observe(outputEl, {childList: true});\n",
       "}}\n",
       "\n",
       "                        })                };                });            </script>        </div>"
      ]
     },
     "metadata": {},
     "output_type": "display_data"
    },
    {
     "data": {
      "application/vnd.plotly.v1+json": {
       "config": {
        "plotlyServerURL": "https://plot.ly"
       },
       "data": [
        {
         "error_y": {
          "array": [
           0.18274633299254514,
           0.2401013674818756,
           0.22343231637343783,
           0.2234372892384398,
           0.20339998907462006,
           0,
           0.19936064472875933,
           0,
           0.1051232081364,
           0,
           0,
           0.004027681991198286,
           0,
           0,
           0,
           0.02498443960192465,
           0.005656854249492175,
           0,
           0,
           0.06280658139611373,
           0,
           0.030641293851416826,
           0.015084944665313026,
           0,
           0,
           0.06707210050883071,
           0.02545584412271584,
           0.1339460919756735,
           0.061412991748941305,
           0.08333066662399878,
           0.09505086357664849,
           0.1004335048123328,
           0.08051086883148126,
           0.06544887742013268,
           0.05401851534427793,
           0.04744353368889051,
           0.04439219150556402,
           0.034765883660086476,
           0.02524986248587419,
           0.02049932248202903,
           0.01630950643030008,
           0.014165686240583841,
           0.013274871834493263,
           0.011953614051360724,
           0.010338708279513891,
           0.009092121131323912,
           0.009092121131323887,
           0.008730533902472517,
           0.007845734863959886,
           0.007845734863959886,
           0.007760297817881884,
           0.0065489609014628275,
           0.006548960901462839,
           0.0065319726474218145,
           0.006128258770283406,
           0.005715476066494076,
           0.005312459150169747,
           0.005312459150169748,
           0.00489897948556635,
           0.004496912521077351,
           0.0041096093353126546,
           0.004082482904638634,
           0.0036817870057290793,
           0.0037416573867739326,
           0.0037416573867739326,
           0.00368178700572909,
           0.0032998316455372244,
           0.0032659863237109016,
           0.0024944382578492904,
           0.0029439202887759515,
           0.002624669291337273,
           0.0021602468994692888,
           0.0023570226039551605,
           0.0026246692913372664,
           0.0021602468994692823,
           0.0018856180831641283,
           0.0021602468994692888,
           0.0018856180831641283,
           0.0014142135623730898,
           0.0021602468994692888,
           0.0014142135623730965,
           0.0009428090415820641,
           0,
           0.00047140452079103207,
           0.0008164965809277268,
           0.0008164965809277268,
           0.0008164965809277268,
           0.0009428090415820641,
           0.0009428090415820641,
           0.00047140452079103207,
           0.00047140452079103207,
           0.00047140452079103207,
           0.00047140452079103207,
           0.00047140452079103207,
           0.00047140452079103207,
           0.00047140452079103207,
           0.00047140452079103207,
           0,
           0,
           0,
           0,
           0.00047140452079103207,
           0.0008164965809277268,
           0.0008164965809277239,
           0.0004714045207910288,
           0.00047140452079103207,
           0.00047140452079103207,
           0.00047140452079103207,
           0,
           0.00047140452079103207,
           0.00047140452079103207,
           0.0008164965809277268,
           0.00047140452079103207,
           0.00047140452079103207,
           0.00047140452079103207,
           0.00047140452079103207,
           0.0008164965809277268,
           0,
           0.00047140452079103207,
           0.0009428090415820641,
           0.00047140452079103207,
           0.00047140452079103207,
           0.0008164965809277268,
           0.00047140452079103207,
           0.0004714045207910288,
           0.000942809041582061,
           0.0004714045207910288,
           0.00047140452079103207,
           0.00047140452079103207,
           0.00047140452079103207,
           0.00047140452079103207,
           0.0012472191289246482,
           0.0009428090415820609,
           0.0012472191289246482,
           0.0009428090415820641,
           0.0009428090415820641,
           0.0009428090415820641,
           0,
           0.00047140452079102557,
           0.00047140452079103207,
           0.00047140452079103207,
           0.00047140452079103207,
           0.00047140452079103207,
           0.00047140452079103207,
           0.00047140452079103207,
           0.00047140452079103207,
           0.00047140452079103207,
           0,
           0,
           0.00047140452079103207,
           0.00047140452079102557,
           0.0008164965809277268,
           0.0009428090415820641,
           0.0012472191289246482,
           0.0014142135623730961,
           0.0008164965809277268,
           0.0008164965809277268,
           0.0009428090415820576,
           0.0012472191289246422,
           0.0009428090415820641,
           0.0012472191289246482,
           0.0009428090415820641,
           0.00047140452079103207,
           0.00047140452079103207,
           0.00047140452079103207,
           0.0008164965809277268,
           0,
           0,
           0,
           0,
           0,
           0.0004714045207910288,
           0.00047140452079103207,
           0.00047140452079103207,
           0.00047140452079103207,
           0.0008164965809277268,
           0.0008164965809277268,
           0.0008164965809277268,
           0.0008164965809277268,
           0.0008164965809277268,
           0.0009428090415820641,
           0.00047140452079103207,
           0.00047140452079103207,
           0.00047140452079103207,
           0.00047140452079103207,
           0.00047140452079103207,
           0.00047140452079103207,
           0.0004714045207910288,
           0.0009428090415820641,
           0.00047140452079103207,
           0.0008164965809277239,
           0.0008164965809277268,
           0.00047140452079103207,
           0.0004714045207910288,
           0.0008164965809277239,
           0.000942809041582061,
           0.00047140452079103207,
           0.00047140452079103207,
           0.0008164965809277268,
           0.00047140452079103207,
           0.00047140452079103207,
           0.0009428090415820641,
           0.0008164965809277239,
           0.0008164965809277239,
           0.0008164965809277239,
           0.00047140452079103207,
           0.0008164965809277239,
           0.00047140452079103207,
           0.0008164965809277239,
           0.0009428090415820641,
           0.0008164965809277239,
           0.0004714045207910288,
           0.00047140452079103207,
           0.00047140452079103207,
           0,
           0.0004714045207910288,
           0.0004714045207910288,
           0.0004714045207910288,
           0.0004714045207910288,
           0.00047140452079103207,
           0.00047140452079103207,
           0.0004714045207910288,
           0.0004714045207910288,
           0.0004714045207910288,
           0.00047140452079103207,
           0.00047140452079103207,
           6.938893903907228e-18,
           0.0009428090415820609,
           0.0008164965809277268,
           0.0008164965809277268,
           0.00047140452079103207,
           0.00047140452079103207,
           0.0008164965809277268,
           0.0009428090415820609,
           0.0012472191289246456,
           0.0009428090415820641,
           0.0008164965809277239,
           0.0012472191289246452,
           0.0012472191289246482,
           0.0009428090415820641,
           0.0008164965809277268,
           0.0008164965809277268,
           0.00047140452079103207,
           0.0009428090415820641,
           0.0009428090415820609,
           0.0009428090415820641,
           0.0012472191289246482,
           0.0016996731711975941,
           0.0009428090415820641,
           0.0009428090415820641,
           0.0012472191289246452,
           0.0009428090415820641,
           0.0008164965809277268,
           0.0009428090415820641,
           0.0008164965809277268,
           0.0008164965809277268,
           0.0008164965809277268,
           0.0012472191289246456,
           0.0008164965809277239,
           0.0008164965809277239,
           0.0012472191289246482,
           0.0008164965809277268,
           0.0008164965809277239,
           0.001247219128924645,
           0.0012472191289246456,
           0.0016996731711975933,
           0.0012472191289246452,
           0.0012472191289246452,
           0.001247219128924645,
           0.0008164965809277239,
           0.0012472191289246482,
           0.0012472191289246482,
           0.00047140452079103207,
           0.0009428090415820641,
           0.0012472191289246458,
           0.0012472191289246456,
           0.0012472191289246456,
           0.0012472191289246452,
           0.0012472191289246482,
           0.001414213562373093,
           0.0016996731711975933,
           0.0009428090415820609,
           0.000942809041582061,
           0.000942809041582061,
           0.0012472191289246456,
           0.0012472191289246482,
           0.0012472191289246452,
           0.0012472191289246456,
           0.0012472191289246452,
           0.0012472191289246452,
           0.0012472191289246456
          ]
         },
         "hovertemplate": "Wavelength / nm=%{x}<br>Absorbance=%{y}<extra></extra>",
         "legendgroup": "",
         "marker": {
          "color": "#636efa",
          "line": {
           "color": "DarkSlateGrey",
           "width": 2
          },
          "size": 8,
          "symbol": "circle"
         },
         "mode": "markers",
         "name": "",
         "orientation": "v",
         "showlegend": false,
         "type": "scatter",
         "x": [
          "220",
          "222",
          "224",
          "226",
          "228",
          "230",
          "232",
          "234",
          "236",
          "238",
          "240",
          "242",
          "244",
          "246",
          "248",
          "250",
          "252",
          "254",
          "256",
          "258",
          "260",
          "262",
          "264",
          "266",
          "268",
          "270",
          "272",
          "274",
          "276",
          "278",
          "280",
          "282",
          "284",
          "286",
          "288",
          "290",
          "292",
          "294",
          "296",
          "298",
          "300",
          "302",
          "304",
          "306",
          "308",
          "310",
          "312",
          "314",
          "316",
          "318",
          "320",
          "322",
          "324",
          "326",
          "328",
          "330",
          "332",
          "334",
          "336",
          "338",
          "340",
          "342",
          "344",
          "346",
          "348",
          "350",
          "352",
          "354",
          "356",
          "358",
          "360",
          "362",
          "364",
          "366",
          "368",
          "370",
          "372",
          "374",
          "376",
          "378",
          "380",
          "382",
          "384",
          "386",
          "388",
          "390",
          "392",
          "394",
          "396",
          "398",
          "400",
          "402",
          "404",
          "406",
          "408",
          "410",
          "412",
          "414",
          "416",
          "418",
          "420",
          "422",
          "424",
          "426",
          "428",
          "430",
          "432",
          "434",
          "436",
          "438",
          "440",
          "442",
          "444",
          "446",
          "448",
          "450",
          "452",
          "454",
          "456",
          "458",
          "460",
          "462",
          "464",
          "466",
          "468",
          "470",
          "472",
          "474",
          "476",
          "478",
          "480",
          "482",
          "484",
          "486",
          "488",
          "490",
          "492",
          "494",
          "496",
          "498",
          "500",
          "502",
          "504",
          "506",
          "508",
          "510",
          "512",
          "514",
          "516",
          "518",
          "520",
          "522",
          "524",
          "526",
          "528",
          "530",
          "532",
          "534",
          "536",
          "538",
          "540",
          "542",
          "544",
          "546",
          "548",
          "550",
          "552",
          "554",
          "556",
          "558",
          "560",
          "562",
          "564",
          "566",
          "568",
          "570",
          "572",
          "574",
          "576",
          "578",
          "580",
          "582",
          "584",
          "586",
          "588",
          "590",
          "592",
          "594",
          "596",
          "598",
          "600",
          "602",
          "604",
          "606",
          "608",
          "610",
          "612",
          "614",
          "616",
          "618",
          "620",
          "622",
          "624",
          "626",
          "628",
          "630",
          "632",
          "634",
          "636",
          "638",
          "640",
          "642",
          "644",
          "646",
          "648",
          "650",
          "652",
          "654",
          "656",
          "658",
          "660",
          "662",
          "664",
          "666",
          "668",
          "670",
          "672",
          "674",
          "676",
          "678",
          "680",
          "682",
          "684",
          "686",
          "688",
          "690",
          "692",
          "694",
          "696",
          "698",
          "700",
          "702",
          "704",
          "706",
          "708",
          "710",
          "712",
          "714",
          "716",
          "718",
          "720",
          "722",
          "724",
          "726",
          "728",
          "730",
          "732",
          "734",
          "736",
          "738",
          "740",
          "742",
          "744",
          "746",
          "748",
          "750",
          "752",
          "754",
          "756",
          "758",
          "760",
          "762",
          "764",
          "766",
          "768",
          "770",
          "772",
          "774",
          "776",
          "778",
          "780",
          "782",
          "784",
          "786",
          "788",
          "790",
          "792",
          "794",
          "796",
          "798",
          "800"
         ],
         "xaxis": "x",
         "y": [
          3.2856666666666663,
          3.717,
          4.035,
          4.168666666666667,
          5.0183333333333335,
          5.287,
          4.960999999999999,
          5.287,
          5.212666666666666,
          5.287,
          5.287,
          5.283666666666666,
          5.287,
          5.287,
          5.287,
          5.269333333333333,
          5.283,
          5.287,
          5.287,
          5.22,
          5.287,
          5.265333333333333,
          5.2763333333333335,
          5.287,
          5.287,
          5.220999999999999,
          5.268999999999999,
          5.043333333333334,
          4.706333333333334,
          4.594,
          3.7880000000000003,
          2.9633333333333334,
          2.39,
          1.9496666666666667,
          1.5719999999999998,
          1.3563333333333334,
          1.2539999999999998,
          1.0119999999999998,
          0.7453333333333333,
          0.5796666666666667,
          0.48200000000000004,
          0.42100000000000004,
          0.38466666666666666,
          0.3496666666666666,
          0.32266666666666666,
          0.303,
          0.289,
          0.27666666666666667,
          0.26633333333333337,
          0.25633333333333336,
          0.24566666666666667,
          0.2353333333333333,
          0.22233333333333336,
          0.216,
          0.20966666666666667,
          0.20099999999999998,
          0.19033333333333333,
          0.18133333333333335,
          0.17299999999999996,
          0.16466666666666666,
          0.15833333333333333,
          0.152,
          0.14433333333333334,
          0.14,
          0.136,
          0.13233333333333333,
          0.12666666666666668,
          0.121,
          0.11566666666666665,
          0.112,
          0.10733333333333334,
          0.105,
          0.10366666666666667,
          0.10133333333333334,
          0.09900000000000002,
          0.09533333333333334,
          0.09200000000000001,
          0.08833333333333333,
          0.084,
          0.082,
          0.08,
          0.07666666666666666,
          0.074,
          0.07233333333333332,
          0.072,
          0.069,
          0.068,
          0.06833333333333334,
          0.06833333333333334,
          0.06666666666666667,
          0.06633333333333334,
          0.06466666666666666,
          0.06266666666666666,
          0.06366666666666666,
          0.06266666666666666,
          0.06133333333333333,
          0.06166666666666667,
          0.06,
          0.059,
          0.057,
          0.056,
          0.05533333333333334,
          0.056,
          0.057999999999999996,
          0.05833333333333333,
          0.05766666666666667,
          0.05766666666666667,
          0.05733333333333334,
          0.057,
          0.05566666666666667,
          0.05533333333333334,
          0.056,
          0.05433333333333334,
          0.05366666666666667,
          0.05466666666666667,
          0.05566666666666667,
          0.055,
          0.055,
          0.05466666666666667,
          0.05333333333333334,
          0.05466666666666667,
          0.05666666666666667,
          0.057,
          0.05766666666666667,
          0.058666666666666666,
          0.058666666666666666,
          0.058666666666666666,
          0.05933333333333333,
          0.05933333333333333,
          0.06033333333333333,
          0.059666666666666666,
          0.05566666666666667,
          0.05933333333333333,
          0.06066666666666667,
          0.06333333333333334,
          0.06433333333333334,
          0.06733333333333334,
          0.07,
          0.07033333333333334,
          0.07166666666666666,
          0.07366666666666666,
          0.07433333333333332,
          0.07533333333333332,
          0.07533333333333332,
          0.07533333333333332,
          0.07633333333333332,
          0.07766666666666666,
          0.079,
          0.08,
          0.08166666666666667,
          0.08533333333333333,
          0.08800000000000001,
          0.08966666666666667,
          0.09133333333333334,
          0.09300000000000001,
          0.09900000000000002,
          0.10000000000000002,
          0.10166666666666667,
          0.10133333333333333,
          0.09966666666666668,
          0.09333333333333334,
          0.09166666666666667,
          0.08866666666666667,
          0.08433333333333333,
          0.08233333333333333,
          0.077,
          0.071,
          0.069,
          0.066,
          0.063,
          0.06,
          0.05833333333333333,
          0.05566666666666667,
          0.05466666666666667,
          0.05433333333333334,
          0.053,
          0.052,
          0.052,
          0.053,
          0.054,
          0.05366666666666667,
          0.05333333333333334,
          0.052333333333333336,
          0.052333333333333336,
          0.051333333333333335,
          0.051666666666666666,
          0.051333333333333335,
          0.050666666666666665,
          0.04933333333333334,
          0.051666666666666666,
          0.051,
          0.04900000000000001,
          0.04866666666666667,
          0.050666666666666665,
          0.05000000000000001,
          0.050333333333333334,
          0.051333333333333335,
          0.051666666666666666,
          0.052,
          0.052333333333333336,
          0.051333333333333335,
          0.051666666666666666,
          0.05000000000000001,
          0.05000000000000001,
          0.051,
          0.051333333333333335,
          0.051,
          0.051333333333333335,
          0.051,
          0.051666666666666666,
          0.051,
          0.05033333333333334,
          0.052333333333333336,
          0.051333333333333335,
          0.051,
          0.050666666666666665,
          0.05033333333333334,
          0.050666666666666665,
          0.05033333333333334,
          0.04766666666666667,
          0.04866666666666667,
          0.05033333333333334,
          0.05033333333333334,
          0.05033333333333334,
          0.04933333333333334,
          0.04933333333333334,
          0.04900000000000001,
          0.04966666666666667,
          0.04900000000000001,
          0.04800000000000001,
          0.04766666666666667,
          0.04866666666666667,
          0.04900000000000001,
          0.04966666666666667,
          0.04966666666666667,
          0.04833333333333334,
          0.05000000000000001,
          0.04933333333333334,
          0.04666666666666667,
          0.04533333333333334,
          0.04800000000000001,
          0.04900000000000001,
          0.04933333333333334,
          0.04866666666666667,
          0.04966666666666667,
          0.04933333333333334,
          0.04866666666666667,
          0.04933333333333334,
          0.04833333333333334,
          0.04933333333333334,
          0.04933333333333334,
          0.04866666666666667,
          0.04800000000000001,
          0.04866666666666667,
          0.04800000000000001,
          0.04800000000000001,
          0.04900000000000001,
          0.04966666666666667,
          0.051,
          0.051,
          0.05333333333333334,
          0.052,
          0.051,
          0.050666666666666665,
          0.04966666666666667,
          0.05066666666666667,
          0.05033333333333334,
          0.05033333333333334,
          0.050666666666666665,
          0.051,
          0.052333333333333336,
          0.052333333333333336,
          0.04966666666666667,
          0.051666666666666666,
          0.051333333333333335,
          0.051333333333333335,
          0.051333333333333335,
          0.05033333333333334,
          0.04833333333333334,
          0.04900000000000001,
          0.04966666666666667,
          0.05066666666666667,
          0.050333333333333334,
          0.050333333333333334,
          0.04966666666666667,
          0.04866666666666667,
          0.04933333333333334,
          0.04966666666666667,
          0.04933333333333334,
          0.05033333333333334,
          0.04966666666666667
         ],
         "yaxis": "y"
        }
       ],
       "layout": {
        "font": {
         "family": "Calibri",
         "size": 14
        },
        "legend": {
         "tracegroupgap": 0
        },
        "template": {
         "data": {
          "bar": [
           {
            "error_x": {
             "color": "#2a3f5f"
            },
            "error_y": {
             "color": "#2a3f5f"
            },
            "marker": {
             "line": {
              "color": "#E5ECF6",
              "width": 0.5
             },
             "pattern": {
              "fillmode": "overlay",
              "size": 10,
              "solidity": 0.2
             }
            },
            "type": "bar"
           }
          ],
          "barpolar": [
           {
            "marker": {
             "line": {
              "color": "#E5ECF6",
              "width": 0.5
             },
             "pattern": {
              "fillmode": "overlay",
              "size": 10,
              "solidity": 0.2
             }
            },
            "type": "barpolar"
           }
          ],
          "carpet": [
           {
            "aaxis": {
             "endlinecolor": "#2a3f5f",
             "gridcolor": "white",
             "linecolor": "white",
             "minorgridcolor": "white",
             "startlinecolor": "#2a3f5f"
            },
            "baxis": {
             "endlinecolor": "#2a3f5f",
             "gridcolor": "white",
             "linecolor": "white",
             "minorgridcolor": "white",
             "startlinecolor": "#2a3f5f"
            },
            "type": "carpet"
           }
          ],
          "choropleth": [
           {
            "colorbar": {
             "outlinewidth": 0,
             "ticks": ""
            },
            "type": "choropleth"
           }
          ],
          "contour": [
           {
            "colorbar": {
             "outlinewidth": 0,
             "ticks": ""
            },
            "colorscale": [
             [
              0,
              "#0d0887"
             ],
             [
              0.1111111111111111,
              "#46039f"
             ],
             [
              0.2222222222222222,
              "#7201a8"
             ],
             [
              0.3333333333333333,
              "#9c179e"
             ],
             [
              0.4444444444444444,
              "#bd3786"
             ],
             [
              0.5555555555555556,
              "#d8576b"
             ],
             [
              0.6666666666666666,
              "#ed7953"
             ],
             [
              0.7777777777777778,
              "#fb9f3a"
             ],
             [
              0.8888888888888888,
              "#fdca26"
             ],
             [
              1,
              "#f0f921"
             ]
            ],
            "type": "contour"
           }
          ],
          "contourcarpet": [
           {
            "colorbar": {
             "outlinewidth": 0,
             "ticks": ""
            },
            "type": "contourcarpet"
           }
          ],
          "heatmap": [
           {
            "colorbar": {
             "outlinewidth": 0,
             "ticks": ""
            },
            "colorscale": [
             [
              0,
              "#0d0887"
             ],
             [
              0.1111111111111111,
              "#46039f"
             ],
             [
              0.2222222222222222,
              "#7201a8"
             ],
             [
              0.3333333333333333,
              "#9c179e"
             ],
             [
              0.4444444444444444,
              "#bd3786"
             ],
             [
              0.5555555555555556,
              "#d8576b"
             ],
             [
              0.6666666666666666,
              "#ed7953"
             ],
             [
              0.7777777777777778,
              "#fb9f3a"
             ],
             [
              0.8888888888888888,
              "#fdca26"
             ],
             [
              1,
              "#f0f921"
             ]
            ],
            "type": "heatmap"
           }
          ],
          "heatmapgl": [
           {
            "colorbar": {
             "outlinewidth": 0,
             "ticks": ""
            },
            "colorscale": [
             [
              0,
              "#0d0887"
             ],
             [
              0.1111111111111111,
              "#46039f"
             ],
             [
              0.2222222222222222,
              "#7201a8"
             ],
             [
              0.3333333333333333,
              "#9c179e"
             ],
             [
              0.4444444444444444,
              "#bd3786"
             ],
             [
              0.5555555555555556,
              "#d8576b"
             ],
             [
              0.6666666666666666,
              "#ed7953"
             ],
             [
              0.7777777777777778,
              "#fb9f3a"
             ],
             [
              0.8888888888888888,
              "#fdca26"
             ],
             [
              1,
              "#f0f921"
             ]
            ],
            "type": "heatmapgl"
           }
          ],
          "histogram": [
           {
            "marker": {
             "pattern": {
              "fillmode": "overlay",
              "size": 10,
              "solidity": 0.2
             }
            },
            "type": "histogram"
           }
          ],
          "histogram2d": [
           {
            "colorbar": {
             "outlinewidth": 0,
             "ticks": ""
            },
            "colorscale": [
             [
              0,
              "#0d0887"
             ],
             [
              0.1111111111111111,
              "#46039f"
             ],
             [
              0.2222222222222222,
              "#7201a8"
             ],
             [
              0.3333333333333333,
              "#9c179e"
             ],
             [
              0.4444444444444444,
              "#bd3786"
             ],
             [
              0.5555555555555556,
              "#d8576b"
             ],
             [
              0.6666666666666666,
              "#ed7953"
             ],
             [
              0.7777777777777778,
              "#fb9f3a"
             ],
             [
              0.8888888888888888,
              "#fdca26"
             ],
             [
              1,
              "#f0f921"
             ]
            ],
            "type": "histogram2d"
           }
          ],
          "histogram2dcontour": [
           {
            "colorbar": {
             "outlinewidth": 0,
             "ticks": ""
            },
            "colorscale": [
             [
              0,
              "#0d0887"
             ],
             [
              0.1111111111111111,
              "#46039f"
             ],
             [
              0.2222222222222222,
              "#7201a8"
             ],
             [
              0.3333333333333333,
              "#9c179e"
             ],
             [
              0.4444444444444444,
              "#bd3786"
             ],
             [
              0.5555555555555556,
              "#d8576b"
             ],
             [
              0.6666666666666666,
              "#ed7953"
             ],
             [
              0.7777777777777778,
              "#fb9f3a"
             ],
             [
              0.8888888888888888,
              "#fdca26"
             ],
             [
              1,
              "#f0f921"
             ]
            ],
            "type": "histogram2dcontour"
           }
          ],
          "mesh3d": [
           {
            "colorbar": {
             "outlinewidth": 0,
             "ticks": ""
            },
            "type": "mesh3d"
           }
          ],
          "parcoords": [
           {
            "line": {
             "colorbar": {
              "outlinewidth": 0,
              "ticks": ""
             }
            },
            "type": "parcoords"
           }
          ],
          "pie": [
           {
            "automargin": true,
            "type": "pie"
           }
          ],
          "scatter": [
           {
            "marker": {
             "colorbar": {
              "outlinewidth": 0,
              "ticks": ""
             }
            },
            "type": "scatter"
           }
          ],
          "scatter3d": [
           {
            "line": {
             "colorbar": {
              "outlinewidth": 0,
              "ticks": ""
             }
            },
            "marker": {
             "colorbar": {
              "outlinewidth": 0,
              "ticks": ""
             }
            },
            "type": "scatter3d"
           }
          ],
          "scattercarpet": [
           {
            "marker": {
             "colorbar": {
              "outlinewidth": 0,
              "ticks": ""
             }
            },
            "type": "scattercarpet"
           }
          ],
          "scattergeo": [
           {
            "marker": {
             "colorbar": {
              "outlinewidth": 0,
              "ticks": ""
             }
            },
            "type": "scattergeo"
           }
          ],
          "scattergl": [
           {
            "marker": {
             "colorbar": {
              "outlinewidth": 0,
              "ticks": ""
             }
            },
            "type": "scattergl"
           }
          ],
          "scattermapbox": [
           {
            "marker": {
             "colorbar": {
              "outlinewidth": 0,
              "ticks": ""
             }
            },
            "type": "scattermapbox"
           }
          ],
          "scatterpolar": [
           {
            "marker": {
             "colorbar": {
              "outlinewidth": 0,
              "ticks": ""
             }
            },
            "type": "scatterpolar"
           }
          ],
          "scatterpolargl": [
           {
            "marker": {
             "colorbar": {
              "outlinewidth": 0,
              "ticks": ""
             }
            },
            "type": "scatterpolargl"
           }
          ],
          "scatterternary": [
           {
            "marker": {
             "colorbar": {
              "outlinewidth": 0,
              "ticks": ""
             }
            },
            "type": "scatterternary"
           }
          ],
          "surface": [
           {
            "colorbar": {
             "outlinewidth": 0,
             "ticks": ""
            },
            "colorscale": [
             [
              0,
              "#0d0887"
             ],
             [
              0.1111111111111111,
              "#46039f"
             ],
             [
              0.2222222222222222,
              "#7201a8"
             ],
             [
              0.3333333333333333,
              "#9c179e"
             ],
             [
              0.4444444444444444,
              "#bd3786"
             ],
             [
              0.5555555555555556,
              "#d8576b"
             ],
             [
              0.6666666666666666,
              "#ed7953"
             ],
             [
              0.7777777777777778,
              "#fb9f3a"
             ],
             [
              0.8888888888888888,
              "#fdca26"
             ],
             [
              1,
              "#f0f921"
             ]
            ],
            "type": "surface"
           }
          ],
          "table": [
           {
            "cells": {
             "fill": {
              "color": "#EBF0F8"
             },
             "line": {
              "color": "white"
             }
            },
            "header": {
             "fill": {
              "color": "#C8D4E3"
             },
             "line": {
              "color": "white"
             }
            },
            "type": "table"
           }
          ]
         },
         "layout": {
          "annotationdefaults": {
           "arrowcolor": "#2a3f5f",
           "arrowhead": 0,
           "arrowwidth": 1
          },
          "autotypenumbers": "strict",
          "coloraxis": {
           "colorbar": {
            "outlinewidth": 0,
            "ticks": ""
           }
          },
          "colorscale": {
           "diverging": [
            [
             0,
             "#8e0152"
            ],
            [
             0.1,
             "#c51b7d"
            ],
            [
             0.2,
             "#de77ae"
            ],
            [
             0.3,
             "#f1b6da"
            ],
            [
             0.4,
             "#fde0ef"
            ],
            [
             0.5,
             "#f7f7f7"
            ],
            [
             0.6,
             "#e6f5d0"
            ],
            [
             0.7,
             "#b8e186"
            ],
            [
             0.8,
             "#7fbc41"
            ],
            [
             0.9,
             "#4d9221"
            ],
            [
             1,
             "#276419"
            ]
           ],
           "sequential": [
            [
             0,
             "#0d0887"
            ],
            [
             0.1111111111111111,
             "#46039f"
            ],
            [
             0.2222222222222222,
             "#7201a8"
            ],
            [
             0.3333333333333333,
             "#9c179e"
            ],
            [
             0.4444444444444444,
             "#bd3786"
            ],
            [
             0.5555555555555556,
             "#d8576b"
            ],
            [
             0.6666666666666666,
             "#ed7953"
            ],
            [
             0.7777777777777778,
             "#fb9f3a"
            ],
            [
             0.8888888888888888,
             "#fdca26"
            ],
            [
             1,
             "#f0f921"
            ]
           ],
           "sequentialminus": [
            [
             0,
             "#0d0887"
            ],
            [
             0.1111111111111111,
             "#46039f"
            ],
            [
             0.2222222222222222,
             "#7201a8"
            ],
            [
             0.3333333333333333,
             "#9c179e"
            ],
            [
             0.4444444444444444,
             "#bd3786"
            ],
            [
             0.5555555555555556,
             "#d8576b"
            ],
            [
             0.6666666666666666,
             "#ed7953"
            ],
            [
             0.7777777777777778,
             "#fb9f3a"
            ],
            [
             0.8888888888888888,
             "#fdca26"
            ],
            [
             1,
             "#f0f921"
            ]
           ]
          },
          "colorway": [
           "#636efa",
           "#EF553B",
           "#00cc96",
           "#ab63fa",
           "#FFA15A",
           "#19d3f3",
           "#FF6692",
           "#B6E880",
           "#FF97FF",
           "#FECB52"
          ],
          "font": {
           "color": "#2a3f5f"
          },
          "geo": {
           "bgcolor": "white",
           "lakecolor": "white",
           "landcolor": "#E5ECF6",
           "showlakes": true,
           "showland": true,
           "subunitcolor": "white"
          },
          "hoverlabel": {
           "align": "left"
          },
          "hovermode": "closest",
          "mapbox": {
           "style": "light"
          },
          "paper_bgcolor": "white",
          "plot_bgcolor": "#E5ECF6",
          "polar": {
           "angularaxis": {
            "gridcolor": "white",
            "linecolor": "white",
            "ticks": ""
           },
           "bgcolor": "#E5ECF6",
           "radialaxis": {
            "gridcolor": "white",
            "linecolor": "white",
            "ticks": ""
           }
          },
          "scene": {
           "xaxis": {
            "backgroundcolor": "#E5ECF6",
            "gridcolor": "white",
            "gridwidth": 2,
            "linecolor": "white",
            "showbackground": true,
            "ticks": "",
            "zerolinecolor": "white"
           },
           "yaxis": {
            "backgroundcolor": "#E5ECF6",
            "gridcolor": "white",
            "gridwidth": 2,
            "linecolor": "white",
            "showbackground": true,
            "ticks": "",
            "zerolinecolor": "white"
           },
           "zaxis": {
            "backgroundcolor": "#E5ECF6",
            "gridcolor": "white",
            "gridwidth": 2,
            "linecolor": "white",
            "showbackground": true,
            "ticks": "",
            "zerolinecolor": "white"
           }
          },
          "shapedefaults": {
           "line": {
            "color": "#2a3f5f"
           }
          },
          "ternary": {
           "aaxis": {
            "gridcolor": "white",
            "linecolor": "white",
            "ticks": ""
           },
           "baxis": {
            "gridcolor": "white",
            "linecolor": "white",
            "ticks": ""
           },
           "bgcolor": "#E5ECF6",
           "caxis": {
            "gridcolor": "white",
            "linecolor": "white",
            "ticks": ""
           }
          },
          "title": {
           "x": 0.05
          },
          "xaxis": {
           "automargin": true,
           "gridcolor": "white",
           "linecolor": "white",
           "ticks": "",
           "title": {
            "standoff": 15
           },
           "zerolinecolor": "white",
           "zerolinewidth": 2
          },
          "yaxis": {
           "automargin": true,
           "gridcolor": "white",
           "linecolor": "white",
           "ticks": "",
           "title": {
            "standoff": 15
           },
           "zerolinecolor": "white",
           "zerolinewidth": 2
          }
         }
        },
        "title": {
         "text": "How Absorbance Varies with Wavelength for Sample S1: 1.563 mg/L"
        },
        "xaxis": {
         "anchor": "y",
         "domain": [
          0,
          1
         ],
         "title": {
          "text": "Wavelength / nm"
         }
        },
        "yaxis": {
         "anchor": "x",
         "domain": [
          0,
          1
         ],
         "range": [
          0,
          6
         ],
         "title": {
          "text": "Absorbance"
         }
        }
       }
      },
      "text/html": [
       "<div>                            <div id=\"bcac5c49-1a33-44d5-8e89-dc8bc2177b37\" class=\"plotly-graph-div\" style=\"height:525px; width:100%;\"></div>            <script type=\"text/javascript\">                require([\"plotly\"], function(Plotly) {                    window.PLOTLYENV=window.PLOTLYENV || {};                                    if (document.getElementById(\"bcac5c49-1a33-44d5-8e89-dc8bc2177b37\")) {                    Plotly.newPlot(                        \"bcac5c49-1a33-44d5-8e89-dc8bc2177b37\",                        [{\"error_y\":{\"array\":[0.18274633299254514,0.2401013674818756,0.22343231637343783,0.2234372892384398,0.20339998907462006,0.0,0.19936064472875933,0.0,0.1051232081364,0.0,0.0,0.004027681991198286,0.0,0.0,0.0,0.02498443960192465,0.005656854249492175,0.0,0.0,0.06280658139611373,0.0,0.030641293851416826,0.015084944665313026,0.0,0.0,0.06707210050883071,0.02545584412271584,0.1339460919756735,0.061412991748941305,0.08333066662399878,0.09505086357664849,0.1004335048123328,0.08051086883148126,0.06544887742013268,0.05401851534427793,0.04744353368889051,0.04439219150556402,0.034765883660086476,0.02524986248587419,0.02049932248202903,0.01630950643030008,0.014165686240583841,0.013274871834493263,0.011953614051360724,0.010338708279513891,0.009092121131323912,0.009092121131323887,0.008730533902472517,0.007845734863959886,0.007845734863959886,0.007760297817881884,0.0065489609014628275,0.006548960901462839,0.0065319726474218145,0.006128258770283406,0.005715476066494076,0.005312459150169747,0.005312459150169748,0.00489897948556635,0.004496912521077351,0.0041096093353126546,0.004082482904638634,0.0036817870057290793,0.0037416573867739326,0.0037416573867739326,0.00368178700572909,0.0032998316455372244,0.0032659863237109016,0.0024944382578492904,0.0029439202887759515,0.002624669291337273,0.0021602468994692888,0.0023570226039551605,0.0026246692913372664,0.0021602468994692823,0.0018856180831641283,0.0021602468994692888,0.0018856180831641283,0.0014142135623730898,0.0021602468994692888,0.0014142135623730965,0.0009428090415820641,0.0,0.00047140452079103207,0.0008164965809277268,0.0008164965809277268,0.0008164965809277268,0.0009428090415820641,0.0009428090415820641,0.00047140452079103207,0.00047140452079103207,0.00047140452079103207,0.00047140452079103207,0.00047140452079103207,0.00047140452079103207,0.00047140452079103207,0.00047140452079103207,0.0,0.0,0.0,0.0,0.00047140452079103207,0.0008164965809277268,0.0008164965809277239,0.0004714045207910288,0.00047140452079103207,0.00047140452079103207,0.00047140452079103207,0.0,0.00047140452079103207,0.00047140452079103207,0.0008164965809277268,0.00047140452079103207,0.00047140452079103207,0.00047140452079103207,0.00047140452079103207,0.0008164965809277268,0.0,0.00047140452079103207,0.0009428090415820641,0.00047140452079103207,0.00047140452079103207,0.0008164965809277268,0.00047140452079103207,0.0004714045207910288,0.000942809041582061,0.0004714045207910288,0.00047140452079103207,0.00047140452079103207,0.00047140452079103207,0.00047140452079103207,0.0012472191289246482,0.0009428090415820609,0.0012472191289246482,0.0009428090415820641,0.0009428090415820641,0.0009428090415820641,0.0,0.00047140452079102557,0.00047140452079103207,0.00047140452079103207,0.00047140452079103207,0.00047140452079103207,0.00047140452079103207,0.00047140452079103207,0.00047140452079103207,0.00047140452079103207,0.0,0.0,0.00047140452079103207,0.00047140452079102557,0.0008164965809277268,0.0009428090415820641,0.0012472191289246482,0.0014142135623730961,0.0008164965809277268,0.0008164965809277268,0.0009428090415820576,0.0012472191289246422,0.0009428090415820641,0.0012472191289246482,0.0009428090415820641,0.00047140452079103207,0.00047140452079103207,0.00047140452079103207,0.0008164965809277268,0.0,0.0,0.0,0.0,0.0,0.0004714045207910288,0.00047140452079103207,0.00047140452079103207,0.00047140452079103207,0.0008164965809277268,0.0008164965809277268,0.0008164965809277268,0.0008164965809277268,0.0008164965809277268,0.0009428090415820641,0.00047140452079103207,0.00047140452079103207,0.00047140452079103207,0.00047140452079103207,0.00047140452079103207,0.00047140452079103207,0.0004714045207910288,0.0009428090415820641,0.00047140452079103207,0.0008164965809277239,0.0008164965809277268,0.00047140452079103207,0.0004714045207910288,0.0008164965809277239,0.000942809041582061,0.00047140452079103207,0.00047140452079103207,0.0008164965809277268,0.00047140452079103207,0.00047140452079103207,0.0009428090415820641,0.0008164965809277239,0.0008164965809277239,0.0008164965809277239,0.00047140452079103207,0.0008164965809277239,0.00047140452079103207,0.0008164965809277239,0.0009428090415820641,0.0008164965809277239,0.0004714045207910288,0.00047140452079103207,0.00047140452079103207,0.0,0.0004714045207910288,0.0004714045207910288,0.0004714045207910288,0.0004714045207910288,0.00047140452079103207,0.00047140452079103207,0.0004714045207910288,0.0004714045207910288,0.0004714045207910288,0.00047140452079103207,0.00047140452079103207,6.938893903907228e-18,0.0009428090415820609,0.0008164965809277268,0.0008164965809277268,0.00047140452079103207,0.00047140452079103207,0.0008164965809277268,0.0009428090415820609,0.0012472191289246456,0.0009428090415820641,0.0008164965809277239,0.0012472191289246452,0.0012472191289246482,0.0009428090415820641,0.0008164965809277268,0.0008164965809277268,0.00047140452079103207,0.0009428090415820641,0.0009428090415820609,0.0009428090415820641,0.0012472191289246482,0.0016996731711975941,0.0009428090415820641,0.0009428090415820641,0.0012472191289246452,0.0009428090415820641,0.0008164965809277268,0.0009428090415820641,0.0008164965809277268,0.0008164965809277268,0.0008164965809277268,0.0012472191289246456,0.0008164965809277239,0.0008164965809277239,0.0012472191289246482,0.0008164965809277268,0.0008164965809277239,0.001247219128924645,0.0012472191289246456,0.0016996731711975933,0.0012472191289246452,0.0012472191289246452,0.001247219128924645,0.0008164965809277239,0.0012472191289246482,0.0012472191289246482,0.00047140452079103207,0.0009428090415820641,0.0012472191289246458,0.0012472191289246456,0.0012472191289246456,0.0012472191289246452,0.0012472191289246482,0.001414213562373093,0.0016996731711975933,0.0009428090415820609,0.000942809041582061,0.000942809041582061,0.0012472191289246456,0.0012472191289246482,0.0012472191289246452,0.0012472191289246456,0.0012472191289246452,0.0012472191289246452,0.0012472191289246456]},\"hovertemplate\":\"Wavelength / nm=%{x}<br>Absorbance=%{y}<extra></extra>\",\"legendgroup\":\"\",\"marker\":{\"color\":\"#636efa\",\"line\":{\"color\":\"DarkSlateGrey\",\"width\":2},\"size\":8,\"symbol\":\"circle\"},\"mode\":\"markers\",\"name\":\"\",\"orientation\":\"v\",\"showlegend\":false,\"type\":\"scatter\",\"x\":[\"220\",\"222\",\"224\",\"226\",\"228\",\"230\",\"232\",\"234\",\"236\",\"238\",\"240\",\"242\",\"244\",\"246\",\"248\",\"250\",\"252\",\"254\",\"256\",\"258\",\"260\",\"262\",\"264\",\"266\",\"268\",\"270\",\"272\",\"274\",\"276\",\"278\",\"280\",\"282\",\"284\",\"286\",\"288\",\"290\",\"292\",\"294\",\"296\",\"298\",\"300\",\"302\",\"304\",\"306\",\"308\",\"310\",\"312\",\"314\",\"316\",\"318\",\"320\",\"322\",\"324\",\"326\",\"328\",\"330\",\"332\",\"334\",\"336\",\"338\",\"340\",\"342\",\"344\",\"346\",\"348\",\"350\",\"352\",\"354\",\"356\",\"358\",\"360\",\"362\",\"364\",\"366\",\"368\",\"370\",\"372\",\"374\",\"376\",\"378\",\"380\",\"382\",\"384\",\"386\",\"388\",\"390\",\"392\",\"394\",\"396\",\"398\",\"400\",\"402\",\"404\",\"406\",\"408\",\"410\",\"412\",\"414\",\"416\",\"418\",\"420\",\"422\",\"424\",\"426\",\"428\",\"430\",\"432\",\"434\",\"436\",\"438\",\"440\",\"442\",\"444\",\"446\",\"448\",\"450\",\"452\",\"454\",\"456\",\"458\",\"460\",\"462\",\"464\",\"466\",\"468\",\"470\",\"472\",\"474\",\"476\",\"478\",\"480\",\"482\",\"484\",\"486\",\"488\",\"490\",\"492\",\"494\",\"496\",\"498\",\"500\",\"502\",\"504\",\"506\",\"508\",\"510\",\"512\",\"514\",\"516\",\"518\",\"520\",\"522\",\"524\",\"526\",\"528\",\"530\",\"532\",\"534\",\"536\",\"538\",\"540\",\"542\",\"544\",\"546\",\"548\",\"550\",\"552\",\"554\",\"556\",\"558\",\"560\",\"562\",\"564\",\"566\",\"568\",\"570\",\"572\",\"574\",\"576\",\"578\",\"580\",\"582\",\"584\",\"586\",\"588\",\"590\",\"592\",\"594\",\"596\",\"598\",\"600\",\"602\",\"604\",\"606\",\"608\",\"610\",\"612\",\"614\",\"616\",\"618\",\"620\",\"622\",\"624\",\"626\",\"628\",\"630\",\"632\",\"634\",\"636\",\"638\",\"640\",\"642\",\"644\",\"646\",\"648\",\"650\",\"652\",\"654\",\"656\",\"658\",\"660\",\"662\",\"664\",\"666\",\"668\",\"670\",\"672\",\"674\",\"676\",\"678\",\"680\",\"682\",\"684\",\"686\",\"688\",\"690\",\"692\",\"694\",\"696\",\"698\",\"700\",\"702\",\"704\",\"706\",\"708\",\"710\",\"712\",\"714\",\"716\",\"718\",\"720\",\"722\",\"724\",\"726\",\"728\",\"730\",\"732\",\"734\",\"736\",\"738\",\"740\",\"742\",\"744\",\"746\",\"748\",\"750\",\"752\",\"754\",\"756\",\"758\",\"760\",\"762\",\"764\",\"766\",\"768\",\"770\",\"772\",\"774\",\"776\",\"778\",\"780\",\"782\",\"784\",\"786\",\"788\",\"790\",\"792\",\"794\",\"796\",\"798\",\"800\"],\"xaxis\":\"x\",\"y\":[3.2856666666666663,3.717,4.035,4.168666666666667,5.0183333333333335,5.287,4.960999999999999,5.287,5.212666666666666,5.287,5.287,5.283666666666666,5.287,5.287,5.287,5.269333333333333,5.283,5.287,5.287,5.22,5.287,5.265333333333333,5.2763333333333335,5.287,5.287,5.220999999999999,5.268999999999999,5.043333333333334,4.706333333333334,4.594,3.7880000000000003,2.9633333333333334,2.39,1.9496666666666667,1.5719999999999998,1.3563333333333334,1.2539999999999998,1.0119999999999998,0.7453333333333333,0.5796666666666667,0.48200000000000004,0.42100000000000004,0.38466666666666666,0.3496666666666666,0.32266666666666666,0.303,0.289,0.27666666666666667,0.26633333333333337,0.25633333333333336,0.24566666666666667,0.2353333333333333,0.22233333333333336,0.216,0.20966666666666667,0.20099999999999998,0.19033333333333333,0.18133333333333335,0.17299999999999996,0.16466666666666666,0.15833333333333333,0.152,0.14433333333333334,0.14,0.136,0.13233333333333333,0.12666666666666668,0.121,0.11566666666666665,0.112,0.10733333333333334,0.105,0.10366666666666667,0.10133333333333334,0.09900000000000002,0.09533333333333334,0.09200000000000001,0.08833333333333333,0.084,0.082,0.08,0.07666666666666666,0.074,0.07233333333333332,0.072,0.069,0.068,0.06833333333333334,0.06833333333333334,0.06666666666666667,0.06633333333333334,0.06466666666666666,0.06266666666666666,0.06366666666666666,0.06266666666666666,0.06133333333333333,0.06166666666666667,0.06,0.059,0.057,0.056,0.05533333333333334,0.056,0.057999999999999996,0.05833333333333333,0.05766666666666667,0.05766666666666667,0.05733333333333334,0.057,0.05566666666666667,0.05533333333333334,0.056,0.05433333333333334,0.05366666666666667,0.05466666666666667,0.05566666666666667,0.055,0.055,0.05466666666666667,0.05333333333333334,0.05466666666666667,0.05666666666666667,0.057,0.05766666666666667,0.058666666666666666,0.058666666666666666,0.058666666666666666,0.05933333333333333,0.05933333333333333,0.06033333333333333,0.059666666666666666,0.05566666666666667,0.05933333333333333,0.06066666666666667,0.06333333333333334,0.06433333333333334,0.06733333333333334,0.07,0.07033333333333334,0.07166666666666666,0.07366666666666666,0.07433333333333332,0.07533333333333332,0.07533333333333332,0.07533333333333332,0.07633333333333332,0.07766666666666666,0.079,0.08,0.08166666666666667,0.08533333333333333,0.08800000000000001,0.08966666666666667,0.09133333333333334,0.09300000000000001,0.09900000000000002,0.10000000000000002,0.10166666666666667,0.10133333333333333,0.09966666666666668,0.09333333333333334,0.09166666666666667,0.08866666666666667,0.08433333333333333,0.08233333333333333,0.077,0.071,0.069,0.066,0.063,0.06,0.05833333333333333,0.05566666666666667,0.05466666666666667,0.05433333333333334,0.053,0.052,0.052,0.053,0.054,0.05366666666666667,0.05333333333333334,0.052333333333333336,0.052333333333333336,0.051333333333333335,0.051666666666666666,0.051333333333333335,0.050666666666666665,0.04933333333333334,0.051666666666666666,0.051,0.04900000000000001,0.04866666666666667,0.050666666666666665,0.05000000000000001,0.050333333333333334,0.051333333333333335,0.051666666666666666,0.052,0.052333333333333336,0.051333333333333335,0.051666666666666666,0.05000000000000001,0.05000000000000001,0.051,0.051333333333333335,0.051,0.051333333333333335,0.051,0.051666666666666666,0.051,0.05033333333333334,0.052333333333333336,0.051333333333333335,0.051,0.050666666666666665,0.05033333333333334,0.050666666666666665,0.05033333333333334,0.04766666666666667,0.04866666666666667,0.05033333333333334,0.05033333333333334,0.05033333333333334,0.04933333333333334,0.04933333333333334,0.04900000000000001,0.04966666666666667,0.04900000000000001,0.04800000000000001,0.04766666666666667,0.04866666666666667,0.04900000000000001,0.04966666666666667,0.04966666666666667,0.04833333333333334,0.05000000000000001,0.04933333333333334,0.04666666666666667,0.04533333333333334,0.04800000000000001,0.04900000000000001,0.04933333333333334,0.04866666666666667,0.04966666666666667,0.04933333333333334,0.04866666666666667,0.04933333333333334,0.04833333333333334,0.04933333333333334,0.04933333333333334,0.04866666666666667,0.04800000000000001,0.04866666666666667,0.04800000000000001,0.04800000000000001,0.04900000000000001,0.04966666666666667,0.051,0.051,0.05333333333333334,0.052,0.051,0.050666666666666665,0.04966666666666667,0.05066666666666667,0.05033333333333334,0.05033333333333334,0.050666666666666665,0.051,0.052333333333333336,0.052333333333333336,0.04966666666666667,0.051666666666666666,0.051333333333333335,0.051333333333333335,0.051333333333333335,0.05033333333333334,0.04833333333333334,0.04900000000000001,0.04966666666666667,0.05066666666666667,0.050333333333333334,0.050333333333333334,0.04966666666666667,0.04866666666666667,0.04933333333333334,0.04966666666666667,0.04933333333333334,0.05033333333333334,0.04966666666666667],\"yaxis\":\"y\"}],                        {\"font\":{\"family\":\"Calibri\",\"size\":14},\"legend\":{\"tracegroupgap\":0},\"template\":{\"data\":{\"bar\":[{\"error_x\":{\"color\":\"#2a3f5f\"},\"error_y\":{\"color\":\"#2a3f5f\"},\"marker\":{\"line\":{\"color\":\"#E5ECF6\",\"width\":0.5},\"pattern\":{\"fillmode\":\"overlay\",\"size\":10,\"solidity\":0.2}},\"type\":\"bar\"}],\"barpolar\":[{\"marker\":{\"line\":{\"color\":\"#E5ECF6\",\"width\":0.5},\"pattern\":{\"fillmode\":\"overlay\",\"size\":10,\"solidity\":0.2}},\"type\":\"barpolar\"}],\"carpet\":[{\"aaxis\":{\"endlinecolor\":\"#2a3f5f\",\"gridcolor\":\"white\",\"linecolor\":\"white\",\"minorgridcolor\":\"white\",\"startlinecolor\":\"#2a3f5f\"},\"baxis\":{\"endlinecolor\":\"#2a3f5f\",\"gridcolor\":\"white\",\"linecolor\":\"white\",\"minorgridcolor\":\"white\",\"startlinecolor\":\"#2a3f5f\"},\"type\":\"carpet\"}],\"choropleth\":[{\"colorbar\":{\"outlinewidth\":0,\"ticks\":\"\"},\"type\":\"choropleth\"}],\"contour\":[{\"colorbar\":{\"outlinewidth\":0,\"ticks\":\"\"},\"colorscale\":[[0.0,\"#0d0887\"],[0.1111111111111111,\"#46039f\"],[0.2222222222222222,\"#7201a8\"],[0.3333333333333333,\"#9c179e\"],[0.4444444444444444,\"#bd3786\"],[0.5555555555555556,\"#d8576b\"],[0.6666666666666666,\"#ed7953\"],[0.7777777777777778,\"#fb9f3a\"],[0.8888888888888888,\"#fdca26\"],[1.0,\"#f0f921\"]],\"type\":\"contour\"}],\"contourcarpet\":[{\"colorbar\":{\"outlinewidth\":0,\"ticks\":\"\"},\"type\":\"contourcarpet\"}],\"heatmap\":[{\"colorbar\":{\"outlinewidth\":0,\"ticks\":\"\"},\"colorscale\":[[0.0,\"#0d0887\"],[0.1111111111111111,\"#46039f\"],[0.2222222222222222,\"#7201a8\"],[0.3333333333333333,\"#9c179e\"],[0.4444444444444444,\"#bd3786\"],[0.5555555555555556,\"#d8576b\"],[0.6666666666666666,\"#ed7953\"],[0.7777777777777778,\"#fb9f3a\"],[0.8888888888888888,\"#fdca26\"],[1.0,\"#f0f921\"]],\"type\":\"heatmap\"}],\"heatmapgl\":[{\"colorbar\":{\"outlinewidth\":0,\"ticks\":\"\"},\"colorscale\":[[0.0,\"#0d0887\"],[0.1111111111111111,\"#46039f\"],[0.2222222222222222,\"#7201a8\"],[0.3333333333333333,\"#9c179e\"],[0.4444444444444444,\"#bd3786\"],[0.5555555555555556,\"#d8576b\"],[0.6666666666666666,\"#ed7953\"],[0.7777777777777778,\"#fb9f3a\"],[0.8888888888888888,\"#fdca26\"],[1.0,\"#f0f921\"]],\"type\":\"heatmapgl\"}],\"histogram\":[{\"marker\":{\"pattern\":{\"fillmode\":\"overlay\",\"size\":10,\"solidity\":0.2}},\"type\":\"histogram\"}],\"histogram2d\":[{\"colorbar\":{\"outlinewidth\":0,\"ticks\":\"\"},\"colorscale\":[[0.0,\"#0d0887\"],[0.1111111111111111,\"#46039f\"],[0.2222222222222222,\"#7201a8\"],[0.3333333333333333,\"#9c179e\"],[0.4444444444444444,\"#bd3786\"],[0.5555555555555556,\"#d8576b\"],[0.6666666666666666,\"#ed7953\"],[0.7777777777777778,\"#fb9f3a\"],[0.8888888888888888,\"#fdca26\"],[1.0,\"#f0f921\"]],\"type\":\"histogram2d\"}],\"histogram2dcontour\":[{\"colorbar\":{\"outlinewidth\":0,\"ticks\":\"\"},\"colorscale\":[[0.0,\"#0d0887\"],[0.1111111111111111,\"#46039f\"],[0.2222222222222222,\"#7201a8\"],[0.3333333333333333,\"#9c179e\"],[0.4444444444444444,\"#bd3786\"],[0.5555555555555556,\"#d8576b\"],[0.6666666666666666,\"#ed7953\"],[0.7777777777777778,\"#fb9f3a\"],[0.8888888888888888,\"#fdca26\"],[1.0,\"#f0f921\"]],\"type\":\"histogram2dcontour\"}],\"mesh3d\":[{\"colorbar\":{\"outlinewidth\":0,\"ticks\":\"\"},\"type\":\"mesh3d\"}],\"parcoords\":[{\"line\":{\"colorbar\":{\"outlinewidth\":0,\"ticks\":\"\"}},\"type\":\"parcoords\"}],\"pie\":[{\"automargin\":true,\"type\":\"pie\"}],\"scatter\":[{\"marker\":{\"colorbar\":{\"outlinewidth\":0,\"ticks\":\"\"}},\"type\":\"scatter\"}],\"scatter3d\":[{\"line\":{\"colorbar\":{\"outlinewidth\":0,\"ticks\":\"\"}},\"marker\":{\"colorbar\":{\"outlinewidth\":0,\"ticks\":\"\"}},\"type\":\"scatter3d\"}],\"scattercarpet\":[{\"marker\":{\"colorbar\":{\"outlinewidth\":0,\"ticks\":\"\"}},\"type\":\"scattercarpet\"}],\"scattergeo\":[{\"marker\":{\"colorbar\":{\"outlinewidth\":0,\"ticks\":\"\"}},\"type\":\"scattergeo\"}],\"scattergl\":[{\"marker\":{\"colorbar\":{\"outlinewidth\":0,\"ticks\":\"\"}},\"type\":\"scattergl\"}],\"scattermapbox\":[{\"marker\":{\"colorbar\":{\"outlinewidth\":0,\"ticks\":\"\"}},\"type\":\"scattermapbox\"}],\"scatterpolar\":[{\"marker\":{\"colorbar\":{\"outlinewidth\":0,\"ticks\":\"\"}},\"type\":\"scatterpolar\"}],\"scatterpolargl\":[{\"marker\":{\"colorbar\":{\"outlinewidth\":0,\"ticks\":\"\"}},\"type\":\"scatterpolargl\"}],\"scatterternary\":[{\"marker\":{\"colorbar\":{\"outlinewidth\":0,\"ticks\":\"\"}},\"type\":\"scatterternary\"}],\"surface\":[{\"colorbar\":{\"outlinewidth\":0,\"ticks\":\"\"},\"colorscale\":[[0.0,\"#0d0887\"],[0.1111111111111111,\"#46039f\"],[0.2222222222222222,\"#7201a8\"],[0.3333333333333333,\"#9c179e\"],[0.4444444444444444,\"#bd3786\"],[0.5555555555555556,\"#d8576b\"],[0.6666666666666666,\"#ed7953\"],[0.7777777777777778,\"#fb9f3a\"],[0.8888888888888888,\"#fdca26\"],[1.0,\"#f0f921\"]],\"type\":\"surface\"}],\"table\":[{\"cells\":{\"fill\":{\"color\":\"#EBF0F8\"},\"line\":{\"color\":\"white\"}},\"header\":{\"fill\":{\"color\":\"#C8D4E3\"},\"line\":{\"color\":\"white\"}},\"type\":\"table\"}]},\"layout\":{\"annotationdefaults\":{\"arrowcolor\":\"#2a3f5f\",\"arrowhead\":0,\"arrowwidth\":1},\"autotypenumbers\":\"strict\",\"coloraxis\":{\"colorbar\":{\"outlinewidth\":0,\"ticks\":\"\"}},\"colorscale\":{\"diverging\":[[0,\"#8e0152\"],[0.1,\"#c51b7d\"],[0.2,\"#de77ae\"],[0.3,\"#f1b6da\"],[0.4,\"#fde0ef\"],[0.5,\"#f7f7f7\"],[0.6,\"#e6f5d0\"],[0.7,\"#b8e186\"],[0.8,\"#7fbc41\"],[0.9,\"#4d9221\"],[1,\"#276419\"]],\"sequential\":[[0.0,\"#0d0887\"],[0.1111111111111111,\"#46039f\"],[0.2222222222222222,\"#7201a8\"],[0.3333333333333333,\"#9c179e\"],[0.4444444444444444,\"#bd3786\"],[0.5555555555555556,\"#d8576b\"],[0.6666666666666666,\"#ed7953\"],[0.7777777777777778,\"#fb9f3a\"],[0.8888888888888888,\"#fdca26\"],[1.0,\"#f0f921\"]],\"sequentialminus\":[[0.0,\"#0d0887\"],[0.1111111111111111,\"#46039f\"],[0.2222222222222222,\"#7201a8\"],[0.3333333333333333,\"#9c179e\"],[0.4444444444444444,\"#bd3786\"],[0.5555555555555556,\"#d8576b\"],[0.6666666666666666,\"#ed7953\"],[0.7777777777777778,\"#fb9f3a\"],[0.8888888888888888,\"#fdca26\"],[1.0,\"#f0f921\"]]},\"colorway\":[\"#636efa\",\"#EF553B\",\"#00cc96\",\"#ab63fa\",\"#FFA15A\",\"#19d3f3\",\"#FF6692\",\"#B6E880\",\"#FF97FF\",\"#FECB52\"],\"font\":{\"color\":\"#2a3f5f\"},\"geo\":{\"bgcolor\":\"white\",\"lakecolor\":\"white\",\"landcolor\":\"#E5ECF6\",\"showlakes\":true,\"showland\":true,\"subunitcolor\":\"white\"},\"hoverlabel\":{\"align\":\"left\"},\"hovermode\":\"closest\",\"mapbox\":{\"style\":\"light\"},\"paper_bgcolor\":\"white\",\"plot_bgcolor\":\"#E5ECF6\",\"polar\":{\"angularaxis\":{\"gridcolor\":\"white\",\"linecolor\":\"white\",\"ticks\":\"\"},\"bgcolor\":\"#E5ECF6\",\"radialaxis\":{\"gridcolor\":\"white\",\"linecolor\":\"white\",\"ticks\":\"\"}},\"scene\":{\"xaxis\":{\"backgroundcolor\":\"#E5ECF6\",\"gridcolor\":\"white\",\"gridwidth\":2,\"linecolor\":\"white\",\"showbackground\":true,\"ticks\":\"\",\"zerolinecolor\":\"white\"},\"yaxis\":{\"backgroundcolor\":\"#E5ECF6\",\"gridcolor\":\"white\",\"gridwidth\":2,\"linecolor\":\"white\",\"showbackground\":true,\"ticks\":\"\",\"zerolinecolor\":\"white\"},\"zaxis\":{\"backgroundcolor\":\"#E5ECF6\",\"gridcolor\":\"white\",\"gridwidth\":2,\"linecolor\":\"white\",\"showbackground\":true,\"ticks\":\"\",\"zerolinecolor\":\"white\"}},\"shapedefaults\":{\"line\":{\"color\":\"#2a3f5f\"}},\"ternary\":{\"aaxis\":{\"gridcolor\":\"white\",\"linecolor\":\"white\",\"ticks\":\"\"},\"baxis\":{\"gridcolor\":\"white\",\"linecolor\":\"white\",\"ticks\":\"\"},\"bgcolor\":\"#E5ECF6\",\"caxis\":{\"gridcolor\":\"white\",\"linecolor\":\"white\",\"ticks\":\"\"}},\"title\":{\"x\":0.05},\"xaxis\":{\"automargin\":true,\"gridcolor\":\"white\",\"linecolor\":\"white\",\"ticks\":\"\",\"title\":{\"standoff\":15},\"zerolinecolor\":\"white\",\"zerolinewidth\":2},\"yaxis\":{\"automargin\":true,\"gridcolor\":\"white\",\"linecolor\":\"white\",\"ticks\":\"\",\"title\":{\"standoff\":15},\"zerolinecolor\":\"white\",\"zerolinewidth\":2}}},\"title\":{\"text\":\"How Absorbance Varies with Wavelength for Sample S1: 1.563 mg/L\"},\"xaxis\":{\"anchor\":\"y\",\"domain\":[0.0,1.0],\"title\":{\"text\":\"Wavelength / nm\"}},\"yaxis\":{\"anchor\":\"x\",\"domain\":[0.0,1.0],\"range\":[0,6],\"title\":{\"text\":\"Absorbance\"}}},                        {\"responsive\": true}                    ).then(function(){\n",
       "                            \n",
       "var gd = document.getElementById('bcac5c49-1a33-44d5-8e89-dc8bc2177b37');\n",
       "var x = new MutationObserver(function (mutations, observer) {{\n",
       "        var display = window.getComputedStyle(gd).display;\n",
       "        if (!display || display === 'none') {{\n",
       "            console.log([gd, 'removed!']);\n",
       "            Plotly.purge(gd);\n",
       "            observer.disconnect();\n",
       "        }}\n",
       "}});\n",
       "\n",
       "// Listen for the removal of the full notebook cells\n",
       "var notebookContainer = gd.closest('#notebook-container');\n",
       "if (notebookContainer) {{\n",
       "    x.observe(notebookContainer, {childList: true});\n",
       "}}\n",
       "\n",
       "// Listen for the clearing of the current output cell\n",
       "var outputEl = gd.closest('.output');\n",
       "if (outputEl) {{\n",
       "    x.observe(outputEl, {childList: true});\n",
       "}}\n",
       "\n",
       "                        })                };                });            </script>        </div>"
      ]
     },
     "metadata": {},
     "output_type": "display_data"
    },
    {
     "data": {
      "application/vnd.plotly.v1+json": {
       "config": {
        "plotlyServerURL": "https://plot.ly"
       },
       "data": [
        {
         "error_y": {
          "array": [
           0.1753365018725104,
           0.08302208541506687,
           0.22017619207252098,
           0.1265499462223865,
           0.25772379702999004,
           0.051344154703551345,
           0.1041835986238826,
           0.0527973063285956,
           0.01862495339293235,
           0.09027488884266525,
           0,
           0.12643136038534453,
           0,
           0,
           0,
           0.06343675765849163,
           0.03771236166328257,
           0.07496814138167117,
           0.043366653856006236,
           0.07116334886879781,
           0.07259629620181883,
           0.022627416997969545,
           0.09446457301843664,
           0.1052837436011213,
           0.11154769781976184,
           0.05807083796728099,
           0.13529309746702606,
           0.03432200460346122,
           0.024073960113690344,
           0.026144895401503453,
           0.04767249381631576,
           0.04047221268969621,
           0.035197853469904755,
           0.030070288030250407,
           0.024993332444207397,
           0.021275964529643945,
           0.01964688270438852,
           0.0159652400197707,
           0.012710450643291715,
           0.01104536101718727,
           0.008993825042154702,
           0.0073484692283495405,
           0.006944222218666559,
           0.006128258770283417,
           0.005715476066494065,
           0.00489897948556636,
           0.004496912521077351,
           0.004496912521077351,
           0.004082482904638634,
           0.004082482904638634,
           0.003299831645537225,
           0.00244948974278318,
           0.0029439202887759515,
           0.003091206165165229,
           0.002624669291337273,
           0.0020548046676563273,
           0.002054804667656315,
           0.0014142135623730963,
           0.0016996731711975965,
           0.0020548046676563273,
           0.0012472191289246482,
           0.0012472191289246482,
           0.0012472191289246482,
           0.0014142135623730965,
           0.0014142135623730965,
           0.0008164965809277268,
           0.0014142135623730965,
           0.0014142135623730965,
           0.0012472191289246482,
           0.0009428090415820576,
           0.0009428090415820641,
           0.0014142135623730965,
           0.0012472191289246482,
           0.0009428090415820641,
           0.0009428090415820641,
           0.0009428090415820641,
           0.0012472191289246482,
           0.0009428090415820641,
           0.0009428090415820576,
           0.0009428090415820641,
           0.0008164965809277268,
           0.0009428090415820641,
           0.00047140452079103207,
           0.00047140452079103207,
           0.0009428090415820576,
           0.00047140452079103207,
           0.0009428090415820641,
           0.00047140452079103207,
           0.00047140452079103207,
           0.00047140452079103207,
           0.00047140452079103207,
           0.00047140452079103207,
           0.00047140452079103207,
           0.0012472191289246482,
           0.0012472191289246482,
           0.0009428090415820641,
           0.0008164965809277268,
           0.0008164965809277268,
           0.0008164965809277268,
           0.0008164965809277239,
           0.0008164965809277239,
           0.0004714045207910288,
           0.0004714045207910288,
           0.0004714045207910288,
           0.0009428090415820609,
           0.0008164965809277239,
           0.00047140452079103207,
           0.0009428090415820641,
           0.00047140452079103207,
           0,
           0.0009428090415820641,
           0.0009428090415820641,
           0.00047140452079103207,
           0.00047140452079103207,
           0.00047140452079103207,
           0.00047140452079103207,
           0.0008164965809277268,
           0.00047140452079103207,
           0.00047140452079103207,
           0.00047140452079103207,
           0.0008164965809277268,
           0.00047140452079103207,
           0.0009428090415820641,
           0.0008164965809277268,
           0.0008164965809277268,
           0.0008164965809277268,
           0.0008164965809277268,
           0.00047140452079103207,
           0.0008164965809277268,
           0.00047140452079103207,
           0.0008164965809277268,
           0.00047140452079103207,
           0,
           0.0004714045207910288,
           0.00047140452079103207,
           0.00047140452079103207,
           0.00047140452079103207,
           0.00047140452079103207,
           0.0008164965809277268,
           0.0008164965809277268,
           0.00047140452079103207,
           0.0008164965809277268,
           0.00047140452079103207,
           0.0008164965809277268,
           0.00047140452079103207,
           0.00047140452079103207,
           0.00047140452079103207,
           0.00047140452079103207,
           0.0008164965809277268,
           0.0008164965809277268,
           0.00047140452079103207,
           0.0009428090415820576,
           0.0008164965809277268,
           0.0012472191289246482,
           0.0012472191289246482,
           0.0008164965809277268,
           0.0012472191289246482,
           0.0012472191289246482,
           0.0012472191289246482,
           0.0012472191289246482,
           0.0012472191289246482,
           0.0012472191289246482,
           0.0008164965809277211,
           0.00047140452079103207,
           0.00047140452079103207,
           0.00047140452079103207,
           0.00047140452079103207,
           0.00047140452079103207,
           0,
           0,
           0.0008164965809277268,
           0.00047140452079103207,
           0.00047140452079103207,
           0,
           0.00047140452079103207,
           0.00047140452079103207,
           0.00047140452079103207,
           0.00047140452079103207,
           0,
           0.00047140452079103207,
           0,
           0.00047140452079103207,
           0,
           0,
           0.00047140452079103207,
           0.00047140452079103207,
           0.00047140452079103207,
           0.00047140452079103207,
           0.00047140452079103207,
           0,
           0,
           0.00047140452079103207,
           0.00047140452079103207,
           0,
           0,
           0.00047140452079103207,
           0,
           0,
           0.00047140452079103207,
           0.00047140452079103207,
           0,
           0.00047140452079103207,
           0,
           0.00047140452079103207,
           0,
           0,
           0.00047140452079103207,
           0,
           0.00047140452079103207,
           0.00047140452079103207,
           0,
           0.0008164965809277239,
           0.00047140452079103207,
           0,
           0.0004714045207910288,
           0.00047140452079103207,
           0.00047140452079103207,
           0.00047140452079103207,
           0,
           0.0004714045207910288,
           6.938893903907228e-18,
           0.0004714045207910288,
           0.00047140452079103207,
           0.00047140452079103207,
           0,
           0.0004714045207910288,
           6.938893903907228e-18,
           0,
           0.0004714045207910288,
           6.938893903907228e-18,
           0.00047140452079103207,
           0.00047140452079103207,
           6.938893903907228e-18,
           0.0004714045207910288,
           0.00047140452079103207,
           0.00047140452079103207,
           6.938893903907228e-18,
           6.938893903907228e-18,
           0.00047140452079103207,
           0.00047140452079103207,
           0.00047140452079103207,
           6.938893903907228e-18,
           0.0004714045207910288,
           0.00047140452079103207,
           0.00047140452079103207,
           6.938893903907228e-18,
           0.00047140452079103207,
           0.0004714045207910288,
           6.938893903907228e-18,
           0.0004714045207910288,
           0.00047140452079103207,
           0.0009428090415820609,
           6.938893903907228e-18,
           0.00047140452079103207,
           0.00047140452079103207,
           6.938893903907228e-18,
           0.0004714045207910288,
           0.00047140452079103207,
           0.0009428090415820609,
           0.00047140452079103207,
           0.00047140452079103207,
           0.0008164965809277268,
           0.00047140452079103207,
           0.00047140452079103207,
           0,
           0,
           0.00047140452079103207,
           0.00047140452079103207,
           0,
           0.00047140452079103207,
           0.0009428090415820641,
           0.00047140452079103207,
           0,
           0.00047140452079103207,
           0.0008164965809277268,
           0.00047140452079103207,
           0.0008164965809277268,
           0,
           0.0004714045207910288,
           0.0004714045207910288,
           0.00047140452079103207,
           0.0009428090415820641,
           0.00047140452079103207,
           0.0009428090415820641,
           0.0004714045207910288,
           0.0004714045207910288,
           0,
           0.00047140452079103207,
           0.00047140452079103207,
           0,
           0.0004714045207910288
          ]
         },
         "hovertemplate": "Wavelength / nm=%{x}<br>Absorbance=%{y}<extra></extra>",
         "legendgroup": "",
         "marker": {
          "color": "#636efa",
          "line": {
           "color": "DarkSlateGrey",
           "width": 2
          },
          "size": 8,
          "symbol": "circle"
         },
         "mode": "markers",
         "name": "",
         "orientation": "v",
         "showlegend": false,
         "type": "scatter",
         "x": [
          "220",
          "222",
          "224",
          "226",
          "228",
          "230",
          "232",
          "234",
          "236",
          "238",
          "240",
          "242",
          "244",
          "246",
          "248",
          "250",
          "252",
          "254",
          "256",
          "258",
          "260",
          "262",
          "264",
          "266",
          "268",
          "270",
          "272",
          "274",
          "276",
          "278",
          "280",
          "282",
          "284",
          "286",
          "288",
          "290",
          "292",
          "294",
          "296",
          "298",
          "300",
          "302",
          "304",
          "306",
          "308",
          "310",
          "312",
          "314",
          "316",
          "318",
          "320",
          "322",
          "324",
          "326",
          "328",
          "330",
          "332",
          "334",
          "336",
          "338",
          "340",
          "342",
          "344",
          "346",
          "348",
          "350",
          "352",
          "354",
          "356",
          "358",
          "360",
          "362",
          "364",
          "366",
          "368",
          "370",
          "372",
          "374",
          "376",
          "378",
          "380",
          "382",
          "384",
          "386",
          "388",
          "390",
          "392",
          "394",
          "396",
          "398",
          "400",
          "402",
          "404",
          "406",
          "408",
          "410",
          "412",
          "414",
          "416",
          "418",
          "420",
          "422",
          "424",
          "426",
          "428",
          "430",
          "432",
          "434",
          "436",
          "438",
          "440",
          "442",
          "444",
          "446",
          "448",
          "450",
          "452",
          "454",
          "456",
          "458",
          "460",
          "462",
          "464",
          "466",
          "468",
          "470",
          "472",
          "474",
          "476",
          "478",
          "480",
          "482",
          "484",
          "486",
          "488",
          "490",
          "492",
          "494",
          "496",
          "498",
          "500",
          "502",
          "504",
          "506",
          "508",
          "510",
          "512",
          "514",
          "516",
          "518",
          "520",
          "522",
          "524",
          "526",
          "528",
          "530",
          "532",
          "534",
          "536",
          "538",
          "540",
          "542",
          "544",
          "546",
          "548",
          "550",
          "552",
          "554",
          "556",
          "558",
          "560",
          "562",
          "564",
          "566",
          "568",
          "570",
          "572",
          "574",
          "576",
          "578",
          "580",
          "582",
          "584",
          "586",
          "588",
          "590",
          "592",
          "594",
          "596",
          "598",
          "600",
          "602",
          "604",
          "606",
          "608",
          "610",
          "612",
          "614",
          "616",
          "618",
          "620",
          "622",
          "624",
          "626",
          "628",
          "630",
          "632",
          "634",
          "636",
          "638",
          "640",
          "642",
          "644",
          "646",
          "648",
          "650",
          "652",
          "654",
          "656",
          "658",
          "660",
          "662",
          "664",
          "666",
          "668",
          "670",
          "672",
          "674",
          "676",
          "678",
          "680",
          "682",
          "684",
          "686",
          "688",
          "690",
          "692",
          "694",
          "696",
          "698",
          "700",
          "702",
          "704",
          "706",
          "708",
          "710",
          "712",
          "714",
          "716",
          "718",
          "720",
          "722",
          "724",
          "726",
          "728",
          "730",
          "732",
          "734",
          "736",
          "738",
          "740",
          "742",
          "744",
          "746",
          "748",
          "750",
          "752",
          "754",
          "756",
          "758",
          "760",
          "762",
          "764",
          "766",
          "768",
          "770",
          "772",
          "774",
          "776",
          "778",
          "780",
          "782",
          "784",
          "786",
          "788",
          "790",
          "792",
          "794",
          "796",
          "798",
          "800"
         ],
         "xaxis": "x",
         "y": [
          3.3053333333333335,
          3.379,
          3.781333333333334,
          3.8906666666666667,
          4.530666666666667,
          4.794333333333333,
          4.960333333333334,
          5.249666666666666,
          4.802666666666667,
          5.192666666666667,
          5.287,
          5.120666666666666,
          5.287,
          5.287,
          5.287,
          5.226666666666667,
          5.260333333333333,
          5.064666666666667,
          5.141,
          5.006333333333333,
          5.235666666666667,
          5.271,
          5.188333333333333,
          5.1930000000000005,
          5.1386666666666665,
          5.135333333333333,
          5.191333333333333,
          5.034,
          4.683666666666666,
          4.621333333333333,
          3.882,
          3.109,
          2.5286666666666666,
          2.0683333333333334,
          1.6760000000000002,
          1.452,
          1.344,
          1.0843333333333334,
          0.8023333333333333,
          0.6270000000000001,
          0.5223333333333334,
          0.457,
          0.41766666666666663,
          0.37966666666666665,
          0.35000000000000003,
          0.329,
          0.31266666666666665,
          0.2996666666666667,
          0.288,
          0.276,
          0.26433333333333336,
          0.254,
          0.24,
          0.23233333333333336,
          0.22566666666666668,
          0.21666666666666667,
          0.20566666666666666,
          0.19499999999999998,
          0.18533333333333335,
          0.17633333333333331,
          0.16966666666666666,
          0.16166666666666665,
          0.15466666666666665,
          0.149,
          0.144,
          0.139,
          0.134,
          0.128,
          0.12266666666666666,
          0.11833333333333333,
          0.11333333333333334,
          0.111,
          0.10766666666666667,
          0.10333333333333333,
          0.10033333333333334,
          0.09733333333333334,
          0.09366666666666668,
          0.09033333333333333,
          0.08633333333333333,
          0.08333333333333333,
          0.08,
          0.07666666666666666,
          0.07433333333333332,
          0.07166666666666666,
          0.07133333333333335,
          0.06966666666666667,
          0.06833333333333334,
          0.06766666666666667,
          0.06666666666666667,
          0.06566666666666666,
          0.06466666666666666,
          0.06433333333333334,
          0.06366666666666666,
          0.06333333333333334,
          0.06266666666666666,
          0.06133333333333333,
          0.062,
          0.061,
          0.06,
          0.059,
          0.059,
          0.058666666666666666,
          0.058666666666666666,
          0.058666666666666666,
          0.05833333333333333,
          0.057999999999999996,
          0.05766666666666667,
          0.05733333333333334,
          0.05766666666666667,
          0.057,
          0.05733333333333334,
          0.05733333333333334,
          0.05666666666666667,
          0.05666666666666667,
          0.05666666666666667,
          0.05666666666666667,
          0.056,
          0.05566666666666667,
          0.05566666666666667,
          0.05533333333333334,
          0.056,
          0.05633333333333334,
          0.05666666666666667,
          0.057,
          0.057,
          0.057,
          0.057,
          0.05733333333333334,
          0.057,
          0.05733333333333334,
          0.057,
          0.05633333333333334,
          0.058,
          0.05833333333333333,
          0.05933333333333333,
          0.059666666666666666,
          0.06066666666666667,
          0.06166666666666667,
          0.062,
          0.063,
          0.06333333333333334,
          0.064,
          0.06433333333333334,
          0.064,
          0.06466666666666666,
          0.06533333333333334,
          0.06566666666666666,
          0.06633333333333334,
          0.067,
          0.068,
          0.06933333333333334,
          0.07066666666666667,
          0.072,
          0.07333333333333332,
          0.07433333333333332,
          0.077,
          0.07733333333333332,
          0.07833333333333332,
          0.07733333333333332,
          0.07633333333333332,
          0.07433333333333332,
          0.07333333333333332,
          0.07100000000000001,
          0.06966666666666667,
          0.06766666666666667,
          0.06533333333333334,
          0.06233333333333333,
          0.06133333333333333,
          0.059,
          0.058,
          0.057,
          0.05633333333333334,
          0.05466666666666667,
          0.054,
          0.05366666666666667,
          0.05366666666666667,
          0.05333333333333334,
          0.05266666666666667,
          0.053,
          0.05333333333333334,
          0.053,
          0.05266666666666667,
          0.052,
          0.052,
          0.052333333333333336,
          0.052333333333333336,
          0.05266666666666667,
          0.052333333333333336,
          0.051333333333333335,
          0.052,
          0.052,
          0.051333333333333335,
          0.051666666666666666,
          0.052,
          0.052,
          0.051666666666666666,
          0.052,
          0.052,
          0.05266666666666667,
          0.05266666666666667,
          0.051,
          0.051666666666666666,
          0.051,
          0.051333333333333335,
          0.051,
          0.051,
          0.051666666666666666,
          0.052,
          0.051666666666666666,
          0.051333333333333335,
          0.051,
          0.051,
          0.052333333333333336,
          0.051,
          0.050666666666666665,
          0.051333333333333335,
          0.051666666666666666,
          0.051333333333333335,
          0.051,
          0.050666666666666665,
          0.05000000000000001,
          0.050666666666666665,
          0.051333333333333335,
          0.051333333333333335,
          0.051,
          0.050666666666666665,
          0.05000000000000001,
          0.051,
          0.05033333333333334,
          0.05000000000000001,
          0.04966666666666667,
          0.04966666666666667,
          0.05000000000000001,
          0.050333333333333334,
          0.04966666666666667,
          0.04966666666666667,
          0.05000000000000001,
          0.05000000000000001,
          0.04933333333333334,
          0.04933333333333334,
          0.04966666666666667,
          0.05000000000000001,
          0.05033333333333334,
          0.04966666666666667,
          0.04966666666666667,
          0.05000000000000001,
          0.04933333333333334,
          0.05033333333333334,
          0.05000000000000001,
          0.050666666666666665,
          0.04966666666666667,
          0.04966666666666667,
          0.05000000000000001,
          0.04933333333333334,
          0.04933333333333334,
          0.04900000000000001,
          0.050666666666666665,
          0.051666666666666666,
          0.051333333333333335,
          0.05266666666666667,
          0.05366666666666667,
          0.053,
          0.05266666666666667,
          0.052333333333333336,
          0.051,
          0.052,
          0.051333333333333335,
          0.051666666666666666,
          0.051,
          0.051666666666666666,
          0.052333333333333336,
          0.051666666666666666,
          0.051,
          0.05266666666666667,
          0.052,
          0.051333333333333335,
          0.052,
          0.052,
          0.05033333333333334,
          0.050666666666666665,
          0.051333333333333335,
          0.052333333333333336,
          0.052333333333333336,
          0.052333333333333336,
          0.050666666666666665,
          0.05033333333333334,
          0.051,
          0.051666666666666666,
          0.051333333333333335,
          0.051,
          0.050333333333333334
         ],
         "yaxis": "y"
        }
       ],
       "layout": {
        "font": {
         "family": "Calibri",
         "size": 14
        },
        "legend": {
         "tracegroupgap": 0
        },
        "template": {
         "data": {
          "bar": [
           {
            "error_x": {
             "color": "#2a3f5f"
            },
            "error_y": {
             "color": "#2a3f5f"
            },
            "marker": {
             "line": {
              "color": "#E5ECF6",
              "width": 0.5
             },
             "pattern": {
              "fillmode": "overlay",
              "size": 10,
              "solidity": 0.2
             }
            },
            "type": "bar"
           }
          ],
          "barpolar": [
           {
            "marker": {
             "line": {
              "color": "#E5ECF6",
              "width": 0.5
             },
             "pattern": {
              "fillmode": "overlay",
              "size": 10,
              "solidity": 0.2
             }
            },
            "type": "barpolar"
           }
          ],
          "carpet": [
           {
            "aaxis": {
             "endlinecolor": "#2a3f5f",
             "gridcolor": "white",
             "linecolor": "white",
             "minorgridcolor": "white",
             "startlinecolor": "#2a3f5f"
            },
            "baxis": {
             "endlinecolor": "#2a3f5f",
             "gridcolor": "white",
             "linecolor": "white",
             "minorgridcolor": "white",
             "startlinecolor": "#2a3f5f"
            },
            "type": "carpet"
           }
          ],
          "choropleth": [
           {
            "colorbar": {
             "outlinewidth": 0,
             "ticks": ""
            },
            "type": "choropleth"
           }
          ],
          "contour": [
           {
            "colorbar": {
             "outlinewidth": 0,
             "ticks": ""
            },
            "colorscale": [
             [
              0,
              "#0d0887"
             ],
             [
              0.1111111111111111,
              "#46039f"
             ],
             [
              0.2222222222222222,
              "#7201a8"
             ],
             [
              0.3333333333333333,
              "#9c179e"
             ],
             [
              0.4444444444444444,
              "#bd3786"
             ],
             [
              0.5555555555555556,
              "#d8576b"
             ],
             [
              0.6666666666666666,
              "#ed7953"
             ],
             [
              0.7777777777777778,
              "#fb9f3a"
             ],
             [
              0.8888888888888888,
              "#fdca26"
             ],
             [
              1,
              "#f0f921"
             ]
            ],
            "type": "contour"
           }
          ],
          "contourcarpet": [
           {
            "colorbar": {
             "outlinewidth": 0,
             "ticks": ""
            },
            "type": "contourcarpet"
           }
          ],
          "heatmap": [
           {
            "colorbar": {
             "outlinewidth": 0,
             "ticks": ""
            },
            "colorscale": [
             [
              0,
              "#0d0887"
             ],
             [
              0.1111111111111111,
              "#46039f"
             ],
             [
              0.2222222222222222,
              "#7201a8"
             ],
             [
              0.3333333333333333,
              "#9c179e"
             ],
             [
              0.4444444444444444,
              "#bd3786"
             ],
             [
              0.5555555555555556,
              "#d8576b"
             ],
             [
              0.6666666666666666,
              "#ed7953"
             ],
             [
              0.7777777777777778,
              "#fb9f3a"
             ],
             [
              0.8888888888888888,
              "#fdca26"
             ],
             [
              1,
              "#f0f921"
             ]
            ],
            "type": "heatmap"
           }
          ],
          "heatmapgl": [
           {
            "colorbar": {
             "outlinewidth": 0,
             "ticks": ""
            },
            "colorscale": [
             [
              0,
              "#0d0887"
             ],
             [
              0.1111111111111111,
              "#46039f"
             ],
             [
              0.2222222222222222,
              "#7201a8"
             ],
             [
              0.3333333333333333,
              "#9c179e"
             ],
             [
              0.4444444444444444,
              "#bd3786"
             ],
             [
              0.5555555555555556,
              "#d8576b"
             ],
             [
              0.6666666666666666,
              "#ed7953"
             ],
             [
              0.7777777777777778,
              "#fb9f3a"
             ],
             [
              0.8888888888888888,
              "#fdca26"
             ],
             [
              1,
              "#f0f921"
             ]
            ],
            "type": "heatmapgl"
           }
          ],
          "histogram": [
           {
            "marker": {
             "pattern": {
              "fillmode": "overlay",
              "size": 10,
              "solidity": 0.2
             }
            },
            "type": "histogram"
           }
          ],
          "histogram2d": [
           {
            "colorbar": {
             "outlinewidth": 0,
             "ticks": ""
            },
            "colorscale": [
             [
              0,
              "#0d0887"
             ],
             [
              0.1111111111111111,
              "#46039f"
             ],
             [
              0.2222222222222222,
              "#7201a8"
             ],
             [
              0.3333333333333333,
              "#9c179e"
             ],
             [
              0.4444444444444444,
              "#bd3786"
             ],
             [
              0.5555555555555556,
              "#d8576b"
             ],
             [
              0.6666666666666666,
              "#ed7953"
             ],
             [
              0.7777777777777778,
              "#fb9f3a"
             ],
             [
              0.8888888888888888,
              "#fdca26"
             ],
             [
              1,
              "#f0f921"
             ]
            ],
            "type": "histogram2d"
           }
          ],
          "histogram2dcontour": [
           {
            "colorbar": {
             "outlinewidth": 0,
             "ticks": ""
            },
            "colorscale": [
             [
              0,
              "#0d0887"
             ],
             [
              0.1111111111111111,
              "#46039f"
             ],
             [
              0.2222222222222222,
              "#7201a8"
             ],
             [
              0.3333333333333333,
              "#9c179e"
             ],
             [
              0.4444444444444444,
              "#bd3786"
             ],
             [
              0.5555555555555556,
              "#d8576b"
             ],
             [
              0.6666666666666666,
              "#ed7953"
             ],
             [
              0.7777777777777778,
              "#fb9f3a"
             ],
             [
              0.8888888888888888,
              "#fdca26"
             ],
             [
              1,
              "#f0f921"
             ]
            ],
            "type": "histogram2dcontour"
           }
          ],
          "mesh3d": [
           {
            "colorbar": {
             "outlinewidth": 0,
             "ticks": ""
            },
            "type": "mesh3d"
           }
          ],
          "parcoords": [
           {
            "line": {
             "colorbar": {
              "outlinewidth": 0,
              "ticks": ""
             }
            },
            "type": "parcoords"
           }
          ],
          "pie": [
           {
            "automargin": true,
            "type": "pie"
           }
          ],
          "scatter": [
           {
            "marker": {
             "colorbar": {
              "outlinewidth": 0,
              "ticks": ""
             }
            },
            "type": "scatter"
           }
          ],
          "scatter3d": [
           {
            "line": {
             "colorbar": {
              "outlinewidth": 0,
              "ticks": ""
             }
            },
            "marker": {
             "colorbar": {
              "outlinewidth": 0,
              "ticks": ""
             }
            },
            "type": "scatter3d"
           }
          ],
          "scattercarpet": [
           {
            "marker": {
             "colorbar": {
              "outlinewidth": 0,
              "ticks": ""
             }
            },
            "type": "scattercarpet"
           }
          ],
          "scattergeo": [
           {
            "marker": {
             "colorbar": {
              "outlinewidth": 0,
              "ticks": ""
             }
            },
            "type": "scattergeo"
           }
          ],
          "scattergl": [
           {
            "marker": {
             "colorbar": {
              "outlinewidth": 0,
              "ticks": ""
             }
            },
            "type": "scattergl"
           }
          ],
          "scattermapbox": [
           {
            "marker": {
             "colorbar": {
              "outlinewidth": 0,
              "ticks": ""
             }
            },
            "type": "scattermapbox"
           }
          ],
          "scatterpolar": [
           {
            "marker": {
             "colorbar": {
              "outlinewidth": 0,
              "ticks": ""
             }
            },
            "type": "scatterpolar"
           }
          ],
          "scatterpolargl": [
           {
            "marker": {
             "colorbar": {
              "outlinewidth": 0,
              "ticks": ""
             }
            },
            "type": "scatterpolargl"
           }
          ],
          "scatterternary": [
           {
            "marker": {
             "colorbar": {
              "outlinewidth": 0,
              "ticks": ""
             }
            },
            "type": "scatterternary"
           }
          ],
          "surface": [
           {
            "colorbar": {
             "outlinewidth": 0,
             "ticks": ""
            },
            "colorscale": [
             [
              0,
              "#0d0887"
             ],
             [
              0.1111111111111111,
              "#46039f"
             ],
             [
              0.2222222222222222,
              "#7201a8"
             ],
             [
              0.3333333333333333,
              "#9c179e"
             ],
             [
              0.4444444444444444,
              "#bd3786"
             ],
             [
              0.5555555555555556,
              "#d8576b"
             ],
             [
              0.6666666666666666,
              "#ed7953"
             ],
             [
              0.7777777777777778,
              "#fb9f3a"
             ],
             [
              0.8888888888888888,
              "#fdca26"
             ],
             [
              1,
              "#f0f921"
             ]
            ],
            "type": "surface"
           }
          ],
          "table": [
           {
            "cells": {
             "fill": {
              "color": "#EBF0F8"
             },
             "line": {
              "color": "white"
             }
            },
            "header": {
             "fill": {
              "color": "#C8D4E3"
             },
             "line": {
              "color": "white"
             }
            },
            "type": "table"
           }
          ]
         },
         "layout": {
          "annotationdefaults": {
           "arrowcolor": "#2a3f5f",
           "arrowhead": 0,
           "arrowwidth": 1
          },
          "autotypenumbers": "strict",
          "coloraxis": {
           "colorbar": {
            "outlinewidth": 0,
            "ticks": ""
           }
          },
          "colorscale": {
           "diverging": [
            [
             0,
             "#8e0152"
            ],
            [
             0.1,
             "#c51b7d"
            ],
            [
             0.2,
             "#de77ae"
            ],
            [
             0.3,
             "#f1b6da"
            ],
            [
             0.4,
             "#fde0ef"
            ],
            [
             0.5,
             "#f7f7f7"
            ],
            [
             0.6,
             "#e6f5d0"
            ],
            [
             0.7,
             "#b8e186"
            ],
            [
             0.8,
             "#7fbc41"
            ],
            [
             0.9,
             "#4d9221"
            ],
            [
             1,
             "#276419"
            ]
           ],
           "sequential": [
            [
             0,
             "#0d0887"
            ],
            [
             0.1111111111111111,
             "#46039f"
            ],
            [
             0.2222222222222222,
             "#7201a8"
            ],
            [
             0.3333333333333333,
             "#9c179e"
            ],
            [
             0.4444444444444444,
             "#bd3786"
            ],
            [
             0.5555555555555556,
             "#d8576b"
            ],
            [
             0.6666666666666666,
             "#ed7953"
            ],
            [
             0.7777777777777778,
             "#fb9f3a"
            ],
            [
             0.8888888888888888,
             "#fdca26"
            ],
            [
             1,
             "#f0f921"
            ]
           ],
           "sequentialminus": [
            [
             0,
             "#0d0887"
            ],
            [
             0.1111111111111111,
             "#46039f"
            ],
            [
             0.2222222222222222,
             "#7201a8"
            ],
            [
             0.3333333333333333,
             "#9c179e"
            ],
            [
             0.4444444444444444,
             "#bd3786"
            ],
            [
             0.5555555555555556,
             "#d8576b"
            ],
            [
             0.6666666666666666,
             "#ed7953"
            ],
            [
             0.7777777777777778,
             "#fb9f3a"
            ],
            [
             0.8888888888888888,
             "#fdca26"
            ],
            [
             1,
             "#f0f921"
            ]
           ]
          },
          "colorway": [
           "#636efa",
           "#EF553B",
           "#00cc96",
           "#ab63fa",
           "#FFA15A",
           "#19d3f3",
           "#FF6692",
           "#B6E880",
           "#FF97FF",
           "#FECB52"
          ],
          "font": {
           "color": "#2a3f5f"
          },
          "geo": {
           "bgcolor": "white",
           "lakecolor": "white",
           "landcolor": "#E5ECF6",
           "showlakes": true,
           "showland": true,
           "subunitcolor": "white"
          },
          "hoverlabel": {
           "align": "left"
          },
          "hovermode": "closest",
          "mapbox": {
           "style": "light"
          },
          "paper_bgcolor": "white",
          "plot_bgcolor": "#E5ECF6",
          "polar": {
           "angularaxis": {
            "gridcolor": "white",
            "linecolor": "white",
            "ticks": ""
           },
           "bgcolor": "#E5ECF6",
           "radialaxis": {
            "gridcolor": "white",
            "linecolor": "white",
            "ticks": ""
           }
          },
          "scene": {
           "xaxis": {
            "backgroundcolor": "#E5ECF6",
            "gridcolor": "white",
            "gridwidth": 2,
            "linecolor": "white",
            "showbackground": true,
            "ticks": "",
            "zerolinecolor": "white"
           },
           "yaxis": {
            "backgroundcolor": "#E5ECF6",
            "gridcolor": "white",
            "gridwidth": 2,
            "linecolor": "white",
            "showbackground": true,
            "ticks": "",
            "zerolinecolor": "white"
           },
           "zaxis": {
            "backgroundcolor": "#E5ECF6",
            "gridcolor": "white",
            "gridwidth": 2,
            "linecolor": "white",
            "showbackground": true,
            "ticks": "",
            "zerolinecolor": "white"
           }
          },
          "shapedefaults": {
           "line": {
            "color": "#2a3f5f"
           }
          },
          "ternary": {
           "aaxis": {
            "gridcolor": "white",
            "linecolor": "white",
            "ticks": ""
           },
           "baxis": {
            "gridcolor": "white",
            "linecolor": "white",
            "ticks": ""
           },
           "bgcolor": "#E5ECF6",
           "caxis": {
            "gridcolor": "white",
            "linecolor": "white",
            "ticks": ""
           }
          },
          "title": {
           "x": 0.05
          },
          "xaxis": {
           "automargin": true,
           "gridcolor": "white",
           "linecolor": "white",
           "ticks": "",
           "title": {
            "standoff": 15
           },
           "zerolinecolor": "white",
           "zerolinewidth": 2
          },
          "yaxis": {
           "automargin": true,
           "gridcolor": "white",
           "linecolor": "white",
           "ticks": "",
           "title": {
            "standoff": 15
           },
           "zerolinecolor": "white",
           "zerolinewidth": 2
          }
         }
        },
        "title": {
         "text": "How Absorbance Varies with Wavelength for Sample S1: 0.781 mg/L"
        },
        "xaxis": {
         "anchor": "y",
         "domain": [
          0,
          1
         ],
         "title": {
          "text": "Wavelength / nm"
         }
        },
        "yaxis": {
         "anchor": "x",
         "domain": [
          0,
          1
         ],
         "range": [
          0,
          6
         ],
         "title": {
          "text": "Absorbance"
         }
        }
       }
      },
      "text/html": [
       "<div>                            <div id=\"a30e57b0-1c0b-4182-9e74-259c2c280b61\" class=\"plotly-graph-div\" style=\"height:525px; width:100%;\"></div>            <script type=\"text/javascript\">                require([\"plotly\"], function(Plotly) {                    window.PLOTLYENV=window.PLOTLYENV || {};                                    if (document.getElementById(\"a30e57b0-1c0b-4182-9e74-259c2c280b61\")) {                    Plotly.newPlot(                        \"a30e57b0-1c0b-4182-9e74-259c2c280b61\",                        [{\"error_y\":{\"array\":[0.1753365018725104,0.08302208541506687,0.22017619207252098,0.1265499462223865,0.25772379702999004,0.051344154703551345,0.1041835986238826,0.0527973063285956,0.01862495339293235,0.09027488884266525,0.0,0.12643136038534453,0.0,0.0,0.0,0.06343675765849163,0.03771236166328257,0.07496814138167117,0.043366653856006236,0.07116334886879781,0.07259629620181883,0.022627416997969545,0.09446457301843664,0.1052837436011213,0.11154769781976184,0.05807083796728099,0.13529309746702606,0.03432200460346122,0.024073960113690344,0.026144895401503453,0.04767249381631576,0.04047221268969621,0.035197853469904755,0.030070288030250407,0.024993332444207397,0.021275964529643945,0.01964688270438852,0.0159652400197707,0.012710450643291715,0.01104536101718727,0.008993825042154702,0.0073484692283495405,0.006944222218666559,0.006128258770283417,0.005715476066494065,0.00489897948556636,0.004496912521077351,0.004496912521077351,0.004082482904638634,0.004082482904638634,0.003299831645537225,0.00244948974278318,0.0029439202887759515,0.003091206165165229,0.002624669291337273,0.0020548046676563273,0.002054804667656315,0.0014142135623730963,0.0016996731711975965,0.0020548046676563273,0.0012472191289246482,0.0012472191289246482,0.0012472191289246482,0.0014142135623730965,0.0014142135623730965,0.0008164965809277268,0.0014142135623730965,0.0014142135623730965,0.0012472191289246482,0.0009428090415820576,0.0009428090415820641,0.0014142135623730965,0.0012472191289246482,0.0009428090415820641,0.0009428090415820641,0.0009428090415820641,0.0012472191289246482,0.0009428090415820641,0.0009428090415820576,0.0009428090415820641,0.0008164965809277268,0.0009428090415820641,0.00047140452079103207,0.00047140452079103207,0.0009428090415820576,0.00047140452079103207,0.0009428090415820641,0.00047140452079103207,0.00047140452079103207,0.00047140452079103207,0.00047140452079103207,0.00047140452079103207,0.00047140452079103207,0.0012472191289246482,0.0012472191289246482,0.0009428090415820641,0.0008164965809277268,0.0008164965809277268,0.0008164965809277268,0.0008164965809277239,0.0008164965809277239,0.0004714045207910288,0.0004714045207910288,0.0004714045207910288,0.0009428090415820609,0.0008164965809277239,0.00047140452079103207,0.0009428090415820641,0.00047140452079103207,0.0,0.0009428090415820641,0.0009428090415820641,0.00047140452079103207,0.00047140452079103207,0.00047140452079103207,0.00047140452079103207,0.0008164965809277268,0.00047140452079103207,0.00047140452079103207,0.00047140452079103207,0.0008164965809277268,0.00047140452079103207,0.0009428090415820641,0.0008164965809277268,0.0008164965809277268,0.0008164965809277268,0.0008164965809277268,0.00047140452079103207,0.0008164965809277268,0.00047140452079103207,0.0008164965809277268,0.00047140452079103207,0.0,0.0004714045207910288,0.00047140452079103207,0.00047140452079103207,0.00047140452079103207,0.00047140452079103207,0.0008164965809277268,0.0008164965809277268,0.00047140452079103207,0.0008164965809277268,0.00047140452079103207,0.0008164965809277268,0.00047140452079103207,0.00047140452079103207,0.00047140452079103207,0.00047140452079103207,0.0008164965809277268,0.0008164965809277268,0.00047140452079103207,0.0009428090415820576,0.0008164965809277268,0.0012472191289246482,0.0012472191289246482,0.0008164965809277268,0.0012472191289246482,0.0012472191289246482,0.0012472191289246482,0.0012472191289246482,0.0012472191289246482,0.0012472191289246482,0.0008164965809277211,0.00047140452079103207,0.00047140452079103207,0.00047140452079103207,0.00047140452079103207,0.00047140452079103207,0.0,0.0,0.0008164965809277268,0.00047140452079103207,0.00047140452079103207,0.0,0.00047140452079103207,0.00047140452079103207,0.00047140452079103207,0.00047140452079103207,0.0,0.00047140452079103207,0.0,0.00047140452079103207,0.0,0.0,0.00047140452079103207,0.00047140452079103207,0.00047140452079103207,0.00047140452079103207,0.00047140452079103207,0.0,0.0,0.00047140452079103207,0.00047140452079103207,0.0,0.0,0.00047140452079103207,0.0,0.0,0.00047140452079103207,0.00047140452079103207,0.0,0.00047140452079103207,0.0,0.00047140452079103207,0.0,0.0,0.00047140452079103207,0.0,0.00047140452079103207,0.00047140452079103207,0.0,0.0008164965809277239,0.00047140452079103207,0.0,0.0004714045207910288,0.00047140452079103207,0.00047140452079103207,0.00047140452079103207,0.0,0.0004714045207910288,6.938893903907228e-18,0.0004714045207910288,0.00047140452079103207,0.00047140452079103207,0.0,0.0004714045207910288,6.938893903907228e-18,0.0,0.0004714045207910288,6.938893903907228e-18,0.00047140452079103207,0.00047140452079103207,6.938893903907228e-18,0.0004714045207910288,0.00047140452079103207,0.00047140452079103207,6.938893903907228e-18,6.938893903907228e-18,0.00047140452079103207,0.00047140452079103207,0.00047140452079103207,6.938893903907228e-18,0.0004714045207910288,0.00047140452079103207,0.00047140452079103207,6.938893903907228e-18,0.00047140452079103207,0.0004714045207910288,6.938893903907228e-18,0.0004714045207910288,0.00047140452079103207,0.0009428090415820609,6.938893903907228e-18,0.00047140452079103207,0.00047140452079103207,6.938893903907228e-18,0.0004714045207910288,0.00047140452079103207,0.0009428090415820609,0.00047140452079103207,0.00047140452079103207,0.0008164965809277268,0.00047140452079103207,0.00047140452079103207,0.0,0.0,0.00047140452079103207,0.00047140452079103207,0.0,0.00047140452079103207,0.0009428090415820641,0.00047140452079103207,0.0,0.00047140452079103207,0.0008164965809277268,0.00047140452079103207,0.0008164965809277268,0.0,0.0004714045207910288,0.0004714045207910288,0.00047140452079103207,0.0009428090415820641,0.00047140452079103207,0.0009428090415820641,0.0004714045207910288,0.0004714045207910288,0.0,0.00047140452079103207,0.00047140452079103207,0.0,0.0004714045207910288]},\"hovertemplate\":\"Wavelength / nm=%{x}<br>Absorbance=%{y}<extra></extra>\",\"legendgroup\":\"\",\"marker\":{\"color\":\"#636efa\",\"line\":{\"color\":\"DarkSlateGrey\",\"width\":2},\"size\":8,\"symbol\":\"circle\"},\"mode\":\"markers\",\"name\":\"\",\"orientation\":\"v\",\"showlegend\":false,\"type\":\"scatter\",\"x\":[\"220\",\"222\",\"224\",\"226\",\"228\",\"230\",\"232\",\"234\",\"236\",\"238\",\"240\",\"242\",\"244\",\"246\",\"248\",\"250\",\"252\",\"254\",\"256\",\"258\",\"260\",\"262\",\"264\",\"266\",\"268\",\"270\",\"272\",\"274\",\"276\",\"278\",\"280\",\"282\",\"284\",\"286\",\"288\",\"290\",\"292\",\"294\",\"296\",\"298\",\"300\",\"302\",\"304\",\"306\",\"308\",\"310\",\"312\",\"314\",\"316\",\"318\",\"320\",\"322\",\"324\",\"326\",\"328\",\"330\",\"332\",\"334\",\"336\",\"338\",\"340\",\"342\",\"344\",\"346\",\"348\",\"350\",\"352\",\"354\",\"356\",\"358\",\"360\",\"362\",\"364\",\"366\",\"368\",\"370\",\"372\",\"374\",\"376\",\"378\",\"380\",\"382\",\"384\",\"386\",\"388\",\"390\",\"392\",\"394\",\"396\",\"398\",\"400\",\"402\",\"404\",\"406\",\"408\",\"410\",\"412\",\"414\",\"416\",\"418\",\"420\",\"422\",\"424\",\"426\",\"428\",\"430\",\"432\",\"434\",\"436\",\"438\",\"440\",\"442\",\"444\",\"446\",\"448\",\"450\",\"452\",\"454\",\"456\",\"458\",\"460\",\"462\",\"464\",\"466\",\"468\",\"470\",\"472\",\"474\",\"476\",\"478\",\"480\",\"482\",\"484\",\"486\",\"488\",\"490\",\"492\",\"494\",\"496\",\"498\",\"500\",\"502\",\"504\",\"506\",\"508\",\"510\",\"512\",\"514\",\"516\",\"518\",\"520\",\"522\",\"524\",\"526\",\"528\",\"530\",\"532\",\"534\",\"536\",\"538\",\"540\",\"542\",\"544\",\"546\",\"548\",\"550\",\"552\",\"554\",\"556\",\"558\",\"560\",\"562\",\"564\",\"566\",\"568\",\"570\",\"572\",\"574\",\"576\",\"578\",\"580\",\"582\",\"584\",\"586\",\"588\",\"590\",\"592\",\"594\",\"596\",\"598\",\"600\",\"602\",\"604\",\"606\",\"608\",\"610\",\"612\",\"614\",\"616\",\"618\",\"620\",\"622\",\"624\",\"626\",\"628\",\"630\",\"632\",\"634\",\"636\",\"638\",\"640\",\"642\",\"644\",\"646\",\"648\",\"650\",\"652\",\"654\",\"656\",\"658\",\"660\",\"662\",\"664\",\"666\",\"668\",\"670\",\"672\",\"674\",\"676\",\"678\",\"680\",\"682\",\"684\",\"686\",\"688\",\"690\",\"692\",\"694\",\"696\",\"698\",\"700\",\"702\",\"704\",\"706\",\"708\",\"710\",\"712\",\"714\",\"716\",\"718\",\"720\",\"722\",\"724\",\"726\",\"728\",\"730\",\"732\",\"734\",\"736\",\"738\",\"740\",\"742\",\"744\",\"746\",\"748\",\"750\",\"752\",\"754\",\"756\",\"758\",\"760\",\"762\",\"764\",\"766\",\"768\",\"770\",\"772\",\"774\",\"776\",\"778\",\"780\",\"782\",\"784\",\"786\",\"788\",\"790\",\"792\",\"794\",\"796\",\"798\",\"800\"],\"xaxis\":\"x\",\"y\":[3.3053333333333335,3.379,3.781333333333334,3.8906666666666667,4.530666666666667,4.794333333333333,4.960333333333334,5.249666666666666,4.802666666666667,5.192666666666667,5.287,5.120666666666666,5.287,5.287,5.287,5.226666666666667,5.260333333333333,5.064666666666667,5.141,5.006333333333333,5.235666666666667,5.271,5.188333333333333,5.1930000000000005,5.1386666666666665,5.135333333333333,5.191333333333333,5.034,4.683666666666666,4.621333333333333,3.882,3.109,2.5286666666666666,2.0683333333333334,1.6760000000000002,1.452,1.344,1.0843333333333334,0.8023333333333333,0.6270000000000001,0.5223333333333334,0.457,0.41766666666666663,0.37966666666666665,0.35000000000000003,0.329,0.31266666666666665,0.2996666666666667,0.288,0.276,0.26433333333333336,0.254,0.24,0.23233333333333336,0.22566666666666668,0.21666666666666667,0.20566666666666666,0.19499999999999998,0.18533333333333335,0.17633333333333331,0.16966666666666666,0.16166666666666665,0.15466666666666665,0.149,0.144,0.139,0.134,0.128,0.12266666666666666,0.11833333333333333,0.11333333333333334,0.111,0.10766666666666667,0.10333333333333333,0.10033333333333334,0.09733333333333334,0.09366666666666668,0.09033333333333333,0.08633333333333333,0.08333333333333333,0.08,0.07666666666666666,0.07433333333333332,0.07166666666666666,0.07133333333333335,0.06966666666666667,0.06833333333333334,0.06766666666666667,0.06666666666666667,0.06566666666666666,0.06466666666666666,0.06433333333333334,0.06366666666666666,0.06333333333333334,0.06266666666666666,0.06133333333333333,0.062,0.061,0.06,0.059,0.059,0.058666666666666666,0.058666666666666666,0.058666666666666666,0.05833333333333333,0.057999999999999996,0.05766666666666667,0.05733333333333334,0.05766666666666667,0.057,0.05733333333333334,0.05733333333333334,0.05666666666666667,0.05666666666666667,0.05666666666666667,0.05666666666666667,0.056,0.05566666666666667,0.05566666666666667,0.05533333333333334,0.056,0.05633333333333334,0.05666666666666667,0.057,0.057,0.057,0.057,0.05733333333333334,0.057,0.05733333333333334,0.057,0.05633333333333334,0.058,0.05833333333333333,0.05933333333333333,0.059666666666666666,0.06066666666666667,0.06166666666666667,0.062,0.063,0.06333333333333334,0.064,0.06433333333333334,0.064,0.06466666666666666,0.06533333333333334,0.06566666666666666,0.06633333333333334,0.067,0.068,0.06933333333333334,0.07066666666666667,0.072,0.07333333333333332,0.07433333333333332,0.077,0.07733333333333332,0.07833333333333332,0.07733333333333332,0.07633333333333332,0.07433333333333332,0.07333333333333332,0.07100000000000001,0.06966666666666667,0.06766666666666667,0.06533333333333334,0.06233333333333333,0.06133333333333333,0.059,0.058,0.057,0.05633333333333334,0.05466666666666667,0.054,0.05366666666666667,0.05366666666666667,0.05333333333333334,0.05266666666666667,0.053,0.05333333333333334,0.053,0.05266666666666667,0.052,0.052,0.052333333333333336,0.052333333333333336,0.05266666666666667,0.052333333333333336,0.051333333333333335,0.052,0.052,0.051333333333333335,0.051666666666666666,0.052,0.052,0.051666666666666666,0.052,0.052,0.05266666666666667,0.05266666666666667,0.051,0.051666666666666666,0.051,0.051333333333333335,0.051,0.051,0.051666666666666666,0.052,0.051666666666666666,0.051333333333333335,0.051,0.051,0.052333333333333336,0.051,0.050666666666666665,0.051333333333333335,0.051666666666666666,0.051333333333333335,0.051,0.050666666666666665,0.05000000000000001,0.050666666666666665,0.051333333333333335,0.051333333333333335,0.051,0.050666666666666665,0.05000000000000001,0.051,0.05033333333333334,0.05000000000000001,0.04966666666666667,0.04966666666666667,0.05000000000000001,0.050333333333333334,0.04966666666666667,0.04966666666666667,0.05000000000000001,0.05000000000000001,0.04933333333333334,0.04933333333333334,0.04966666666666667,0.05000000000000001,0.05033333333333334,0.04966666666666667,0.04966666666666667,0.05000000000000001,0.04933333333333334,0.05033333333333334,0.05000000000000001,0.050666666666666665,0.04966666666666667,0.04966666666666667,0.05000000000000001,0.04933333333333334,0.04933333333333334,0.04900000000000001,0.050666666666666665,0.051666666666666666,0.051333333333333335,0.05266666666666667,0.05366666666666667,0.053,0.05266666666666667,0.052333333333333336,0.051,0.052,0.051333333333333335,0.051666666666666666,0.051,0.051666666666666666,0.052333333333333336,0.051666666666666666,0.051,0.05266666666666667,0.052,0.051333333333333335,0.052,0.052,0.05033333333333334,0.050666666666666665,0.051333333333333335,0.052333333333333336,0.052333333333333336,0.052333333333333336,0.050666666666666665,0.05033333333333334,0.051,0.051666666666666666,0.051333333333333335,0.051,0.050333333333333334],\"yaxis\":\"y\"}],                        {\"font\":{\"family\":\"Calibri\",\"size\":14},\"legend\":{\"tracegroupgap\":0},\"template\":{\"data\":{\"bar\":[{\"error_x\":{\"color\":\"#2a3f5f\"},\"error_y\":{\"color\":\"#2a3f5f\"},\"marker\":{\"line\":{\"color\":\"#E5ECF6\",\"width\":0.5},\"pattern\":{\"fillmode\":\"overlay\",\"size\":10,\"solidity\":0.2}},\"type\":\"bar\"}],\"barpolar\":[{\"marker\":{\"line\":{\"color\":\"#E5ECF6\",\"width\":0.5},\"pattern\":{\"fillmode\":\"overlay\",\"size\":10,\"solidity\":0.2}},\"type\":\"barpolar\"}],\"carpet\":[{\"aaxis\":{\"endlinecolor\":\"#2a3f5f\",\"gridcolor\":\"white\",\"linecolor\":\"white\",\"minorgridcolor\":\"white\",\"startlinecolor\":\"#2a3f5f\"},\"baxis\":{\"endlinecolor\":\"#2a3f5f\",\"gridcolor\":\"white\",\"linecolor\":\"white\",\"minorgridcolor\":\"white\",\"startlinecolor\":\"#2a3f5f\"},\"type\":\"carpet\"}],\"choropleth\":[{\"colorbar\":{\"outlinewidth\":0,\"ticks\":\"\"},\"type\":\"choropleth\"}],\"contour\":[{\"colorbar\":{\"outlinewidth\":0,\"ticks\":\"\"},\"colorscale\":[[0.0,\"#0d0887\"],[0.1111111111111111,\"#46039f\"],[0.2222222222222222,\"#7201a8\"],[0.3333333333333333,\"#9c179e\"],[0.4444444444444444,\"#bd3786\"],[0.5555555555555556,\"#d8576b\"],[0.6666666666666666,\"#ed7953\"],[0.7777777777777778,\"#fb9f3a\"],[0.8888888888888888,\"#fdca26\"],[1.0,\"#f0f921\"]],\"type\":\"contour\"}],\"contourcarpet\":[{\"colorbar\":{\"outlinewidth\":0,\"ticks\":\"\"},\"type\":\"contourcarpet\"}],\"heatmap\":[{\"colorbar\":{\"outlinewidth\":0,\"ticks\":\"\"},\"colorscale\":[[0.0,\"#0d0887\"],[0.1111111111111111,\"#46039f\"],[0.2222222222222222,\"#7201a8\"],[0.3333333333333333,\"#9c179e\"],[0.4444444444444444,\"#bd3786\"],[0.5555555555555556,\"#d8576b\"],[0.6666666666666666,\"#ed7953\"],[0.7777777777777778,\"#fb9f3a\"],[0.8888888888888888,\"#fdca26\"],[1.0,\"#f0f921\"]],\"type\":\"heatmap\"}],\"heatmapgl\":[{\"colorbar\":{\"outlinewidth\":0,\"ticks\":\"\"},\"colorscale\":[[0.0,\"#0d0887\"],[0.1111111111111111,\"#46039f\"],[0.2222222222222222,\"#7201a8\"],[0.3333333333333333,\"#9c179e\"],[0.4444444444444444,\"#bd3786\"],[0.5555555555555556,\"#d8576b\"],[0.6666666666666666,\"#ed7953\"],[0.7777777777777778,\"#fb9f3a\"],[0.8888888888888888,\"#fdca26\"],[1.0,\"#f0f921\"]],\"type\":\"heatmapgl\"}],\"histogram\":[{\"marker\":{\"pattern\":{\"fillmode\":\"overlay\",\"size\":10,\"solidity\":0.2}},\"type\":\"histogram\"}],\"histogram2d\":[{\"colorbar\":{\"outlinewidth\":0,\"ticks\":\"\"},\"colorscale\":[[0.0,\"#0d0887\"],[0.1111111111111111,\"#46039f\"],[0.2222222222222222,\"#7201a8\"],[0.3333333333333333,\"#9c179e\"],[0.4444444444444444,\"#bd3786\"],[0.5555555555555556,\"#d8576b\"],[0.6666666666666666,\"#ed7953\"],[0.7777777777777778,\"#fb9f3a\"],[0.8888888888888888,\"#fdca26\"],[1.0,\"#f0f921\"]],\"type\":\"histogram2d\"}],\"histogram2dcontour\":[{\"colorbar\":{\"outlinewidth\":0,\"ticks\":\"\"},\"colorscale\":[[0.0,\"#0d0887\"],[0.1111111111111111,\"#46039f\"],[0.2222222222222222,\"#7201a8\"],[0.3333333333333333,\"#9c179e\"],[0.4444444444444444,\"#bd3786\"],[0.5555555555555556,\"#d8576b\"],[0.6666666666666666,\"#ed7953\"],[0.7777777777777778,\"#fb9f3a\"],[0.8888888888888888,\"#fdca26\"],[1.0,\"#f0f921\"]],\"type\":\"histogram2dcontour\"}],\"mesh3d\":[{\"colorbar\":{\"outlinewidth\":0,\"ticks\":\"\"},\"type\":\"mesh3d\"}],\"parcoords\":[{\"line\":{\"colorbar\":{\"outlinewidth\":0,\"ticks\":\"\"}},\"type\":\"parcoords\"}],\"pie\":[{\"automargin\":true,\"type\":\"pie\"}],\"scatter\":[{\"marker\":{\"colorbar\":{\"outlinewidth\":0,\"ticks\":\"\"}},\"type\":\"scatter\"}],\"scatter3d\":[{\"line\":{\"colorbar\":{\"outlinewidth\":0,\"ticks\":\"\"}},\"marker\":{\"colorbar\":{\"outlinewidth\":0,\"ticks\":\"\"}},\"type\":\"scatter3d\"}],\"scattercarpet\":[{\"marker\":{\"colorbar\":{\"outlinewidth\":0,\"ticks\":\"\"}},\"type\":\"scattercarpet\"}],\"scattergeo\":[{\"marker\":{\"colorbar\":{\"outlinewidth\":0,\"ticks\":\"\"}},\"type\":\"scattergeo\"}],\"scattergl\":[{\"marker\":{\"colorbar\":{\"outlinewidth\":0,\"ticks\":\"\"}},\"type\":\"scattergl\"}],\"scattermapbox\":[{\"marker\":{\"colorbar\":{\"outlinewidth\":0,\"ticks\":\"\"}},\"type\":\"scattermapbox\"}],\"scatterpolar\":[{\"marker\":{\"colorbar\":{\"outlinewidth\":0,\"ticks\":\"\"}},\"type\":\"scatterpolar\"}],\"scatterpolargl\":[{\"marker\":{\"colorbar\":{\"outlinewidth\":0,\"ticks\":\"\"}},\"type\":\"scatterpolargl\"}],\"scatterternary\":[{\"marker\":{\"colorbar\":{\"outlinewidth\":0,\"ticks\":\"\"}},\"type\":\"scatterternary\"}],\"surface\":[{\"colorbar\":{\"outlinewidth\":0,\"ticks\":\"\"},\"colorscale\":[[0.0,\"#0d0887\"],[0.1111111111111111,\"#46039f\"],[0.2222222222222222,\"#7201a8\"],[0.3333333333333333,\"#9c179e\"],[0.4444444444444444,\"#bd3786\"],[0.5555555555555556,\"#d8576b\"],[0.6666666666666666,\"#ed7953\"],[0.7777777777777778,\"#fb9f3a\"],[0.8888888888888888,\"#fdca26\"],[1.0,\"#f0f921\"]],\"type\":\"surface\"}],\"table\":[{\"cells\":{\"fill\":{\"color\":\"#EBF0F8\"},\"line\":{\"color\":\"white\"}},\"header\":{\"fill\":{\"color\":\"#C8D4E3\"},\"line\":{\"color\":\"white\"}},\"type\":\"table\"}]},\"layout\":{\"annotationdefaults\":{\"arrowcolor\":\"#2a3f5f\",\"arrowhead\":0,\"arrowwidth\":1},\"autotypenumbers\":\"strict\",\"coloraxis\":{\"colorbar\":{\"outlinewidth\":0,\"ticks\":\"\"}},\"colorscale\":{\"diverging\":[[0,\"#8e0152\"],[0.1,\"#c51b7d\"],[0.2,\"#de77ae\"],[0.3,\"#f1b6da\"],[0.4,\"#fde0ef\"],[0.5,\"#f7f7f7\"],[0.6,\"#e6f5d0\"],[0.7,\"#b8e186\"],[0.8,\"#7fbc41\"],[0.9,\"#4d9221\"],[1,\"#276419\"]],\"sequential\":[[0.0,\"#0d0887\"],[0.1111111111111111,\"#46039f\"],[0.2222222222222222,\"#7201a8\"],[0.3333333333333333,\"#9c179e\"],[0.4444444444444444,\"#bd3786\"],[0.5555555555555556,\"#d8576b\"],[0.6666666666666666,\"#ed7953\"],[0.7777777777777778,\"#fb9f3a\"],[0.8888888888888888,\"#fdca26\"],[1.0,\"#f0f921\"]],\"sequentialminus\":[[0.0,\"#0d0887\"],[0.1111111111111111,\"#46039f\"],[0.2222222222222222,\"#7201a8\"],[0.3333333333333333,\"#9c179e\"],[0.4444444444444444,\"#bd3786\"],[0.5555555555555556,\"#d8576b\"],[0.6666666666666666,\"#ed7953\"],[0.7777777777777778,\"#fb9f3a\"],[0.8888888888888888,\"#fdca26\"],[1.0,\"#f0f921\"]]},\"colorway\":[\"#636efa\",\"#EF553B\",\"#00cc96\",\"#ab63fa\",\"#FFA15A\",\"#19d3f3\",\"#FF6692\",\"#B6E880\",\"#FF97FF\",\"#FECB52\"],\"font\":{\"color\":\"#2a3f5f\"},\"geo\":{\"bgcolor\":\"white\",\"lakecolor\":\"white\",\"landcolor\":\"#E5ECF6\",\"showlakes\":true,\"showland\":true,\"subunitcolor\":\"white\"},\"hoverlabel\":{\"align\":\"left\"},\"hovermode\":\"closest\",\"mapbox\":{\"style\":\"light\"},\"paper_bgcolor\":\"white\",\"plot_bgcolor\":\"#E5ECF6\",\"polar\":{\"angularaxis\":{\"gridcolor\":\"white\",\"linecolor\":\"white\",\"ticks\":\"\"},\"bgcolor\":\"#E5ECF6\",\"radialaxis\":{\"gridcolor\":\"white\",\"linecolor\":\"white\",\"ticks\":\"\"}},\"scene\":{\"xaxis\":{\"backgroundcolor\":\"#E5ECF6\",\"gridcolor\":\"white\",\"gridwidth\":2,\"linecolor\":\"white\",\"showbackground\":true,\"ticks\":\"\",\"zerolinecolor\":\"white\"},\"yaxis\":{\"backgroundcolor\":\"#E5ECF6\",\"gridcolor\":\"white\",\"gridwidth\":2,\"linecolor\":\"white\",\"showbackground\":true,\"ticks\":\"\",\"zerolinecolor\":\"white\"},\"zaxis\":{\"backgroundcolor\":\"#E5ECF6\",\"gridcolor\":\"white\",\"gridwidth\":2,\"linecolor\":\"white\",\"showbackground\":true,\"ticks\":\"\",\"zerolinecolor\":\"white\"}},\"shapedefaults\":{\"line\":{\"color\":\"#2a3f5f\"}},\"ternary\":{\"aaxis\":{\"gridcolor\":\"white\",\"linecolor\":\"white\",\"ticks\":\"\"},\"baxis\":{\"gridcolor\":\"white\",\"linecolor\":\"white\",\"ticks\":\"\"},\"bgcolor\":\"#E5ECF6\",\"caxis\":{\"gridcolor\":\"white\",\"linecolor\":\"white\",\"ticks\":\"\"}},\"title\":{\"x\":0.05},\"xaxis\":{\"automargin\":true,\"gridcolor\":\"white\",\"linecolor\":\"white\",\"ticks\":\"\",\"title\":{\"standoff\":15},\"zerolinecolor\":\"white\",\"zerolinewidth\":2},\"yaxis\":{\"automargin\":true,\"gridcolor\":\"white\",\"linecolor\":\"white\",\"ticks\":\"\",\"title\":{\"standoff\":15},\"zerolinecolor\":\"white\",\"zerolinewidth\":2}}},\"title\":{\"text\":\"How Absorbance Varies with Wavelength for Sample S1: 0.781 mg/L\"},\"xaxis\":{\"anchor\":\"y\",\"domain\":[0.0,1.0],\"title\":{\"text\":\"Wavelength / nm\"}},\"yaxis\":{\"anchor\":\"x\",\"domain\":[0.0,1.0],\"range\":[0,6],\"title\":{\"text\":\"Absorbance\"}}},                        {\"responsive\": true}                    ).then(function(){\n",
       "                            \n",
       "var gd = document.getElementById('a30e57b0-1c0b-4182-9e74-259c2c280b61');\n",
       "var x = new MutationObserver(function (mutations, observer) {{\n",
       "        var display = window.getComputedStyle(gd).display;\n",
       "        if (!display || display === 'none') {{\n",
       "            console.log([gd, 'removed!']);\n",
       "            Plotly.purge(gd);\n",
       "            observer.disconnect();\n",
       "        }}\n",
       "}});\n",
       "\n",
       "// Listen for the removal of the full notebook cells\n",
       "var notebookContainer = gd.closest('#notebook-container');\n",
       "if (notebookContainer) {{\n",
       "    x.observe(notebookContainer, {childList: true});\n",
       "}}\n",
       "\n",
       "// Listen for the clearing of the current output cell\n",
       "var outputEl = gd.closest('.output');\n",
       "if (outputEl) {{\n",
       "    x.observe(outputEl, {childList: true});\n",
       "}}\n",
       "\n",
       "                        })                };                });            </script>        </div>"
      ]
     },
     "metadata": {},
     "output_type": "display_data"
    },
    {
     "data": {
      "application/vnd.plotly.v1+json": {
       "config": {
        "plotlyServerURL": "https://plot.ly"
       },
       "data": [
        {
         "error_y": {
          "array": [
           0.43029163237145196,
           0.15962525559015472,
           0.23333666664285754,
           0.46525285837082403,
           0.11876119830240105,
           0.06027345094557691,
           0.2063799085828527,
           0,
           0.24609483266957602,
           0.1499066376115479,
           0,
           0.06712674578735359,
           0,
           0,
           0,
           0,
           0,
           0.0527973063285956,
           0,
           0.1512995557017785,
           0,
           0,
           0.008485281374238473,
           0,
           0,
           0.0839100047008036,
           0.0235702260395515,
           0.09207605551933672,
           0.05180304581349953,
           0.11768602295939823,
           0.062023293115481215,
           0.05409456740026883,
           0.04393935214209092,
           0.03550586805961325,
           0.029169999809545516,
           0.025616834742454457,
           0.022395436042987736,
           0.01883849486792637,
           0.014704496666741864,
           0.01161416759345624,
           0.009899494936611674,
           0.008485281374238578,
           0.007318166133366696,
           0.006377042156569669,
           0.005715476066494062,
           0.004784233364802446,
           0.004642796092394711,
           0.0043204937989385775,
           0.0050990195135927644,
           0.004988876515698593,
           0.004546060565661956,
           0.0036817870057290905,
           0.0037416573867739326,
           0.0033993463423951926,
           0.00368178700572909,
           0.00368178700572909,
           0.002867441755680878,
           0.0032659863237109073,
           0.003299831645537225,
           0.0032998316455372123,
           0.0024944382578492965,
           0.002867441755680878,
           0.0029439202887759515,
           0.0021602468994692888,
           0.002054804667656315,
           0.002624669291337273,
           0.0020548046676563273,
           0.002624669291337273,
           0.0026246692913372664,
           0.0024944382578492917,
           0.0020548046676563273,
           0.0020548046676563273,
           0.0016996731711975965,
           0.001885618083164122,
           0.0018856180831641283,
           0.002624669291337273,
           0.0018856180831641283,
           0.0024944382578492965,
           0.0021602468994692823,
           0.0023570226039551605,
           0.0023570226039551605,
           0.002624669291337273,
           0.0018856180831641283,
           0.0016996731711975902,
           0.002357022603955154,
           0.0018856180831641283,
           0.0016996731711975965,
           0.0018856180831641283,
           0.0020548046676563273,
           0.0020548046676563273,
           0.0016329931618554536,
           0.0021602468994692888,
           0.002624669291337273,
           0.0020548046676563273,
           0.0021602468994692888,
           0.0020548046676563273,
           0.00244948974278318,
           0.0016329931618554536,
           0.0016329931618554508,
           0.0016329931618554508,
           0.0009428090415820609,
           0.0016329931618554508,
           0.0012472191289246456,
           0.001247219128924645,
           0.001247219128924645,
           0.0012472191289246452,
           0.0012472191289246456,
           0.0012472191289246456,
           0.0012472191289246456,
           0.0012472191289246482,
           0.0012472191289246482,
           0.0012472191289246482,
           0.0008164965809277268,
           0.0012472191289246482,
           0.0012472191289246482,
           0.0012472191289246482,
           0.0012472191289246482,
           0.0016996731711975965,
           0.0016996731711975965,
           0.0016996731711975965,
           0.0014142135623730965,
           0.0012472191289246482,
           0.0014142135623730965,
           0.0014142135623730965,
           0.0016996731711975965,
           0.0016329931618554536,
           0.0012472191289246482,
           0.0014142135623730965,
           0.0012472191289246482,
           0.0014142135623730965,
           0.0012472191289246482,
           0.0008164965809277268,
           0.0008164965809277268,
           0.0008164965809277268,
           0.00047140452079103207,
           0.0008164965809277268,
           0.0008164965809277268,
           0.0008164965809277239,
           0.0012472191289246456,
           0.0009428090415820609,
           0.001414213562373093,
           0.001247219128924645,
           0.001414213562373093,
           0.0016329931618554508,
           0.0012472191289246456,
           0.0009428090415820609,
           0.001247219128924645,
           0.001247219128924645,
           0.0009428090415820609,
           0.0008164965809277268,
           0.0008164965809277268,
           0.0012472191289246482,
           0.0008164965809277268,
           0.0009428090415820641,
           0.0009428090415820641,
           0.0008164965809277268,
           0.00047140452079103207,
           0.00047140452079103207,
           0.0008164965809277268,
           0.0008164965809277268,
           0.0008164965809277268,
           0.0008164965809277268,
           0.0008164965809277268,
           0.0009428090415820641,
           0.0009428090415820641,
           0.0008164965809277239,
           0.0012472191289246456,
           0.0008164965809277268,
           0.0009428090415820641,
           0.0012472191289246482,
           0.0008164965809277268,
           0.0012472191289246482,
           0.0012472191289246482,
           0.0012472191289246482,
           0.0008164965809277268,
           0.0012472191289246482,
           0.0008164965809277268,
           0.0009428090415820641,
           0.0008164965809277268,
           0.0008164965809277268,
           0.0008164965809277268,
           0.0012472191289246482,
           0.0012472191289246482,
           0.0012472191289246482,
           0.0012472191289246482,
           0.0012472191289246482,
           0.0008164965809277268,
           0.0008164965809277268,
           0.0008164965809277239,
           0.0008164965809277268,
           0.000942809041582061,
           0.0008164965809277239,
           0.0008164965809277239,
           0.0009428090415820641,
           0.0009428090415820641,
           0.0008164965809277239,
           0.0012472191289246456,
           0.0012472191289246456,
           0.0009428090415820641,
           0.0012472191289246482,
           0.0008164965809277239,
           0.0012472191289246456,
           0.0008164965809277239,
           0.0008164965809277239,
           0.0008164965809277239,
           0.0008164965809277239,
           0.00047140452079103207,
           0.0009428090415820641,
           0.0008164965809277239,
           0.00047140452079103207,
           0.00047140452079103207,
           0.0008164965809277239,
           0.0009428090415820641,
           0.0009428090415820641,
           0.000942809041582061,
           0.0008164965809277239,
           0.000942809041582061,
           0.0004714045207910288,
           0.000942809041582061,
           0.00047140452079103207,
           0.00047140452079103207,
           0.0008164965809277239,
           0.0004714045207910288,
           0.0004714045207910288,
           0.000942809041582061,
           0.0008164965809277239,
           0.00047140452079103207,
           0.0008164965809277239,
           0.0009428090415820641,
           0.0008164965809277268,
           0.0008164965809277268,
           0.0009428090415820641,
           0.0009428090415820641,
           0.0009428090415820641,
           0.0012472191289246456,
           0.00047140452079103207,
           0.0009428090415820641,
           0.001414213562373093,
           0.0009428090415820641,
           0.0009428090415820641,
           0.0009428090415820641,
           0.0009428090415820641,
           0.00047140452079103207,
           0.0008164965809277268,
           0.0008164965809277239,
           0.0008164965809277239,
           0.0008164965809277268,
           0.0008164965809277239,
           0.00047140452079103207,
           0.00047140452079103207,
           0.0009428090415820641,
           0.00047140452079103207,
           0.00047140452079103207,
           0.0008164965809277239,
           0.0008164965809277268,
           0.0014142135623730961,
           0.001414213562373093,
           0.0008164965809277239,
           0.00047140452079103207,
           0.0008164965809277268,
           0.0009428090415820641,
           0.0008164965809277268,
           0.0009428090415820641,
           0.00047140452079103207,
           0.00047140452079103207,
           0.00047140452079103207,
           0,
           0.00047140452079103207,
           0.0008164965809277239,
           0.00047140452079103207,
           0,
           0.00047140452079103207,
           0.000942809041582061,
           0.00047140452079103207,
           0.00047140452079103207,
           0.00047140452079103207,
           0.00047140452079103207,
           0,
           0.00047140452079103207,
           0.0004714045207910288,
           0.00047140452079103207,
           0.00047140452079103207,
           0.00047140452079103207,
           0.00047140452079103207,
           0.0004714045207910288,
           0.0008164965809277239,
           0.0004714045207910288,
           0.0008164965809277239,
           0.0004714045207910288,
           0.00047140452079103207,
           0.0008164965809277239
          ]
         },
         "hovertemplate": "Wavelength / nm=%{x}<br>Absorbance=%{y}<extra></extra>",
         "legendgroup": "",
         "marker": {
          "color": "#636efa",
          "line": {
           "color": "DarkSlateGrey",
           "width": 2
          },
          "size": 8,
          "symbol": "circle"
         },
         "mode": "markers",
         "name": "",
         "orientation": "v",
         "showlegend": false,
         "type": "scatter",
         "x": [
          "220",
          "222",
          "224",
          "226",
          "228",
          "230",
          "232",
          "234",
          "236",
          "238",
          "240",
          "242",
          "244",
          "246",
          "248",
          "250",
          "252",
          "254",
          "256",
          "258",
          "260",
          "262",
          "264",
          "266",
          "268",
          "270",
          "272",
          "274",
          "276",
          "278",
          "280",
          "282",
          "284",
          "286",
          "288",
          "290",
          "292",
          "294",
          "296",
          "298",
          "300",
          "302",
          "304",
          "306",
          "308",
          "310",
          "312",
          "314",
          "316",
          "318",
          "320",
          "322",
          "324",
          "326",
          "328",
          "330",
          "332",
          "334",
          "336",
          "338",
          "340",
          "342",
          "344",
          "346",
          "348",
          "350",
          "352",
          "354",
          "356",
          "358",
          "360",
          "362",
          "364",
          "366",
          "368",
          "370",
          "372",
          "374",
          "376",
          "378",
          "380",
          "382",
          "384",
          "386",
          "388",
          "390",
          "392",
          "394",
          "396",
          "398",
          "400",
          "402",
          "404",
          "406",
          "408",
          "410",
          "412",
          "414",
          "416",
          "418",
          "420",
          "422",
          "424",
          "426",
          "428",
          "430",
          "432",
          "434",
          "436",
          "438",
          "440",
          "442",
          "444",
          "446",
          "448",
          "450",
          "452",
          "454",
          "456",
          "458",
          "460",
          "462",
          "464",
          "466",
          "468",
          "470",
          "472",
          "474",
          "476",
          "478",
          "480",
          "482",
          "484",
          "486",
          "488",
          "490",
          "492",
          "494",
          "496",
          "498",
          "500",
          "502",
          "504",
          "506",
          "508",
          "510",
          "512",
          "514",
          "516",
          "518",
          "520",
          "522",
          "524",
          "526",
          "528",
          "530",
          "532",
          "534",
          "536",
          "538",
          "540",
          "542",
          "544",
          "546",
          "548",
          "550",
          "552",
          "554",
          "556",
          "558",
          "560",
          "562",
          "564",
          "566",
          "568",
          "570",
          "572",
          "574",
          "576",
          "578",
          "580",
          "582",
          "584",
          "586",
          "588",
          "590",
          "592",
          "594",
          "596",
          "598",
          "600",
          "602",
          "604",
          "606",
          "608",
          "610",
          "612",
          "614",
          "616",
          "618",
          "620",
          "622",
          "624",
          "626",
          "628",
          "630",
          "632",
          "634",
          "636",
          "638",
          "640",
          "642",
          "644",
          "646",
          "648",
          "650",
          "652",
          "654",
          "656",
          "658",
          "660",
          "662",
          "664",
          "666",
          "668",
          "670",
          "672",
          "674",
          "676",
          "678",
          "680",
          "682",
          "684",
          "686",
          "688",
          "690",
          "692",
          "694",
          "696",
          "698",
          "700",
          "702",
          "704",
          "706",
          "708",
          "710",
          "712",
          "714",
          "716",
          "718",
          "720",
          "722",
          "724",
          "726",
          "728",
          "730",
          "732",
          "734",
          "736",
          "738",
          "740",
          "742",
          "744",
          "746",
          "748",
          "750",
          "752",
          "754",
          "756",
          "758",
          "760",
          "762",
          "764",
          "766",
          "768",
          "770",
          "772",
          "774",
          "776",
          "778",
          "780",
          "782",
          "784",
          "786",
          "788",
          "790",
          "792",
          "794",
          "796",
          "798",
          "800"
         ],
         "xaxis": "x",
         "y": [
          3.859666666666666,
          4.211666666666667,
          4.321000000000001,
          4.615333333333333,
          5.127666666666666,
          5.129333333333333,
          5.101999999999999,
          5.287,
          5.108999999999999,
          5.181,
          5.287,
          5.125,
          5.287,
          5.287,
          5.287,
          5.287,
          5.287,
          5.249666666666666,
          5.287,
          5.152333333333334,
          5.287,
          5.287,
          5.281,
          5.287,
          5.287,
          5.227666666666667,
          5.270333333333333,
          5.170000000000001,
          4.851666666666667,
          4.687,
          3.8466666666666662,
          3.029666666666667,
          2.451,
          2,
          1.6176666666666666,
          1.3973333333333333,
          1.2896666666666665,
          1.0406666666666666,
          0.7713333333333333,
          0.6026666666666667,
          0.502,
          0.439,
          0.40166666666666667,
          0.365,
          0.337,
          0.31633333333333336,
          0.3016666666666667,
          0.289,
          0.278,
          0.26733333333333337,
          0.256,
          0.24533333333333332,
          0.23199999999999998,
          0.22433333333333336,
          0.21833333333333335,
          0.20833333333333334,
          0.19933333333333336,
          0.18899999999999997,
          0.17933333333333334,
          0.17133333333333334,
          0.16433333333333333,
          0.15766666666666665,
          0.15,
          0.145,
          0.1406666666666667,
          0.13566666666666669,
          0.13066666666666668,
          0.12466666666666666,
          0.11966666666666666,
          0.11533333333333333,
          0.11066666666666668,
          0.10766666666666667,
          0.10533333333333333,
          0.10166666666666667,
          0.09866666666666668,
          0.09566666666666668,
          0.09266666666666667,
          0.08933333333333333,
          0.085,
          0.08233333333333333,
          0.07933333333333333,
          0.07566666666666666,
          0.07366666666666666,
          0.07133333333333335,
          0.07033333333333334,
          0.06866666666666667,
          0.06733333333333334,
          0.06766666666666667,
          0.06666666666666667,
          0.06566666666666666,
          0.065,
          0.064,
          0.06366666666666666,
          0.06366666666666666,
          0.063,
          0.06166666666666667,
          0.062,
          0.061,
          0.06,
          0.059,
          0.05833333333333333,
          0.057999999999999996,
          0.057666666666666665,
          0.058666666666666666,
          0.058666666666666666,
          0.05833333333333333,
          0.057666666666666665,
          0.057666666666666665,
          0.057666666666666665,
          0.05666666666666667,
          0.05633333333333334,
          0.05666666666666667,
          0.056,
          0.05566666666666667,
          0.05566666666666667,
          0.05566666666666667,
          0.05566666666666667,
          0.05533333333333334,
          0.05533333333333334,
          0.05433333333333334,
          0.055,
          0.05566666666666667,
          0.056,
          0.056,
          0.05633333333333334,
          0.056,
          0.05566666666666667,
          0.056,
          0.05566666666666667,
          0.056,
          0.05566666666666667,
          0.053,
          0.055,
          0.055,
          0.05566666666666667,
          0.056,
          0.057,
          0.057999999999999996,
          0.057666666666666665,
          0.05833333333333333,
          0.059,
          0.058666666666666666,
          0.059,
          0.059,
          0.05933333333333333,
          0.05933333333333333,
          0.059666666666666666,
          0.059666666666666666,
          0.05933333333333333,
          0.06,
          0.061,
          0.06166666666666667,
          0.062,
          0.06166666666666667,
          0.06166666666666667,
          0.064,
          0.06366666666666666,
          0.06466666666666666,
          0.064,
          0.064,
          0.062,
          0.062,
          0.061,
          0.06033333333333333,
          0.06033333333333333,
          0.059,
          0.057666666666666665,
          0.057,
          0.05633333333333334,
          0.05566666666666667,
          0.055,
          0.05433333333333334,
          0.05333333333333334,
          0.05266666666666667,
          0.053,
          0.05266666666666667,
          0.052,
          0.051666666666666666,
          0.052,
          0.053,
          0.053,
          0.05266666666666667,
          0.05266666666666667,
          0.05266666666666667,
          0.052333333333333336,
          0.05266666666666667,
          0.052,
          0.052,
          0.051,
          0.052,
          0.051333333333333335,
          0.051,
          0.051,
          0.051666666666666666,
          0.051666666666666666,
          0.051,
          0.051333333333333335,
          0.051333333333333335,
          0.052333333333333336,
          0.052333333333333336,
          0.051,
          0.051333333333333335,
          0.051,
          0.051,
          0.051,
          0.051,
          0.051333333333333335,
          0.051666666666666666,
          0.051,
          0.051666666666666666,
          0.051333333333333335,
          0.051,
          0.052333333333333336,
          0.051666666666666666,
          0.050333333333333334,
          0.051,
          0.050333333333333334,
          0.050666666666666665,
          0.050333333333333334,
          0.04966666666666667,
          0.04966666666666667,
          0.05000000000000001,
          0.050666666666666665,
          0.050666666666666665,
          0.050333333333333334,
          0.05000000000000001,
          0.04966666666666667,
          0.05000000000000001,
          0.04933333333333334,
          0.04900000000000001,
          0.04900000000000001,
          0.04933333333333334,
          0.04933333333333334,
          0.04933333333333334,
          0.04966666666666667,
          0.04866666666666667,
          0.04933333333333334,
          0.049999999999999996,
          0.04833333333333334,
          0.04833333333333334,
          0.04933333333333334,
          0.04933333333333334,
          0.04966666666666667,
          0.04900000000000001,
          0.05000000000000001,
          0.05000000000000001,
          0.04900000000000001,
          0.05000000000000001,
          0.04966666666666667,
          0.04966666666666667,
          0.04933333333333334,
          0.04966666666666667,
          0.04966666666666667,
          0.05000000000000001,
          0.04900000000000001,
          0.04800000000000001,
          0.049999999999999996,
          0.051,
          0.051333333333333335,
          0.052,
          0.05333333333333334,
          0.053,
          0.052333333333333336,
          0.05266666666666667,
          0.051333333333333335,
          0.051666666666666666,
          0.051,
          0.051333333333333335,
          0.051,
          0.051666666666666666,
          0.052,
          0.051666666666666666,
          0.050333333333333334,
          0.051666666666666666,
          0.051666666666666666,
          0.051333333333333335,
          0.051333333333333335,
          0.051,
          0.04966666666666667,
          0.050666666666666665,
          0.051333333333333335,
          0.051666666666666666,
          0.051333333333333335,
          0.051333333333333335,
          0.050666666666666665,
          0.049999999999999996,
          0.050666666666666665,
          0.051,
          0.050666666666666665,
          0.051333333333333335,
          0.049999999999999996
         ],
         "yaxis": "y"
        }
       ],
       "layout": {
        "font": {
         "family": "Calibri",
         "size": 14
        },
        "legend": {
         "tracegroupgap": 0
        },
        "template": {
         "data": {
          "bar": [
           {
            "error_x": {
             "color": "#2a3f5f"
            },
            "error_y": {
             "color": "#2a3f5f"
            },
            "marker": {
             "line": {
              "color": "#E5ECF6",
              "width": 0.5
             },
             "pattern": {
              "fillmode": "overlay",
              "size": 10,
              "solidity": 0.2
             }
            },
            "type": "bar"
           }
          ],
          "barpolar": [
           {
            "marker": {
             "line": {
              "color": "#E5ECF6",
              "width": 0.5
             },
             "pattern": {
              "fillmode": "overlay",
              "size": 10,
              "solidity": 0.2
             }
            },
            "type": "barpolar"
           }
          ],
          "carpet": [
           {
            "aaxis": {
             "endlinecolor": "#2a3f5f",
             "gridcolor": "white",
             "linecolor": "white",
             "minorgridcolor": "white",
             "startlinecolor": "#2a3f5f"
            },
            "baxis": {
             "endlinecolor": "#2a3f5f",
             "gridcolor": "white",
             "linecolor": "white",
             "minorgridcolor": "white",
             "startlinecolor": "#2a3f5f"
            },
            "type": "carpet"
           }
          ],
          "choropleth": [
           {
            "colorbar": {
             "outlinewidth": 0,
             "ticks": ""
            },
            "type": "choropleth"
           }
          ],
          "contour": [
           {
            "colorbar": {
             "outlinewidth": 0,
             "ticks": ""
            },
            "colorscale": [
             [
              0,
              "#0d0887"
             ],
             [
              0.1111111111111111,
              "#46039f"
             ],
             [
              0.2222222222222222,
              "#7201a8"
             ],
             [
              0.3333333333333333,
              "#9c179e"
             ],
             [
              0.4444444444444444,
              "#bd3786"
             ],
             [
              0.5555555555555556,
              "#d8576b"
             ],
             [
              0.6666666666666666,
              "#ed7953"
             ],
             [
              0.7777777777777778,
              "#fb9f3a"
             ],
             [
              0.8888888888888888,
              "#fdca26"
             ],
             [
              1,
              "#f0f921"
             ]
            ],
            "type": "contour"
           }
          ],
          "contourcarpet": [
           {
            "colorbar": {
             "outlinewidth": 0,
             "ticks": ""
            },
            "type": "contourcarpet"
           }
          ],
          "heatmap": [
           {
            "colorbar": {
             "outlinewidth": 0,
             "ticks": ""
            },
            "colorscale": [
             [
              0,
              "#0d0887"
             ],
             [
              0.1111111111111111,
              "#46039f"
             ],
             [
              0.2222222222222222,
              "#7201a8"
             ],
             [
              0.3333333333333333,
              "#9c179e"
             ],
             [
              0.4444444444444444,
              "#bd3786"
             ],
             [
              0.5555555555555556,
              "#d8576b"
             ],
             [
              0.6666666666666666,
              "#ed7953"
             ],
             [
              0.7777777777777778,
              "#fb9f3a"
             ],
             [
              0.8888888888888888,
              "#fdca26"
             ],
             [
              1,
              "#f0f921"
             ]
            ],
            "type": "heatmap"
           }
          ],
          "heatmapgl": [
           {
            "colorbar": {
             "outlinewidth": 0,
             "ticks": ""
            },
            "colorscale": [
             [
              0,
              "#0d0887"
             ],
             [
              0.1111111111111111,
              "#46039f"
             ],
             [
              0.2222222222222222,
              "#7201a8"
             ],
             [
              0.3333333333333333,
              "#9c179e"
             ],
             [
              0.4444444444444444,
              "#bd3786"
             ],
             [
              0.5555555555555556,
              "#d8576b"
             ],
             [
              0.6666666666666666,
              "#ed7953"
             ],
             [
              0.7777777777777778,
              "#fb9f3a"
             ],
             [
              0.8888888888888888,
              "#fdca26"
             ],
             [
              1,
              "#f0f921"
             ]
            ],
            "type": "heatmapgl"
           }
          ],
          "histogram": [
           {
            "marker": {
             "pattern": {
              "fillmode": "overlay",
              "size": 10,
              "solidity": 0.2
             }
            },
            "type": "histogram"
           }
          ],
          "histogram2d": [
           {
            "colorbar": {
             "outlinewidth": 0,
             "ticks": ""
            },
            "colorscale": [
             [
              0,
              "#0d0887"
             ],
             [
              0.1111111111111111,
              "#46039f"
             ],
             [
              0.2222222222222222,
              "#7201a8"
             ],
             [
              0.3333333333333333,
              "#9c179e"
             ],
             [
              0.4444444444444444,
              "#bd3786"
             ],
             [
              0.5555555555555556,
              "#d8576b"
             ],
             [
              0.6666666666666666,
              "#ed7953"
             ],
             [
              0.7777777777777778,
              "#fb9f3a"
             ],
             [
              0.8888888888888888,
              "#fdca26"
             ],
             [
              1,
              "#f0f921"
             ]
            ],
            "type": "histogram2d"
           }
          ],
          "histogram2dcontour": [
           {
            "colorbar": {
             "outlinewidth": 0,
             "ticks": ""
            },
            "colorscale": [
             [
              0,
              "#0d0887"
             ],
             [
              0.1111111111111111,
              "#46039f"
             ],
             [
              0.2222222222222222,
              "#7201a8"
             ],
             [
              0.3333333333333333,
              "#9c179e"
             ],
             [
              0.4444444444444444,
              "#bd3786"
             ],
             [
              0.5555555555555556,
              "#d8576b"
             ],
             [
              0.6666666666666666,
              "#ed7953"
             ],
             [
              0.7777777777777778,
              "#fb9f3a"
             ],
             [
              0.8888888888888888,
              "#fdca26"
             ],
             [
              1,
              "#f0f921"
             ]
            ],
            "type": "histogram2dcontour"
           }
          ],
          "mesh3d": [
           {
            "colorbar": {
             "outlinewidth": 0,
             "ticks": ""
            },
            "type": "mesh3d"
           }
          ],
          "parcoords": [
           {
            "line": {
             "colorbar": {
              "outlinewidth": 0,
              "ticks": ""
             }
            },
            "type": "parcoords"
           }
          ],
          "pie": [
           {
            "automargin": true,
            "type": "pie"
           }
          ],
          "scatter": [
           {
            "marker": {
             "colorbar": {
              "outlinewidth": 0,
              "ticks": ""
             }
            },
            "type": "scatter"
           }
          ],
          "scatter3d": [
           {
            "line": {
             "colorbar": {
              "outlinewidth": 0,
              "ticks": ""
             }
            },
            "marker": {
             "colorbar": {
              "outlinewidth": 0,
              "ticks": ""
             }
            },
            "type": "scatter3d"
           }
          ],
          "scattercarpet": [
           {
            "marker": {
             "colorbar": {
              "outlinewidth": 0,
              "ticks": ""
             }
            },
            "type": "scattercarpet"
           }
          ],
          "scattergeo": [
           {
            "marker": {
             "colorbar": {
              "outlinewidth": 0,
              "ticks": ""
             }
            },
            "type": "scattergeo"
           }
          ],
          "scattergl": [
           {
            "marker": {
             "colorbar": {
              "outlinewidth": 0,
              "ticks": ""
             }
            },
            "type": "scattergl"
           }
          ],
          "scattermapbox": [
           {
            "marker": {
             "colorbar": {
              "outlinewidth": 0,
              "ticks": ""
             }
            },
            "type": "scattermapbox"
           }
          ],
          "scatterpolar": [
           {
            "marker": {
             "colorbar": {
              "outlinewidth": 0,
              "ticks": ""
             }
            },
            "type": "scatterpolar"
           }
          ],
          "scatterpolargl": [
           {
            "marker": {
             "colorbar": {
              "outlinewidth": 0,
              "ticks": ""
             }
            },
            "type": "scatterpolargl"
           }
          ],
          "scatterternary": [
           {
            "marker": {
             "colorbar": {
              "outlinewidth": 0,
              "ticks": ""
             }
            },
            "type": "scatterternary"
           }
          ],
          "surface": [
           {
            "colorbar": {
             "outlinewidth": 0,
             "ticks": ""
            },
            "colorscale": [
             [
              0,
              "#0d0887"
             ],
             [
              0.1111111111111111,
              "#46039f"
             ],
             [
              0.2222222222222222,
              "#7201a8"
             ],
             [
              0.3333333333333333,
              "#9c179e"
             ],
             [
              0.4444444444444444,
              "#bd3786"
             ],
             [
              0.5555555555555556,
              "#d8576b"
             ],
             [
              0.6666666666666666,
              "#ed7953"
             ],
             [
              0.7777777777777778,
              "#fb9f3a"
             ],
             [
              0.8888888888888888,
              "#fdca26"
             ],
             [
              1,
              "#f0f921"
             ]
            ],
            "type": "surface"
           }
          ],
          "table": [
           {
            "cells": {
             "fill": {
              "color": "#EBF0F8"
             },
             "line": {
              "color": "white"
             }
            },
            "header": {
             "fill": {
              "color": "#C8D4E3"
             },
             "line": {
              "color": "white"
             }
            },
            "type": "table"
           }
          ]
         },
         "layout": {
          "annotationdefaults": {
           "arrowcolor": "#2a3f5f",
           "arrowhead": 0,
           "arrowwidth": 1
          },
          "autotypenumbers": "strict",
          "coloraxis": {
           "colorbar": {
            "outlinewidth": 0,
            "ticks": ""
           }
          },
          "colorscale": {
           "diverging": [
            [
             0,
             "#8e0152"
            ],
            [
             0.1,
             "#c51b7d"
            ],
            [
             0.2,
             "#de77ae"
            ],
            [
             0.3,
             "#f1b6da"
            ],
            [
             0.4,
             "#fde0ef"
            ],
            [
             0.5,
             "#f7f7f7"
            ],
            [
             0.6,
             "#e6f5d0"
            ],
            [
             0.7,
             "#b8e186"
            ],
            [
             0.8,
             "#7fbc41"
            ],
            [
             0.9,
             "#4d9221"
            ],
            [
             1,
             "#276419"
            ]
           ],
           "sequential": [
            [
             0,
             "#0d0887"
            ],
            [
             0.1111111111111111,
             "#46039f"
            ],
            [
             0.2222222222222222,
             "#7201a8"
            ],
            [
             0.3333333333333333,
             "#9c179e"
            ],
            [
             0.4444444444444444,
             "#bd3786"
            ],
            [
             0.5555555555555556,
             "#d8576b"
            ],
            [
             0.6666666666666666,
             "#ed7953"
            ],
            [
             0.7777777777777778,
             "#fb9f3a"
            ],
            [
             0.8888888888888888,
             "#fdca26"
            ],
            [
             1,
             "#f0f921"
            ]
           ],
           "sequentialminus": [
            [
             0,
             "#0d0887"
            ],
            [
             0.1111111111111111,
             "#46039f"
            ],
            [
             0.2222222222222222,
             "#7201a8"
            ],
            [
             0.3333333333333333,
             "#9c179e"
            ],
            [
             0.4444444444444444,
             "#bd3786"
            ],
            [
             0.5555555555555556,
             "#d8576b"
            ],
            [
             0.6666666666666666,
             "#ed7953"
            ],
            [
             0.7777777777777778,
             "#fb9f3a"
            ],
            [
             0.8888888888888888,
             "#fdca26"
            ],
            [
             1,
             "#f0f921"
            ]
           ]
          },
          "colorway": [
           "#636efa",
           "#EF553B",
           "#00cc96",
           "#ab63fa",
           "#FFA15A",
           "#19d3f3",
           "#FF6692",
           "#B6E880",
           "#FF97FF",
           "#FECB52"
          ],
          "font": {
           "color": "#2a3f5f"
          },
          "geo": {
           "bgcolor": "white",
           "lakecolor": "white",
           "landcolor": "#E5ECF6",
           "showlakes": true,
           "showland": true,
           "subunitcolor": "white"
          },
          "hoverlabel": {
           "align": "left"
          },
          "hovermode": "closest",
          "mapbox": {
           "style": "light"
          },
          "paper_bgcolor": "white",
          "plot_bgcolor": "#E5ECF6",
          "polar": {
           "angularaxis": {
            "gridcolor": "white",
            "linecolor": "white",
            "ticks": ""
           },
           "bgcolor": "#E5ECF6",
           "radialaxis": {
            "gridcolor": "white",
            "linecolor": "white",
            "ticks": ""
           }
          },
          "scene": {
           "xaxis": {
            "backgroundcolor": "#E5ECF6",
            "gridcolor": "white",
            "gridwidth": 2,
            "linecolor": "white",
            "showbackground": true,
            "ticks": "",
            "zerolinecolor": "white"
           },
           "yaxis": {
            "backgroundcolor": "#E5ECF6",
            "gridcolor": "white",
            "gridwidth": 2,
            "linecolor": "white",
            "showbackground": true,
            "ticks": "",
            "zerolinecolor": "white"
           },
           "zaxis": {
            "backgroundcolor": "#E5ECF6",
            "gridcolor": "white",
            "gridwidth": 2,
            "linecolor": "white",
            "showbackground": true,
            "ticks": "",
            "zerolinecolor": "white"
           }
          },
          "shapedefaults": {
           "line": {
            "color": "#2a3f5f"
           }
          },
          "ternary": {
           "aaxis": {
            "gridcolor": "white",
            "linecolor": "white",
            "ticks": ""
           },
           "baxis": {
            "gridcolor": "white",
            "linecolor": "white",
            "ticks": ""
           },
           "bgcolor": "#E5ECF6",
           "caxis": {
            "gridcolor": "white",
            "linecolor": "white",
            "ticks": ""
           }
          },
          "title": {
           "x": 0.05
          },
          "xaxis": {
           "automargin": true,
           "gridcolor": "white",
           "linecolor": "white",
           "ticks": "",
           "title": {
            "standoff": 15
           },
           "zerolinecolor": "white",
           "zerolinewidth": 2
          },
          "yaxis": {
           "automargin": true,
           "gridcolor": "white",
           "linecolor": "white",
           "ticks": "",
           "title": {
            "standoff": 15
           },
           "zerolinecolor": "white",
           "zerolinewidth": 2
          }
         }
        },
        "title": {
         "text": "How Absorbance Varies with Wavelength for Sample S1: 0.391 mg/L"
        },
        "xaxis": {
         "anchor": "y",
         "domain": [
          0,
          1
         ],
         "title": {
          "text": "Wavelength / nm"
         }
        },
        "yaxis": {
         "anchor": "x",
         "domain": [
          0,
          1
         ],
         "range": [
          0,
          6
         ],
         "title": {
          "text": "Absorbance"
         }
        }
       }
      },
      "text/html": [
       "<div>                            <div id=\"4e4973e5-90ba-4a78-b36d-054b3af53eb8\" class=\"plotly-graph-div\" style=\"height:525px; width:100%;\"></div>            <script type=\"text/javascript\">                require([\"plotly\"], function(Plotly) {                    window.PLOTLYENV=window.PLOTLYENV || {};                                    if (document.getElementById(\"4e4973e5-90ba-4a78-b36d-054b3af53eb8\")) {                    Plotly.newPlot(                        \"4e4973e5-90ba-4a78-b36d-054b3af53eb8\",                        [{\"error_y\":{\"array\":[0.43029163237145196,0.15962525559015472,0.23333666664285754,0.46525285837082403,0.11876119830240105,0.06027345094557691,0.2063799085828527,0.0,0.24609483266957602,0.1499066376115479,0.0,0.06712674578735359,0.0,0.0,0.0,0.0,0.0,0.0527973063285956,0.0,0.1512995557017785,0.0,0.0,0.008485281374238473,0.0,0.0,0.0839100047008036,0.0235702260395515,0.09207605551933672,0.05180304581349953,0.11768602295939823,0.062023293115481215,0.05409456740026883,0.04393935214209092,0.03550586805961325,0.029169999809545516,0.025616834742454457,0.022395436042987736,0.01883849486792637,0.014704496666741864,0.01161416759345624,0.009899494936611674,0.008485281374238578,0.007318166133366696,0.006377042156569669,0.005715476066494062,0.004784233364802446,0.004642796092394711,0.0043204937989385775,0.0050990195135927644,0.004988876515698593,0.004546060565661956,0.0036817870057290905,0.0037416573867739326,0.0033993463423951926,0.00368178700572909,0.00368178700572909,0.002867441755680878,0.0032659863237109073,0.003299831645537225,0.0032998316455372123,0.0024944382578492965,0.002867441755680878,0.0029439202887759515,0.0021602468994692888,0.002054804667656315,0.002624669291337273,0.0020548046676563273,0.002624669291337273,0.0026246692913372664,0.0024944382578492917,0.0020548046676563273,0.0020548046676563273,0.0016996731711975965,0.001885618083164122,0.0018856180831641283,0.002624669291337273,0.0018856180831641283,0.0024944382578492965,0.0021602468994692823,0.0023570226039551605,0.0023570226039551605,0.002624669291337273,0.0018856180831641283,0.0016996731711975902,0.002357022603955154,0.0018856180831641283,0.0016996731711975965,0.0018856180831641283,0.0020548046676563273,0.0020548046676563273,0.0016329931618554536,0.0021602468994692888,0.002624669291337273,0.0020548046676563273,0.0021602468994692888,0.0020548046676563273,0.00244948974278318,0.0016329931618554536,0.0016329931618554508,0.0016329931618554508,0.0009428090415820609,0.0016329931618554508,0.0012472191289246456,0.001247219128924645,0.001247219128924645,0.0012472191289246452,0.0012472191289246456,0.0012472191289246456,0.0012472191289246456,0.0012472191289246482,0.0012472191289246482,0.0012472191289246482,0.0008164965809277268,0.0012472191289246482,0.0012472191289246482,0.0012472191289246482,0.0012472191289246482,0.0016996731711975965,0.0016996731711975965,0.0016996731711975965,0.0014142135623730965,0.0012472191289246482,0.0014142135623730965,0.0014142135623730965,0.0016996731711975965,0.0016329931618554536,0.0012472191289246482,0.0014142135623730965,0.0012472191289246482,0.0014142135623730965,0.0012472191289246482,0.0008164965809277268,0.0008164965809277268,0.0008164965809277268,0.00047140452079103207,0.0008164965809277268,0.0008164965809277268,0.0008164965809277239,0.0012472191289246456,0.0009428090415820609,0.001414213562373093,0.001247219128924645,0.001414213562373093,0.0016329931618554508,0.0012472191289246456,0.0009428090415820609,0.001247219128924645,0.001247219128924645,0.0009428090415820609,0.0008164965809277268,0.0008164965809277268,0.0012472191289246482,0.0008164965809277268,0.0009428090415820641,0.0009428090415820641,0.0008164965809277268,0.00047140452079103207,0.00047140452079103207,0.0008164965809277268,0.0008164965809277268,0.0008164965809277268,0.0008164965809277268,0.0008164965809277268,0.0009428090415820641,0.0009428090415820641,0.0008164965809277239,0.0012472191289246456,0.0008164965809277268,0.0009428090415820641,0.0012472191289246482,0.0008164965809277268,0.0012472191289246482,0.0012472191289246482,0.0012472191289246482,0.0008164965809277268,0.0012472191289246482,0.0008164965809277268,0.0009428090415820641,0.0008164965809277268,0.0008164965809277268,0.0008164965809277268,0.0012472191289246482,0.0012472191289246482,0.0012472191289246482,0.0012472191289246482,0.0012472191289246482,0.0008164965809277268,0.0008164965809277268,0.0008164965809277239,0.0008164965809277268,0.000942809041582061,0.0008164965809277239,0.0008164965809277239,0.0009428090415820641,0.0009428090415820641,0.0008164965809277239,0.0012472191289246456,0.0012472191289246456,0.0009428090415820641,0.0012472191289246482,0.0008164965809277239,0.0012472191289246456,0.0008164965809277239,0.0008164965809277239,0.0008164965809277239,0.0008164965809277239,0.00047140452079103207,0.0009428090415820641,0.0008164965809277239,0.00047140452079103207,0.00047140452079103207,0.0008164965809277239,0.0009428090415820641,0.0009428090415820641,0.000942809041582061,0.0008164965809277239,0.000942809041582061,0.0004714045207910288,0.000942809041582061,0.00047140452079103207,0.00047140452079103207,0.0008164965809277239,0.0004714045207910288,0.0004714045207910288,0.000942809041582061,0.0008164965809277239,0.00047140452079103207,0.0008164965809277239,0.0009428090415820641,0.0008164965809277268,0.0008164965809277268,0.0009428090415820641,0.0009428090415820641,0.0009428090415820641,0.0012472191289246456,0.00047140452079103207,0.0009428090415820641,0.001414213562373093,0.0009428090415820641,0.0009428090415820641,0.0009428090415820641,0.0009428090415820641,0.00047140452079103207,0.0008164965809277268,0.0008164965809277239,0.0008164965809277239,0.0008164965809277268,0.0008164965809277239,0.00047140452079103207,0.00047140452079103207,0.0009428090415820641,0.00047140452079103207,0.00047140452079103207,0.0008164965809277239,0.0008164965809277268,0.0014142135623730961,0.001414213562373093,0.0008164965809277239,0.00047140452079103207,0.0008164965809277268,0.0009428090415820641,0.0008164965809277268,0.0009428090415820641,0.00047140452079103207,0.00047140452079103207,0.00047140452079103207,0.0,0.00047140452079103207,0.0008164965809277239,0.00047140452079103207,0.0,0.00047140452079103207,0.000942809041582061,0.00047140452079103207,0.00047140452079103207,0.00047140452079103207,0.00047140452079103207,0.0,0.00047140452079103207,0.0004714045207910288,0.00047140452079103207,0.00047140452079103207,0.00047140452079103207,0.00047140452079103207,0.0004714045207910288,0.0008164965809277239,0.0004714045207910288,0.0008164965809277239,0.0004714045207910288,0.00047140452079103207,0.0008164965809277239]},\"hovertemplate\":\"Wavelength / nm=%{x}<br>Absorbance=%{y}<extra></extra>\",\"legendgroup\":\"\",\"marker\":{\"color\":\"#636efa\",\"line\":{\"color\":\"DarkSlateGrey\",\"width\":2},\"size\":8,\"symbol\":\"circle\"},\"mode\":\"markers\",\"name\":\"\",\"orientation\":\"v\",\"showlegend\":false,\"type\":\"scatter\",\"x\":[\"220\",\"222\",\"224\",\"226\",\"228\",\"230\",\"232\",\"234\",\"236\",\"238\",\"240\",\"242\",\"244\",\"246\",\"248\",\"250\",\"252\",\"254\",\"256\",\"258\",\"260\",\"262\",\"264\",\"266\",\"268\",\"270\",\"272\",\"274\",\"276\",\"278\",\"280\",\"282\",\"284\",\"286\",\"288\",\"290\",\"292\",\"294\",\"296\",\"298\",\"300\",\"302\",\"304\",\"306\",\"308\",\"310\",\"312\",\"314\",\"316\",\"318\",\"320\",\"322\",\"324\",\"326\",\"328\",\"330\",\"332\",\"334\",\"336\",\"338\",\"340\",\"342\",\"344\",\"346\",\"348\",\"350\",\"352\",\"354\",\"356\",\"358\",\"360\",\"362\",\"364\",\"366\",\"368\",\"370\",\"372\",\"374\",\"376\",\"378\",\"380\",\"382\",\"384\",\"386\",\"388\",\"390\",\"392\",\"394\",\"396\",\"398\",\"400\",\"402\",\"404\",\"406\",\"408\",\"410\",\"412\",\"414\",\"416\",\"418\",\"420\",\"422\",\"424\",\"426\",\"428\",\"430\",\"432\",\"434\",\"436\",\"438\",\"440\",\"442\",\"444\",\"446\",\"448\",\"450\",\"452\",\"454\",\"456\",\"458\",\"460\",\"462\",\"464\",\"466\",\"468\",\"470\",\"472\",\"474\",\"476\",\"478\",\"480\",\"482\",\"484\",\"486\",\"488\",\"490\",\"492\",\"494\",\"496\",\"498\",\"500\",\"502\",\"504\",\"506\",\"508\",\"510\",\"512\",\"514\",\"516\",\"518\",\"520\",\"522\",\"524\",\"526\",\"528\",\"530\",\"532\",\"534\",\"536\",\"538\",\"540\",\"542\",\"544\",\"546\",\"548\",\"550\",\"552\",\"554\",\"556\",\"558\",\"560\",\"562\",\"564\",\"566\",\"568\",\"570\",\"572\",\"574\",\"576\",\"578\",\"580\",\"582\",\"584\",\"586\",\"588\",\"590\",\"592\",\"594\",\"596\",\"598\",\"600\",\"602\",\"604\",\"606\",\"608\",\"610\",\"612\",\"614\",\"616\",\"618\",\"620\",\"622\",\"624\",\"626\",\"628\",\"630\",\"632\",\"634\",\"636\",\"638\",\"640\",\"642\",\"644\",\"646\",\"648\",\"650\",\"652\",\"654\",\"656\",\"658\",\"660\",\"662\",\"664\",\"666\",\"668\",\"670\",\"672\",\"674\",\"676\",\"678\",\"680\",\"682\",\"684\",\"686\",\"688\",\"690\",\"692\",\"694\",\"696\",\"698\",\"700\",\"702\",\"704\",\"706\",\"708\",\"710\",\"712\",\"714\",\"716\",\"718\",\"720\",\"722\",\"724\",\"726\",\"728\",\"730\",\"732\",\"734\",\"736\",\"738\",\"740\",\"742\",\"744\",\"746\",\"748\",\"750\",\"752\",\"754\",\"756\",\"758\",\"760\",\"762\",\"764\",\"766\",\"768\",\"770\",\"772\",\"774\",\"776\",\"778\",\"780\",\"782\",\"784\",\"786\",\"788\",\"790\",\"792\",\"794\",\"796\",\"798\",\"800\"],\"xaxis\":\"x\",\"y\":[3.859666666666666,4.211666666666667,4.321000000000001,4.615333333333333,5.127666666666666,5.129333333333333,5.101999999999999,5.287,5.108999999999999,5.181,5.287,5.125,5.287,5.287,5.287,5.287,5.287,5.249666666666666,5.287,5.152333333333334,5.287,5.287,5.281,5.287,5.287,5.227666666666667,5.270333333333333,5.170000000000001,4.851666666666667,4.687,3.8466666666666662,3.029666666666667,2.451,2.0,1.6176666666666666,1.3973333333333333,1.2896666666666665,1.0406666666666666,0.7713333333333333,0.6026666666666667,0.502,0.439,0.40166666666666667,0.365,0.337,0.31633333333333336,0.3016666666666667,0.289,0.278,0.26733333333333337,0.256,0.24533333333333332,0.23199999999999998,0.22433333333333336,0.21833333333333335,0.20833333333333334,0.19933333333333336,0.18899999999999997,0.17933333333333334,0.17133333333333334,0.16433333333333333,0.15766666666666665,0.15,0.145,0.1406666666666667,0.13566666666666669,0.13066666666666668,0.12466666666666666,0.11966666666666666,0.11533333333333333,0.11066666666666668,0.10766666666666667,0.10533333333333333,0.10166666666666667,0.09866666666666668,0.09566666666666668,0.09266666666666667,0.08933333333333333,0.085,0.08233333333333333,0.07933333333333333,0.07566666666666666,0.07366666666666666,0.07133333333333335,0.07033333333333334,0.06866666666666667,0.06733333333333334,0.06766666666666667,0.06666666666666667,0.06566666666666666,0.065,0.064,0.06366666666666666,0.06366666666666666,0.063,0.06166666666666667,0.062,0.061,0.06,0.059,0.05833333333333333,0.057999999999999996,0.057666666666666665,0.058666666666666666,0.058666666666666666,0.05833333333333333,0.057666666666666665,0.057666666666666665,0.057666666666666665,0.05666666666666667,0.05633333333333334,0.05666666666666667,0.056,0.05566666666666667,0.05566666666666667,0.05566666666666667,0.05566666666666667,0.05533333333333334,0.05533333333333334,0.05433333333333334,0.055,0.05566666666666667,0.056,0.056,0.05633333333333334,0.056,0.05566666666666667,0.056,0.05566666666666667,0.056,0.05566666666666667,0.053,0.055,0.055,0.05566666666666667,0.056,0.057,0.057999999999999996,0.057666666666666665,0.05833333333333333,0.059,0.058666666666666666,0.059,0.059,0.05933333333333333,0.05933333333333333,0.059666666666666666,0.059666666666666666,0.05933333333333333,0.06,0.061,0.06166666666666667,0.062,0.06166666666666667,0.06166666666666667,0.064,0.06366666666666666,0.06466666666666666,0.064,0.064,0.062,0.062,0.061,0.06033333333333333,0.06033333333333333,0.059,0.057666666666666665,0.057,0.05633333333333334,0.05566666666666667,0.055,0.05433333333333334,0.05333333333333334,0.05266666666666667,0.053,0.05266666666666667,0.052,0.051666666666666666,0.052,0.053,0.053,0.05266666666666667,0.05266666666666667,0.05266666666666667,0.052333333333333336,0.05266666666666667,0.052,0.052,0.051,0.052,0.051333333333333335,0.051,0.051,0.051666666666666666,0.051666666666666666,0.051,0.051333333333333335,0.051333333333333335,0.052333333333333336,0.052333333333333336,0.051,0.051333333333333335,0.051,0.051,0.051,0.051,0.051333333333333335,0.051666666666666666,0.051,0.051666666666666666,0.051333333333333335,0.051,0.052333333333333336,0.051666666666666666,0.050333333333333334,0.051,0.050333333333333334,0.050666666666666665,0.050333333333333334,0.04966666666666667,0.04966666666666667,0.05000000000000001,0.050666666666666665,0.050666666666666665,0.050333333333333334,0.05000000000000001,0.04966666666666667,0.05000000000000001,0.04933333333333334,0.04900000000000001,0.04900000000000001,0.04933333333333334,0.04933333333333334,0.04933333333333334,0.04966666666666667,0.04866666666666667,0.04933333333333334,0.049999999999999996,0.04833333333333334,0.04833333333333334,0.04933333333333334,0.04933333333333334,0.04966666666666667,0.04900000000000001,0.05000000000000001,0.05000000000000001,0.04900000000000001,0.05000000000000001,0.04966666666666667,0.04966666666666667,0.04933333333333334,0.04966666666666667,0.04966666666666667,0.05000000000000001,0.04900000000000001,0.04800000000000001,0.049999999999999996,0.051,0.051333333333333335,0.052,0.05333333333333334,0.053,0.052333333333333336,0.05266666666666667,0.051333333333333335,0.051666666666666666,0.051,0.051333333333333335,0.051,0.051666666666666666,0.052,0.051666666666666666,0.050333333333333334,0.051666666666666666,0.051666666666666666,0.051333333333333335,0.051333333333333335,0.051,0.04966666666666667,0.050666666666666665,0.051333333333333335,0.051666666666666666,0.051333333333333335,0.051333333333333335,0.050666666666666665,0.049999999999999996,0.050666666666666665,0.051,0.050666666666666665,0.051333333333333335,0.049999999999999996],\"yaxis\":\"y\"}],                        {\"font\":{\"family\":\"Calibri\",\"size\":14},\"legend\":{\"tracegroupgap\":0},\"template\":{\"data\":{\"bar\":[{\"error_x\":{\"color\":\"#2a3f5f\"},\"error_y\":{\"color\":\"#2a3f5f\"},\"marker\":{\"line\":{\"color\":\"#E5ECF6\",\"width\":0.5},\"pattern\":{\"fillmode\":\"overlay\",\"size\":10,\"solidity\":0.2}},\"type\":\"bar\"}],\"barpolar\":[{\"marker\":{\"line\":{\"color\":\"#E5ECF6\",\"width\":0.5},\"pattern\":{\"fillmode\":\"overlay\",\"size\":10,\"solidity\":0.2}},\"type\":\"barpolar\"}],\"carpet\":[{\"aaxis\":{\"endlinecolor\":\"#2a3f5f\",\"gridcolor\":\"white\",\"linecolor\":\"white\",\"minorgridcolor\":\"white\",\"startlinecolor\":\"#2a3f5f\"},\"baxis\":{\"endlinecolor\":\"#2a3f5f\",\"gridcolor\":\"white\",\"linecolor\":\"white\",\"minorgridcolor\":\"white\",\"startlinecolor\":\"#2a3f5f\"},\"type\":\"carpet\"}],\"choropleth\":[{\"colorbar\":{\"outlinewidth\":0,\"ticks\":\"\"},\"type\":\"choropleth\"}],\"contour\":[{\"colorbar\":{\"outlinewidth\":0,\"ticks\":\"\"},\"colorscale\":[[0.0,\"#0d0887\"],[0.1111111111111111,\"#46039f\"],[0.2222222222222222,\"#7201a8\"],[0.3333333333333333,\"#9c179e\"],[0.4444444444444444,\"#bd3786\"],[0.5555555555555556,\"#d8576b\"],[0.6666666666666666,\"#ed7953\"],[0.7777777777777778,\"#fb9f3a\"],[0.8888888888888888,\"#fdca26\"],[1.0,\"#f0f921\"]],\"type\":\"contour\"}],\"contourcarpet\":[{\"colorbar\":{\"outlinewidth\":0,\"ticks\":\"\"},\"type\":\"contourcarpet\"}],\"heatmap\":[{\"colorbar\":{\"outlinewidth\":0,\"ticks\":\"\"},\"colorscale\":[[0.0,\"#0d0887\"],[0.1111111111111111,\"#46039f\"],[0.2222222222222222,\"#7201a8\"],[0.3333333333333333,\"#9c179e\"],[0.4444444444444444,\"#bd3786\"],[0.5555555555555556,\"#d8576b\"],[0.6666666666666666,\"#ed7953\"],[0.7777777777777778,\"#fb9f3a\"],[0.8888888888888888,\"#fdca26\"],[1.0,\"#f0f921\"]],\"type\":\"heatmap\"}],\"heatmapgl\":[{\"colorbar\":{\"outlinewidth\":0,\"ticks\":\"\"},\"colorscale\":[[0.0,\"#0d0887\"],[0.1111111111111111,\"#46039f\"],[0.2222222222222222,\"#7201a8\"],[0.3333333333333333,\"#9c179e\"],[0.4444444444444444,\"#bd3786\"],[0.5555555555555556,\"#d8576b\"],[0.6666666666666666,\"#ed7953\"],[0.7777777777777778,\"#fb9f3a\"],[0.8888888888888888,\"#fdca26\"],[1.0,\"#f0f921\"]],\"type\":\"heatmapgl\"}],\"histogram\":[{\"marker\":{\"pattern\":{\"fillmode\":\"overlay\",\"size\":10,\"solidity\":0.2}},\"type\":\"histogram\"}],\"histogram2d\":[{\"colorbar\":{\"outlinewidth\":0,\"ticks\":\"\"},\"colorscale\":[[0.0,\"#0d0887\"],[0.1111111111111111,\"#46039f\"],[0.2222222222222222,\"#7201a8\"],[0.3333333333333333,\"#9c179e\"],[0.4444444444444444,\"#bd3786\"],[0.5555555555555556,\"#d8576b\"],[0.6666666666666666,\"#ed7953\"],[0.7777777777777778,\"#fb9f3a\"],[0.8888888888888888,\"#fdca26\"],[1.0,\"#f0f921\"]],\"type\":\"histogram2d\"}],\"histogram2dcontour\":[{\"colorbar\":{\"outlinewidth\":0,\"ticks\":\"\"},\"colorscale\":[[0.0,\"#0d0887\"],[0.1111111111111111,\"#46039f\"],[0.2222222222222222,\"#7201a8\"],[0.3333333333333333,\"#9c179e\"],[0.4444444444444444,\"#bd3786\"],[0.5555555555555556,\"#d8576b\"],[0.6666666666666666,\"#ed7953\"],[0.7777777777777778,\"#fb9f3a\"],[0.8888888888888888,\"#fdca26\"],[1.0,\"#f0f921\"]],\"type\":\"histogram2dcontour\"}],\"mesh3d\":[{\"colorbar\":{\"outlinewidth\":0,\"ticks\":\"\"},\"type\":\"mesh3d\"}],\"parcoords\":[{\"line\":{\"colorbar\":{\"outlinewidth\":0,\"ticks\":\"\"}},\"type\":\"parcoords\"}],\"pie\":[{\"automargin\":true,\"type\":\"pie\"}],\"scatter\":[{\"marker\":{\"colorbar\":{\"outlinewidth\":0,\"ticks\":\"\"}},\"type\":\"scatter\"}],\"scatter3d\":[{\"line\":{\"colorbar\":{\"outlinewidth\":0,\"ticks\":\"\"}},\"marker\":{\"colorbar\":{\"outlinewidth\":0,\"ticks\":\"\"}},\"type\":\"scatter3d\"}],\"scattercarpet\":[{\"marker\":{\"colorbar\":{\"outlinewidth\":0,\"ticks\":\"\"}},\"type\":\"scattercarpet\"}],\"scattergeo\":[{\"marker\":{\"colorbar\":{\"outlinewidth\":0,\"ticks\":\"\"}},\"type\":\"scattergeo\"}],\"scattergl\":[{\"marker\":{\"colorbar\":{\"outlinewidth\":0,\"ticks\":\"\"}},\"type\":\"scattergl\"}],\"scattermapbox\":[{\"marker\":{\"colorbar\":{\"outlinewidth\":0,\"ticks\":\"\"}},\"type\":\"scattermapbox\"}],\"scatterpolar\":[{\"marker\":{\"colorbar\":{\"outlinewidth\":0,\"ticks\":\"\"}},\"type\":\"scatterpolar\"}],\"scatterpolargl\":[{\"marker\":{\"colorbar\":{\"outlinewidth\":0,\"ticks\":\"\"}},\"type\":\"scatterpolargl\"}],\"scatterternary\":[{\"marker\":{\"colorbar\":{\"outlinewidth\":0,\"ticks\":\"\"}},\"type\":\"scatterternary\"}],\"surface\":[{\"colorbar\":{\"outlinewidth\":0,\"ticks\":\"\"},\"colorscale\":[[0.0,\"#0d0887\"],[0.1111111111111111,\"#46039f\"],[0.2222222222222222,\"#7201a8\"],[0.3333333333333333,\"#9c179e\"],[0.4444444444444444,\"#bd3786\"],[0.5555555555555556,\"#d8576b\"],[0.6666666666666666,\"#ed7953\"],[0.7777777777777778,\"#fb9f3a\"],[0.8888888888888888,\"#fdca26\"],[1.0,\"#f0f921\"]],\"type\":\"surface\"}],\"table\":[{\"cells\":{\"fill\":{\"color\":\"#EBF0F8\"},\"line\":{\"color\":\"white\"}},\"header\":{\"fill\":{\"color\":\"#C8D4E3\"},\"line\":{\"color\":\"white\"}},\"type\":\"table\"}]},\"layout\":{\"annotationdefaults\":{\"arrowcolor\":\"#2a3f5f\",\"arrowhead\":0,\"arrowwidth\":1},\"autotypenumbers\":\"strict\",\"coloraxis\":{\"colorbar\":{\"outlinewidth\":0,\"ticks\":\"\"}},\"colorscale\":{\"diverging\":[[0,\"#8e0152\"],[0.1,\"#c51b7d\"],[0.2,\"#de77ae\"],[0.3,\"#f1b6da\"],[0.4,\"#fde0ef\"],[0.5,\"#f7f7f7\"],[0.6,\"#e6f5d0\"],[0.7,\"#b8e186\"],[0.8,\"#7fbc41\"],[0.9,\"#4d9221\"],[1,\"#276419\"]],\"sequential\":[[0.0,\"#0d0887\"],[0.1111111111111111,\"#46039f\"],[0.2222222222222222,\"#7201a8\"],[0.3333333333333333,\"#9c179e\"],[0.4444444444444444,\"#bd3786\"],[0.5555555555555556,\"#d8576b\"],[0.6666666666666666,\"#ed7953\"],[0.7777777777777778,\"#fb9f3a\"],[0.8888888888888888,\"#fdca26\"],[1.0,\"#f0f921\"]],\"sequentialminus\":[[0.0,\"#0d0887\"],[0.1111111111111111,\"#46039f\"],[0.2222222222222222,\"#7201a8\"],[0.3333333333333333,\"#9c179e\"],[0.4444444444444444,\"#bd3786\"],[0.5555555555555556,\"#d8576b\"],[0.6666666666666666,\"#ed7953\"],[0.7777777777777778,\"#fb9f3a\"],[0.8888888888888888,\"#fdca26\"],[1.0,\"#f0f921\"]]},\"colorway\":[\"#636efa\",\"#EF553B\",\"#00cc96\",\"#ab63fa\",\"#FFA15A\",\"#19d3f3\",\"#FF6692\",\"#B6E880\",\"#FF97FF\",\"#FECB52\"],\"font\":{\"color\":\"#2a3f5f\"},\"geo\":{\"bgcolor\":\"white\",\"lakecolor\":\"white\",\"landcolor\":\"#E5ECF6\",\"showlakes\":true,\"showland\":true,\"subunitcolor\":\"white\"},\"hoverlabel\":{\"align\":\"left\"},\"hovermode\":\"closest\",\"mapbox\":{\"style\":\"light\"},\"paper_bgcolor\":\"white\",\"plot_bgcolor\":\"#E5ECF6\",\"polar\":{\"angularaxis\":{\"gridcolor\":\"white\",\"linecolor\":\"white\",\"ticks\":\"\"},\"bgcolor\":\"#E5ECF6\",\"radialaxis\":{\"gridcolor\":\"white\",\"linecolor\":\"white\",\"ticks\":\"\"}},\"scene\":{\"xaxis\":{\"backgroundcolor\":\"#E5ECF6\",\"gridcolor\":\"white\",\"gridwidth\":2,\"linecolor\":\"white\",\"showbackground\":true,\"ticks\":\"\",\"zerolinecolor\":\"white\"},\"yaxis\":{\"backgroundcolor\":\"#E5ECF6\",\"gridcolor\":\"white\",\"gridwidth\":2,\"linecolor\":\"white\",\"showbackground\":true,\"ticks\":\"\",\"zerolinecolor\":\"white\"},\"zaxis\":{\"backgroundcolor\":\"#E5ECF6\",\"gridcolor\":\"white\",\"gridwidth\":2,\"linecolor\":\"white\",\"showbackground\":true,\"ticks\":\"\",\"zerolinecolor\":\"white\"}},\"shapedefaults\":{\"line\":{\"color\":\"#2a3f5f\"}},\"ternary\":{\"aaxis\":{\"gridcolor\":\"white\",\"linecolor\":\"white\",\"ticks\":\"\"},\"baxis\":{\"gridcolor\":\"white\",\"linecolor\":\"white\",\"ticks\":\"\"},\"bgcolor\":\"#E5ECF6\",\"caxis\":{\"gridcolor\":\"white\",\"linecolor\":\"white\",\"ticks\":\"\"}},\"title\":{\"x\":0.05},\"xaxis\":{\"automargin\":true,\"gridcolor\":\"white\",\"linecolor\":\"white\",\"ticks\":\"\",\"title\":{\"standoff\":15},\"zerolinecolor\":\"white\",\"zerolinewidth\":2},\"yaxis\":{\"automargin\":true,\"gridcolor\":\"white\",\"linecolor\":\"white\",\"ticks\":\"\",\"title\":{\"standoff\":15},\"zerolinecolor\":\"white\",\"zerolinewidth\":2}}},\"title\":{\"text\":\"How Absorbance Varies with Wavelength for Sample S1: 0.391 mg/L\"},\"xaxis\":{\"anchor\":\"y\",\"domain\":[0.0,1.0],\"title\":{\"text\":\"Wavelength / nm\"}},\"yaxis\":{\"anchor\":\"x\",\"domain\":[0.0,1.0],\"range\":[0,6],\"title\":{\"text\":\"Absorbance\"}}},                        {\"responsive\": true}                    ).then(function(){\n",
       "                            \n",
       "var gd = document.getElementById('4e4973e5-90ba-4a78-b36d-054b3af53eb8');\n",
       "var x = new MutationObserver(function (mutations, observer) {{\n",
       "        var display = window.getComputedStyle(gd).display;\n",
       "        if (!display || display === 'none') {{\n",
       "            console.log([gd, 'removed!']);\n",
       "            Plotly.purge(gd);\n",
       "            observer.disconnect();\n",
       "        }}\n",
       "}});\n",
       "\n",
       "// Listen for the removal of the full notebook cells\n",
       "var notebookContainer = gd.closest('#notebook-container');\n",
       "if (notebookContainer) {{\n",
       "    x.observe(notebookContainer, {childList: true});\n",
       "}}\n",
       "\n",
       "// Listen for the clearing of the current output cell\n",
       "var outputEl = gd.closest('.output');\n",
       "if (outputEl) {{\n",
       "    x.observe(outputEl, {childList: true});\n",
       "}}\n",
       "\n",
       "                        })                };                });            </script>        </div>"
      ]
     },
     "metadata": {},
     "output_type": "display_data"
    }
   ],
   "source": [
    "# Plots for S1\n",
    "dilutions = sorted(dilutions)\n",
    "for dilution in dilutions:\n",
    "    plot_graph(\"S1\", dilution, dilution)"
   ]
  },
  {
   "cell_type": "markdown",
   "id": "d3f786ea",
   "metadata": {},
   "source": [
    "# Plot Solvent Corrected Data"
   ]
  },
  {
   "cell_type": "markdown",
   "id": "3304794f",
   "metadata": {},
   "source": [
    "We assume that the total absorbance is the sum of the absorbance of all species in a solution. Specifically, this assumes that the solute does not change the component absorbance of the solvent in solution.<br><br>\n",
    "$A = \\sum_{i=1}^{N}A_i$<br>\n",
    "$A_{total} = A_{blank} + A_{S1}$<br>\n",
    "$A_{S1} = A_{total} - A_{blank}$<br>"
   ]
  },
  {
   "cell_type": "code",
   "execution_count": 78,
   "id": "41a0f61a",
   "metadata": {},
   "outputs": [
    {
     "name": "stdout",
     "output_type": "stream",
     "text": [
      "-0.31733333333333347\n",
      "0.16166666666666663\n",
      "-0.03366666666666607\n",
      "-0.22166666666666668\n",
      "0.08099999999999952\n",
      "0.3250000000000002\n",
      "-0.3260000000000005\n",
      "0.0\n",
      "0.05833333333333268\n",
      "0.0\n",
      "0.0\n",
      "0.07566666666666677\n",
      "0.0\n",
      "0.0\n",
      "0.0\n",
      "-0.01766666666666694\n",
      "-0.0039999999999995595\n",
      "0.0\n",
      "0.0\n",
      "-0.052999999999999936\n",
      "0.0\n",
      "-0.0216666666666665\n",
      "-0.01066666666666638\n",
      "0.0\n",
      "0.0\n",
      "-0.04566666666666741\n",
      "0.01699999999999946\n",
      "-0.20500000000000007\n",
      "-0.10233333333333228\n",
      "-0.06366666666666632\n",
      "-0.21233333333333348\n",
      "-0.19733333333333292\n",
      "-0.17133333333333356\n",
      "-0.14166666666666683\n",
      "-0.11766666666666681\n",
      "-0.10733333333333328\n",
      "-0.1033333333333335\n",
      "-0.07900000000000018\n",
      "-0.055333333333333456\n",
      "-0.041000000000000036\n",
      "-0.03333333333333327\n",
      "-0.02899999999999997\n",
      "-0.026333333333333375\n",
      "-0.02400000000000002\n",
      "-0.02200000000000002\n",
      "-0.020333333333333314\n",
      "-0.01866666666666672\n",
      "-0.018333333333333313\n",
      "-0.01733333333333331\n",
      "-0.015666666666666662\n",
      "-0.013999999999999985\n",
      "-0.014000000000000012\n",
      "-0.01266666666666666\n",
      "-0.011666666666666686\n",
      "-0.010666666666666685\n",
      "-0.010333333333333361\n",
      "-0.010333333333333333\n",
      "-0.008666666666666684\n",
      "-0.007333333333333358\n",
      "-0.007000000000000006\n",
      "-0.00633333333333333\n",
      "-0.005666666666666653\n",
      "-0.005333333333333301\n",
      "-0.005333333333333301\n",
      "-0.0040000000000000036\n",
      "-0.0030000000000000027\n",
      "-0.003333333333333327\n",
      "-0.0026666666666666644\n",
      "-0.0026666666666666783\n",
      "-0.0013333333333333391\n",
      "-0.0013333333333333391\n",
      "-0.0010000000000000009\n",
      "-0.0003333333333333244\n",
      "0.0006666666666666765\n",
      "0.0010000000000000009\n",
      "0.0013333333333333253\n",
      "0.00033333333333333826\n",
      "0.0003333333333333244\n",
      "0.0006666666666666765\n",
      "0.0013333333333333391\n",
      "0.0020000000000000018\n",
      "0.0016666666666666635\n",
      "0.0016666666666666774\n",
      "0.0016666666666666496\n",
      "0.002333333333333326\n",
      "0.0013333333333333391\n",
      "0.0020000000000000018\n",
      "0.0020000000000000018\n",
      "0.00233333333333334\n",
      "0.0013333333333333253\n",
      "0.0016666666666666774\n",
      "0.0016666666666666635\n",
      "0.0006666666666666626\n",
      "0.0010000000000000009\n",
      "0.0003333333333333313\n",
      "0.0\n",
      "0.00033333333333333826\n",
      "-0.0003333333333333313\n",
      "-0.0003333333333333313\n",
      "0.0\n",
      "0.0\n",
      "-0.0003333333333333313\n",
      "0.0003333333333333313\n",
      "0.000999999999999994\n",
      "0.0013333333333333253\n",
      "0.0010000000000000009\n",
      "0.0010000000000000009\n",
      "0.0010000000000000009\n",
      "0.0010000000000000009\n",
      "0.0010000000000000009\n",
      "0.0013333333333333391\n",
      "0.0016666666666666635\n",
      "0.0013333333333333391\n",
      "0.0006666666666666696\n",
      "0.0016666666666666705\n",
      "0.0016666666666666705\n",
      "0.0020000000000000018\n",
      "0.0020000000000000018\n",
      "0.0016666666666666705\n",
      "0.0020000000000000018\n",
      "0.0026666666666666713\n",
      "0.0036666666666666722\n",
      "0.0040000000000000036\n",
      "0.004333333333333335\n",
      "0.004666666666666666\n",
      "0.0049999999999999975\n",
      "0.005666666666666667\n",
      "0.00633333333333333\n",
      "0.006666666666666661\n",
      "0.007333333333333331\n",
      "0.00866666666666667\n",
      "0.007666666666666662\n",
      "0.01033333333333332\n",
      "0.011333333333333327\n",
      "0.012666666666666673\n",
      "0.013666666666666674\n",
      "0.015666666666666676\n",
      "0.017000000000000008\n",
      "0.018333333333333347\n",
      "0.01933333333333332\n",
      "0.02066666666666666\n",
      "0.021666666666666654\n",
      "0.022666666666666654\n",
      "0.022999999999999986\n",
      "0.023333333333333324\n",
      "0.024333333333333325\n",
      "0.025999999999999995\n",
      "0.027000000000000003\n",
      "0.028666666666666667\n",
      "0.03066666666666667\n",
      "0.033999999999999996\n",
      "0.03700000000000001\n",
      "0.04\n",
      "0.04333333333333333\n",
      "0.046000000000000006\n",
      "0.04933333333333335\n",
      "0.05133333333333335\n",
      "0.052\n",
      "0.05166666666666666\n",
      "0.04966666666666667\n",
      "0.04566666666666667\n",
      "0.042666666666666665\n",
      "0.03866666666666666\n",
      "0.03399999999999999\n",
      "0.03033333333333333\n",
      "0.025333333333333333\n",
      "0.019999999999999997\n",
      "0.01733333333333334\n",
      "0.014333333333333337\n",
      "0.011000000000000003\n",
      "0.008666666666666663\n",
      "0.006666666666666661\n",
      "0.00566666666666666\n",
      "0.004666666666666659\n",
      "0.004333333333333328\n",
      "0.002999999999999989\n",
      "0.001999999999999988\n",
      "0.001999999999999988\n",
      "0.0020000000000000018\n",
      "0.002333333333333333\n",
      "0.0016666666666666705\n",
      "0.0020000000000000018\n",
      "0.0013333333333333391\n",
      "0.0013333333333333391\n",
      "0.00033333333333333826\n",
      "0.0006666666666666696\n",
      "0.000999999999999994\n",
      "0.0006666666666666557\n",
      "0.0003333333333333313\n",
      "0.000999999999999994\n",
      "0.000999999999999987\n",
      "0.0\n",
      "0.0003333333333333313\n",
      "0.0006666666666666557\n",
      "0.0006666666666666696\n",
      "0.0006666666666666626\n",
      "0.0013333333333333253\n",
      "0.000999999999999994\n",
      "0.0006666666666666626\n",
      "0.0013333333333333391\n",
      "0.0013333333333333253\n",
      "0.0016666666666666566\n",
      "0.0006666666666666696\n",
      "0.0006666666666666696\n",
      "0.0016666666666666566\n",
      "0.002333333333333326\n",
      "0.000999999999999987\n",
      "0.0013333333333333253\n",
      "0.000999999999999987\n",
      "0.000999999999999994\n",
      "0.000999999999999987\n",
      "0.0006666666666666696\n",
      "0.0010000000000000009\n",
      "0.0013333333333333253\n",
      "0.0006666666666666557\n",
      "0.0006666666666666557\n",
      "0.0006666666666666696\n",
      "0.000999999999999994\n",
      "0.0013333333333333322\n",
      "0.0\n",
      "0.0006666666666666626\n",
      "0.0013333333333333322\n",
      "0.0010000000000000009\n",
      "0.0013333333333333322\n",
      "0.0003333333333333313\n",
      "0.0003333333333333313\n",
      "0.0010000000000000009\n",
      "0.0006666666666666626\n",
      "0.0013333333333333391\n",
      "0.0010000000000000009\n",
      "0.0006666666666666626\n",
      "0.0003333333333333313\n",
      "0.0006666666666666696\n",
      "0.0010000000000000009\n",
      "0.0006666666666666626\n",
      "0.0003333333333333313\n",
      "0.0016666666666666705\n",
      "0.0010000000000000009\n",
      "0.0010000000000000009\n",
      "0.0\n",
      "0.0010000000000000009\n",
      "0.0013333333333333391\n",
      "0.0006666666666666696\n",
      "0.0010000000000000009\n",
      "0.0010000000000000009\n",
      "0.0010000000000000009\n",
      "0.0013333333333333322\n",
      "0.0010000000000000009\n",
      "0.0006666666666666696\n",
      "0.0\n",
      "0.0013333333333333322\n",
      "0.0003333333333333313\n",
      "0.0\n",
      "0.0\n",
      "-0.0003333333333333313\n",
      "0.0010000000000000009\n",
      "0.0006666666666666696\n",
      "0.0006666666666666626\n",
      "0.0006666666666666626\n",
      "0.0\n",
      "0.0010000000000000009\n",
      "0.0010000000000000009\n",
      "0.0\n",
      "-0.0003333333333333313\n",
      "0.0\n",
      "0.00033333333333333826\n",
      "0.0003333333333333313\n",
      "0.0003333333333333313\n",
      "0.0\n",
      "0.0003333333333333313\n",
      "0.0010000000000000009\n",
      "0.0010000000000000009\n",
      "0.0003333333333333313\n",
      "0.0006666666666666696\n",
      "0.0006666666666666696\n",
      "0.0013333333333333253\n",
      "0.000999999999999994\n",
      "0.0006666666666666696\n",
      "0.0\n",
      "-0.0003333333333333313\n",
      "0.0003333333333333313\n",
      "6.938893903907228e-18\n",
      "0.0003333333333333244\n",
      "0.0006666666666666626\n",
      "0.0006666666666666626\n",
      "-0.00033333333333333826\n",
      "0.0\n",
      "0.0003333333333333313\n",
      "-0.0003333333333333313\n",
      "0.0006666666666666696\n",
      "0.0010000000000000009\n",
      "-0.2943333333333329\n",
      "-0.11433333333333318\n",
      "-0.4943333333333326\n",
      "-0.45233333333333325\n",
      "-0.35666666666666735\n",
      "-0.2896666666666663\n",
      "-0.07399999999999984\n",
      "-0.12266666666666737\n",
      "-0.31533333333333413\n",
      "-0.07633333333333425\n",
      "0.0\n",
      "-0.04566666666666652\n",
      "0.0\n",
      "0.0\n",
      "0.0\n",
      "-0.025000000000000355\n",
      "-0.10599999999999987\n",
      "-0.16800000000000015\n",
      "-0.10966666666666658\n",
      "-0.1806666666666663\n",
      "-0.0033333333333338544\n",
      "0.0\n",
      "-0.03599999999999959\n",
      "-0.04966666666666697\n",
      "0.0\n",
      "-0.08200000000000074\n",
      "-0.005333333333333634\n",
      "-0.06066666666666798\n",
      "-0.02833333333333332\n",
      "0.006000000000000227\n",
      "-0.05733333333333368\n",
      "0.02700000000000058\n",
      "0.0606666666666662\n",
      "0.09566666666666634\n",
      "0.1233333333333333\n",
      "0.1406666666666665\n",
      "0.14766666666666683\n",
      "0.16399999999999992\n",
      "0.17533333333333323\n",
      "0.17499999999999993\n",
      "0.16700000000000004\n",
      "0.15499999999999997\n",
      "0.1456666666666666\n",
      "0.13633333333333325\n",
      "0.1293333333333333\n",
      "0.125\n",
      "0.123\n",
      "0.121\n",
      "0.1206666666666667\n",
      "0.121\n",
      "0.1223333333333333\n",
      "0.12233333333333332\n",
      "0.12399999999999997\n",
      "0.12499999999999994\n",
      "0.12666666666666662\n",
      "0.12833333333333338\n",
      "0.13\n",
      "0.13266666666666663\n",
      "0.13400000000000004\n",
      "0.13699999999999998\n",
      "0.13833333333333334\n",
      "0.14133333333333334\n",
      "0.1443333333333334\n",
      "0.14566666666666667\n",
      "0.14833333333333332\n",
      "0.15033333333333335\n",
      "0.15099999999999997\n",
      "0.15300000000000002\n",
      "0.15466666666666662\n",
      "0.15633333333333332\n",
      "0.15766666666666668\n",
      "0.15833333333333338\n",
      "0.15833333333333338\n",
      "0.15999999999999998\n",
      "0.16099999999999998\n",
      "0.16199999999999998\n",
      "0.15966666666666668\n",
      "0.15699999999999997\n",
      "0.15399999999999997\n",
      "0.15066666666666664\n",
      "0.14799999999999996\n",
      "0.14666666666666667\n",
      "0.14600000000000002\n",
      "0.1443333333333333\n",
      "0.14166666666666666\n",
      "0.1373333333333333\n",
      "0.13099999999999998\n",
      "0.12133333333333331\n",
      "0.11099999999999996\n",
      "0.10033333333333332\n",
      "0.08999999999999998\n",
      "0.08133333333333334\n",
      "0.07433333333333333\n",
      "0.06833333333333334\n",
      "0.063\n",
      "0.05933333333333333\n",
      "0.057333333333333326\n",
      "0.056\n",
      "0.055333333333333325\n",
      "0.05599999999999999\n",
      "0.05666666666666665\n",
      "0.05699999999999998\n",
      "0.05799999999999998\n",
      "0.05866666666666665\n",
      "0.05999999999999999\n",
      "0.061999999999999986\n",
      "0.06399999999999999\n",
      "0.06633333333333333\n",
      "0.06866666666666665\n",
      "0.07233333333333333\n",
      "0.07566666666666669\n",
      "0.07899999999999999\n",
      "0.0826666666666667\n",
      "0.08733333333333335\n",
      "0.0916666666666667\n",
      "0.09566666666666665\n",
      "0.10233333333333333\n",
      "0.10933333333333334\n",
      "0.11733333333333335\n",
      "0.1283333333333333\n",
      "0.13933333333333336\n",
      "0.15033333333333337\n",
      "0.16233333333333336\n",
      "0.1743333333333333\n",
      "0.18666666666666668\n",
      "0.19999999999999998\n",
      "0.21466666666666667\n",
      "0.22966666666666669\n",
      "0.24599999999999997\n",
      "0.26366666666666666\n",
      "0.2916666666666667\n",
      "0.31833333333333336\n",
      "0.3436666666666667\n",
      "0.3763333333333333\n",
      "0.4106666666666666\n",
      "0.45066666666666666\n",
      "0.4886666666666667\n",
      "0.5296666666666665\n",
      "0.5796666666666667\n",
      "0.6190000000000001\n",
      "0.6513333333333333\n",
      "0.681\n",
      "0.7076666666666668\n",
      "0.7313333333333333\n",
      "0.7566666666666667\n",
      "0.7876666666666666\n",
      "0.8193333333333334\n",
      "0.86\n",
      "0.9156666666666666\n",
      "0.9793333333333333\n",
      "1.0623333333333336\n",
      "1.179\n",
      "1.29\n",
      "1.4013333333333333\n",
      "1.493\n",
      "1.5706666666666664\n",
      "1.6396666666666666\n",
      "1.6599999999999997\n",
      "1.642\n",
      "1.5783333333333331\n",
      "1.4849999999999999\n",
      "1.3566666666666667\n",
      "1.2119999999999997\n",
      "1.0700000000000003\n",
      "0.9296666666666668\n",
      "0.779\n",
      "0.633\n",
      "0.5266666666666666\n",
      "0.43333333333333335\n",
      "0.3526666666666667\n",
      "0.27799999999999997\n",
      "0.225\n",
      "0.18599999999999997\n",
      "0.15566666666666665\n",
      "0.128\n",
      "0.10866666666666663\n",
      "0.095\n",
      "0.08433333333333332\n",
      "0.07500000000000001\n",
      "0.06799999999999999\n",
      "0.06199999999999999\n",
      "0.05833333333333331\n",
      "0.05466666666666669\n",
      "0.05233333333333335\n",
      "0.049666666666666685\n",
      "0.047666666666666684\n",
      "0.047\n",
      "0.046000000000000006\n",
      "0.04533333333333333\n",
      "0.043666666666666666\n",
      "0.044000000000000004\n",
      "0.04333333333333333\n",
      "0.043\n",
      "0.042\n",
      "0.041999999999999996\n",
      "0.041\n",
      "0.041\n",
      "0.04\n",
      "0.039666666666666676\n",
      "0.04033333333333334\n",
      "0.039333333333333324\n",
      "0.04\n",
      "0.03966666666666667\n",
      "0.03966666666666667\n"
     ]
    },
    {
     "name": "stdout",
     "output_type": "stream",
     "text": [
      "0.04033333333333333\n",
      "0.040333333333333325\n",
      "0.039333333333333324\n",
      "0.039333333333333324\n",
      "0.03866666666666666\n",
      "0.03833333333333334\n",
      "0.03766666666666666\n",
      "0.03666666666666666\n",
      "0.036666666666666674\n",
      "0.037\n",
      "0.03533333333333333\n",
      "0.03566666666666666\n",
      "0.03466666666666666\n",
      "0.033999999999999996\n",
      "0.033999999999999996\n",
      "0.033999999999999996\n",
      "0.032999999999999995\n",
      "0.031666666666666655\n",
      "0.03166666666666666\n",
      "0.03133333333333332\n",
      "0.030333333333333316\n",
      "0.030333333333333316\n",
      "0.029999999999999992\n",
      "0.029333333333333315\n",
      "0.029999999999999992\n",
      "0.029999999999999992\n",
      "0.029333333333333315\n",
      "0.02766666666666666\n",
      "0.027333333333333334\n",
      "0.026666666666666665\n",
      "0.026333333333333327\n",
      "0.02633333333333334\n",
      "0.026999999999999996\n",
      "0.026333333333333334\n",
      "0.028000000000000004\n",
      "0.027666666666666673\n",
      "0.026000000000000002\n",
      "0.025666666666666678\n",
      "0.024666666666666677\n",
      "0.02433333333333334\n",
      "0.023333333333333338\n",
      "0.02333333333333333\n",
      "0.02366666666666667\n",
      "0.023000000000000007\n",
      "0.023333333333333338\n",
      "0.022000000000000006\n",
      "0.022\n",
      "0.021666666666666667\n",
      "0.02166666666666666\n",
      "0.020666666666666673\n",
      "0.020000000000000004\n",
      "0.020333333333333335\n",
      "0.021000000000000005\n",
      "0.020333333333333335\n",
      "0.019666666666666673\n",
      "0.019333333333333348\n",
      "0.019333333333333334\n",
      "0.019333333333333348\n",
      "0.01866666666666667\n",
      "0.018333333333333347\n",
      "0.01766666666666667\n",
      "0.018333333333333333\n",
      "0.016666666666666656\n",
      "0.016999999999999994\n",
      "0.016\n",
      "0.016\n",
      "0.016000000000000007\n",
      "0.01533333333333333\n",
      "0.015666666666666662\n",
      "0.01566666666666667\n",
      "0.015666666666666676\n",
      "0.015666666666666655\n",
      "0.015666666666666662\n",
      "0.015999999999999993\n",
      "0.016\n",
      "0.015\n",
      "0.015666666666666662\n",
      "0.015\n",
      "0.01533333333333333\n",
      "0.01566666666666667\n",
      "0.01533333333333333\n",
      "0.014999999999999993\n",
      "0.014666666666666661\n",
      "0.015666666666666662\n",
      "0.01433333333333333\n",
      "0.01433333333333333\n",
      "0.01433333333333333\n",
      "-0.17300000000000004\n",
      "0.17999999999999972\n",
      "0.0033333333333338544\n",
      "0.03666666666666707\n",
      "0.09666666666666579\n",
      "0.2526666666666664\n",
      "-0.057333333333333236\n",
      "0.0\n",
      "-0.25100000000000033\n",
      "-0.10999999999999943\n",
      "0.0\n",
      "0.07900000000000063\n",
      "0.0\n",
      "0.0\n",
      "0.0\n",
      "0.0\n",
      "0.0\n",
      "-0.04366666666666674\n",
      "0.0\n",
      "-0.15566666666666595\n",
      "0.0\n",
      "0.0\n",
      "0.0\n",
      "0.0\n",
      "0.0\n",
      "-0.016666666666666607\n",
      "0.028666666666666174\n",
      "-0.14199999999999946\n",
      "-0.004999999999999005\n",
      "0.13833333333333364\n",
      "-0.05366666666666697\n",
      "-0.03433333333333266\n",
      "-0.020000000000000018\n",
      "0.0040000000000000036\n",
      "0.026000000000000023\n",
      "0.036000000000000254\n",
      "0.038000000000000034\n",
      "0.054333333333333345\n",
      "0.06933333333333325\n",
      "0.07466666666666655\n",
      "0.07300000000000006\n",
      "0.068\n",
      "0.06499999999999995\n",
      "0.061000000000000054\n",
      "0.05833333333333335\n",
      "0.0556666666666667\n",
      "0.05499999999999999\n",
      "0.054333333333333345\n",
      "0.05399999999999994\n",
      "0.054333333333333345\n",
      "0.0566666666666667\n",
      "0.05666666666666667\n",
      "0.057666666666666616\n",
      "0.057999999999999996\n",
      "0.05966666666666667\n",
      "0.060666666666666674\n",
      "0.0616666666666667\n",
      "0.06266666666666662\n",
      "0.06433333333333335\n",
      "0.06533333333333333\n",
      "0.06633333333333336\n",
      "0.06800000000000003\n",
      "0.06933333333333336\n",
      "0.06966666666666668\n",
      "0.07133333333333333\n",
      "0.07233333333333333\n",
      "0.07333333333333333\n",
      "0.07433333333333338\n",
      "0.0756666666666667\n",
      "0.07633333333333331\n",
      "0.076\n",
      "0.07666666666666667\n",
      "0.07666666666666667\n",
      "0.07766666666666665\n",
      "0.07733333333333332\n",
      "0.0783333333333333\n",
      "0.07733333333333334\n",
      "0.07633333333333332\n",
      "0.074\n",
      "0.07233333333333333\n",
      "0.07133333333333332\n",
      "0.07033333333333332\n",
      "0.07000000000000002\n",
      "0.06933333333333334\n",
      "0.06800000000000002\n",
      "0.06500000000000002\n",
      "0.06266666666666668\n",
      "0.057999999999999996\n",
      "0.05266666666666665\n",
      "0.04733333333333334\n",
      "0.04266666666666667\n",
      "0.038333333333333344\n",
      "0.03500000000000002\n",
      "0.031666666666666676\n",
      "0.029000000000000005\n",
      "0.02733333333333334\n",
      "0.02666666666666668\n",
      "0.026000000000000002\n",
      "0.025\n",
      "0.025333333333333326\n",
      "0.025666666666666664\n",
      "0.025999999999999995\n",
      "0.025999999999999995\n",
      "0.026666666666666665\n",
      "0.027666666666666666\n",
      "0.02866666666666666\n",
      "0.02966666666666666\n",
      "0.03066666666666667\n",
      "0.03200000000000001\n",
      "0.033666666666666664\n",
      "0.03566666666666667\n",
      "0.037333333333333336\n",
      "0.039000000000000014\n",
      "0.041000000000000016\n",
      "0.04366666666666668\n",
      "0.04566666666666668\n",
      "0.04933333333333333\n",
      "0.052666666666666674\n",
      "0.057\n",
      "0.06266666666666668\n",
      "0.06733333333333333\n",
      "0.07266666666666668\n",
      "0.07966666666666669\n",
      "0.08566666666666667\n",
      "0.09166666666666665\n",
      "0.09933333333333333\n",
      "0.10666666666666666\n",
      "0.11433333333333334\n",
      "0.1223333333333333\n",
      "0.13100000000000003\n",
      "0.14533333333333334\n",
      "0.15766666666666665\n",
      "0.17099999999999999\n",
      "0.18699999999999997\n",
      "0.2046666666666667\n",
      "0.2246666666666667\n",
      "0.24433333333333332\n",
      "0.266\n",
      "0.29200000000000004\n",
      "0.3116666666666667\n",
      "0.32833333333333337\n",
      "0.345\n",
      "0.3586666666666667\n",
      "0.36999999999999994\n",
      "0.383\n",
      "0.39766666666666667\n",
      "0.41400000000000003\n",
      "0.43366666666666664\n",
      "0.46133333333333326\n",
      "0.49266666666666675\n",
      "0.5349999999999999\n",
      "0.593\n",
      "0.648\n",
      "0.7026666666666666\n",
      "0.7483333333333333\n",
      "0.7886666666666666\n",
      "0.8243333333333333\n",
      "0.8363333333333335\n",
      "0.8276666666666666\n",
      "0.7966666666666666\n",
      "0.7490000000000001\n",
      "0.6856666666666666\n",
      "0.614\n",
      "0.5433333333333333\n",
      "0.47266666666666673\n",
      "0.3966666666666666\n",
      "0.322\n",
      "0.268\n",
      "0.22033333333333335\n",
      "0.17900000000000002\n",
      "0.1406666666666667\n",
      "0.11333333333333334\n",
      "0.09266666666666662\n",
      "0.07766666666666666\n",
      "0.06366666666666668\n",
      "0.05333333333333332\n",
      "0.04666666666666667\n",
      "0.04066666666666666\n",
      "0.03566666666666667\n",
      "0.03266666666666666\n",
      "0.029666666666666668\n",
      "0.027666666666666666\n",
      "0.025666666666666664\n",
      "0.024\n",
      "0.023333333333333324\n",
      "0.02166666666666666\n",
      "0.021666666666666654\n",
      "0.02066666666666666\n",
      "0.019999999999999997\n",
      "0.018999999999999996\n",
      "0.018999999999999996\n",
      "0.018999999999999996\n",
      "0.019333333333333327\n",
      "0.017999999999999995\n",
      "0.018000000000000002\n",
      "0.01766666666666667\n",
      "0.017666666666666657\n",
      "0.017333333333333333\n",
      "0.017333333333333333\n",
      "0.01766666666666667\n",
      "0.017333333333333333\n",
      "0.017333333333333333\n",
      "0.017\n",
      "0.016666666666666663\n",
      "0.017666666666666664\n",
      "0.017666666666666657\n",
      "0.016999999999999994\n",
      "0.016666666666666656\n",
      "0.01633333333333333\n",
      "0.01633333333333333\n",
      "0.015999999999999993\n",
      "0.015999999999999993\n",
      "0.016000000000000007\n",
      "0.015999999999999993\n",
      "0.014666666666666661\n",
      "0.01533333333333333\n",
      "0.014666666666666668\n",
      "0.01433333333333333\n",
      "0.013999999999999992\n",
      "0.014666666666666661\n",
      "0.013999999999999992\n",
      "0.013333333333333322\n",
      "0.01299999999999999\n",
      "0.013333333333333322\n",
      "0.01199999999999999\n",
      "0.01199999999999999\n",
      "0.012333333333333321\n",
      "0.01133333333333332\n",
      "0.012333333333333328\n",
      "0.01199999999999999\n",
      "0.01133333333333332\n",
      "0.010666666666666658\n",
      "0.010666666666666658\n",
      "0.010333333333333326\n",
      "0.009999999999999988\n",
      "0.009999999999999995\n",
      "0.009999999999999988\n",
      "0.009999999999999988\n",
      "0.011333333333333334\n",
      "0.011000000000000003\n",
      "0.010333333333333333\n",
      "0.010000000000000002\n",
      "0.009333333333333332\n",
      "0.009999999999999995\n",
      "0.008999999999999994\n",
      "0.009333333333333332\n",
      "0.009666666666666664\n",
      "0.008333333333333331\n",
      "0.009333333333333332\n",
      "0.008\n",
      "0.008333333333333331\n",
      "0.007666666666666662\n",
      "0.007666666666666662\n",
      "0.007666666666666669\n",
      "0.006999999999999999\n",
      "0.006666666666666661\n",
      "0.007333333333333331\n",
      "0.007333333333333331\n",
      "0.007000000000000006\n",
      "0.005666666666666674\n",
      "0.0059999999999999915\n",
      "0.006666666666666675\n",
      "0.005333333333333343\n",
      "0.006000000000000005\n",
      "0.005333333333333329\n",
      "0.006000000000000005\n",
      "0.00566666666666666\n",
      "0.005333333333333329\n",
      "0.004333333333333335\n",
      "0.005333333333333336\n",
      "0.005333333333333336\n",
      "0.004666666666666666\n",
      "0.004666666666666659\n",
      "0.005333333333333343\n",
      "0.005666666666666674\n",
      "0.0049999999999999906\n",
      "0.00566666666666666\n",
      "0.005333333333333329\n",
      "0.0049999999999999975\n",
      "0.0036666666666666584\n",
      "0.0049999999999999975\n",
      "0.0036666666666666722\n",
      "0.004333333333333328\n",
      "0.0049999999999999975\n",
      "0.00399999999999999\n",
      "0.003333333333333327\n",
      "0.0036666666666666584\n",
      "0.0049999999999999975\n",
      "0.0036666666666666653\n",
      "0.003333333333333327\n",
      "0.003333333333333327\n",
      "-0.2976666666666663\n",
      "-0.17633333333333345\n",
      "-0.28733333333333233\n",
      "-0.4996666666666667\n",
      "-0.4066666666666672\n",
      "-0.1676666666666664\n",
      "-0.3266666666666662\n",
      "-0.03733333333333366\n",
      "-0.35166666666666657\n",
      "-0.09433333333333316\n",
      "0.0\n",
      "-0.08733333333333348\n",
      "0.0\n",
      "0.0\n",
      "0.0\n",
      "-0.06033333333333335\n",
      "-0.026666666666667282\n",
      "-0.22233333333333327\n",
      "-0.1459999999999999\n",
      "-0.2666666666666666\n",
      "-0.05133333333333301\n",
      "-0.016000000000000014\n",
      "-0.09866666666666735\n",
      "-0.09399999999999942\n",
      "-0.14833333333333343\n",
      "-0.13133333333333397\n",
      "-0.06066666666666709\n",
      "-0.21433333333333415\n",
      "-0.125\n",
      "-0.03633333333333333\n",
      "-0.11833333333333362\n",
      "-0.051666666666666305\n",
      "-0.032666666666667066\n",
      "-0.02300000000000013\n",
      "-0.013666666666666494\n",
      "-0.011666666666666714\n",
      "-0.013333333333333197\n",
      "-0.006666666666666599\n",
      "0.0016666666666665941\n",
      "0.006333333333333413\n",
      "0.007000000000000117\n",
      "0.007000000000000006\n",
      "0.006666666666666599\n",
      "0.006000000000000005\n",
      "0.005333333333333357\n",
      "0.005666666666666709\n",
      "0.004999999999999949\n",
      "0.004666666666666708\n",
      "0.0043333333333333\n",
      "0.0040000000000000036\n",
      "0.004666666666666708\n",
      "0.00466666666666668\n",
      "0.004999999999999977\n",
      "0.00466666666666668\n",
      "0.005333333333333329\n",
      "0.005333333333333329\n",
      "0.0050000000000000044\n",
      "0.004999999999999949\n",
      "0.005000000000000032\n",
      "0.004666666666666652\n",
      "0.0050000000000000044\n",
      "0.0040000000000000036\n",
      "0.0050000000000000044\n",
      "0.003666666666666679\n",
      "0.003999999999999976\n",
      "0.003666666666666679\n",
      "0.0040000000000000036\n",
      "0.004333333333333342\n",
      "0.004333333333333328\n",
      "0.0049999999999999906\n",
      "0.004666666666666666\n",
      "0.0050000000000000044\n",
      "0.003666666666666679\n",
      "0.0026666666666666644\n",
      "0.002333333333333326\n",
      "0.003333333333333327\n",
      "0.0020000000000000018\n",
      "0.002333333333333326\n",
      "0.0030000000000000027\n",
      "0.0026666666666666644\n",
      "0.0020000000000000018\n",
      "0.0016666666666666635\n",
      "0.0020000000000000018\n",
      "0.000999999999999987\n",
      "0.0016666666666666774\n",
      "0.0020000000000000018\n",
      "0.00233333333333334\n",
      "0.0013333333333333253\n",
      "0.0006666666666666626\n",
      "0.0003333333333333244\n",
      "0.0\n",
      "0.0013333333333333391\n",
      "0.0016666666666666635\n",
      "0.0006666666666666765\n",
      "0.0003333333333333313\n",
      "0.0\n",
      "0.0006666666666666696\n",
      "0.0006666666666666696\n",
      "0.0006666666666666696\n",
      "0.001999999999999995\n",
      "0.0029999999999999957\n",
      "0.0029999999999999957\n",
      "0.0029999999999999957\n",
      "0.0016666666666666635\n",
      "0.0013333333333333253\n",
      "0.0013333333333333253\n",
      "0.0010000000000000009\n",
      "0.0010000000000000009\n",
      "0.0016666666666666705\n",
      "0.002333333333333333\n",
      "0.003333333333333341\n",
      "0.0030000000000000027\n",
      "0.0036666666666666722\n",
      "0.0036666666666666722\n",
      "0.0036666666666666722\n",
      "0.0026666666666666713\n",
      "0.0030000000000000027\n",
      "0.0026666666666666713\n",
      "0.0026666666666666713\n",
      "0.0040000000000000036\n",
      "0.0040000000000000036\n",
      "0.003333333333333341\n",
      "0.0036666666666666722\n",
      "0.0036666666666666653\n",
      "0.0030000000000000027\n",
      "0.003333333333333334\n",
      "0.0040000000000000036\n",
      "0.004333333333333342\n",
      "0.004333333333333335\n",
      "0.004333333333333342\n",
      "0.006000000000000005\n",
      "0.008333333333333331\n",
      "0.008999999999999994\n",
      "0.008999999999999987\n",
      "0.008666666666666663\n",
      "0.009000000000000001\n",
      "0.009000000000000001\n",
      "0.00866666666666667\n",
      "0.010000000000000002\n"
     ]
    },
    {
     "name": "stdout",
     "output_type": "stream",
     "text": [
      "0.010666666666666665\n",
      "0.01033333333333334\n",
      "0.011333333333333334\n",
      "0.011666666666666672\n",
      "0.011666666666666665\n",
      "0.012666666666666666\n",
      "0.013333333333333343\n",
      "0.013999999999999999\n",
      "0.014333333333333344\n",
      "0.01566666666666667\n",
      "0.017000000000000008\n",
      "0.01800000000000001\n",
      "0.019666666666666673\n",
      "0.022333333333333323\n",
      "0.025333333333333312\n",
      "0.027333333333333314\n",
      "0.027333333333333328\n",
      "0.028666666666666653\n",
      "0.028666666666666653\n",
      "0.027666666666666652\n",
      "0.026333333333333313\n",
      "0.02666666666666665\n",
      "0.02433333333333331\n",
      "0.020999999999999998\n",
      "0.019333333333333327\n",
      "0.01566666666666667\n",
      "0.013666666666666674\n",
      "0.011333333333333334\n",
      "0.009666666666666664\n",
      "0.007333333333333331\n",
      "0.006000000000000005\n",
      "0.005666666666666667\n",
      "0.004666666666666673\n",
      "0.004666666666666659\n",
      "0.00399999999999999\n",
      "0.0036666666666666584\n",
      "0.0036666666666666584\n",
      "0.003333333333333327\n",
      "0.0026666666666666575\n",
      "0.0020000000000000018\n",
      "0.0016666666666666705\n",
      "0.0010000000000000009\n",
      "0.0013333333333333322\n",
      "0.0010000000000000009\n",
      "0.0010000000000000009\n",
      "0.0013333333333333391\n",
      "0.0013333333333333391\n",
      "0.002333333333333326\n",
      "0.002333333333333326\n",
      "0.002333333333333326\n",
      "0.0013333333333333253\n",
      "0.001999999999999988\n",
      "0.002333333333333326\n",
      "0.003333333333333327\n",
      "0.001999999999999988\n",
      "0.0026666666666666575\n",
      "0.001999999999999995\n",
      "0.001999999999999988\n",
      "0.0013333333333333253\n",
      "0.0013333333333333322\n",
      "0.0016666666666666705\n",
      "0.000999999999999987\n",
      "0.0016666666666666566\n",
      "0.0016666666666666566\n",
      "0.001999999999999995\n",
      "0.0016666666666666566\n",
      "0.001999999999999988\n",
      "0.0016666666666666566\n",
      "0.001999999999999988\n",
      "0.0016666666666666566\n",
      "0.0006666666666666626\n",
      "0.000999999999999987\n",
      "0.0013333333333333253\n",
      "0.0010000000000000009\n",
      "0.000999999999999987\n",
      "0.0003333333333333244\n",
      "0.0013333333333333253\n",
      "0.001999999999999995\n",
      "0.0016666666666666635\n",
      "0.001999999999999988\n",
      "0.0029999999999999957\n",
      "0.0020000000000000018\n",
      "0.0016666666666666566\n",
      "0.001999999999999995\n",
      "0.002333333333333326\n",
      "0.001999999999999988\n",
      "0.0016666666666666566\n",
      "0.0020000000000000018\n",
      "0.001999999999999988\n",
      "0.0026666666666666713\n",
      "0.0030000000000000027\n",
      "0.0026666666666666644\n",
      "0.0013333333333333322\n",
      "0.0016666666666666705\n",
      "0.0016666666666666635\n",
      "0.0006666666666666626\n",
      "0.0016666666666666635\n",
      "0.0016666666666666705\n",
      "0.0016666666666666705\n",
      "0.0036666666666666722\n",
      "0.0040000000000000036\n",
      "0.0026666666666666644\n",
      "0.00233333333333334\n",
      "0.0016666666666666705\n",
      "0.0020000000000000018\n",
      "0.0010000000000000009\n",
      "0.0016666666666666705\n",
      "0.0020000000000000018\n",
      "0.0020000000000000018\n",
      "0.00233333333333334\n",
      "0.0013333333333333253\n",
      "0.0016666666666666635\n",
      "0.0013333333333333322\n",
      "0.0020000000000000018\n",
      "0.0006666666666666696\n",
      "0.0010000000000000009\n",
      "0.0020000000000000018\n",
      "0.002333333333333326\n",
      "0.0026666666666666575\n",
      "0.0010000000000000009\n",
      "0.0016666666666666705\n",
      "0.0013333333333333322\n",
      "0.0020000000000000018\n",
      "0.0016666666666666705\n",
      "0.0013333333333333391\n",
      "0.0013333333333333253\n",
      "0.0016666666666666635\n",
      "0.0013333333333333253\n",
      "0.0016666666666666566\n",
      "0.0003333333333333313\n",
      "0.0010000000000000009\n",
      "0.0010000000000000009\n",
      "0.0003333333333333313\n",
      "0.0016666666666666566\n",
      "0.0016666666666666705\n",
      "0.0013333333333333322\n",
      "0.0013333333333333253\n",
      "0.0016666666666666566\n",
      "0.002333333333333326\n",
      "0.0020000000000000018\n",
      "0.0013333333333333253\n",
      "0.001999999999999995\n",
      "0.0016666666666666705\n",
      "0.002333333333333326\n",
      "0.0026666666666666644\n",
      "0.0016666666666666566\n",
      "0.0013333333333333322\n",
      "0.0016666666666666566\n",
      "0.002333333333333326\n",
      "0.0016666666666666635\n",
      "0.0013333333333333253\n",
      "0.0016666666666666635\n",
      "-0.1716666666666664\n",
      "0.3073333333333337\n",
      "-0.1426666666666665\n",
      "0.011666666666666714\n",
      "0.07133333333333258\n",
      "0.03166666666666629\n",
      "-0.2023333333333328\n",
      "0.0\n",
      "-0.057333333333333236\n",
      "-0.12766666666666726\n",
      "-0.006999999999999673\n",
      "0.03633333333333422\n",
      "0.0\n",
      "0.0\n",
      "0.0\n",
      "0.0\n",
      "0.0\n",
      "-0.07000000000000028\n",
      "-0.028999999999999915\n",
      "-0.03699999999999992\n",
      "0.0\n",
      "0.0\n",
      "-0.031333333333333435\n",
      "0.0\n",
      "0.0\n",
      "-0.027666666666666728\n",
      "0.03500000000000014\n",
      "-0.011000000000001009\n",
      "0.029000000000000803\n",
      "0.0016666666666669272\n",
      "-0.13266666666666715\n",
      "-0.10366666666666635\n",
      "-0.0860000000000003\n",
      "-0.06300000000000017\n",
      "-0.04166666666666674\n",
      "-0.033333333333333215\n",
      "-0.02933333333333321\n",
      "-0.010666666666666602\n",
      "0.0076666666666667105\n",
      "0.01766666666666661\n",
      "0.020666666666666722\n",
      "0.020999999999999908\n",
      "0.02066666666666661\n",
      "0.01966666666666672\n",
      "0.019666666666666666\n",
      "0.019000000000000072\n",
      "0.019333333333333313\n",
      "0.019666666666666666\n",
      "0.020000000000000018\n",
      "0.02066666666666661\n",
      "0.022999999999999965\n",
      "0.023000000000000048\n",
      "0.023999999999999994\n",
      "0.024333333333333318\n",
      "0.025999999999999968\n",
      "0.026666666666666644\n",
      "0.0266666666666667\n",
      "0.02799999999999997\n",
      "0.029666666666666675\n",
      "0.030333333333333323\n",
      "0.03133333333333338\n",
      "0.032\n",
      "0.03266666666666668\n",
      "0.033333333333333354\n",
      "0.03499999999999995\n",
      "0.03533333333333333\n",
      "0.03566666666666665\n",
      "0.03599999999999999\n",
      "0.036333333333333315\n",
      "0.0373333333333333\n",
      "0.03666666666666664\n",
      "0.037333333333333316\n",
      "0.037333333333333316\n",
      "0.038333333333333344\n",
      "0.03866666666666667\n",
      "0.03966666666666667\n",
      "0.03833333333333333\n",
      "0.03799999999999999\n",
      "0.037000000000000005\n",
      "0.03699999999999999\n",
      "0.036000000000000004\n",
      "0.03533333333333334\n",
      "0.03500000000000002\n",
      "0.034666666666666665\n",
      "0.034\n",
      "0.03266666666666668\n",
      "0.031666666666666676\n",
      "0.028666666666666674\n",
      "0.026333333333333334\n",
      "0.023999999999999994\n",
      "0.021666666666666667\n",
      "0.019666666666666666\n",
      "0.017666666666666664\n",
      "0.01633333333333334\n",
      "0.014666666666666668\n",
      "0.013999999999999992\n",
      "0.013999999999999992\n",
      "0.013666666666666667\n",
      "0.012666666666666666\n",
      "0.013000000000000005\n",
      "0.012333333333333342\n",
      "0.012666666666666673\n",
      "0.012333333333333335\n",
      "0.013333333333333343\n",
      "0.013666666666666667\n",
      "0.014333333333333337\n",
      "0.014666666666666675\n",
      "0.015000000000000006\n",
      "0.015666666666666655\n",
      "0.016666666666666677\n",
      "0.017666666666666657\n",
      "0.01833333333333332\n",
      "0.018999999999999996\n",
      "0.019999999999999997\n",
      "0.022\n",
      "0.022333333333333323\n",
      "0.024333333333333325\n",
      "0.026666666666666665\n",
      "0.02833333333333333\n",
      "0.03066666666666667\n",
      "0.03366666666666667\n",
      "0.03700000000000001\n",
      "0.04033333333333334\n",
      "0.04333333333333334\n",
      "0.046333333333333344\n",
      "0.049666666666666665\n",
      "0.054\n",
      "0.05833333333333334\n",
      "0.06233333333333334\n",
      "0.06633333333333333\n",
      "0.07333333333333333\n",
      "0.07866666666666666\n",
      "0.086\n",
      "0.09399999999999997\n",
      "0.10333333333333333\n",
      "0.11299999999999999\n",
      "0.123\n",
      "0.13466666666666666\n",
      "0.14800000000000005\n",
      "0.158\n",
      "0.167\n",
      "0.17500000000000002\n",
      "0.18166666666666664\n",
      "0.18733333333333332\n",
      "0.19366666666666668\n",
      "0.201\n",
      "0.20933333333333334\n",
      "0.21900000000000003\n",
      "0.23233333333333334\n",
      "0.24733333333333335\n",
      "0.269\n",
      "0.29733333333333334\n",
      "0.32466666666666666\n",
      "0.35066666666666674\n",
      "0.37266666666666665\n",
      "0.39366666666666666\n",
      "0.41133333333333333\n",
      "0.418\n",
      "0.41466666666666663\n",
      "0.3993333333333334\n",
      "0.3743333333333333\n",
      "0.3443333333333334\n",
      "0.309\n",
      "0.27366666666666667\n",
      "0.239\n",
      "0.20099999999999998\n",
      "0.163\n",
      "0.13599999999999998\n",
      "0.11233333333333334\n",
      "0.091\n",
      "0.07200000000000001\n",
      "0.05800000000000001\n",
      "0.04733333333333333\n",
      "0.039333333333333324\n",
      "0.032666666666666656\n",
      "0.02699999999999999\n",
      "0.02366666666666665\n",
      "0.020999999999999998\n",
      "0.018333333333333347\n",
      "0.016666666666666677\n",
      "0.015333333333333345\n",
      "0.014000000000000005\n",
      "0.012666666666666666\n",
      "0.012666666666666666\n",
      "0.011666666666666665\n",
      "0.011000000000000003\n",
      "0.010999999999999989\n",
      "0.01033333333333332\n",
      "0.009333333333333318\n",
      "0.009333333333333325\n",
      "0.009666666666666657\n",
      "0.008666666666666656\n",
      "0.008999999999999987\n",
      "0.008999999999999987\n",
      "0.009333333333333325\n",
      "0.008333333333333325\n",
      "0.008666666666666656\n",
      "0.008333333333333325\n",
      "0.008666666666666663\n",
      "0.009000000000000001\n",
      "0.008333333333333318\n",
      "0.008666666666666656\n",
      "0.008999999999999987\n",
      "0.008666666666666656\n",
      "0.008666666666666656\n",
      "0.008999999999999987\n",
      "0.008333333333333318\n",
      "0.008666666666666656\n",
      "0.007999999999999986\n",
      "0.007666666666666655\n",
      "0.007999999999999986\n",
      "0.008333333333333325\n",
      "0.007666666666666662\n",
      "0.007999999999999993\n",
      "0.007333333333333331\n",
      "0.007666666666666662\n",
      "0.006999999999999999\n",
      "0.006999999999999999\n",
      "0.006999999999999992\n",
      "0.00633333333333333\n",
      "0.00633333333333333\n",
      "0.00633333333333333\n",
      "0.006666666666666661\n",
      "0.006999999999999992\n",
      "0.00566666666666666\n",
      "0.00566666666666666\n",
      "0.00566666666666666\n",
      "0.005333333333333329\n",
      "0.005999999999999998\n",
      "0.0059999999999999915\n",
      "0.005333333333333329\n",
      "0.004666666666666659\n",
      "0.005333333333333329\n",
      "0.0049999999999999975\n",
      "0.0049999999999999906\n",
      "0.004333333333333328\n",
      "0.005333333333333329\n",
      "0.004666666666666659\n",
      "0.005666666666666667\n",
      "0.0049999999999999975\n",
      "0.004666666666666659\n",
      "0.0049999999999999975\n",
      "0.0049999999999999975\n",
      "0.004666666666666666\n",
      "0.0036666666666666653\n",
      "0.003999999999999997\n",
      "0.004666666666666659\n",
      "0.004333333333333328\n",
      "0.003999999999999997\n",
      "0.003333333333333327\n",
      "0.004333333333333328\n",
      "0.003999999999999997\n",
      "0.00399999999999999\n",
      "0.0036666666666666653\n",
      "0.0026666666666666575\n",
      "0.002999999999999989\n",
      "0.0036666666666666584\n",
      "0.00399999999999999\n",
      "0.0030000000000000027\n",
      "0.0030000000000000027\n",
      "0.0036666666666666653\n",
      "0.0036666666666666722\n",
      "0.0026666666666666713\n",
      "0.00233333333333334\n",
      "0.0026666666666666644\n",
      "0.0030000000000000027\n",
      "0.002333333333333326\n",
      "0.001999999999999988\n",
      "0.0013333333333333322\n",
      "0.002333333333333333\n",
      "0.002333333333333333\n",
      "0.002333333333333333\n",
      "0.002333333333333326\n",
      "0.00233333333333334\n",
      "0.002333333333333333\n",
      "0.002333333333333326\n",
      "0.002333333333333326\n",
      "0.002333333333333326\n",
      "0.002333333333333326\n",
      "0.001999999999999995\n",
      "0.0026666666666666575\n",
      "0.0020000000000000018\n",
      "0.002333333333333326\n",
      "0.002333333333333326\n",
      "0.0016666666666666566\n",
      "0.0016666666666666566\n",
      "0.0016666666666666566\n",
      "0.0026666666666666575\n",
      "0.0006666666666666626\n",
      "0.0016666666666666635\n",
      "0.001999999999999995\n",
      "0.2566666666666664\n",
      "0.6563333333333334\n",
      "0.2523333333333344\n",
      "0.22499999999999964\n",
      "0.19033333333333236\n",
      "0.16733333333333356\n",
      "-0.1850000000000005\n",
      "0.0\n",
      "-0.04533333333333456\n",
      "-0.10599999999999987\n",
      "0.0\n",
      "-0.0829999999999993\n",
      "0.0\n",
      "0.0\n",
      "0.0\n",
      "0.0\n",
      "0.0\n",
      "-0.03733333333333366\n",
      "0.0\n",
      "-0.12066666666666581\n",
      "0.0\n",
      "0.0\n",
      "-0.006000000000000227\n",
      "0.0\n",
      "0.0\n",
      "-0.0389999999999997\n",
      "0.018333333333333535\n",
      "-0.07833333333333314\n",
      "0.04300000000000015\n",
      "0.029333333333333655\n",
      "-0.1536666666666675\n",
      "-0.13099999999999934\n",
      "-0.11033333333333362\n",
      "-0.09133333333333349\n",
      "-0.07200000000000006\n",
      "-0.06633333333333336\n",
      "-0.06766666666666676\n",
      "-0.05033333333333334\n",
      "-0.029333333333333433\n",
      "-0.018000000000000016\n",
      "-0.013333333333333308\n",
      "-0.01100000000000001\n",
      "-0.00933333333333336\n",
      "-0.008666666666666656\n",
      "-0.007666666666666655\n",
      "-0.006999999999999951\n",
      "-0.006000000000000005\n",
      "-0.006000000000000005\n",
      "-0.005666666666666653\n",
      "-0.004666666666666652\n",
      "-0.0036666666666666514\n",
      "-0.0040000000000000036\n",
      "-0.0030000000000000304\n",
      "-0.003333333333333327\n",
      "-0.0020000000000000018\n",
      "-0.0030000000000000027\n",
      "-0.0013333333333332975\n",
      "-0.0010000000000000564\n",
      "-0.0009999999999999731\n",
      "-0.0003333333333333244\n",
      "-0.0003333333333333244\n",
      "0.0\n",
      "0.00033333333333335213\n",
      "-0.0003333333333333244\n",
      "0.0006666666666666765\n",
      "0.00033333333333335213\n"
     ]
    },
    {
     "name": "stdout",
     "output_type": "stream",
     "text": [
      "0.0006666666666666765\n",
      "0.0010000000000000009\n",
      "0.0013333333333333253\n",
      "0.001999999999999988\n",
      "0.0020000000000000018\n",
      "0.0016666666666666774\n",
      "0.0013333333333333391\n",
      "0.0010000000000000009\n",
      "0.0006666666666666626\n",
      "0.0016666666666666635\n",
      "0.0010000000000000009\n",
      "0.0013333333333333253\n",
      "0.0016666666666666774\n",
      "0.0016666666666666635\n",
      "0.0013333333333333253\n",
      "0.0006666666666666626\n",
      "0.0013333333333333391\n",
      "0.0006666666666666765\n",
      "0.0006666666666666765\n",
      "0.0010000000000000009\n",
      "0.0013333333333333391\n",
      "0.0013333333333333253\n",
      "0.0006666666666666626\n",
      "0.0003333333333333244\n",
      "0.00033333333333333826\n",
      "0.0010000000000000009\n",
      "0.0016666666666666635\n",
      "0.0010000000000000009\n",
      "0.0006666666666666696\n",
      "0.00033333333333333826\n",
      "0.0006666666666666696\n",
      "0.0006666666666666696\n",
      "0.0006666666666666696\n",
      "0.001999999999999995\n",
      "0.002333333333333326\n",
      "0.002333333333333326\n",
      "0.001999999999999995\n",
      "0.0016666666666666635\n",
      "0.0016666666666666635\n",
      "0.0016666666666666566\n",
      "0.000999999999999994\n",
      "0.0013333333333333253\n",
      "0.0016666666666666635\n",
      "0.0020000000000000018\n",
      "0.00233333333333334\n",
      "0.002333333333333333\n",
      "0.0030000000000000027\n",
      "0.0026666666666666713\n",
      "0.0026666666666666713\n",
      "0.0016666666666666705\n",
      "0.0026666666666666713\n",
      "0.00233333333333334\n",
      "0.00233333333333334\n",
      "0.0030000000000000027\n",
      "0.0030000000000000027\n",
      "0.0026666666666666713\n",
      "0.0030000000000000027\n",
      "0.0026666666666666644\n",
      "0.00233333333333334\n",
      "0.002333333333333333\n",
      "0.0026666666666666713\n",
      "0.0030000000000000027\n",
      "0.0030000000000000027\n",
      "0.0030000000000000027\n",
      "0.004666666666666673\n",
      "0.0049999999999999906\n",
      "0.0059999999999999915\n",
      "0.00566666666666666\n",
      "0.0050000000000000044\n",
      "0.005333333333333336\n",
      "0.005333333333333336\n",
      "0.0049999999999999975\n",
      "0.005666666666666667\n",
      "0.0059999999999999915\n",
      "0.005999999999999998\n",
      "0.005999999999999998\n",
      "0.00633333333333333\n",
      "0.006666666666666661\n",
      "0.007333333333333331\n",
      "0.007333333333333331\n",
      "0.008\n",
      "0.007666666666666669\n",
      "0.007999999999999993\n",
      "0.009000000000000001\n",
      "0.009666666666666664\n",
      "0.010666666666666672\n",
      "0.012333333333333328\n",
      "0.01366666666666666\n",
      "0.014666666666666661\n",
      "0.01433333333333333\n",
      "0.014999999999999993\n",
      "0.014999999999999993\n",
      "0.01433333333333333\n",
      "0.013999999999999992\n",
      "0.01433333333333333\n",
      "0.01299999999999999\n",
      "0.010999999999999989\n",
      "0.009999999999999988\n",
      "0.008333333333333331\n",
      "0.007333333333333331\n",
      "0.006666666666666668\n",
      "0.005333333333333336\n",
      "0.004666666666666673\n",
      "0.0036666666666666722\n",
      "0.0036666666666666653\n",
      "0.0026666666666666713\n",
      "0.003333333333333327\n",
      "0.0026666666666666575\n",
      "0.002999999999999989\n",
      "0.0026666666666666575\n",
      "0.001999999999999988\n",
      "0.0016666666666666566\n",
      "0.0010000000000000009\n",
      "0.0013333333333333322\n",
      "0.0010000000000000009\n",
      "0.0013333333333333322\n",
      "0.0016666666666666705\n",
      "0.0016666666666666705\n",
      "0.0013333333333333391\n",
      "0.0016666666666666705\n",
      "0.0016666666666666566\n",
      "0.001999999999999988\n",
      "0.001999999999999988\n",
      "0.0013333333333333253\n",
      "0.0013333333333333253\n",
      "0.001999999999999988\n",
      "0.0026666666666666575\n",
      "0.0016666666666666566\n",
      "0.002333333333333326\n",
      "0.0013333333333333253\n",
      "0.0013333333333333253\n",
      "0.0006666666666666626\n",
      "0.0010000000000000009\n",
      "0.0013333333333333391\n",
      "0.000999999999999987\n",
      "0.0013333333333333253\n",
      "0.0016666666666666566\n",
      "0.0016666666666666566\n",
      "0.0016666666666666566\n",
      "0.001999999999999988\n",
      "0.0013333333333333253\n",
      "0.0016666666666666566\n",
      "0.000999999999999987\n",
      "0.000999999999999994\n",
      "0.0013333333333333253\n",
      "0.0013333333333333253\n",
      "0.0010000000000000009\n",
      "0.0016666666666666566\n",
      "-6.938893903907228e-18\n",
      "0.000999999999999987\n",
      "0.0006666666666666626\n",
      "0.000999999999999994\n",
      "0.0013333333333333253\n",
      "0.0020000000000000018\n",
      "0.0016666666666666635\n",
      "0.0010000000000000009\n",
      "0.0013333333333333253\n",
      "0.0016666666666666566\n",
      "0.0013333333333333253\n",
      "0.0010000000000000009\n",
      "0.0016666666666666635\n",
      "0.0010000000000000009\n",
      "0.0016666666666666705\n",
      "0.0020000000000000018\n",
      "0.0020000000000000018\n",
      "0.0010000000000000009\n",
      "0.0010000000000000009\n",
      "0.0006666666666666696\n",
      "0.0006666666666666626\n",
      "0.0006666666666666626\n",
      "0.0010000000000000009\n",
      "0.0016666666666666566\n",
      "0.0026666666666666713\n",
      "0.0030000000000000027\n",
      "0.002333333333333333\n",
      "0.0016666666666666705\n",
      "0.0010000000000000009\n",
      "0.0013333333333333391\n",
      "0.0013333333333333391\n",
      "0.0016666666666666705\n",
      "0.0016666666666666705\n",
      "0.0016666666666666705\n",
      "0.0020000000000000018\n",
      "0.0003333333333333313\n",
      "0.0013333333333333322\n",
      "0.0013333333333333322\n",
      "0.0016666666666666635\n",
      "0.0013333333333333391\n",
      "0.0006666666666666696\n",
      "0.0010000000000000009\n",
      "0.0016666666666666566\n",
      "0.001999999999999988\n",
      "0.0010000000000000009\n",
      "0.0010000000000000009\n",
      "0.0010000000000000009\n",
      "0.0020000000000000018\n",
      "0.0013333333333333391\n",
      "0.0016666666666666705\n",
      "0.0016666666666666635\n",
      "0.0013333333333333322\n",
      "0.000999999999999987\n",
      "0.0013333333333333253\n",
      "0.0003333333333333313\n",
      "0.0010000000000000009\n",
      "0.0006666666666666626\n",
      "0.0003333333333333313\n",
      "0.000999999999999994\n",
      "0.0006666666666666696\n",
      "0.0010000000000000009\n",
      "0.0013333333333333253\n",
      "0.000999999999999994\n",
      "0.0013333333333333253\n",
      "0.0013333333333333322\n",
      "0.0013333333333333253\n",
      "0.001999999999999995\n",
      "0.0010000000000000009\n",
      "0.0013333333333333253\n",
      "0.0016666666666666635\n",
      "0.0016666666666666566\n",
      "0.000999999999999987\n",
      "0.0013333333333333253\n",
      "0.0016666666666666566\n",
      "0.000999999999999994\n",
      "0.0016666666666666635\n",
      "0.0013333333333333253\n",
      "0.39033333333333387\n",
      "0.06766666666666632\n",
      "-0.15733333333333244\n",
      "-0.19833333333333325\n",
      "-0.10600000000000076\n",
      "0.22566666666666624\n",
      "-0.2573333333333334\n",
      "-0.0013333333333331865\n",
      "-0.0946666666666669\n",
      "0.0\n",
      "0.0\n",
      "0.025666666666667837\n",
      "0.0\n",
      "0.0\n",
      "0.0\n",
      "0.0\n",
      "0.0\n",
      "0.0\n",
      "0.0\n",
      "0.014000000000000234\n",
      "0.0\n",
      "0.0\n",
      "0.0\n",
      "0.0\n",
      "0.0\n",
      "0.009666666666666934\n",
      "0.03500000000000014\n",
      "-0.04566666666666741\n",
      "0.0216666666666665\n",
      "0.06033333333333335\n",
      "-0.14100000000000046\n",
      "-0.12333333333333307\n",
      "-0.1026666666666669\n",
      "-0.08333333333333393\n",
      "-0.06233333333333335\n",
      "-0.05266666666666642\n",
      "-0.047666666666666524\n",
      "-0.03200000000000003\n",
      "-0.01633333333333331\n",
      "-0.00666666666666671\n",
      "-0.002666666666666595\n",
      "-0.0010000000000000009\n",
      "0.0\n",
      "0.0010000000000000564\n",
      "0.0016666666666667052\n",
      "0.0016666666666667052\n",
      "0.0026666666666666505\n",
      "0.0030000000000000027\n",
      "0.003666666666666707\n",
      "0.0043333333333333\n",
      "0.006000000000000005\n",
      "0.006000000000000033\n",
      "0.006666666666666654\n",
      "0.007333333333333331\n",
      "0.008333333333333304\n",
      "0.008333333333333331\n",
      "0.009333333333333332\n",
      "0.009999999999999953\n",
      "0.010333333333333361\n",
      "0.01100000000000001\n",
      "0.01200000000000001\n",
      "0.012333333333333363\n",
      "0.013666666666666688\n",
      "0.013666666666666688\n",
      "0.014999999999999986\n",
      "0.01533333333333331\n",
      "0.015333333333333338\n",
      "0.016000000000000028\n",
      "0.016\n",
      "0.01733333333333334\n",
      "0.01666666666666665\n",
      "0.017666666666666664\n",
      "0.017666666666666664\n",
      "0.018333333333333326\n",
      "0.017999999999999974\n",
      "0.019333333333333313\n",
      "0.018333333333333326\n",
      "0.018333333333333326\n",
      "0.018000000000000002\n",
      "0.017666666666666664\n",
      "0.018000000000000016\n",
      "0.017666666666666678\n",
      "0.01766666666666669\n",
      "0.01733333333333334\n",
      "0.017\n",
      "0.01633333333333334\n",
      "0.016\n",
      "0.014333333333333323\n",
      "0.013333333333333322\n",
      "0.01266666666666666\n",
      "0.010999999999999996\n",
      "0.010999999999999996\n",
      "0.00966666666666667\n",
      "0.008666666666666684\n",
      "0.007666666666666676\n",
      "0.0073333333333333375\n",
      "0.0073333333333333375\n",
      "0.006666666666666675\n",
      "0.006666666666666675\n",
      "0.006999999999999999\n",
      "0.006666666666666661\n",
      "0.006666666666666661\n",
      "0.006999999999999992\n",
      "0.0073333333333333375\n",
      "0.007666666666666662\n",
      "0.007999999999999993\n",
      "0.007999999999999993\n",
      "0.008333333333333325\n",
      "0.008666666666666663\n",
      "0.009333333333333332\n",
      "0.009666666666666664\n",
      "0.010333333333333326\n",
      "0.010666666666666665\n",
      "0.01033333333333334\n",
      "0.012333333333333342\n",
      "0.012000000000000004\n",
      "0.013000000000000005\n",
      "0.014000000000000005\n",
      "0.015000000000000006\n",
      "0.016000000000000007\n",
      "0.017333333333333346\n",
      "0.019333333333333348\n",
      "0.021333333333333322\n",
      "0.022999999999999986\n",
      "0.024\n",
      "0.025999999999999995\n",
      "0.027666666666666666\n",
      "0.03033333333333333\n",
      "0.03233333333333334\n",
      "0.03466666666666667\n",
      "0.03833333333333334\n",
      "0.04066666666666666\n",
      "0.04433333333333333\n",
      "0.04866666666666665\n",
      "0.05333333333333333\n",
      "0.05800000000000001\n",
      "0.06333333333333332\n",
      "0.06933333333333333\n",
      "0.07566666666666669\n",
      "0.08133333333333334\n",
      "0.08533333333333334\n",
      "0.08966666666666667\n",
      "0.09333333333333335\n",
      "0.09599999999999997\n",
      "0.09866666666666665\n",
      "0.10266666666666666\n",
      "0.10733333333333334\n",
      "0.11166666666666666\n",
      "0.11833333333333332\n",
      "0.12633333333333335\n",
      "0.13699999999999998\n",
      "0.151\n",
      "0.16433333333333333\n",
      "0.17733333333333334\n",
      "0.1883333333333333\n",
      "0.199\n",
      "0.208\n",
      "0.2116666666666667\n",
      "0.21\n",
      "0.20199999999999999\n",
      "0.18933333333333333\n",
      "0.17466666666666666\n",
      "0.15733333333333333\n",
      "0.1396666666666667\n",
      "0.12233333333333332\n",
      "0.10333333333333333\n",
      "0.08400000000000002\n",
      "0.07033333333333333\n",
      "0.058333333333333334\n",
      "0.04699999999999999\n",
      "0.038\n",
      "0.03066666666666666\n",
      "0.02566666666666665\n",
      "0.020999999999999998\n",
      "0.017999999999999995\n",
      "0.01533333333333333\n",
      "0.013333333333333329\n",
      "0.01133333333333332\n",
      "0.010333333333333333\n",
      "0.010000000000000002\n",
      "0.009000000000000001\n",
      "0.008333333333333331\n",
      "0.008\n",
      "0.007666666666666669\n",
      "0.006666666666666668\n",
      "0.006666666666666668\n",
      "0.006999999999999985\n",
      "0.006333333333333316\n",
      "0.005333333333333315\n",
      "0.005666666666666653\n",
      "0.0059999999999999845\n",
      "0.005333333333333315\n",
      "0.005333333333333329\n",
      "0.005666666666666653\n",
      "0.005333333333333322\n",
      "0.005333333333333322\n",
      "0.005333333333333315\n",
      "0.005666666666666653\n",
      "0.0049999999999999906\n",
      "0.00633333333333333\n",
      "0.005333333333333315\n",
      "0.0059999999999999845\n",
      "0.004999999999999984\n",
      "0.004999999999999984\n",
      "0.005333333333333322\n",
      "0.006666666666666654\n",
      "0.005333333333333315\n",
      "0.005666666666666653\n",
      "0.005333333333333315\n",
      "0.005333333333333322\n",
      "0.004666666666666652\n",
      "0.004666666666666652\n",
      "0.005333333333333329\n",
      "0.005333333333333315\n",
      "0.004666666666666652\n",
      "0.004999999999999984\n",
      "0.0049999999999999906\n",
      "0.004666666666666652\n",
      "0.005333333333333315\n",
      "0.004666666666666666\n",
      "0.00399999999999999\n",
      "0.00399999999999999\n",
      "0.004666666666666652\n",
      "0.0049999999999999906\n",
      "0.0036666666666666584\n",
      "0.004333333333333328\n",
      "0.00399999999999999\n",
      "0.00399999999999999\n",
      "0.004333333333333328\n",
      "0.004333333333333328\n",
      "0.00399999999999999\n",
      "0.0036666666666666584\n",
      "0.0036666666666666584\n",
      "0.003333333333333327\n",
      "0.0036666666666666584\n",
      "0.003333333333333327\n",
      "0.0036666666666666584\n",
      "0.0036666666666666584\n",
      "0.004666666666666666\n",
      "0.0036666666666666584\n",
      "0.0036666666666666584\n",
      "0.004333333333333328\n",
      "0.003333333333333327\n",
      "0.003333333333333327\n",
      "0.0029999999999999957\n",
      "0.003333333333333327\n",
      "0.003999999999999997\n",
      "0.003333333333333327\n",
      "0.0036666666666666653\n",
      "0.0029999999999999957\n",
      "0.0036666666666666584\n",
      "0.0036666666666666584\n",
      "0.002999999999999989\n",
      "0.0026666666666666644\n",
      "0.001999999999999995\n",
      "0.0026666666666666575\n",
      "0.003333333333333327\n",
      "0.0036666666666666584\n",
      "0.0026666666666666644\n",
      "0.0029999999999999957\n",
      "0.002999999999999989\n",
      "0.003333333333333327\n",
      "0.0026666666666666713\n",
      "0.00233333333333334\n",
      "0.0026666666666666644\n",
      "0.0030000000000000027\n",
      "0.002333333333333326\n",
      "0.002333333333333326\n",
      "0.0020000000000000018\n",
      "0.002333333333333333\n",
      "0.0026666666666666644\n",
      "0.002333333333333333\n",
      "0.001999999999999995\n",
      "0.0026666666666666713\n",
      "0.0030000000000000027\n",
      "0.002999999999999989\n",
      "0.0029999999999999957\n",
      "0.00399999999999999\n",
      "0.0026666666666666575\n",
      "0.002333333333333326\n",
      "0.0026666666666666575\n",
      "0.002333333333333333\n",
      "0.0026666666666666575\n",
      "0.0029999999999999957\n",
      "0.002333333333333326\n",
      "0.002333333333333326\n",
      "0.0026666666666666575\n",
      "0.0026666666666666575\n",
      "0.001999999999999995\n",
      "0.0029999999999999957\n",
      "0.002333333333333326\n",
      "0.13600000000000056\n",
      "0.5376666666666665\n",
      "0.2566666666666668\n",
      "0.22299999999999986\n",
      "0.2073333333333327\n",
      "0.3250000000000002\n",
      "-0.1423333333333332\n",
      "0.0\n",
      "-0.09333333333333371\n",
      "-0.024666666666666615\n",
      "0.0\n"
     ]
    },
    {
     "name": "stdout",
     "output_type": "stream",
     "text": [
      "0.04133333333333411\n",
      "0.0\n",
      "0.0\n",
      "0.0\n",
      "0.0\n",
      "0.0\n",
      "0.0\n",
      "-0.0216666666666665\n",
      "-0.11099999999999977\n",
      "0.0\n",
      "0.0\n",
      "0.0\n",
      "0.0\n",
      "0.0\n",
      "0.020333333333333314\n",
      "0.03500000000000014\n",
      "0.03866666666666596\n",
      "-0.06700000000000017\n",
      "-0.001000000000000334\n",
      "-0.18466666666666676\n",
      "-0.16233333333333322\n",
      "-0.14133333333333375\n",
      "-0.11566666666666703\n",
      "-0.09433333333333338\n",
      "-0.08499999999999996\n",
      "-0.08033333333333337\n",
      "-0.05933333333333346\n",
      "-0.038000000000000145\n",
      "-0.02533333333333332\n",
      "-0.019000000000000017\n",
      "-0.015666666666666718\n",
      "-0.013333333333333364\n",
      "-0.011333333333333306\n",
      "-0.010333333333333306\n",
      "-0.008666666666666656\n",
      "-0.008000000000000007\n",
      "-0.007333333333333303\n",
      "-0.00666666666666671\n",
      "-0.005333333333333357\n",
      "-0.0040000000000000036\n",
      "-0.0030000000000000027\n",
      "-0.0030000000000000304\n",
      "-0.0026666666666666783\n",
      "-0.0010000000000000009\n",
      "-0.0006666666666666765\n",
      "0.0003333333333333244\n",
      "0.0006666666666666488\n",
      "0.0016666666666667052\n",
      "0.002333333333333354\n",
      "0.0026666666666666783\n",
      "0.003666666666666679\n",
      "0.00466666666666668\n",
      "0.00466666666666668\n",
      "0.004999999999999977\n",
      "0.0050000000000000044\n",
      "0.005333333333333329\n",
      "0.006333333333333344\n",
      "0.006666666666666668\n",
      "0.007333333333333317\n",
      "0.007000000000000006\n",
      "0.008000000000000007\n",
      "0.008666666666666684\n",
      "0.00866666666666667\n",
      "0.00899999999999998\n",
      "0.009333333333333318\n",
      "0.008333333333333345\n",
      "0.00866666666666667\n",
      "0.008666666666666684\n",
      "0.009333333333333346\n",
      "0.00966666666666667\n",
      "0.00866666666666667\n",
      "0.009000000000000008\n",
      "0.008666666666666656\n",
      "0.008999999999999994\n",
      "0.008333333333333331\n",
      "0.008666666666666656\n",
      "0.007333333333333317\n",
      "0.007333333333333317\n",
      "0.006000000000000005\n",
      "0.006000000000000005\n",
      "0.005333333333333343\n",
      "0.005333333333333343\n",
      "0.00466666666666668\n",
      "0.0036666666666666722\n",
      "0.0040000000000000105\n",
      "0.003333333333333334\n",
      "0.003333333333333334\n",
      "0.0030000000000000027\n",
      "0.003333333333333327\n",
      "0.0026666666666666644\n",
      "0.0026666666666666575\n",
      "0.0029999999999999957\n",
      "0.003999999999999997\n",
      "0.003999999999999997\n",
      "0.004333333333333328\n",
      "0.0036666666666666584\n",
      "0.004333333333333328\n",
      "0.004333333333333328\n",
      "0.004333333333333328\n",
      "0.004333333333333328\n",
      "0.004666666666666659\n",
      "0.0049999999999999975\n",
      "0.004333333333333328\n",
      "0.005333333333333329\n",
      "0.005666666666666667\n",
      "0.006666666666666668\n",
      "0.006666666666666668\n",
      "0.006666666666666668\n",
      "0.006999999999999992\n",
      "0.008333333333333331\n",
      "0.009666666666666664\n",
      "0.01033333333333334\n",
      "0.011000000000000003\n",
      "0.011333333333333341\n",
      "0.012666666666666673\n",
      "0.014000000000000005\n",
      "0.015333333333333345\n",
      "0.016\n",
      "0.017000000000000008\n",
      "0.01900000000000001\n",
      "0.019333333333333334\n",
      "0.022\n",
      "0.02399999999999998\n",
      "0.026666666666666658\n",
      "0.028999999999999998\n",
      "0.032\n",
      "0.03500000000000001\n",
      "0.03833333333333334\n",
      "0.041\n",
      "0.04333333333333334\n",
      "0.04500000000000001\n",
      "0.047000000000000014\n",
      "0.04800000000000001\n",
      "0.04933333333333335\n",
      "0.051333333333333335\n",
      "0.05366666666666667\n",
      "0.05633333333333334\n",
      "0.059666666666666666\n",
      "0.06333333333333335\n",
      "0.06966666666666665\n",
      "0.07633333333333334\n",
      "0.08233333333333334\n",
      "0.08866666666666667\n",
      "0.0943333333333333\n",
      "0.09999999999999998\n",
      "0.10399999999999998\n",
      "0.10566666666666666\n",
      "0.10533333333333333\n",
      "0.1013333333333333\n",
      "0.09433333333333332\n",
      "0.08766666666666667\n",
      "0.07933333333333331\n",
      "0.06999999999999999\n",
      "0.061333333333333344\n",
      "0.051666666666666666\n",
      "0.042000000000000016\n",
      "0.03533333333333334\n",
      "0.02966666666666666\n",
      "0.024\n",
      "0.019333333333333334\n",
      "0.015333333333333338\n",
      "0.012666666666666652\n",
      "0.01033333333333332\n",
      "0.008666666666666656\n",
      "0.007666666666666655\n",
      "0.00633333333333333\n",
      "0.00566666666666666\n",
      "0.005666666666666674\n",
      "0.005333333333333336\n",
      "0.004666666666666673\n",
      "0.004333333333333335\n",
      "0.0036666666666666722\n",
      "0.0040000000000000036\n",
      "0.003333333333333341\n",
      "0.0030000000000000027\n",
      "0.003333333333333327\n",
      "0.0026666666666666575\n",
      "0.002333333333333326\n",
      "0.002333333333333326\n",
      "0.0026666666666666575\n",
      "0.002333333333333326\n",
      "0.002333333333333326\n",
      "0.002999999999999989\n",
      "0.002333333333333326\n",
      "0.002333333333333326\n",
      "0.003333333333333327\n",
      "0.0029999999999999957\n",
      "0.0030000000000000027\n",
      "0.003333333333333341\n",
      "0.0026666666666666575\n",
      "0.002999999999999989\n",
      "0.002333333333333326\n",
      "0.002333333333333326\n",
      "0.0029999999999999957\n",
      "0.0036666666666666584\n",
      "0.0026666666666666575\n",
      "0.0026666666666666575\n",
      "0.0026666666666666575\n",
      "0.002333333333333326\n",
      "0.0026666666666666575\n",
      "0.002333333333333326\n",
      "0.0026666666666666644\n",
      "0.002999999999999989\n",
      "0.001999999999999995\n",
      "0.001999999999999988\n",
      "0.002333333333333326\n",
      "0.002333333333333326\n",
      "0.0026666666666666575\n",
      "0.0020000000000000018\n",
      "0.0016666666666666635\n",
      "0.0016666666666666566\n",
      "0.002333333333333326\n",
      "0.002333333333333326\n",
      "0.0016666666666666566\n",
      "0.0016666666666666566\n",
      "0.0016666666666666635\n",
      "0.001999999999999988\n",
      "0.0026666666666666644\n",
      "0.0020000000000000018\n",
      "0.0016666666666666635\n",
      "0.0013333333333333322\n",
      "0.001999999999999995\n",
      "0.0016666666666666705\n",
      "0.0016666666666666566\n",
      "0.001999999999999988\n",
      "0.001999999999999995\n",
      "0.0013333333333333322\n",
      "0.00233333333333334\n",
      "0.0016666666666666705\n",
      "0.0016666666666666635\n",
      "0.0020000000000000018\n",
      "0.0016666666666666635\n",
      "0.0016666666666666705\n",
      "0.0010000000000000009\n",
      "0.0016666666666666705\n",
      "0.0020000000000000018\n",
      "0.001999999999999995\n",
      "0.0020000000000000018\n",
      "0.0016666666666666566\n",
      "0.0016666666666666635\n",
      "0.0020000000000000018\n",
      "0.0016666666666666635\n",
      "0.0013333333333333253\n",
      "0.0010000000000000009\n",
      "0.0016666666666666635\n",
      "0.0013333333333333322\n",
      "0.0016666666666666566\n",
      "0.0013333333333333322\n",
      "0.0016666666666666705\n",
      "0.0016666666666666635\n",
      "0.0020000000000000018\n",
      "0.0006666666666666696\n",
      "0.0006666666666666696\n",
      "0.000999999999999994\n",
      "0.0020000000000000018\n",
      "0.0013333333333333253\n",
      "0.000999999999999987\n",
      "0.0010000000000000009\n",
      "0.0010000000000000009\n",
      "0.0013333333333333322\n",
      "0.0013333333333333322\n",
      "0.0013333333333333253\n",
      "0.0013333333333333391\n",
      "0.0016666666666666705\n",
      "0.001999999999999988\n",
      "0.0016666666666666566\n",
      "0.001999999999999995\n",
      "0.0016666666666666705\n",
      "0.000999999999999994\n",
      "0.0016666666666666566\n",
      "0.0010000000000000009\n",
      "0.0013333333333333253\n",
      "0.0013333333333333253\n",
      "0.0013333333333333253\n",
      "0.0003333333333333313\n",
      "0.0013333333333333253\n",
      "0.0013333333333333253\n",
      "0.0003333333333333244\n",
      "0.0013333333333333253\n",
      "0.0010000000000000009\n",
      "0.0\n",
      "0.0\n",
      "0.0\n",
      "0.0\n",
      "0.0\n",
      "0.0\n",
      "0.0\n",
      "0.0\n",
      "0.0\n",
      "0.0\n",
      "0.0\n",
      "0.0\n",
      "0.0\n",
      "0.0\n",
      "0.0\n",
      "0.0\n",
      "0.0\n",
      "0.0\n",
      "0.0\n",
      "0.0\n",
      "0.0\n",
      "0.0\n",
      "0.0\n",
      "0.0\n",
      "0.0\n",
      "0.0\n",
      "0.0\n",
      "0.0\n",
      "0.0\n",
      "0.0\n",
      "0.0\n",
      "0.0\n",
      "0.0\n",
      "0.0\n",
      "0.0\n",
      "0.0\n",
      "0.0\n",
      "0.0\n",
      "0.0\n",
      "0.0\n",
      "0.0\n",
      "0.0\n",
      "0.0\n",
      "0.0\n",
      "0.0\n",
      "0.0\n",
      "0.0\n",
      "0.0\n",
      "0.0\n",
      "0.0\n",
      "0.0\n",
      "0.0\n",
      "0.0\n",
      "0.0\n",
      "0.0\n",
      "0.0\n",
      "0.0\n",
      "0.0\n",
      "0.0\n",
      "0.0\n",
      "0.0\n",
      "0.0\n",
      "0.0\n",
      "0.0\n",
      "0.0\n",
      "0.0\n",
      "0.0\n",
      "0.0\n",
      "0.0\n",
      "0.0\n",
      "0.0\n",
      "0.0\n",
      "0.0\n",
      "0.0\n",
      "0.0\n",
      "0.0\n",
      "0.0\n",
      "0.0\n",
      "0.0\n",
      "0.0\n",
      "0.0\n",
      "0.0\n",
      "0.0\n",
      "0.0\n",
      "0.0\n",
      "0.0\n",
      "0.0\n",
      "0.0\n",
      "0.0\n",
      "0.0\n",
      "0.0\n",
      "0.0\n",
      "0.0\n",
      "0.0\n",
      "0.0\n",
      "0.0\n",
      "0.0\n",
      "0.0\n",
      "0.0\n",
      "0.0\n",
      "0.0\n",
      "0.0\n",
      "0.0\n",
      "0.0\n",
      "0.0\n",
      "0.0\n",
      "0.0\n",
      "0.0\n",
      "0.0\n",
      "0.0\n",
      "0.0\n",
      "0.0\n",
      "0.0\n",
      "0.0\n",
      "0.0\n",
      "0.0\n",
      "0.0\n",
      "0.0\n",
      "0.0\n",
      "0.0\n",
      "0.0\n",
      "0.0\n",
      "0.0\n",
      "0.0\n",
      "0.0\n",
      "0.0\n",
      "0.0\n",
      "0.0\n",
      "0.0\n",
      "0.0\n",
      "0.0\n",
      "0.0\n",
      "0.0\n",
      "0.0\n",
      "0.0\n",
      "0.0\n",
      "0.0\n",
      "0.0\n",
      "0.0\n",
      "0.0\n",
      "0.0\n",
      "0.0\n",
      "0.0\n",
      "0.0\n",
      "0.0\n",
      "0.0\n",
      "0.0\n",
      "0.0\n",
      "0.0\n",
      "0.0\n",
      "0.0\n",
      "0.0\n",
      "0.0\n",
      "0.0\n",
      "0.0\n",
      "0.0\n",
      "0.0\n",
      "0.0\n",
      "0.0\n",
      "0.0\n",
      "0.0\n",
      "0.0\n",
      "0.0\n",
      "0.0\n",
      "0.0\n",
      "0.0\n",
      "0.0\n",
      "0.0\n",
      "0.0\n",
      "0.0\n",
      "0.0\n",
      "0.0\n",
      "0.0\n",
      "0.0\n",
      "0.0\n",
      "0.0\n",
      "0.0\n",
      "0.0\n",
      "0.0\n",
      "0.0\n",
      "0.0\n",
      "0.0\n",
      "0.0\n",
      "0.0\n",
      "0.0\n",
      "0.0\n",
      "0.0\n",
      "0.0\n",
      "0.0\n",
      "0.0\n",
      "0.0\n",
      "0.0\n",
      "0.0\n",
      "0.0\n",
      "0.0\n",
      "0.0\n",
      "0.0\n",
      "0.0\n",
      "0.0\n",
      "0.0\n",
      "0.0\n",
      "0.0\n",
      "0.0\n",
      "0.0\n",
      "0.0\n",
      "0.0\n",
      "0.0\n",
      "0.0\n",
      "0.0\n",
      "0.0\n",
      "0.0\n",
      "0.0\n",
      "0.0\n",
      "0.0\n",
      "0.0\n",
      "0.0\n",
      "0.0\n",
      "0.0\n",
      "0.0\n",
      "0.0\n",
      "0.0\n",
      "0.0\n",
      "0.0\n",
      "0.0\n",
      "0.0\n",
      "0.0\n",
      "0.0\n",
      "0.0\n",
      "0.0\n",
      "0.0\n",
      "0.0\n",
      "0.0\n",
      "0.0\n",
      "0.0\n",
      "0.0\n",
      "0.0\n",
      "0.0\n",
      "0.0\n",
      "0.0\n",
      "0.0\n",
      "0.0\n",
      "0.0\n",
      "0.0\n",
      "0.0\n",
      "0.0\n",
      "0.0\n",
      "0.0\n",
      "0.0\n",
      "0.0\n",
      "0.0\n",
      "0.0\n",
      "0.0\n",
      "0.0\n",
      "0.0\n",
      "0.0\n",
      "0.0\n",
      "0.0\n",
      "0.0\n",
      "0.0\n",
      "0.0\n",
      "0.0\n",
      "0.0\n",
      "0.0\n",
      "0.0\n",
      "0.0\n",
      "0.0\n",
      "0.0\n",
      "0.0\n",
      "0.0\n",
      "0.0\n",
      "0.0\n",
      "0.0\n",
      "0.0\n",
      "0.0\n",
      "0.0\n",
      "0.0\n",
      "0.0\n",
      "0.0\n",
      "0.0\n",
      "0.0\n",
      "0.0\n",
      "0.0\n",
      "0.0\n",
      "0.0\n",
      "0.0\n",
      "0.0\n",
      "0.0\n",
      "0.0\n",
      "0.0\n",
      "0.0\n",
      "0.0\n"
     ]
    }
   ],
   "source": [
    "# take away blank from every point based on the value of wavelength\n",
    "absorbance_calibrated = []\n",
    "absorbance_calibrated_error = []\n",
    "# for every wavelength\n",
    "for index, row in cleaned_df.iterrows():\n",
    "    # get the wavelength\n",
    "    wavelength = row[\"Wavelength\"]\n",
    "    # get the correct correction\n",
    "    correction = cleaned_df[cleaned_df[\"Sample\"] == \"Blank\"]\n",
    "    correction_value = correction[correction[\"Wavelength\"] == wavelength][\"Mean Absorbance\"].tolist()[0]\n",
    "    correction_error = correction[correction[\"Wavelength\"] == wavelength][\"Std Absorbance\"].tolist()[0]\n",
    "    absorbance_calibrated.append(row[\"Mean Absorbance\"] - correction_value)\n",
    "    print(row[\"Mean Absorbance\"] - correction_value)"
   ]
  }
 ],
 "metadata": {
  "kernelspec": {
   "display_name": "InVis_app",
   "language": "python",
   "name": "invis_app"
  },
  "language_info": {
   "codemirror_mode": {
    "name": "ipython",
    "version": 3
   },
   "file_extension": ".py",
   "mimetype": "text/x-python",
   "name": "python",
   "nbconvert_exporter": "python",
   "pygments_lexer": "ipython3",
   "version": "3.8.12"
  }
 },
 "nbformat": 4,
 "nbformat_minor": 5
}
